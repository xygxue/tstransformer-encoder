{
  "cells": [
    {
      "cell_type": "markdown",
      "metadata": {
        "id": "view-in-github",
        "colab_type": "text"
      },
      "source": [
        "<a href=\"https://colab.research.google.com/github/xygxue/cluster/blob/master/clustering.ipynb\" target=\"_parent\"><img src=\"https://colab.research.google.com/assets/colab-badge.svg\" alt=\"Open In Colab\"/></a>"
      ]
    },
    {
      "cell_type": "code",
      "execution_count": 1,
      "metadata": {
        "id": "3yuNmKKZVkZr",
        "colab": {
          "base_uri": "https://localhost:8080/"
        },
        "outputId": "bcf32567-6945-4ea4-e1c1-d27c789409c9"
      },
      "outputs": [
        {
          "output_type": "stream",
          "name": "stdout",
          "text": [
            "Mounted at /content/gdrive\n"
          ]
        }
      ],
      "source": [
        "from google.colab import drive\n",
        "drive.mount('/content/gdrive', force_remount=False)"
      ]
    },
    {
      "cell_type": "code",
      "execution_count": 2,
      "metadata": {
        "id": "7N9laRDn6v_j"
      },
      "outputs": [],
      "source": [
        "my_drive_path = '/content/gdrive/MyDrive/'\n",
        "dataset_path = my_drive_path + 'FSFM/master_thesis/data/'"
      ]
    },
    {
      "cell_type": "code",
      "execution_count": 3,
      "metadata": {
        "id": "hCPq1mMLwHw9"
      },
      "outputs": [],
      "source": [
        "import pandas as pd\n",
        "import numpy as np\n",
        "import matplotlib.pyplot as plt\n",
        "\n",
        "from sklearn.cluster import DBSCAN\n",
        "from sklearn.preprocessing import StandardScaler\n",
        "from sklearn.cluster import KMeans\n",
        "from sklearn.metrics import silhouette_samples, silhouette_score, davies_bouldin_score\n",
        "\n",
        "from datetime import timedelta"
      ]
    },
    {
      "cell_type": "code",
      "execution_count": 4,
      "metadata": {
        "id": "FNth_yQmaL12",
        "colab": {
          "base_uri": "https://localhost:8080/"
        },
        "outputId": "1439846d-e7fd-4f50-d0c6-2591223c5259"
      },
      "outputs": [
        {
          "output_type": "stream",
          "name": "stderr",
          "text": [
            "/usr/local/lib/python3.7/dist-packages/IPython/core/interactiveshell.py:2882: DtypeWarning: Columns (8) have mixed types.Specify dtype option on import or set low_memory=False.\n",
            "  exec(code_obj, self.user_global_ns, self.user_ns)\n"
          ]
        }
      ],
      "source": [
        "raw_card = pd.read_csv(dataset_path+'clean/clean_card.csv', sep=',')\n",
        "raw_loan = pd.read_csv(dataset_path+'clean/clean_loan.csv', sep=',')\n",
        "raw_order = pd.read_csv(dataset_path+'clean/clean_order.csv', sep=',')\n",
        "raw_trans = pd.read_csv(dataset_path+'clean/clean_trans.csv', sep=',')\n",
        "raw_client = pd.read_csv(dataset_path+'clean/client_info.csv', sep=',')"
      ]
    },
    {
      "cell_type": "markdown",
      "metadata": {
        "id": "bEgXMW540sD1"
      },
      "source": [
        "***Helper Functions***"
      ]
    },
    {
      "cell_type": "code",
      "execution_count": 5,
      "metadata": {
        "id": "bGpWhPIE0ovN"
      },
      "outputs": [],
      "source": [
        "def normalize(df):\n",
        "  # use z-score to normalize the columns in dataframe \n",
        "  df_norm = (df - df.mean(axis=0))/df.std(axis=0)\n",
        "  return df_norm\n",
        "\n",
        "def encode_cyclicals(df):\n",
        "    # \"month\",\"day\",\"hour\", \"dayofweek\"\n",
        "    \n",
        "    df['month_sin'] = np.sin(2*np.pi*df.month/12)\n",
        "    df['month_cos'] = np.cos(2*np.pi*df.month/12)\n",
        "    df.drop('month', axis=1, inplace=True)\n",
        "\n",
        "    df['month_sin'] = np.sin(2*np.pi*df.month/12)\n",
        "    df['month_cos'] = np.cos(2*np.pi*df.month/12)\n",
        "    df.drop('month', axis=1, inplace=True)\n",
        "    \n",
        "    df['day_sin'] = np.sin(2*np.pi*df.day/31)\n",
        "    df['day_cos'] = np.cos(2*np.pi*df.day/31)\n",
        "    df.drop('day', axis=1, inplace=True)\n",
        "\n",
        "    df['dayofweek_sin'] = np.sin(2*np.pi*df.dayofweek/7)\n",
        "    df['dayofweek_cos'] = np.cos(2*np.pi*df.dayofweek/7)\n",
        "    df.drop('dayofweek', axis=1, inplace=True)\n",
        "    \n",
        "    return df\n",
        "\n",
        "def kmeans(X, cluster_number):\n",
        "  kmeans = KMeans(n_clusters = cluster_number)\n",
        "  kmeans.fit(X)\n",
        "  labels = kmeans.labels_\n",
        "  return labels\n",
        "\n",
        "def cluster_score(X, labels):\n",
        "  unique, counts = np.unique(labels, return_counts=True)\n",
        "  cluster_count = dict(zip(unique, counts))\n",
        "\n",
        "  silhouette = round(silhouette_score(X, labels),3)\n",
        "  davies_bouldin = round(davies_bouldin_score(X, labels),3)\n",
        "\n",
        "  return silhouette, davies_bouldin\n",
        "\n",
        "def scatter_plot(X, labels, model_name):\n",
        "  scatter = go.Scatter3d(x=X[:, 0], y=X[:, 1], z=X[:, 2], mode='markers', \n",
        "                       marker=dict(color=labels, line_width=0.1),\n",
        "                       name=model_name)\n",
        "  return scatter"
      ]
    },
    {
      "cell_type": "markdown",
      "metadata": {
        "id": "KrE19enAHswg"
      },
      "source": [
        "### *Client table* "
      ]
    },
    {
      "cell_type": "code",
      "execution_count": null,
      "metadata": {
        "colab": {
          "base_uri": "https://localhost:8080/"
        },
        "id": "E3bX_wC8BOuy",
        "outputId": "d2d46ec8-105c-48fb-8f94-000ab60bde93"
      },
      "outputs": [
        {
          "data": {
            "text/html": [
              "\n",
              "  <div id=\"df-ac6a0c67-e264-4f13-a328-8043beb15621\">\n",
              "    <div class=\"colab-df-container\">\n",
              "      <div>\n",
              "<style scoped>\n",
              "    .dataframe tbody tr th:only-of-type {\n",
              "        vertical-align: middle;\n",
              "    }\n",
              "\n",
              "    .dataframe tbody tr th {\n",
              "        vertical-align: top;\n",
              "    }\n",
              "\n",
              "    .dataframe thead th {\n",
              "        text-align: right;\n",
              "    }\n",
              "</style>\n",
              "<table border=\"1\" class=\"dataframe\">\n",
              "  <thead>\n",
              "    <tr style=\"text-align: right;\">\n",
              "      <th></th>\n",
              "      <th>account_id</th>\n",
              "      <th>frequency</th>\n",
              "      <th>disp_id</th>\n",
              "      <th>client_id</th>\n",
              "      <th>type</th>\n",
              "      <th>district_id</th>\n",
              "      <th>gender</th>\n",
              "      <th>age</th>\n",
              "      <th>district_name</th>\n",
              "      <th>region_name</th>\n",
              "      <th>...</th>\n",
              "      <th>city_number</th>\n",
              "      <th>urban_inhabitants_ratio</th>\n",
              "      <th>average salary</th>\n",
              "      <th>1995_unemployment_rate</th>\n",
              "      <th>1996_unemployment_rate</th>\n",
              "      <th>entrepreneurs_per_1000_inhabitants</th>\n",
              "      <th>crimes_committed_number_in_1995</th>\n",
              "      <th>crimes_committed_number_in_1996</th>\n",
              "      <th>lat</th>\n",
              "      <th>lon</th>\n",
              "    </tr>\n",
              "  </thead>\n",
              "  <tbody>\n",
              "    <tr>\n",
              "      <th>0</th>\n",
              "      <td>A0000000576</td>\n",
              "      <td>Monthly Issuance</td>\n",
              "      <td>D0000000692</td>\n",
              "      <td>C0000000692</td>\n",
              "      <td>OWNER</td>\n",
              "      <td>74</td>\n",
              "      <td>0.0</td>\n",
              "      <td>62</td>\n",
              "      <td>Ostrava - mesto</td>\n",
              "      <td>north Moravia</td>\n",
              "      <td>...</td>\n",
              "      <td>1</td>\n",
              "      <td>100.0</td>\n",
              "      <td>10673</td>\n",
              "      <td>4.75</td>\n",
              "      <td>5.44</td>\n",
              "      <td>100</td>\n",
              "      <td>18782.0</td>\n",
              "      <td>18347</td>\n",
              "      <td>49.834650</td>\n",
              "      <td>18.282040</td>\n",
              "    </tr>\n",
              "    <tr>\n",
              "      <th>1</th>\n",
              "      <td>A0000000576</td>\n",
              "      <td>Monthly Issuance</td>\n",
              "      <td>D0000000693</td>\n",
              "      <td>C0000000693</td>\n",
              "      <td>DISPONENT</td>\n",
              "      <td>74</td>\n",
              "      <td>1.0</td>\n",
              "      <td>63</td>\n",
              "      <td>Ostrava - mesto</td>\n",
              "      <td>north Moravia</td>\n",
              "      <td>...</td>\n",
              "      <td>1</td>\n",
              "      <td>100.0</td>\n",
              "      <td>10673</td>\n",
              "      <td>4.75</td>\n",
              "      <td>5.44</td>\n",
              "      <td>100</td>\n",
              "      <td>18782.0</td>\n",
              "      <td>18347</td>\n",
              "      <td>49.834650</td>\n",
              "      <td>18.282040</td>\n",
              "    </tr>\n",
              "    <tr>\n",
              "      <th>2</th>\n",
              "      <td>A0000003818</td>\n",
              "      <td>Monthly Issuance</td>\n",
              "      <td>D0000004601</td>\n",
              "      <td>C0000004601</td>\n",
              "      <td>OWNER</td>\n",
              "      <td>1</td>\n",
              "      <td>1.0</td>\n",
              "      <td>63</td>\n",
              "      <td>Hl.m. Praha</td>\n",
              "      <td>Prague</td>\n",
              "      <td>...</td>\n",
              "      <td>1</td>\n",
              "      <td>100.0</td>\n",
              "      <td>12541</td>\n",
              "      <td>0.29</td>\n",
              "      <td>0.43</td>\n",
              "      <td>167</td>\n",
              "      <td>85677.0</td>\n",
              "      <td>99107</td>\n",
              "      <td>50.006143</td>\n",
              "      <td>14.336773</td>\n",
              "    </tr>\n",
              "    <tr>\n",
              "      <th>3</th>\n",
              "      <td>A0000003818</td>\n",
              "      <td>Monthly Issuance</td>\n",
              "      <td>D0000004602</td>\n",
              "      <td>C0000004602</td>\n",
              "      <td>DISPONENT</td>\n",
              "      <td>1</td>\n",
              "      <td>0.0</td>\n",
              "      <td>64</td>\n",
              "      <td>Hl.m. Praha</td>\n",
              "      <td>Prague</td>\n",
              "      <td>...</td>\n",
              "      <td>1</td>\n",
              "      <td>100.0</td>\n",
              "      <td>12541</td>\n",
              "      <td>0.29</td>\n",
              "      <td>0.43</td>\n",
              "      <td>167</td>\n",
              "      <td>85677.0</td>\n",
              "      <td>99107</td>\n",
              "      <td>50.006143</td>\n",
              "      <td>14.336773</td>\n",
              "    </tr>\n",
              "    <tr>\n",
              "      <th>4</th>\n",
              "      <td>A0000000704</td>\n",
              "      <td>Monthly Issuance</td>\n",
              "      <td>D0000000844</td>\n",
              "      <td>C0000000844</td>\n",
              "      <td>OWNER</td>\n",
              "      <td>22</td>\n",
              "      <td>1.0</td>\n",
              "      <td>53</td>\n",
              "      <td>Domazlice</td>\n",
              "      <td>west Bohemia</td>\n",
              "      <td>...</td>\n",
              "      <td>6</td>\n",
              "      <td>52.4</td>\n",
              "      <td>8620</td>\n",
              "      <td>1.10</td>\n",
              "      <td>1.25</td>\n",
              "      <td>100</td>\n",
              "      <td>1089.0</td>\n",
              "      <td>1117</td>\n",
              "      <td>49.500000</td>\n",
              "      <td>12.916670</td>\n",
              "    </tr>\n",
              "  </tbody>\n",
              "</table>\n",
              "<p>5 rows × 25 columns</p>\n",
              "</div>\n",
              "      <button class=\"colab-df-convert\" onclick=\"convertToInteractive('df-ac6a0c67-e264-4f13-a328-8043beb15621')\"\n",
              "              title=\"Convert this dataframe to an interactive table.\"\n",
              "              style=\"display:none;\">\n",
              "        \n",
              "  <svg xmlns=\"http://www.w3.org/2000/svg\" height=\"24px\"viewBox=\"0 0 24 24\"\n",
              "       width=\"24px\">\n",
              "    <path d=\"M0 0h24v24H0V0z\" fill=\"none\"/>\n",
              "    <path d=\"M18.56 5.44l.94 2.06.94-2.06 2.06-.94-2.06-.94-.94-2.06-.94 2.06-2.06.94zm-11 1L8.5 8.5l.94-2.06 2.06-.94-2.06-.94L8.5 2.5l-.94 2.06-2.06.94zm10 10l.94 2.06.94-2.06 2.06-.94-2.06-.94-.94-2.06-.94 2.06-2.06.94z\"/><path d=\"M17.41 7.96l-1.37-1.37c-.4-.4-.92-.59-1.43-.59-.52 0-1.04.2-1.43.59L10.3 9.45l-7.72 7.72c-.78.78-.78 2.05 0 2.83L4 21.41c.39.39.9.59 1.41.59.51 0 1.02-.2 1.41-.59l7.78-7.78 2.81-2.81c.8-.78.8-2.07 0-2.86zM5.41 20L4 18.59l7.72-7.72 1.47 1.35L5.41 20z\"/>\n",
              "  </svg>\n",
              "      </button>\n",
              "      \n",
              "  <style>\n",
              "    .colab-df-container {\n",
              "      display:flex;\n",
              "      flex-wrap:wrap;\n",
              "      gap: 12px;\n",
              "    }\n",
              "\n",
              "    .colab-df-convert {\n",
              "      background-color: #E8F0FE;\n",
              "      border: none;\n",
              "      border-radius: 50%;\n",
              "      cursor: pointer;\n",
              "      display: none;\n",
              "      fill: #1967D2;\n",
              "      height: 32px;\n",
              "      padding: 0 0 0 0;\n",
              "      width: 32px;\n",
              "    }\n",
              "\n",
              "    .colab-df-convert:hover {\n",
              "      background-color: #E2EBFA;\n",
              "      box-shadow: 0px 1px 2px rgba(60, 64, 67, 0.3), 0px 1px 3px 1px rgba(60, 64, 67, 0.15);\n",
              "      fill: #174EA6;\n",
              "    }\n",
              "\n",
              "    [theme=dark] .colab-df-convert {\n",
              "      background-color: #3B4455;\n",
              "      fill: #D2E3FC;\n",
              "    }\n",
              "\n",
              "    [theme=dark] .colab-df-convert:hover {\n",
              "      background-color: #434B5C;\n",
              "      box-shadow: 0px 1px 3px 1px rgba(0, 0, 0, 0.15);\n",
              "      filter: drop-shadow(0px 1px 2px rgba(0, 0, 0, 0.3));\n",
              "      fill: #FFFFFF;\n",
              "    }\n",
              "  </style>\n",
              "\n",
              "      <script>\n",
              "        const buttonEl =\n",
              "          document.querySelector('#df-ac6a0c67-e264-4f13-a328-8043beb15621 button.colab-df-convert');\n",
              "        buttonEl.style.display =\n",
              "          google.colab.kernel.accessAllowed ? 'block' : 'none';\n",
              "\n",
              "        async function convertToInteractive(key) {\n",
              "          const element = document.querySelector('#df-ac6a0c67-e264-4f13-a328-8043beb15621');\n",
              "          const dataTable =\n",
              "            await google.colab.kernel.invokeFunction('convertToInteractive',\n",
              "                                                     [key], {});\n",
              "          if (!dataTable) return;\n",
              "\n",
              "          const docLinkHtml = 'Like what you see? Visit the ' +\n",
              "            '<a target=\"_blank\" href=https://colab.research.google.com/notebooks/data_table.ipynb>data table notebook</a>'\n",
              "            + ' to learn more about interactive tables.';\n",
              "          element.innerHTML = '';\n",
              "          dataTable['output_type'] = 'display_data';\n",
              "          await google.colab.output.renderOutput(dataTable, element);\n",
              "          const docLink = document.createElement('div');\n",
              "          docLink.innerHTML = docLinkHtml;\n",
              "          element.appendChild(docLink);\n",
              "        }\n",
              "      </script>\n",
              "    </div>\n",
              "  </div>\n",
              "  "
            ],
            "text/plain": [
              "    account_id         frequency      disp_id    client_id       type  \\\n",
              "0  A0000000576  Monthly Issuance  D0000000692  C0000000692      OWNER   \n",
              "1  A0000000576  Monthly Issuance  D0000000693  C0000000693  DISPONENT   \n",
              "2  A0000003818  Monthly Issuance  D0000004601  C0000004601      OWNER   \n",
              "3  A0000003818  Monthly Issuance  D0000004602  C0000004602  DISPONENT   \n",
              "4  A0000000704  Monthly Issuance  D0000000844  C0000000844      OWNER   \n",
              "\n",
              "   district_id  gender  age    district_name    region_name  ...  city_number  \\\n",
              "0           74     0.0   62  Ostrava - mesto  north Moravia  ...            1   \n",
              "1           74     1.0   63  Ostrava - mesto  north Moravia  ...            1   \n",
              "2            1     1.0   63      Hl.m. Praha         Prague  ...            1   \n",
              "3            1     0.0   64      Hl.m. Praha         Prague  ...            1   \n",
              "4           22     1.0   53        Domazlice   west Bohemia  ...            6   \n",
              "\n",
              "   urban_inhabitants_ratio  average salary  1995_unemployment_rate  \\\n",
              "0                    100.0           10673                    4.75   \n",
              "1                    100.0           10673                    4.75   \n",
              "2                    100.0           12541                    0.29   \n",
              "3                    100.0           12541                    0.29   \n",
              "4                     52.4            8620                    1.10   \n",
              "\n",
              "   1996_unemployment_rate  entrepreneurs_per_1000_inhabitants  \\\n",
              "0                    5.44                                 100   \n",
              "1                    5.44                                 100   \n",
              "2                    0.43                                 167   \n",
              "3                    0.43                                 167   \n",
              "4                    1.25                                 100   \n",
              "\n",
              "   crimes_committed_number_in_1995  crimes_committed_number_in_1996  \\\n",
              "0                          18782.0                            18347   \n",
              "1                          18782.0                            18347   \n",
              "2                          85677.0                            99107   \n",
              "3                          85677.0                            99107   \n",
              "4                           1089.0                             1117   \n",
              "\n",
              "         lat        lon  \n",
              "0  49.834650  18.282040  \n",
              "1  49.834650  18.282040  \n",
              "2  50.006143  14.336773  \n",
              "3  50.006143  14.336773  \n",
              "4  49.500000  12.916670  \n",
              "\n",
              "[5 rows x 25 columns]"
            ]
          },
          "execution_count": 7,
          "metadata": {},
          "output_type": "execute_result"
        }
      ],
      "source": [
        "raw_client.head()"
      ]
    },
    {
      "cell_type": "code",
      "execution_count": null,
      "metadata": {
        "colab": {
          "base_uri": "https://localhost:8080/",
          "height": 319
        },
        "id": "b_msq0Uej99U",
        "outputId": "58a10559-e411-4d4f-f746-1cf3a9892ae1"
      },
      "outputs": [
        {
          "data": {
            "text/html": [
              "\n",
              "  <div id=\"df-3f3965b1-7da1-45c3-af84-6fabf04e37f0\">\n",
              "    <div class=\"colab-df-container\">\n",
              "      <div>\n",
              "<style scoped>\n",
              "    .dataframe tbody tr th:only-of-type {\n",
              "        vertical-align: middle;\n",
              "    }\n",
              "\n",
              "    .dataframe tbody tr th {\n",
              "        vertical-align: top;\n",
              "    }\n",
              "\n",
              "    .dataframe thead th {\n",
              "        text-align: right;\n",
              "    }\n",
              "</style>\n",
              "<table border=\"1\" class=\"dataframe\">\n",
              "  <thead>\n",
              "    <tr style=\"text-align: right;\">\n",
              "      <th></th>\n",
              "      <th>gender</th>\n",
              "      <th>age</th>\n",
              "      <th>inhabitants_number</th>\n",
              "      <th>city_number</th>\n",
              "      <th>urban_inhabitants_ratio</th>\n",
              "      <th>average salary</th>\n",
              "      <th>1996_unemployment_rate</th>\n",
              "      <th>entrepreneurs_per_1000_inhabitants</th>\n",
              "      <th>crimes_committed_number_in_1996</th>\n",
              "      <th>lat</th>\n",
              "      <th>lon</th>\n",
              "    </tr>\n",
              "    <tr>\n",
              "      <th>account_id_x</th>\n",
              "      <th></th>\n",
              "      <th></th>\n",
              "      <th></th>\n",
              "      <th></th>\n",
              "      <th></th>\n",
              "      <th></th>\n",
              "      <th></th>\n",
              "      <th></th>\n",
              "      <th></th>\n",
              "      <th></th>\n",
              "      <th></th>\n",
              "    </tr>\n",
              "  </thead>\n",
              "  <tbody>\n",
              "    <tr>\n",
              "      <th>A0000000576</th>\n",
              "      <td>0.0</td>\n",
              "      <td>62</td>\n",
              "      <td>323870</td>\n",
              "      <td>1</td>\n",
              "      <td>100.0</td>\n",
              "      <td>10673</td>\n",
              "      <td>5.44</td>\n",
              "      <td>100</td>\n",
              "      <td>18347</td>\n",
              "      <td>49.834650</td>\n",
              "      <td>18.282040</td>\n",
              "    </tr>\n",
              "    <tr>\n",
              "      <th>A0000003818</th>\n",
              "      <td>1.0</td>\n",
              "      <td>63</td>\n",
              "      <td>1204953</td>\n",
              "      <td>1</td>\n",
              "      <td>100.0</td>\n",
              "      <td>12541</td>\n",
              "      <td>0.43</td>\n",
              "      <td>167</td>\n",
              "      <td>99107</td>\n",
              "      <td>50.006143</td>\n",
              "      <td>14.336773</td>\n",
              "    </tr>\n",
              "    <tr>\n",
              "      <th>A0000000704</th>\n",
              "      <td>1.0</td>\n",
              "      <td>53</td>\n",
              "      <td>58400</td>\n",
              "      <td>6</td>\n",
              "      <td>52.4</td>\n",
              "      <td>8620</td>\n",
              "      <td>1.25</td>\n",
              "      <td>100</td>\n",
              "      <td>1117</td>\n",
              "      <td>49.500000</td>\n",
              "      <td>12.916670</td>\n",
              "    </tr>\n",
              "    <tr>\n",
              "      <th>A0000002378</th>\n",
              "      <td>0.0</td>\n",
              "      <td>23</td>\n",
              "      <td>93931</td>\n",
              "      <td>8</td>\n",
              "      <td>56.9</td>\n",
              "      <td>8427</td>\n",
              "      <td>1.54</td>\n",
              "      <td>107</td>\n",
              "      <td>1913</td>\n",
              "      <td>49.144040</td>\n",
              "      <td>15.003010</td>\n",
              "    </tr>\n",
              "    <tr>\n",
              "      <th>A0000002632</th>\n",
              "      <td>1.0</td>\n",
              "      <td>60</td>\n",
              "      <td>122603</td>\n",
              "      <td>8</td>\n",
              "      <td>80.0</td>\n",
              "      <td>8991</td>\n",
              "      <td>2.01</td>\n",
              "      <td>128</td>\n",
              "      <td>5273</td>\n",
              "      <td>50.232710</td>\n",
              "      <td>12.871170</td>\n",
              "    </tr>\n",
              "  </tbody>\n",
              "</table>\n",
              "</div>\n",
              "      <button class=\"colab-df-convert\" onclick=\"convertToInteractive('df-3f3965b1-7da1-45c3-af84-6fabf04e37f0')\"\n",
              "              title=\"Convert this dataframe to an interactive table.\"\n",
              "              style=\"display:none;\">\n",
              "        \n",
              "  <svg xmlns=\"http://www.w3.org/2000/svg\" height=\"24px\"viewBox=\"0 0 24 24\"\n",
              "       width=\"24px\">\n",
              "    <path d=\"M0 0h24v24H0V0z\" fill=\"none\"/>\n",
              "    <path d=\"M18.56 5.44l.94 2.06.94-2.06 2.06-.94-2.06-.94-.94-2.06-.94 2.06-2.06.94zm-11 1L8.5 8.5l.94-2.06 2.06-.94-2.06-.94L8.5 2.5l-.94 2.06-2.06.94zm10 10l.94 2.06.94-2.06 2.06-.94-2.06-.94-.94-2.06-.94 2.06-2.06.94z\"/><path d=\"M17.41 7.96l-1.37-1.37c-.4-.4-.92-.59-1.43-.59-.52 0-1.04.2-1.43.59L10.3 9.45l-7.72 7.72c-.78.78-.78 2.05 0 2.83L4 21.41c.39.39.9.59 1.41.59.51 0 1.02-.2 1.41-.59l7.78-7.78 2.81-2.81c.8-.78.8-2.07 0-2.86zM5.41 20L4 18.59l7.72-7.72 1.47 1.35L5.41 20z\"/>\n",
              "  </svg>\n",
              "      </button>\n",
              "      \n",
              "  <style>\n",
              "    .colab-df-container {\n",
              "      display:flex;\n",
              "      flex-wrap:wrap;\n",
              "      gap: 12px;\n",
              "    }\n",
              "\n",
              "    .colab-df-convert {\n",
              "      background-color: #E8F0FE;\n",
              "      border: none;\n",
              "      border-radius: 50%;\n",
              "      cursor: pointer;\n",
              "      display: none;\n",
              "      fill: #1967D2;\n",
              "      height: 32px;\n",
              "      padding: 0 0 0 0;\n",
              "      width: 32px;\n",
              "    }\n",
              "\n",
              "    .colab-df-convert:hover {\n",
              "      background-color: #E2EBFA;\n",
              "      box-shadow: 0px 1px 2px rgba(60, 64, 67, 0.3), 0px 1px 3px 1px rgba(60, 64, 67, 0.15);\n",
              "      fill: #174EA6;\n",
              "    }\n",
              "\n",
              "    [theme=dark] .colab-df-convert {\n",
              "      background-color: #3B4455;\n",
              "      fill: #D2E3FC;\n",
              "    }\n",
              "\n",
              "    [theme=dark] .colab-df-convert:hover {\n",
              "      background-color: #434B5C;\n",
              "      box-shadow: 0px 1px 3px 1px rgba(0, 0, 0, 0.15);\n",
              "      filter: drop-shadow(0px 1px 2px rgba(0, 0, 0, 0.3));\n",
              "      fill: #FFFFFF;\n",
              "    }\n",
              "  </style>\n",
              "\n",
              "      <script>\n",
              "        const buttonEl =\n",
              "          document.querySelector('#df-3f3965b1-7da1-45c3-af84-6fabf04e37f0 button.colab-df-convert');\n",
              "        buttonEl.style.display =\n",
              "          google.colab.kernel.accessAllowed ? 'block' : 'none';\n",
              "\n",
              "        async function convertToInteractive(key) {\n",
              "          const element = document.querySelector('#df-3f3965b1-7da1-45c3-af84-6fabf04e37f0');\n",
              "          const dataTable =\n",
              "            await google.colab.kernel.invokeFunction('convertToInteractive',\n",
              "                                                     [key], {});\n",
              "          if (!dataTable) return;\n",
              "\n",
              "          const docLinkHtml = 'Like what you see? Visit the ' +\n",
              "            '<a target=\"_blank\" href=https://colab.research.google.com/notebooks/data_table.ipynb>data table notebook</a>'\n",
              "            + ' to learn more about interactive tables.';\n",
              "          element.innerHTML = '';\n",
              "          dataTable['output_type'] = 'display_data';\n",
              "          await google.colab.output.renderOutput(dataTable, element);\n",
              "          const docLink = document.createElement('div');\n",
              "          docLink.innerHTML = docLinkHtml;\n",
              "          element.appendChild(docLink);\n",
              "        }\n",
              "      </script>\n",
              "    </div>\n",
              "  </div>\n",
              "  "
            ],
            "text/plain": [
              "              gender  age  inhabitants_number  city_number  \\\n",
              "account_id_x                                                 \n",
              "A0000000576      0.0   62              323870            1   \n",
              "A0000003818      1.0   63             1204953            1   \n",
              "A0000000704      1.0   53               58400            6   \n",
              "A0000002378      0.0   23               93931            8   \n",
              "A0000002632      1.0   60              122603            8   \n",
              "\n",
              "              urban_inhabitants_ratio  average salary  1996_unemployment_rate  \\\n",
              "account_id_x                                                                    \n",
              "A0000000576                     100.0           10673                    5.44   \n",
              "A0000003818                     100.0           12541                    0.43   \n",
              "A0000000704                      52.4            8620                    1.25   \n",
              "A0000002378                      56.9            8427                    1.54   \n",
              "A0000002632                      80.0            8991                    2.01   \n",
              "\n",
              "              entrepreneurs_per_1000_inhabitants  \\\n",
              "account_id_x                                       \n",
              "A0000000576                                  100   \n",
              "A0000003818                                  167   \n",
              "A0000000704                                  100   \n",
              "A0000002378                                  107   \n",
              "A0000002632                                  128   \n",
              "\n",
              "              crimes_committed_number_in_1996        lat        lon  \n",
              "account_id_x                                                         \n",
              "A0000000576                             18347  49.834650  18.282040  \n",
              "A0000003818                             99107  50.006143  14.336773  \n",
              "A0000000704                              1117  49.500000  12.916670  \n",
              "A0000002378                              1913  49.144040  15.003010  \n",
              "A0000002632                              5273  50.232710  12.871170  "
            ]
          },
          "execution_count": 19,
          "metadata": {},
          "output_type": "execute_result"
        }
      ],
      "source": [
        "raw_client_copy = raw_client.copy()\n",
        "client_no_disp = raw_client_copy[raw_client_copy['type'] == 'OWNER']\n",
        "client_clean = client_no_disp.drop(columns=[\n",
        "                      'disp_id_x','disp_id_y', 'client_id', 'account_id_y',  \n",
        "                      'district_id', 'frequency', 'type', 'district_name',\n",
        "                      'region_name', '1995_unemployment_rate', \n",
        "                      'crimes_committed_number_in_1995',\n",
        "                      'number_of_municipalities_with_<499_inhabitants',\n",
        "                      'number_of_municipalities_with_500-1499_inhabitants',\n",
        "                      'number_of_municipalities_with_2000-9999_inhabitants',\n",
        "                      'number_of_municipalities_with_>10000_inhabitants'])\n",
        "client_clean.set_index('account_id_x', inplace=True)\n",
        "client_clean.head()"
      ]
    },
    {
      "cell_type": "code",
      "execution_count": null,
      "metadata": {
        "colab": {
          "base_uri": "https://localhost:8080/"
        },
        "id": "rfXY3zzSGK36",
        "outputId": "47ea22eb-5f5d-4761-b74e-f7c2ee571744"
      },
      "outputs": [
        {
          "data": {
            "text/plain": [
              "gender                                0\n",
              "age                                   0\n",
              "inhabitants_number                    0\n",
              "city_number                           0\n",
              "urban_inhabitants_ratio               0\n",
              "average salary                        0\n",
              "1996_unemployment_rate                0\n",
              "entrepreneurs_per_1000_inhabitants    0\n",
              "crimes_committed_number_in_1996       0\n",
              "lat                                   0\n",
              "lon                                   0\n",
              "dtype: int64"
            ]
          },
          "execution_count": 20,
          "metadata": {},
          "output_type": "execute_result"
        }
      ],
      "source": [
        "client_clean.isnull().sum()"
      ]
    },
    {
      "cell_type": "code",
      "execution_count": null,
      "metadata": {
        "colab": {
          "base_uri": "https://localhost:8080/",
          "height": 536
        },
        "id": "v8FsSoeB2DLQ",
        "outputId": "1599ace6-0171-47d1-94c7-6ad9209486a6"
      },
      "outputs": [
        {
          "data": {
            "text/html": [
              "\n",
              "  <div id=\"df-7e3cd0da-3666-42f5-a385-42fa4e2d0825\">\n",
              "    <div class=\"colab-df-container\">\n",
              "      <div>\n",
              "<style scoped>\n",
              "    .dataframe tbody tr th:only-of-type {\n",
              "        vertical-align: middle;\n",
              "    }\n",
              "\n",
              "    .dataframe tbody tr th {\n",
              "        vertical-align: top;\n",
              "    }\n",
              "\n",
              "    .dataframe thead th {\n",
              "        text-align: right;\n",
              "    }\n",
              "</style>\n",
              "<table border=\"1\" class=\"dataframe\">\n",
              "  <thead>\n",
              "    <tr style=\"text-align: right;\">\n",
              "      <th></th>\n",
              "      <th>gender</th>\n",
              "      <th>age</th>\n",
              "      <th>inhabitants_number</th>\n",
              "      <th>city_number</th>\n",
              "      <th>urban_inhabitants_ratio</th>\n",
              "      <th>average salary</th>\n",
              "      <th>1996_unemployment_rate</th>\n",
              "      <th>entrepreneurs_per_1000_inhabitants</th>\n",
              "      <th>crimes_committed_number_in_1996</th>\n",
              "      <th>lat</th>\n",
              "      <th>lon</th>\n",
              "    </tr>\n",
              "    <tr>\n",
              "      <th>account_id_x</th>\n",
              "      <th></th>\n",
              "      <th></th>\n",
              "      <th></th>\n",
              "      <th></th>\n",
              "      <th></th>\n",
              "      <th></th>\n",
              "      <th></th>\n",
              "      <th></th>\n",
              "      <th></th>\n",
              "      <th></th>\n",
              "      <th></th>\n",
              "    </tr>\n",
              "  </thead>\n",
              "  <tbody>\n",
              "    <tr>\n",
              "      <th>A0000000576</th>\n",
              "      <td>-1.018731</td>\n",
              "      <td>1.046780</td>\n",
              "      <td>0.158534</td>\n",
              "      <td>-1.546618</td>\n",
              "      <td>1.552939</td>\n",
              "      <td>0.879002</td>\n",
              "      <td>0.910185</td>\n",
              "      <td>-0.916339</td>\n",
              "      <td>0.069923</td>\n",
              "      <td>0.039679</td>\n",
              "      <td>1.538008</td>\n",
              "    </tr>\n",
              "    <tr>\n",
              "      <th>A0000003818</th>\n",
              "      <td>0.981395</td>\n",
              "      <td>1.105308</td>\n",
              "      <td>2.628601</td>\n",
              "      <td>-1.546618</td>\n",
              "      <td>1.552939</td>\n",
              "      <td>2.289783</td>\n",
              "      <td>-1.439375</td>\n",
              "      <td>1.991495</td>\n",
              "      <td>2.665064</td>\n",
              "      <td>0.312926</td>\n",
              "      <td>-0.544652</td>\n",
              "    </tr>\n",
              "    <tr>\n",
              "      <th>A0000000704</th>\n",
              "      <td>0.981395</td>\n",
              "      <td>0.520028</td>\n",
              "      <td>-0.585696</td>\n",
              "      <td>0.160801</td>\n",
              "      <td>-0.848241</td>\n",
              "      <td>-0.671499</td>\n",
              "      <td>-1.054817</td>\n",
              "      <td>-0.916339</td>\n",
              "      <td>-0.483746</td>\n",
              "      <td>-0.493535</td>\n",
              "      <td>-1.294307</td>\n",
              "    </tr>\n",
              "    <tr>\n",
              "      <th>A0000002378</th>\n",
              "      <td>-1.018731</td>\n",
              "      <td>-1.235813</td>\n",
              "      <td>-0.486087</td>\n",
              "      <td>0.843769</td>\n",
              "      <td>-0.621239</td>\n",
              "      <td>-0.817260</td>\n",
              "      <td>-0.918814</td>\n",
              "      <td>-0.612535</td>\n",
              "      <td>-0.458167</td>\n",
              "      <td>-1.060703</td>\n",
              "      <td>-0.192953</td>\n",
              "    </tr>\n",
              "    <tr>\n",
              "      <th>A0000002632</th>\n",
              "      <td>0.981395</td>\n",
              "      <td>0.929724</td>\n",
              "      <td>-0.405706</td>\n",
              "      <td>0.843769</td>\n",
              "      <td>0.544040</td>\n",
              "      <td>-0.391306</td>\n",
              "      <td>-0.698396</td>\n",
              "      <td>0.298875</td>\n",
              "      <td>-0.350197</td>\n",
              "      <td>0.673926</td>\n",
              "      <td>-1.318326</td>\n",
              "    </tr>\n",
              "    <tr>\n",
              "      <th>...</th>\n",
              "      <td>...</td>\n",
              "      <td>...</td>\n",
              "      <td>...</td>\n",
              "      <td>...</td>\n",
              "      <td>...</td>\n",
              "      <td>...</td>\n",
              "      <td>...</td>\n",
              "      <td>...</td>\n",
              "      <td>...</td>\n",
              "      <td>...</td>\n",
              "      <td>...</td>\n",
              "    </tr>\n",
              "    <tr>\n",
              "      <th>A0000000124</th>\n",
              "      <td>0.981395</td>\n",
              "      <td>0.344444</td>\n",
              "      <td>-0.309158</td>\n",
              "      <td>1.185253</td>\n",
              "      <td>-1.781473</td>\n",
              "      <td>-0.578605</td>\n",
              "      <td>-0.501427</td>\n",
              "      <td>-0.438933</td>\n",
              "      <td>-0.394510</td>\n",
              "      <td>-1.024645</td>\n",
              "      <td>0.597290</td>\n",
              "    </tr>\n",
              "    <tr>\n",
              "      <th>A0000003958</th>\n",
              "      <td>0.981395</td>\n",
              "      <td>0.168860</td>\n",
              "      <td>-0.444203</td>\n",
              "      <td>0.160801</td>\n",
              "      <td>-0.358925</td>\n",
              "      <td>-0.804421</td>\n",
              "      <td>-0.013694</td>\n",
              "      <td>-0.655936</td>\n",
              "      <td>-0.445571</td>\n",
              "      <td>-0.815630</td>\n",
              "      <td>1.068758</td>\n",
              "    </tr>\n",
              "    <tr>\n",
              "      <th>A0000000777</th>\n",
              "      <td>0.981395</td>\n",
              "      <td>1.105308</td>\n",
              "      <td>-0.483617</td>\n",
              "      <td>1.526736</td>\n",
              "      <td>0.634841</td>\n",
              "      <td>0.106395</td>\n",
              "      <td>0.080101</td>\n",
              "      <td>-0.916339</td>\n",
              "      <td>-0.429536</td>\n",
              "      <td>0.592012</td>\n",
              "      <td>-1.440305</td>\n",
              "    </tr>\n",
              "    <tr>\n",
              "      <th>A0000001573</th>\n",
              "      <td>0.981395</td>\n",
              "      <td>1.866173</td>\n",
              "      <td>-0.506883</td>\n",
              "      <td>-0.180683</td>\n",
              "      <td>-0.944086</td>\n",
              "      <td>-0.922238</td>\n",
              "      <td>0.478729</td>\n",
              "      <td>-0.482334</td>\n",
              "      <td>-0.472724</td>\n",
              "      <td>-0.848102</td>\n",
              "      <td>0.860691</td>\n",
              "    </tr>\n",
              "    <tr>\n",
              "      <th>A0000003276</th>\n",
              "      <td>0.981395</td>\n",
              "      <td>-0.533476</td>\n",
              "      <td>2.628601</td>\n",
              "      <td>-1.546618</td>\n",
              "      <td>1.552939</td>\n",
              "      <td>2.289783</td>\n",
              "      <td>-1.439375</td>\n",
              "      <td>1.991495</td>\n",
              "      <td>2.665064</td>\n",
              "      <td>0.312926</td>\n",
              "      <td>-0.544652</td>\n",
              "    </tr>\n",
              "  </tbody>\n",
              "</table>\n",
              "<p>4500 rows × 11 columns</p>\n",
              "</div>\n",
              "      <button class=\"colab-df-convert\" onclick=\"convertToInteractive('df-7e3cd0da-3666-42f5-a385-42fa4e2d0825')\"\n",
              "              title=\"Convert this dataframe to an interactive table.\"\n",
              "              style=\"display:none;\">\n",
              "        \n",
              "  <svg xmlns=\"http://www.w3.org/2000/svg\" height=\"24px\"viewBox=\"0 0 24 24\"\n",
              "       width=\"24px\">\n",
              "    <path d=\"M0 0h24v24H0V0z\" fill=\"none\"/>\n",
              "    <path d=\"M18.56 5.44l.94 2.06.94-2.06 2.06-.94-2.06-.94-.94-2.06-.94 2.06-2.06.94zm-11 1L8.5 8.5l.94-2.06 2.06-.94-2.06-.94L8.5 2.5l-.94 2.06-2.06.94zm10 10l.94 2.06.94-2.06 2.06-.94-2.06-.94-.94-2.06-.94 2.06-2.06.94z\"/><path d=\"M17.41 7.96l-1.37-1.37c-.4-.4-.92-.59-1.43-.59-.52 0-1.04.2-1.43.59L10.3 9.45l-7.72 7.72c-.78.78-.78 2.05 0 2.83L4 21.41c.39.39.9.59 1.41.59.51 0 1.02-.2 1.41-.59l7.78-7.78 2.81-2.81c.8-.78.8-2.07 0-2.86zM5.41 20L4 18.59l7.72-7.72 1.47 1.35L5.41 20z\"/>\n",
              "  </svg>\n",
              "      </button>\n",
              "      \n",
              "  <style>\n",
              "    .colab-df-container {\n",
              "      display:flex;\n",
              "      flex-wrap:wrap;\n",
              "      gap: 12px;\n",
              "    }\n",
              "\n",
              "    .colab-df-convert {\n",
              "      background-color: #E8F0FE;\n",
              "      border: none;\n",
              "      border-radius: 50%;\n",
              "      cursor: pointer;\n",
              "      display: none;\n",
              "      fill: #1967D2;\n",
              "      height: 32px;\n",
              "      padding: 0 0 0 0;\n",
              "      width: 32px;\n",
              "    }\n",
              "\n",
              "    .colab-df-convert:hover {\n",
              "      background-color: #E2EBFA;\n",
              "      box-shadow: 0px 1px 2px rgba(60, 64, 67, 0.3), 0px 1px 3px 1px rgba(60, 64, 67, 0.15);\n",
              "      fill: #174EA6;\n",
              "    }\n",
              "\n",
              "    [theme=dark] .colab-df-convert {\n",
              "      background-color: #3B4455;\n",
              "      fill: #D2E3FC;\n",
              "    }\n",
              "\n",
              "    [theme=dark] .colab-df-convert:hover {\n",
              "      background-color: #434B5C;\n",
              "      box-shadow: 0px 1px 3px 1px rgba(0, 0, 0, 0.15);\n",
              "      filter: drop-shadow(0px 1px 2px rgba(0, 0, 0, 0.3));\n",
              "      fill: #FFFFFF;\n",
              "    }\n",
              "  </style>\n",
              "\n",
              "      <script>\n",
              "        const buttonEl =\n",
              "          document.querySelector('#df-7e3cd0da-3666-42f5-a385-42fa4e2d0825 button.colab-df-convert');\n",
              "        buttonEl.style.display =\n",
              "          google.colab.kernel.accessAllowed ? 'block' : 'none';\n",
              "\n",
              "        async function convertToInteractive(key) {\n",
              "          const element = document.querySelector('#df-7e3cd0da-3666-42f5-a385-42fa4e2d0825');\n",
              "          const dataTable =\n",
              "            await google.colab.kernel.invokeFunction('convertToInteractive',\n",
              "                                                     [key], {});\n",
              "          if (!dataTable) return;\n",
              "\n",
              "          const docLinkHtml = 'Like what you see? Visit the ' +\n",
              "            '<a target=\"_blank\" href=https://colab.research.google.com/notebooks/data_table.ipynb>data table notebook</a>'\n",
              "            + ' to learn more about interactive tables.';\n",
              "          element.innerHTML = '';\n",
              "          dataTable['output_type'] = 'display_data';\n",
              "          await google.colab.output.renderOutput(dataTable, element);\n",
              "          const docLink = document.createElement('div');\n",
              "          docLink.innerHTML = docLinkHtml;\n",
              "          element.appendChild(docLink);\n",
              "        }\n",
              "      </script>\n",
              "    </div>\n",
              "  </div>\n",
              "  "
            ],
            "text/plain": [
              "                gender       age  inhabitants_number  city_number  \\\n",
              "account_id_x                                                        \n",
              "A0000000576  -1.018731  1.046780            0.158534    -1.546618   \n",
              "A0000003818   0.981395  1.105308            2.628601    -1.546618   \n",
              "A0000000704   0.981395  0.520028           -0.585696     0.160801   \n",
              "A0000002378  -1.018731 -1.235813           -0.486087     0.843769   \n",
              "A0000002632   0.981395  0.929724           -0.405706     0.843769   \n",
              "...                ...       ...                 ...          ...   \n",
              "A0000000124   0.981395  0.344444           -0.309158     1.185253   \n",
              "A0000003958   0.981395  0.168860           -0.444203     0.160801   \n",
              "A0000000777   0.981395  1.105308           -0.483617     1.526736   \n",
              "A0000001573   0.981395  1.866173           -0.506883    -0.180683   \n",
              "A0000003276   0.981395 -0.533476            2.628601    -1.546618   \n",
              "\n",
              "              urban_inhabitants_ratio  average salary  1996_unemployment_rate  \\\n",
              "account_id_x                                                                    \n",
              "A0000000576                  1.552939        0.879002                0.910185   \n",
              "A0000003818                  1.552939        2.289783               -1.439375   \n",
              "A0000000704                 -0.848241       -0.671499               -1.054817   \n",
              "A0000002378                 -0.621239       -0.817260               -0.918814   \n",
              "A0000002632                  0.544040       -0.391306               -0.698396   \n",
              "...                               ...             ...                     ...   \n",
              "A0000000124                 -1.781473       -0.578605               -0.501427   \n",
              "A0000003958                 -0.358925       -0.804421               -0.013694   \n",
              "A0000000777                  0.634841        0.106395                0.080101   \n",
              "A0000001573                 -0.944086       -0.922238                0.478729   \n",
              "A0000003276                  1.552939        2.289783               -1.439375   \n",
              "\n",
              "              entrepreneurs_per_1000_inhabitants  \\\n",
              "account_id_x                                       \n",
              "A0000000576                            -0.916339   \n",
              "A0000003818                             1.991495   \n",
              "A0000000704                            -0.916339   \n",
              "A0000002378                            -0.612535   \n",
              "A0000002632                             0.298875   \n",
              "...                                          ...   \n",
              "A0000000124                            -0.438933   \n",
              "A0000003958                            -0.655936   \n",
              "A0000000777                            -0.916339   \n",
              "A0000001573                            -0.482334   \n",
              "A0000003276                             1.991495   \n",
              "\n",
              "              crimes_committed_number_in_1996       lat       lon  \n",
              "account_id_x                                                       \n",
              "A0000000576                          0.069923  0.039679  1.538008  \n",
              "A0000003818                          2.665064  0.312926 -0.544652  \n",
              "A0000000704                         -0.483746 -0.493535 -1.294307  \n",
              "A0000002378                         -0.458167 -1.060703 -0.192953  \n",
              "A0000002632                         -0.350197  0.673926 -1.318326  \n",
              "...                                       ...       ...       ...  \n",
              "A0000000124                         -0.394510 -1.024645  0.597290  \n",
              "A0000003958                         -0.445571 -0.815630  1.068758  \n",
              "A0000000777                         -0.429536  0.592012 -1.440305  \n",
              "A0000001573                         -0.472724 -0.848102  0.860691  \n",
              "A0000003276                          2.665064  0.312926 -0.544652  \n",
              "\n",
              "[4500 rows x 11 columns]"
            ]
          },
          "execution_count": 40,
          "metadata": {},
          "output_type": "execute_result"
        }
      ],
      "source": [
        "client_norm = normalize(client_clean)\n",
        "client_norm"
      ]
    },
    {
      "cell_type": "markdown",
      "metadata": {
        "id": "e2QhqkkPH3ze"
      },
      "source": [
        "### *Transaction Table*"
      ]
    },
    {
      "cell_type": "code",
      "execution_count": 10,
      "metadata": {
        "id": "op3dTNyx80MS",
        "colab": {
          "base_uri": "https://localhost:8080/",
          "height": 206
        },
        "outputId": "b438a3fa-3668-434f-8e95-a0acf96d3580"
      },
      "outputs": [
        {
          "output_type": "execute_result",
          "data": {
            "text/plain": [
              "      trans_id   account_id        date    type operation  amount  balance  \\\n",
              "0  T0000695247  A0000002378  1993-01-01  credit   deposit   700.0    700.0   \n",
              "1  T0000171812  A0000000576  1993-01-01  credit   deposit   900.0    900.0   \n",
              "2  T0000207264  A0000000704  1993-01-01  credit   deposit  1000.0   1000.0   \n",
              "3  T0001117247  A0000003818  1993-01-01  credit   deposit   600.0    600.0   \n",
              "4  T0000579373  A0000001972  1993-01-02  credit   deposit   400.0    400.0   \n",
              "\n",
              "  k_symbol bank  account  \n",
              "0      NaN  NaN      NaN  \n",
              "1      NaN  NaN      NaN  \n",
              "2      NaN  NaN      NaN  \n",
              "3      NaN  NaN      NaN  \n",
              "4      NaN  NaN      NaN  "
            ],
            "text/html": [
              "\n",
              "  <div id=\"df-ac2605fa-0a2f-409d-83a5-ca14ced8bc56\">\n",
              "    <div class=\"colab-df-container\">\n",
              "      <div>\n",
              "<style scoped>\n",
              "    .dataframe tbody tr th:only-of-type {\n",
              "        vertical-align: middle;\n",
              "    }\n",
              "\n",
              "    .dataframe tbody tr th {\n",
              "        vertical-align: top;\n",
              "    }\n",
              "\n",
              "    .dataframe thead th {\n",
              "        text-align: right;\n",
              "    }\n",
              "</style>\n",
              "<table border=\"1\" class=\"dataframe\">\n",
              "  <thead>\n",
              "    <tr style=\"text-align: right;\">\n",
              "      <th></th>\n",
              "      <th>trans_id</th>\n",
              "      <th>account_id</th>\n",
              "      <th>date</th>\n",
              "      <th>type</th>\n",
              "      <th>operation</th>\n",
              "      <th>amount</th>\n",
              "      <th>balance</th>\n",
              "      <th>k_symbol</th>\n",
              "      <th>bank</th>\n",
              "      <th>account</th>\n",
              "    </tr>\n",
              "  </thead>\n",
              "  <tbody>\n",
              "    <tr>\n",
              "      <th>0</th>\n",
              "      <td>T0000695247</td>\n",
              "      <td>A0000002378</td>\n",
              "      <td>1993-01-01</td>\n",
              "      <td>credit</td>\n",
              "      <td>deposit</td>\n",
              "      <td>700.0</td>\n",
              "      <td>700.0</td>\n",
              "      <td>NaN</td>\n",
              "      <td>NaN</td>\n",
              "      <td>NaN</td>\n",
              "    </tr>\n",
              "    <tr>\n",
              "      <th>1</th>\n",
              "      <td>T0000171812</td>\n",
              "      <td>A0000000576</td>\n",
              "      <td>1993-01-01</td>\n",
              "      <td>credit</td>\n",
              "      <td>deposit</td>\n",
              "      <td>900.0</td>\n",
              "      <td>900.0</td>\n",
              "      <td>NaN</td>\n",
              "      <td>NaN</td>\n",
              "      <td>NaN</td>\n",
              "    </tr>\n",
              "    <tr>\n",
              "      <th>2</th>\n",
              "      <td>T0000207264</td>\n",
              "      <td>A0000000704</td>\n",
              "      <td>1993-01-01</td>\n",
              "      <td>credit</td>\n",
              "      <td>deposit</td>\n",
              "      <td>1000.0</td>\n",
              "      <td>1000.0</td>\n",
              "      <td>NaN</td>\n",
              "      <td>NaN</td>\n",
              "      <td>NaN</td>\n",
              "    </tr>\n",
              "    <tr>\n",
              "      <th>3</th>\n",
              "      <td>T0001117247</td>\n",
              "      <td>A0000003818</td>\n",
              "      <td>1993-01-01</td>\n",
              "      <td>credit</td>\n",
              "      <td>deposit</td>\n",
              "      <td>600.0</td>\n",
              "      <td>600.0</td>\n",
              "      <td>NaN</td>\n",
              "      <td>NaN</td>\n",
              "      <td>NaN</td>\n",
              "    </tr>\n",
              "    <tr>\n",
              "      <th>4</th>\n",
              "      <td>T0000579373</td>\n",
              "      <td>A0000001972</td>\n",
              "      <td>1993-01-02</td>\n",
              "      <td>credit</td>\n",
              "      <td>deposit</td>\n",
              "      <td>400.0</td>\n",
              "      <td>400.0</td>\n",
              "      <td>NaN</td>\n",
              "      <td>NaN</td>\n",
              "      <td>NaN</td>\n",
              "    </tr>\n",
              "  </tbody>\n",
              "</table>\n",
              "</div>\n",
              "      <button class=\"colab-df-convert\" onclick=\"convertToInteractive('df-ac2605fa-0a2f-409d-83a5-ca14ced8bc56')\"\n",
              "              title=\"Convert this dataframe to an interactive table.\"\n",
              "              style=\"display:none;\">\n",
              "        \n",
              "  <svg xmlns=\"http://www.w3.org/2000/svg\" height=\"24px\"viewBox=\"0 0 24 24\"\n",
              "       width=\"24px\">\n",
              "    <path d=\"M0 0h24v24H0V0z\" fill=\"none\"/>\n",
              "    <path d=\"M18.56 5.44l.94 2.06.94-2.06 2.06-.94-2.06-.94-.94-2.06-.94 2.06-2.06.94zm-11 1L8.5 8.5l.94-2.06 2.06-.94-2.06-.94L8.5 2.5l-.94 2.06-2.06.94zm10 10l.94 2.06.94-2.06 2.06-.94-2.06-.94-.94-2.06-.94 2.06-2.06.94z\"/><path d=\"M17.41 7.96l-1.37-1.37c-.4-.4-.92-.59-1.43-.59-.52 0-1.04.2-1.43.59L10.3 9.45l-7.72 7.72c-.78.78-.78 2.05 0 2.83L4 21.41c.39.39.9.59 1.41.59.51 0 1.02-.2 1.41-.59l7.78-7.78 2.81-2.81c.8-.78.8-2.07 0-2.86zM5.41 20L4 18.59l7.72-7.72 1.47 1.35L5.41 20z\"/>\n",
              "  </svg>\n",
              "      </button>\n",
              "      \n",
              "  <style>\n",
              "    .colab-df-container {\n",
              "      display:flex;\n",
              "      flex-wrap:wrap;\n",
              "      gap: 12px;\n",
              "    }\n",
              "\n",
              "    .colab-df-convert {\n",
              "      background-color: #E8F0FE;\n",
              "      border: none;\n",
              "      border-radius: 50%;\n",
              "      cursor: pointer;\n",
              "      display: none;\n",
              "      fill: #1967D2;\n",
              "      height: 32px;\n",
              "      padding: 0 0 0 0;\n",
              "      width: 32px;\n",
              "    }\n",
              "\n",
              "    .colab-df-convert:hover {\n",
              "      background-color: #E2EBFA;\n",
              "      box-shadow: 0px 1px 2px rgba(60, 64, 67, 0.3), 0px 1px 3px 1px rgba(60, 64, 67, 0.15);\n",
              "      fill: #174EA6;\n",
              "    }\n",
              "\n",
              "    [theme=dark] .colab-df-convert {\n",
              "      background-color: #3B4455;\n",
              "      fill: #D2E3FC;\n",
              "    }\n",
              "\n",
              "    [theme=dark] .colab-df-convert:hover {\n",
              "      background-color: #434B5C;\n",
              "      box-shadow: 0px 1px 3px 1px rgba(0, 0, 0, 0.15);\n",
              "      filter: drop-shadow(0px 1px 2px rgba(0, 0, 0, 0.3));\n",
              "      fill: #FFFFFF;\n",
              "    }\n",
              "  </style>\n",
              "\n",
              "      <script>\n",
              "        const buttonEl =\n",
              "          document.querySelector('#df-ac2605fa-0a2f-409d-83a5-ca14ced8bc56 button.colab-df-convert');\n",
              "        buttonEl.style.display =\n",
              "          google.colab.kernel.accessAllowed ? 'block' : 'none';\n",
              "\n",
              "        async function convertToInteractive(key) {\n",
              "          const element = document.querySelector('#df-ac2605fa-0a2f-409d-83a5-ca14ced8bc56');\n",
              "          const dataTable =\n",
              "            await google.colab.kernel.invokeFunction('convertToInteractive',\n",
              "                                                     [key], {});\n",
              "          if (!dataTable) return;\n",
              "\n",
              "          const docLinkHtml = 'Like what you see? Visit the ' +\n",
              "            '<a target=\"_blank\" href=https://colab.research.google.com/notebooks/data_table.ipynb>data table notebook</a>'\n",
              "            + ' to learn more about interactive tables.';\n",
              "          element.innerHTML = '';\n",
              "          dataTable['output_type'] = 'display_data';\n",
              "          await google.colab.output.renderOutput(dataTable, element);\n",
              "          const docLink = document.createElement('div');\n",
              "          docLink.innerHTML = docLinkHtml;\n",
              "          element.appendChild(docLink);\n",
              "        }\n",
              "      </script>\n",
              "    </div>\n",
              "  </div>\n",
              "  "
            ]
          },
          "metadata": {},
          "execution_count": 10
        }
      ],
      "source": [
        "raw_trans.head()"
      ]
    },
    {
      "cell_type": "markdown",
      "metadata": {
        "id": "QjPMZgyXf7RJ"
      },
      "source": [
        "**Recency, Frequency, Monetary**"
      ]
    },
    {
      "cell_type": "code",
      "execution_count": 11,
      "metadata": {
        "id": "eSNA5sbpKfx2",
        "colab": {
          "base_uri": "https://localhost:8080/"
        },
        "outputId": "0379d56a-0bf8-4afc-a61e-a5a01a4ecafe"
      },
      "outputs": [
        {
          "output_type": "stream",
          "name": "stdout",
          "text": [
            "1999-01-01 00:00:00\n"
          ]
        }
      ],
      "source": [
        "date_col = pd.DatetimeIndex(raw_trans['date'])\n",
        "raw_trans['date'] = date_col\n",
        "benchmark_date = date_col.max() + timedelta(days=1)\n",
        "print(benchmark_date)"
      ]
    },
    {
      "cell_type": "code",
      "execution_count": 12,
      "metadata": {
        "id": "_Jwus_WTLd1G"
      },
      "outputs": [],
      "source": [
        "df_rfm = raw_trans.groupby(['account_id']).agg({\n",
        "        'date': lambda x: (benchmark_date - x.max()).days,\n",
        "        'trans_id': 'count',\n",
        "        'amount': 'sum'})\n",
        "df_rfm.rename(columns={'date': 'Recency','trans_id': 'Frequency',\n",
        "                       'amount': 'Monetary'}, inplace=True)"
      ]
    },
    {
      "cell_type": "code",
      "execution_count": 13,
      "metadata": {
        "id": "c0bjxsKFOBGV",
        "colab": {
          "base_uri": "https://localhost:8080/",
          "height": 337
        },
        "outputId": "75ad4272-4cf8-4a3b-8f67-dd021176d6c8"
      },
      "outputs": [
        {
          "output_type": "execute_result",
          "data": {
            "text/plain": [
              "<matplotlib.axes._subplots.AxesSubplot at 0x7f79d683b690>"
            ]
          },
          "metadata": {},
          "execution_count": 13
        },
        {
          "output_type": "display_data",
          "data": {
            "text/plain": [
              "<Figure size 1080x360 with 1 Axes>"
            ],
            "image/png": "[encoded data removed]"
          },
          "metadata": {
            "needs_background": "light"
          }
        }
      ],
      "source": [
        "df_rfm['Recency'].plot.hist(figsize=(15, 5), alpha=0.5, bins=200)"
      ]
    },
    {
      "cell_type": "code",
      "execution_count": 14,
      "metadata": {
        "id": "Kh2zY4QtV7DA",
        "colab": {
          "base_uri": "https://localhost:8080/",
          "height": 337
        },
        "outputId": "91ecae00-b06c-41ef-cf65-ff060cccb75f"
      },
      "outputs": [
        {
          "output_type": "execute_result",
          "data": {
            "text/plain": [
              "<matplotlib.axes._subplots.AxesSubplot at 0x7f79d63c61d0>"
            ]
          },
          "metadata": {},
          "execution_count": 14
        },
        {
          "output_type": "display_data",
          "data": {
            "text/plain": [
              "<Figure size 1080x360 with 1 Axes>"
            ],
            "image/png": "[encoded data removed]"
          },
          "metadata": {
            "needs_background": "light"
          }
        }
      ],
      "source": [
        "df_rfm['Frequency'].plot.hist(figsize=(15, 5), alpha=0.5, bins=150)"
      ]
    },
    {
      "cell_type": "code",
      "execution_count": 15,
      "metadata": {
        "id": "ytLBTWJRWHiC",
        "colab": {
          "base_uri": "https://localhost:8080/",
          "height": 351
        },
        "outputId": "f175911a-96a5-4a9e-ab97-bd1f4457ab0d"
      },
      "outputs": [
        {
          "output_type": "execute_result",
          "data": {
            "text/plain": [
              "<matplotlib.axes._subplots.AxesSubplot at 0x7f79d5d2c590>"
            ]
          },
          "metadata": {},
          "execution_count": 15
        },
        {
          "output_type": "display_data",
          "data": {
            "text/plain": [
              "<Figure size 1080x360 with 1 Axes>"
            ],
            "image/png": "[encoded data removed]"
          },
          "metadata": {
            "needs_background": "light"
          }
        }
      ],
      "source": [
        "df_rfm['Monetary'].plot.hist(figsize=(15, 5), alpha=0.5, bins=1000)"
      ]
    },
    {
      "cell_type": "code",
      "execution_count": 16,
      "metadata": {
        "id": "0cUIpF5UL_zs",
        "colab": {
          "base_uri": "https://localhost:8080/",
          "height": 237
        },
        "outputId": "bd997137-76ab-45e3-e4aa-a3ff8e16bc1f"
      },
      "outputs": [
        {
          "output_type": "execute_result",
          "data": {
            "text/plain": [
              "              Recency  Frequency  Monetary\n",
              "account_id                                \n",
              "A0000000001 -0.084869   0.033601 -0.764274\n",
              "A0000000002 -0.084869   1.917724  1.325307\n",
              "A0000000003 -0.084869  -0.928169 -0.824600\n",
              "A0000000004 -0.084869  -0.384218 -0.782490\n",
              "A0000000005 -0.084869  -1.188320 -0.921045"
            ],
            "text/html": [
              "\n",
              "  <div id=\"df-8cfead75-c7e3-42f9-a068-fb3bad185519\">\n",
              "    <div class=\"colab-df-container\">\n",
              "      <div>\n",
              "<style scoped>\n",
              "    .dataframe tbody tr th:only-of-type {\n",
              "        vertical-align: middle;\n",
              "    }\n",
              "\n",
              "    .dataframe tbody tr th {\n",
              "        vertical-align: top;\n",
              "    }\n",
              "\n",
              "    .dataframe thead th {\n",
              "        text-align: right;\n",
              "    }\n",
              "</style>\n",
              "<table border=\"1\" class=\"dataframe\">\n",
              "  <thead>\n",
              "    <tr style=\"text-align: right;\">\n",
              "      <th></th>\n",
              "      <th>Recency</th>\n",
              "      <th>Frequency</th>\n",
              "      <th>Monetary</th>\n",
              "    </tr>\n",
              "    <tr>\n",
              "      <th>account_id</th>\n",
              "      <th></th>\n",
              "      <th></th>\n",
              "      <th></th>\n",
              "    </tr>\n",
              "  </thead>\n",
              "  <tbody>\n",
              "    <tr>\n",
              "      <th>A0000000001</th>\n",
              "      <td>-0.084869</td>\n",
              "      <td>0.033601</td>\n",
              "      <td>-0.764274</td>\n",
              "    </tr>\n",
              "    <tr>\n",
              "      <th>A0000000002</th>\n",
              "      <td>-0.084869</td>\n",
              "      <td>1.917724</td>\n",
              "      <td>1.325307</td>\n",
              "    </tr>\n",
              "    <tr>\n",
              "      <th>A0000000003</th>\n",
              "      <td>-0.084869</td>\n",
              "      <td>-0.928169</td>\n",
              "      <td>-0.824600</td>\n",
              "    </tr>\n",
              "    <tr>\n",
              "      <th>A0000000004</th>\n",
              "      <td>-0.084869</td>\n",
              "      <td>-0.384218</td>\n",
              "      <td>-0.782490</td>\n",
              "    </tr>\n",
              "    <tr>\n",
              "      <th>A0000000005</th>\n",
              "      <td>-0.084869</td>\n",
              "      <td>-1.188320</td>\n",
              "      <td>-0.921045</td>\n",
              "    </tr>\n",
              "  </tbody>\n",
              "</table>\n",
              "</div>\n",
              "      <button class=\"colab-df-convert\" onclick=\"convertToInteractive('df-8cfead75-c7e3-42f9-a068-fb3bad185519')\"\n",
              "              title=\"Convert this dataframe to an interactive table.\"\n",
              "              style=\"display:none;\">\n",
              "        \n",
              "  <svg xmlns=\"http://www.w3.org/2000/svg\" height=\"24px\"viewBox=\"0 0 24 24\"\n",
              "       width=\"24px\">\n",
              "    <path d=\"M0 0h24v24H0V0z\" fill=\"none\"/>\n",
              "    <path d=\"M18.56 5.44l.94 2.06.94-2.06 2.06-.94-2.06-.94-.94-2.06-.94 2.06-2.06.94zm-11 1L8.5 8.5l.94-2.06 2.06-.94-2.06-.94L8.5 2.5l-.94 2.06-2.06.94zm10 10l.94 2.06.94-2.06 2.06-.94-2.06-.94-.94-2.06-.94 2.06-2.06.94z\"/><path d=\"M17.41 7.96l-1.37-1.37c-.4-.4-.92-.59-1.43-.59-.52 0-1.04.2-1.43.59L10.3 9.45l-7.72 7.72c-.78.78-.78 2.05 0 2.83L4 21.41c.39.39.9.59 1.41.59.51 0 1.02-.2 1.41-.59l7.78-7.78 2.81-2.81c.8-.78.8-2.07 0-2.86zM5.41 20L4 18.59l7.72-7.72 1.47 1.35L5.41 20z\"/>\n",
              "  </svg>\n",
              "      </button>\n",
              "      \n",
              "  <style>\n",
              "    .colab-df-container {\n",
              "      display:flex;\n",
              "      flex-wrap:wrap;\n",
              "      gap: 12px;\n",
              "    }\n",
              "\n",
              "    .colab-df-convert {\n",
              "      background-color: #E8F0FE;\n",
              "      border: none;\n",
              "      border-radius: 50%;\n",
              "      cursor: pointer;\n",
              "      display: none;\n",
              "      fill: #1967D2;\n",
              "      height: 32px;\n",
              "      padding: 0 0 0 0;\n",
              "      width: 32px;\n",
              "    }\n",
              "\n",
              "    .colab-df-convert:hover {\n",
              "      background-color: #E2EBFA;\n",
              "      box-shadow: 0px 1px 2px rgba(60, 64, 67, 0.3), 0px 1px 3px 1px rgba(60, 64, 67, 0.15);\n",
              "      fill: #174EA6;\n",
              "    }\n",
              "\n",
              "    [theme=dark] .colab-df-convert {\n",
              "      background-color: #3B4455;\n",
              "      fill: #D2E3FC;\n",
              "    }\n",
              "\n",
              "    [theme=dark] .colab-df-convert:hover {\n",
              "      background-color: #434B5C;\n",
              "      box-shadow: 0px 1px 3px 1px rgba(0, 0, 0, 0.15);\n",
              "      filter: drop-shadow(0px 1px 2px rgba(0, 0, 0, 0.3));\n",
              "      fill: #FFFFFF;\n",
              "    }\n",
              "  </style>\n",
              "\n",
              "      <script>\n",
              "        const buttonEl =\n",
              "          document.querySelector('#df-8cfead75-c7e3-42f9-a068-fb3bad185519 button.colab-df-convert');\n",
              "        buttonEl.style.display =\n",
              "          google.colab.kernel.accessAllowed ? 'block' : 'none';\n",
              "\n",
              "        async function convertToInteractive(key) {\n",
              "          const element = document.querySelector('#df-8cfead75-c7e3-42f9-a068-fb3bad185519');\n",
              "          const dataTable =\n",
              "            await google.colab.kernel.invokeFunction('convertToInteractive',\n",
              "                                                     [key], {});\n",
              "          if (!dataTable) return;\n",
              "\n",
              "          const docLinkHtml = 'Like what you see? Visit the ' +\n",
              "            '<a target=\"_blank\" href=https://colab.research.google.com/notebooks/data_table.ipynb>data table notebook</a>'\n",
              "            + ' to learn more about interactive tables.';\n",
              "          element.innerHTML = '';\n",
              "          dataTable['output_type'] = 'display_data';\n",
              "          await google.colab.output.renderOutput(dataTable, element);\n",
              "          const docLink = document.createElement('div');\n",
              "          docLink.innerHTML = docLinkHtml;\n",
              "          element.appendChild(docLink);\n",
              "        }\n",
              "      </script>\n",
              "    </div>\n",
              "  </div>\n",
              "  "
            ]
          },
          "metadata": {},
          "execution_count": 16
        }
      ],
      "source": [
        "df_rfm_norm = normalize(df_rfm)\n",
        "df_rfm_norm.head()"
      ]
    },
    {
      "cell_type": "code",
      "execution_count": 17,
      "metadata": {
        "id": "47RXFBJyIiLK",
        "colab": {
          "base_uri": "https://localhost:8080/"
        },
        "outputId": "d34be8aa-c564-4bf3-a087-ea4f344fc008"
      },
      "outputs": [
        {
          "output_type": "execute_result",
          "data": {
            "text/plain": [
              "array(['deposit', 'collection_from_another_bank', 'withdraw_cash',\n",
              "       'interest_pmt', 'transer_to_another_bank',\n",
              "       'credit_card_withdrawal'], dtype=object)"
            ]
          },
          "metadata": {},
          "execution_count": 17
        }
      ],
      "source": [
        "raw_trans.operation.unique()"
      ]
    },
    {
      "cell_type": "code",
      "execution_count": 18,
      "metadata": {
        "id": "PqJxhTJQLTMD",
        "colab": {
          "base_uri": "https://localhost:8080/"
        },
        "outputId": "70423e37-aa5f-4e5a-ac4b-f203ff0d607a"
      },
      "outputs": [
        {
          "output_type": "execute_result",
          "data": {
            "text/plain": [
              "array([nan, 'pension', 'interest_pmt', 'household', 'service',\n",
              "       'insurrance_pmt', 'interest_for_negetive_balance', 'loan_pmt'],\n",
              "      dtype=object)"
            ]
          },
          "metadata": {},
          "execution_count": 18
        }
      ],
      "source": [
        "raw_trans.k_symbol.unique()"
      ]
    },
    {
      "cell_type": "markdown",
      "metadata": {
        "id": "4QrJ7VHh-Tki"
      },
      "source": [
        "One Hot Encoding Categorical Features"
      ]
    },
    {
      "cell_type": "code",
      "execution_count": 19,
      "metadata": {
        "id": "U63kF6POLBnl"
      },
      "outputs": [],
      "source": [
        "one_hot_trans = pd.get_dummies(raw_trans[['operation']])"
      ]
    },
    {
      "cell_type": "markdown",
      "metadata": {
        "id": "K5l4Grio-O9V"
      },
      "source": [
        "Cyclicals Encoding"
      ]
    },
    {
      "cell_type": "code",
      "execution_count": 20,
      "metadata": {
        "id": "6_qHhLllqnB9"
      },
      "outputs": [],
      "source": [
        "raw_trans['year'] = date_col.year\n",
        "raw_trans['month'] = date_col.month\n",
        "raw_trans['day'] = date_col.day\n",
        "raw_trans['dayofweek'] = date_col.dayofweek"
      ]
    },
    {
      "cell_type": "code",
      "execution_count": 21,
      "metadata": {
        "id": "PUgiHz0YlGe_",
        "colab": {
          "base_uri": "https://localhost:8080/",
          "height": 519
        },
        "outputId": "d507ed0c-2669-4ea8-d6ad-cf827370e542"
      },
      "outputs": [
        {
          "output_type": "execute_result",
          "data": {
            "text/plain": [
              "               amount   balance      year     month       day  dayofweek  \\\n",
              "trans_id                                                                   \n",
              "T0000695247 -0.548597 -1.709854 -2.504467 -1.555385 -1.701858   0.494807   \n",
              "T0000171812 -0.527595 -1.700812 -2.504467 -1.555385 -1.701858   0.494807   \n",
              "T0000207264 -0.517094 -1.696291 -2.504467 -1.555385 -1.701858   0.494807   \n",
              "T0001117247 -0.559098 -1.714375 -2.504467 -1.555385 -1.701858   0.494807   \n",
              "T0000579373 -0.580101 -1.723418 -2.504467 -1.555385 -1.603791   0.993325   \n",
              "...               ...       ...       ...       ...       ...        ...   \n",
              "T0003626622 -0.615563 -1.120765  1.073430  1.514539  1.240166  -0.003711   \n",
              "T0003627616 -0.613568 -0.857833  1.073430  1.514539  1.240166  -0.003711   \n",
              "T0003625403 -0.615784 -1.079676  1.073430  1.514539  1.240166  -0.003711   \n",
              "T0003626683 -0.610817 -0.681138  1.073430  1.514539  1.240166  -0.003711   \n",
              "T0003626540 -0.604873  0.141269  1.073430  1.514539  1.240166  -0.003711   \n",
              "\n",
              "             operation_collection_from_another_bank  \\\n",
              "trans_id                                              \n",
              "T0000695247                               -0.256539   \n",
              "T0000171812                               -0.256539   \n",
              "T0000207264                               -0.256539   \n",
              "T0001117247                               -0.256539   \n",
              "T0000579373                               -0.256539   \n",
              "...                                             ...   \n",
              "T0003626622                               -0.256539   \n",
              "T0003627616                               -0.256539   \n",
              "T0003625403                               -0.256539   \n",
              "T0003626683                               -0.256539   \n",
              "T0003626540                               -0.256539   \n",
              "\n",
              "             operation_credit_card_withdrawal  operation_deposit  \\\n",
              "trans_id                                                           \n",
              "T0000695247                         -0.087555           2.395658   \n",
              "T0000171812                         -0.087555           2.395658   \n",
              "T0000207264                         -0.087555           2.395658   \n",
              "T0001117247                         -0.087555           2.395658   \n",
              "T0000579373                         -0.087555           2.395658   \n",
              "...                                       ...                ...   \n",
              "T0003626622                         -0.087555          -0.417421   \n",
              "T0003627616                         -0.087555          -0.417421   \n",
              "T0003625403                         -0.087555          -0.417421   \n",
              "T0003626683                         -0.087555          -0.417421   \n",
              "T0003626540                         -0.087555          -0.417421   \n",
              "\n",
              "             operation_interest_pmt  operation_transer_to_another_bank  \\\n",
              "trans_id                                                                 \n",
              "T0000695247               -0.457933                          -0.495586   \n",
              "T0000171812               -0.457933                          -0.495586   \n",
              "T0000207264               -0.457933                          -0.495586   \n",
              "T0001117247               -0.457933                          -0.495586   \n",
              "T0000579373               -0.457933                          -0.495586   \n",
              "...                             ...                                ...   \n",
              "T0003626622                2.183722                          -0.495586   \n",
              "T0003627616                2.183722                          -0.495586   \n",
              "T0003625403                2.183722                          -0.495586   \n",
              "T0003626683                2.183722                          -0.495586   \n",
              "T0003626540                2.183722                          -0.495586   \n",
              "\n",
              "             operation_withdraw_cash   account_id  \n",
              "trans_id                                           \n",
              "T0000695247                -0.836599  A0000002378  \n",
              "T0000171812                -0.836599  A0000000576  \n",
              "T0000207264                -0.836599  A0000000704  \n",
              "T0001117247                -0.836599  A0000003818  \n",
              "T0000579373                -0.836599  A0000001972  \n",
              "...                              ...          ...  \n",
              "T0003626622                -0.836599  A0000002906  \n",
              "T0003627616                -0.836599  A0000002935  \n",
              "T0003625403                -0.836599  A0000002869  \n",
              "T0003626683                -0.836599  A0000002907  \n",
              "T0003626540                -0.836599  A0000002902  \n",
              "\n",
              "[1056320 rows x 13 columns]"
            ],
            "text/html": [
              "\n",
              "  <div id=\"df-cf295c82-b682-4c91-9a66-6d35703a9798\">\n",
              "    <div class=\"colab-df-container\">\n",
              "      <div>\n",
              "<style scoped>\n",
              "    .dataframe tbody tr th:only-of-type {\n",
              "        vertical-align: middle;\n",
              "    }\n",
              "\n",
              "    .dataframe tbody tr th {\n",
              "        vertical-align: top;\n",
              "    }\n",
              "\n",
              "    .dataframe thead th {\n",
              "        text-align: right;\n",
              "    }\n",
              "</style>\n",
              "<table border=\"1\" class=\"dataframe\">\n",
              "  <thead>\n",
              "    <tr style=\"text-align: right;\">\n",
              "      <th></th>\n",
              "      <th>amount</th>\n",
              "      <th>balance</th>\n",
              "      <th>year</th>\n",
              "      <th>month</th>\n",
              "      <th>day</th>\n",
              "      <th>dayofweek</th>\n",
              "      <th>operation_collection_from_another_bank</th>\n",
              "      <th>operation_credit_card_withdrawal</th>\n",
              "      <th>operation_deposit</th>\n",
              "      <th>operation_interest_pmt</th>\n",
              "      <th>operation_transer_to_another_bank</th>\n",
              "      <th>operation_withdraw_cash</th>\n",
              "      <th>account_id</th>\n",
              "    </tr>\n",
              "    <tr>\n",
              "      <th>trans_id</th>\n",
              "      <th></th>\n",
              "      <th></th>\n",
              "      <th></th>\n",
              "      <th></th>\n",
              "      <th></th>\n",
              "      <th></th>\n",
              "      <th></th>\n",
              "      <th></th>\n",
              "      <th></th>\n",
              "      <th></th>\n",
              "      <th></th>\n",
              "      <th></th>\n",
              "      <th></th>\n",
              "    </tr>\n",
              "  </thead>\n",
              "  <tbody>\n",
              "    <tr>\n",
              "      <th>T0000695247</th>\n",
              "      <td>-0.548597</td>\n",
              "      <td>-1.709854</td>\n",
              "      <td>-2.504467</td>\n",
              "      <td>-1.555385</td>\n",
              "      <td>-1.701858</td>\n",
              "      <td>0.494807</td>\n",
              "      <td>-0.256539</td>\n",
              "      <td>-0.087555</td>\n",
              "      <td>2.395658</td>\n",
              "      <td>-0.457933</td>\n",
              "      <td>-0.495586</td>\n",
              "      <td>-0.836599</td>\n",
              "      <td>A0000002378</td>\n",
              "    </tr>\n",
              "    <tr>\n",
              "      <th>T0000171812</th>\n",
              "      <td>-0.527595</td>\n",
              "      <td>-1.700812</td>\n",
              "      <td>-2.504467</td>\n",
              "      <td>-1.555385</td>\n",
              "      <td>-1.701858</td>\n",
              "      <td>0.494807</td>\n",
              "      <td>-0.256539</td>\n",
              "      <td>-0.087555</td>\n",
              "      <td>2.395658</td>\n",
              "      <td>-0.457933</td>\n",
              "      <td>-0.495586</td>\n",
              "      <td>-0.836599</td>\n",
              "      <td>A0000000576</td>\n",
              "    </tr>\n",
              "    <tr>\n",
              "      <th>T0000207264</th>\n",
              "      <td>-0.517094</td>\n",
              "      <td>-1.696291</td>\n",
              "      <td>-2.504467</td>\n",
              "      <td>-1.555385</td>\n",
              "      <td>-1.701858</td>\n",
              "      <td>0.494807</td>\n",
              "      <td>-0.256539</td>\n",
              "      <td>-0.087555</td>\n",
              "      <td>2.395658</td>\n",
              "      <td>-0.457933</td>\n",
              "      <td>-0.495586</td>\n",
              "      <td>-0.836599</td>\n",
              "      <td>A0000000704</td>\n",
              "    </tr>\n",
              "    <tr>\n",
              "      <th>T0001117247</th>\n",
              "      <td>-0.559098</td>\n",
              "      <td>-1.714375</td>\n",
              "      <td>-2.504467</td>\n",
              "      <td>-1.555385</td>\n",
              "      <td>-1.701858</td>\n",
              "      <td>0.494807</td>\n",
              "      <td>-0.256539</td>\n",
              "      <td>-0.087555</td>\n",
              "      <td>2.395658</td>\n",
              "      <td>-0.457933</td>\n",
              "      <td>-0.495586</td>\n",
              "      <td>-0.836599</td>\n",
              "      <td>A0000003818</td>\n",
              "    </tr>\n",
              "    <tr>\n",
              "      <th>T0000579373</th>\n",
              "      <td>-0.580101</td>\n",
              "      <td>-1.723418</td>\n",
              "      <td>-2.504467</td>\n",
              "      <td>-1.555385</td>\n",
              "      <td>-1.603791</td>\n",
              "      <td>0.993325</td>\n",
              "      <td>-0.256539</td>\n",
              "      <td>-0.087555</td>\n",
              "      <td>2.395658</td>\n",
              "      <td>-0.457933</td>\n",
              "      <td>-0.495586</td>\n",
              "      <td>-0.836599</td>\n",
              "      <td>A0000001972</td>\n",
              "    </tr>\n",
              "    <tr>\n",
              "      <th>...</th>\n",
              "      <td>...</td>\n",
              "      <td>...</td>\n",
              "      <td>...</td>\n",
              "      <td>...</td>\n",
              "      <td>...</td>\n",
              "      <td>...</td>\n",
              "      <td>...</td>\n",
              "      <td>...</td>\n",
              "      <td>...</td>\n",
              "      <td>...</td>\n",
              "      <td>...</td>\n",
              "      <td>...</td>\n",
              "      <td>...</td>\n",
              "    </tr>\n",
              "    <tr>\n",
              "      <th>T0003626622</th>\n",
              "      <td>-0.615563</td>\n",
              "      <td>-1.120765</td>\n",
              "      <td>1.073430</td>\n",
              "      <td>1.514539</td>\n",
              "      <td>1.240166</td>\n",
              "      <td>-0.003711</td>\n",
              "      <td>-0.256539</td>\n",
              "      <td>-0.087555</td>\n",
              "      <td>-0.417421</td>\n",
              "      <td>2.183722</td>\n",
              "      <td>-0.495586</td>\n",
              "      <td>-0.836599</td>\n",
              "      <td>A0000002906</td>\n",
              "    </tr>\n",
              "    <tr>\n",
              "      <th>T0003627616</th>\n",
              "      <td>-0.613568</td>\n",
              "      <td>-0.857833</td>\n",
              "      <td>1.073430</td>\n",
              "      <td>1.514539</td>\n",
              "      <td>1.240166</td>\n",
              "      <td>-0.003711</td>\n",
              "      <td>-0.256539</td>\n",
              "      <td>-0.087555</td>\n",
              "      <td>-0.417421</td>\n",
              "      <td>2.183722</td>\n",
              "      <td>-0.495586</td>\n",
              "      <td>-0.836599</td>\n",
              "      <td>A0000002935</td>\n",
              "    </tr>\n",
              "    <tr>\n",
              "      <th>T0003625403</th>\n",
              "      <td>-0.615784</td>\n",
              "      <td>-1.079676</td>\n",
              "      <td>1.073430</td>\n",
              "      <td>1.514539</td>\n",
              "      <td>1.240166</td>\n",
              "      <td>-0.003711</td>\n",
              "      <td>-0.256539</td>\n",
              "      <td>-0.087555</td>\n",
              "      <td>-0.417421</td>\n",
              "      <td>2.183722</td>\n",
              "      <td>-0.495586</td>\n",
              "      <td>-0.836599</td>\n",
              "      <td>A0000002869</td>\n",
              "    </tr>\n",
              "    <tr>\n",
              "      <th>T0003626683</th>\n",
              "      <td>-0.610817</td>\n",
              "      <td>-0.681138</td>\n",
              "      <td>1.073430</td>\n",
              "      <td>1.514539</td>\n",
              "      <td>1.240166</td>\n",
              "      <td>-0.003711</td>\n",
              "      <td>-0.256539</td>\n",
              "      <td>-0.087555</td>\n",
              "      <td>-0.417421</td>\n",
              "      <td>2.183722</td>\n",
              "      <td>-0.495586</td>\n",
              "      <td>-0.836599</td>\n",
              "      <td>A0000002907</td>\n",
              "    </tr>\n",
              "    <tr>\n",
              "      <th>T0003626540</th>\n",
              "      <td>-0.604873</td>\n",
              "      <td>0.141269</td>\n",
              "      <td>1.073430</td>\n",
              "      <td>1.514539</td>\n",
              "      <td>1.240166</td>\n",
              "      <td>-0.003711</td>\n",
              "      <td>-0.256539</td>\n",
              "      <td>-0.087555</td>\n",
              "      <td>-0.417421</td>\n",
              "      <td>2.183722</td>\n",
              "      <td>-0.495586</td>\n",
              "      <td>-0.836599</td>\n",
              "      <td>A0000002902</td>\n",
              "    </tr>\n",
              "  </tbody>\n",
              "</table>\n",
              "<p>1056320 rows × 13 columns</p>\n",
              "</div>\n",
              "      <button class=\"colab-df-convert\" onclick=\"convertToInteractive('df-cf295c82-b682-4c91-9a66-6d35703a9798')\"\n",
              "              title=\"Convert this dataframe to an interactive table.\"\n",
              "              style=\"display:none;\">\n",
              "        \n",
              "  <svg xmlns=\"http://www.w3.org/2000/svg\" height=\"24px\"viewBox=\"0 0 24 24\"\n",
              "       width=\"24px\">\n",
              "    <path d=\"M0 0h24v24H0V0z\" fill=\"none\"/>\n",
              "    <path d=\"M18.56 5.44l.94 2.06.94-2.06 2.06-.94-2.06-.94-.94-2.06-.94 2.06-2.06.94zm-11 1L8.5 8.5l.94-2.06 2.06-.94-2.06-.94L8.5 2.5l-.94 2.06-2.06.94zm10 10l.94 2.06.94-2.06 2.06-.94-2.06-.94-.94-2.06-.94 2.06-2.06.94z\"/><path d=\"M17.41 7.96l-1.37-1.37c-.4-.4-.92-.59-1.43-.59-.52 0-1.04.2-1.43.59L10.3 9.45l-7.72 7.72c-.78.78-.78 2.05 0 2.83L4 21.41c.39.39.9.59 1.41.59.51 0 1.02-.2 1.41-.59l7.78-7.78 2.81-2.81c.8-.78.8-2.07 0-2.86zM5.41 20L4 18.59l7.72-7.72 1.47 1.35L5.41 20z\"/>\n",
              "  </svg>\n",
              "      </button>\n",
              "      \n",
              "  <style>\n",
              "    .colab-df-container {\n",
              "      display:flex;\n",
              "      flex-wrap:wrap;\n",
              "      gap: 12px;\n",
              "    }\n",
              "\n",
              "    .colab-df-convert {\n",
              "      background-color: #E8F0FE;\n",
              "      border: none;\n",
              "      border-radius: 50%;\n",
              "      cursor: pointer;\n",
              "      display: none;\n",
              "      fill: #1967D2;\n",
              "      height: 32px;\n",
              "      padding: 0 0 0 0;\n",
              "      width: 32px;\n",
              "    }\n",
              "\n",
              "    .colab-df-convert:hover {\n",
              "      background-color: #E2EBFA;\n",
              "      box-shadow: 0px 1px 2px rgba(60, 64, 67, 0.3), 0px 1px 3px 1px rgba(60, 64, 67, 0.15);\n",
              "      fill: #174EA6;\n",
              "    }\n",
              "\n",
              "    [theme=dark] .colab-df-convert {\n",
              "      background-color: #3B4455;\n",
              "      fill: #D2E3FC;\n",
              "    }\n",
              "\n",
              "    [theme=dark] .colab-df-convert:hover {\n",
              "      background-color: #434B5C;\n",
              "      box-shadow: 0px 1px 3px 1px rgba(0, 0, 0, 0.15);\n",
              "      filter: drop-shadow(0px 1px 2px rgba(0, 0, 0, 0.3));\n",
              "      fill: #FFFFFF;\n",
              "    }\n",
              "  </style>\n",
              "\n",
              "      <script>\n",
              "        const buttonEl =\n",
              "          document.querySelector('#df-cf295c82-b682-4c91-9a66-6d35703a9798 button.colab-df-convert');\n",
              "        buttonEl.style.display =\n",
              "          google.colab.kernel.accessAllowed ? 'block' : 'none';\n",
              "\n",
              "        async function convertToInteractive(key) {\n",
              "          const element = document.querySelector('#df-cf295c82-b682-4c91-9a66-6d35703a9798');\n",
              "          const dataTable =\n",
              "            await google.colab.kernel.invokeFunction('convertToInteractive',\n",
              "                                                     [key], {});\n",
              "          if (!dataTable) return;\n",
              "\n",
              "          const docLinkHtml = 'Like what you see? Visit the ' +\n",
              "            '<a target=\"_blank\" href=https://colab.research.google.com/notebooks/data_table.ipynb>data table notebook</a>'\n",
              "            + ' to learn more about interactive tables.';\n",
              "          element.innerHTML = '';\n",
              "          dataTable['output_type'] = 'display_data';\n",
              "          await google.colab.output.renderOutput(dataTable, element);\n",
              "          const docLink = document.createElement('div');\n",
              "          docLink.innerHTML = docLinkHtml;\n",
              "          element.appendChild(docLink);\n",
              "        }\n",
              "      </script>\n",
              "    </div>\n",
              "  </div>\n",
              "  "
            ]
          },
          "metadata": {},
          "execution_count": 21
        }
      ],
      "source": [
        "trans_to_merge = raw_trans[['trans_id', 'account_id', 'amount', 'balance', \n",
        "                            'year', 'month', 'day', 'dayofweek']]\n",
        "trans = trans_to_merge.join(one_hot_trans)\n",
        "trans.set_index('trans_id', inplace=True)\n",
        "trans_norm = normalize(trans.drop(columns=['account_id'], inplace=False))\n",
        "trans_norm['account_id'] = trans['account_id']\n",
        "trans_norm"
      ]
    },
    {
      "cell_type": "code",
      "execution_count": 22,
      "metadata": {
        "id": "i81KqShEQisz",
        "colab": {
          "base_uri": "https://localhost:8080/"
        },
        "outputId": "08547da8-ea6f-4899-a4f9-bf1a1dcde75c"
      },
      "outputs": [
        {
          "output_type": "execute_result",
          "data": {
            "text/plain": [
              "account_id\n",
              "A0000000001    239\n",
              "A0000000002    478\n",
              "A0000000003    117\n",
              "A0000000004    186\n",
              "A0000000005     84\n",
              "              ... \n",
              "A0000011333    368\n",
              "A0000011349    304\n",
              "A0000011359    378\n",
              "A0000011362    344\n",
              "A0000011382    253\n",
              "Length: 4500, dtype: int64"
            ]
          },
          "metadata": {},
          "execution_count": 22
        }
      ],
      "source": [
        "trans_acc_grp_unnorm = trans.groupby(['account_id'])\n",
        "trans_acc_grp_unnorm.size()"
      ]
    },
    {
      "cell_type": "code",
      "execution_count": 23,
      "metadata": {
        "id": "GgtidNnMZI7t",
        "colab": {
          "base_uri": "https://localhost:8080/"
        },
        "outputId": "f3d49dc6-9a57-4de8-c938-fe6be03c2b7c"
      },
      "outputs": [
        {
          "output_type": "execute_result",
          "data": {
            "text/plain": [
              "675"
            ]
          },
          "metadata": {},
          "execution_count": 23
        }
      ],
      "source": [
        "trans_acc_grp = trans_norm.groupby(['account_id'])\n",
        "max_trans_len = trans_acc_grp.size().max()\n",
        "max_trans_len"
      ]
    },
    {
      "cell_type": "code",
      "execution_count": 24,
      "metadata": {
        "id": "Wkwkl1kIgv6G"
      },
      "outputs": [],
      "source": [
        "sequence_input_list = []\n",
        "sequence_output_list = []\n",
        "non_sos_eos_list = []\n",
        "no_padding_list = []\n",
        "for k, v in trans_acc_grp:\n",
        "  user_trans_array = v.drop(columns=['account_id']).values\n",
        "  array = user_trans_array.copy()\n",
        "  array_no_sos_eos = user_trans_array.copy()\n",
        "  # add start and end to sequence of transations\n",
        "  add_start_to_array = np.insert(array, 0, [-1]*12, axis=0)\n",
        "  input_array = np.append(add_start_to_array, [[-2]*12], axis=0)\n",
        "  output_array = np.append(array, [[-2]*12], axis=0)\n",
        "  # resize array to max_lenght\n",
        "  input_array.resize((max_trans_len, 12), refcheck=False)\n",
        "  output_array.resize((max_trans_len, 12), refcheck=False)\n",
        "  array_no_sos_eos.resize((max_trans_len, 12), refcheck=False)\n",
        "  # append them to list\n",
        "  sequence_input_list.append(input_array)\n",
        "  sequence_output_list.append(output_array)\n",
        "  non_sos_eos_list.append(array_no_sos_eos)\n",
        "  no_padding_list.append(array)"
      ]
    },
    {
      "cell_type": "code",
      "execution_count": 25,
      "metadata": {
        "id": "tvh1pNnOsJKa",
        "colab": {
          "base_uri": "https://localhost:8080/"
        },
        "outputId": "49651ede-50c5-4a83-d117-6c37da62baf1"
      },
      "outputs": [
        {
          "output_type": "stream",
          "name": "stderr",
          "text": [
            "/usr/local/lib/python3.7/dist-packages/ipykernel_launcher.py:5: VisibleDeprecationWarning: Creating an ndarray from ragged nested sequences (which is a list-or-tuple of lists-or-tuples-or ndarrays with different lengths or shapes) is deprecated. If you meant to do this, you must specify 'dtype=object' when creating the ndarray.\n",
            "  \"\"\"\n"
          ]
        },
        {
          "output_type": "execute_result",
          "data": {
            "text/plain": [
              "(4500, 675, 12)"
            ]
          },
          "metadata": {},
          "execution_count": 25
        }
      ],
      "source": [
        "sequence_input_array = np.array(sequence_input_list)\n",
        "sequence_output_input_array = sequence_input_array\n",
        "sequence_output_array = np.array(sequence_output_list)\n",
        "non_sos_eos_list_array = np.array(non_sos_eos_list)\n",
        "no_padding_list_array = np.array(no_padding_list)\n",
        "sequence_output_array.shape"
      ]
    },
    {
      "cell_type": "markdown",
      "metadata": {
        "id": "aVlgyKFLS46y"
      },
      "source": [
        "## **Modeling**"
      ]
    },
    {
      "cell_type": "markdown",
      "metadata": {
        "id": "LuP3Gg-Urhos"
      },
      "source": [
        "### **LSTM Extract Latent Space**"
      ]
    },
    {
      "cell_type": "code",
      "execution_count": 32,
      "metadata": {
        "id": "ARwVJvMkmtwW"
      },
      "outputs": [],
      "source": [
        "import tensorflow as tf\n",
        "from keras.preprocessing.text import one_hot,Tokenizer\n",
        "from keras.preprocessing.sequence import pad_sequences\n",
        "from keras.models import Sequential, Model\n",
        "from keras.layers.core import Activation, Dropout, Dense\n",
        "from keras.layers.advanced_activations import PReLU, LeakyReLU\n",
        "\n",
        "from tensorflow import feature_column, keras\n",
        "from tensorflow.keras.utils import plot_model\n",
        "from tensorflow.keras import layers\n",
        "from tensorflow.keras.optimizers import Adam\n",
        "from tensorflow.keras.losses import MSE\n",
        "from keras.layers import Dense, LSTM, GRU, dot, Input, Embedding, \\\n",
        " TimeDistributed, Dropout, Bidirectional, Concatenate, GlobalMaxPooling1D"
      ]
    },
    {
      "cell_type": "code",
      "execution_count": 33,
      "metadata": {
        "id": "-37DjjklmOXw"
      },
      "outputs": [],
      "source": [
        "def create_model():\n",
        "  latent_dim = 16\n",
        "  decoder_dim = 12\n",
        "  num_dynamic_features = 12\n",
        "  ###########################################  encoder  ###########################################\n",
        "\n",
        "  # Sequence input shape is N*2 which N is sequence length and 2 is price and time\n",
        "  sequence_input = Input(name='sequence_input', shape=(None, num_dynamic_features))\n",
        "\n",
        "  # Many_to_one_lstm\n",
        "  outputs  = LSTM(128, return_sequences=True)(sequence_input)\n",
        "  # outputs = GRU(2048, return_sequences=True)(outputs)\n",
        "  # outputs = Dropout(0.2, input_shape=(2,))(outputs)\n",
        "  encoder_out , hidden_state, cell_state = LSTM(latent_dim, return_state=True, return_sequences=True)(outputs)\n",
        "\n",
        "  latent_space = Concatenate()([hidden_state, cell_state])\n",
        "  #Layer below output can be used for clustering purposes\n",
        "  latent_space = Dense(latent_dim, activation = 'relu', name='latent_space')(latent_space)\n",
        "\n",
        "  ###########################################  /encoder  ###########################################\n",
        "\n",
        "  ###########################################  decoder  ###########################################\n",
        "\n",
        "  # Temporary input with a time step delay for producing sequence output\n",
        "  # This input is exacly similar to sequence_input with only this diffrence that has a time step delay\n",
        "  sequence_output_input = Input(name='sequence_output_input', shape=(None, num_dynamic_features))\n",
        "\n",
        "  # One to many GRU (because of its simplicity, we used GRU instead of LSTM)\n",
        "  decoder_out = GRU(latent_dim, return_sequences=True)(sequence_output_input, initial_state = latent_space)\n",
        "  ###########################################  attention  ###########################################\n",
        "  attention = dot([decoder_out, encoder_out], axes=[2, 2])\n",
        "  attention = Activation('softmax')(attention)\n",
        "  context = dot([attention, encoder_out], axes=[2,1])\n",
        "  decoder_combined_context = Concatenate()([context, decoder_out])\n",
        "  ###########################################  /attention  ###########################################\n",
        "\n",
        "  decoder_outputs = TimeDistributed(Dense(decoder_dim, activation='sigmoid'),name='decoder_outputs')(decoder_combined_context)\n",
        "\n",
        "  ###########################################  /decoder  ###########################################\n",
        "\n",
        "  # Model has three inputs and 2 outputs (last input is temorary)\n",
        "  model = Model(inputs = [sequence_input, sequence_output_input],\n",
        "              outputs = [decoder_outputs])\n",
        "\n",
        "  return model"
      ]
    },
    {
      "cell_type": "code",
      "execution_count": 34,
      "metadata": {
        "id": "rTkxJ_hgmOjb",
        "colab": {
          "base_uri": "https://localhost:8080/"
        },
        "outputId": "330bdca7-d70f-4944-de7f-4f6e28179906"
      },
      "outputs": [
        {
          "output_type": "stream",
          "name": "stdout",
          "text": [
            "Model: \"model\"\n",
            "__________________________________________________________________________________________________\n",
            " Layer (type)                   Output Shape         Param #     Connected to                     \n",
            "==================================================================================================\n",
            " sequence_input (InputLayer)    [(None, None, 12)]   0           []                               \n",
            "                                                                                                  \n",
            " lstm (LSTM)                    (None, None, 128)    72192       ['sequence_input[0][0]']         \n",
            "                                                                                                  \n",
            " lstm_1 (LSTM)                  [(None, None, 16),   9280        ['lstm[0][0]']                   \n",
            "                                 (None, 16),                                                      \n",
            "                                 (None, 16)]                                                      \n",
            "                                                                                                  \n",
            " concatenate (Concatenate)      (None, 32)           0           ['lstm_1[0][1]',                 \n",
            "                                                                  'lstm_1[0][2]']                 \n",
            "                                                                                                  \n",
            " sequence_output_input (InputLa  [(None, None, 12)]  0           []                               \n",
            " yer)                                                                                             \n",
            "                                                                                                  \n",
            " latent_space (Dense)           (None, 16)           528         ['concatenate[0][0]']            \n",
            "                                                                                                  \n",
            " gru (GRU)                      (None, None, 16)     1440        ['sequence_output_input[0][0]',  \n",
            "                                                                  'latent_space[0][0]']           \n",
            "                                                                                                  \n",
            " dot (Dot)                      (None, None, None)   0           ['gru[0][0]',                    \n",
            "                                                                  'lstm_1[0][0]']                 \n",
            "                                                                                                  \n",
            " activation (Activation)        (None, None, None)   0           ['dot[0][0]']                    \n",
            "                                                                                                  \n",
            " dot_1 (Dot)                    (None, None, 16)     0           ['activation[0][0]',             \n",
            "                                                                  'lstm_1[0][0]']                 \n",
            "                                                                                                  \n",
            " concatenate_1 (Concatenate)    (None, None, 32)     0           ['dot_1[0][0]',                  \n",
            "                                                                  'gru[0][0]']                    \n",
            "                                                                                                  \n",
            " decoder_outputs (TimeDistribut  (None, None, 12)    396         ['concatenate_1[0][0]']          \n",
            " ed)                                                                                              \n",
            "                                                                                                  \n",
            "==================================================================================================\n",
            "Total params: 83,836\n",
            "Trainable params: 83,836\n",
            "Non-trainable params: 0\n",
            "__________________________________________________________________________________________________\n"
          ]
        }
      ],
      "source": [
        "lr = 0.01\n",
        "adam = Adam(lr)\n",
        "with tf.device(\"/gpu:0\"):\n",
        "    model = create_model()\n",
        "    model.compile(optimizer=adam, loss=MSE)\n",
        "    model.summary()"
      ]
    },
    {
      "cell_type": "code",
      "execution_count": null,
      "metadata": {
        "colab": {
          "base_uri": "https://localhost:8080/"
        },
        "id": "w55Gk74XnRbs",
        "outputId": "02406863-af89-4c44-8591-232720bb565a"
      },
      "outputs": [
        {
          "output_type": "stream",
          "name": "stdout",
          "text": [
            "Epoch 1/100\n",
            "32/32 [==============================] - 13s 150ms/step - loss: 0.3767 - val_loss: 0.4163\n",
            "Epoch 2/100\n",
            " 6/32 [====>.........................] - ETA: 2s - loss: 0.3170"
          ]
        }
      ],
      "source": [
        "batch_size = 128\n",
        "inputs = [sequence_input_array, sequence_output_input_array]\n",
        "outputs = [sequence_output_array]\n",
        "\n",
        "training_history = model.fit(inputs, outputs,\n",
        "                             epochs=100,\n",
        "                             batch_size = batch_size,\n",
        "                             validation_split=0.1)"
      ]
    },
    {
      "cell_type": "code",
      "execution_count": null,
      "metadata": {
        "id": "b1R1q5junXNQ"
      },
      "outputs": [],
      "source": [
        "encoder = Model(model.input, model.get_layer(\"latent_space\").output)\n",
        "predictions = encoder.predict(inputs, batch_size=batch_size, verbose=1)"
      ]
    },
    {
      "cell_type": "markdown",
      "metadata": {
        "id": "rAcz8xJsXquL"
      },
      "source": [
        "### **Dynamic Time Warping (DTW)**"
      ]
    },
    {
      "cell_type": "code",
      "execution_count": 6,
      "metadata": {
        "colab": {
          "base_uri": "https://localhost:8080/"
        },
        "id": "HKMoa-4gXzju",
        "outputId": "b5f01b55-caaf-43c0-e9a8-96ad7bb227fe"
      },
      "outputs": [
        {
          "output_type": "stream",
          "name": "stdout",
          "text": [
            "Collecting dtaidistance\n",
            "  Downloading dtaidistance-2.3.6.tar.gz (797 kB)\n",
            "\u001b[?25l\r\u001b[K     |▍                               | 10 kB 32.8 MB/s eta 0:00:01\r\u001b[K     |▉                               | 20 kB 36.6 MB/s eta 0:00:01\r\u001b[K     |█▎                              | 30 kB 34.7 MB/s eta 0:00:01\r\u001b[K     |█▋                              | 40 kB 25.1 MB/s eta 0:00:01\r\u001b[K     |██                              | 51 kB 19.4 MB/s eta 0:00:01\r\u001b[K     |██▌                             | 61 kB 22.0 MB/s eta 0:00:01\r\u001b[K     |██▉                             | 71 kB 23.2 MB/s eta 0:00:01\r\u001b[K     |███▎                            | 81 kB 25.0 MB/s eta 0:00:01\r\u001b[K     |███▊                            | 92 kB 27.1 MB/s eta 0:00:01\r\u001b[K     |████                            | 102 kB 28.0 MB/s eta 0:00:01\r\u001b[K     |████▌                           | 112 kB 28.0 MB/s eta 0:00:01\r\u001b[K     |█████                           | 122 kB 28.0 MB/s eta 0:00:01\r\u001b[K     |█████▍                          | 133 kB 28.0 MB/s eta 0:00:01\r\u001b[K     |█████▊                          | 143 kB 28.0 MB/s eta 0:00:01\r\u001b[K     |██████▏                         | 153 kB 28.0 MB/s eta 0:00:01\r\u001b[K     |██████▋                         | 163 kB 28.0 MB/s eta 0:00:01\r\u001b[K     |███████                         | 174 kB 28.0 MB/s eta 0:00:01\r\u001b[K     |███████▍                        | 184 kB 28.0 MB/s eta 0:00:01\r\u001b[K     |███████▉                        | 194 kB 28.0 MB/s eta 0:00:01\r\u001b[K     |████████▏                       | 204 kB 28.0 MB/s eta 0:00:01\r\u001b[K     |████████▋                       | 215 kB 28.0 MB/s eta 0:00:01\r\u001b[K     |█████████                       | 225 kB 28.0 MB/s eta 0:00:01\r\u001b[K     |█████████▌                      | 235 kB 28.0 MB/s eta 0:00:01\r\u001b[K     |█████████▉                      | 245 kB 28.0 MB/s eta 0:00:01\r\u001b[K     |██████████▎                     | 256 kB 28.0 MB/s eta 0:00:01\r\u001b[K     |██████████▊                     | 266 kB 28.0 MB/s eta 0:00:01\r\u001b[K     |███████████                     | 276 kB 28.0 MB/s eta 0:00:01\r\u001b[K     |███████████▌                    | 286 kB 28.0 MB/s eta 0:00:01\r\u001b[K     |████████████                    | 296 kB 28.0 MB/s eta 0:00:01\r\u001b[K     |████████████▎                   | 307 kB 28.0 MB/s eta 0:00:01\r\u001b[K     |████████████▊                   | 317 kB 28.0 MB/s eta 0:00:01\r\u001b[K     |█████████████▏                  | 327 kB 28.0 MB/s eta 0:00:01\r\u001b[K     |█████████████▋                  | 337 kB 28.0 MB/s eta 0:00:01\r\u001b[K     |██████████████                  | 348 kB 28.0 MB/s eta 0:00:01\r\u001b[K     |██████████████▍                 | 358 kB 28.0 MB/s eta 0:00:01\r\u001b[K     |██████████████▉                 | 368 kB 28.0 MB/s eta 0:00:01\r\u001b[K     |███████████████▏                | 378 kB 28.0 MB/s eta 0:00:01\r\u001b[K     |███████████████▋                | 389 kB 28.0 MB/s eta 0:00:01\r\u001b[K     |████████████████                | 399 kB 28.0 MB/s eta 0:00:01\r\u001b[K     |████████████████▍               | 409 kB 28.0 MB/s eta 0:00:01\r\u001b[K     |████████████████▉               | 419 kB 28.0 MB/s eta 0:00:01\r\u001b[K     |█████████████████▎              | 430 kB 28.0 MB/s eta 0:00:01\r\u001b[K     |█████████████████▋              | 440 kB 28.0 MB/s eta 0:00:01\r\u001b[K     |██████████████████              | 450 kB 28.0 MB/s eta 0:00:01\r\u001b[K     |██████████████████▌             | 460 kB 28.0 MB/s eta 0:00:01\r\u001b[K     |███████████████████             | 471 kB 28.0 MB/s eta 0:00:01\r\u001b[K     |███████████████████▎            | 481 kB 28.0 MB/s eta 0:00:01\r\u001b[K     |███████████████████▊            | 491 kB 28.0 MB/s eta 0:00:01\r\u001b[K     |████████████████████▏           | 501 kB 28.0 MB/s eta 0:00:01\r\u001b[K     |████████████████████▌           | 512 kB 28.0 MB/s eta 0:00:01\r\u001b[K     |█████████████████████           | 522 kB 28.0 MB/s eta 0:00:01\r\u001b[K     |█████████████████████▍          | 532 kB 28.0 MB/s eta 0:00:01\r\u001b[K     |█████████████████████▊          | 542 kB 28.0 MB/s eta 0:00:01\r\u001b[K     |██████████████████████▏         | 552 kB 28.0 MB/s eta 0:00:01\r\u001b[K     |██████████████████████▋         | 563 kB 28.0 MB/s eta 0:00:01\r\u001b[K     |███████████████████████         | 573 kB 28.0 MB/s eta 0:00:01\r\u001b[K     |███████████████████████▍        | 583 kB 28.0 MB/s eta 0:00:01\r\u001b[K     |███████████████████████▉        | 593 kB 28.0 MB/s eta 0:00:01\r\u001b[K     |████████████████████████▎       | 604 kB 28.0 MB/s eta 0:00:01\r\u001b[K     |████████████████████████▋       | 614 kB 28.0 MB/s eta 0:00:01\r\u001b[K     |█████████████████████████       | 624 kB 28.0 MB/s eta 0:00:01\r\u001b[K     |█████████████████████████▌      | 634 kB 28.0 MB/s eta 0:00:01\r\u001b[K     |█████████████████████████▉      | 645 kB 28.0 MB/s eta 0:00:01\r\u001b[K     |██████████████████████████▎     | 655 kB 28.0 MB/s eta 0:00:01\r\u001b[K     |██████████████████████████▊     | 665 kB 28.0 MB/s eta 0:00:01\r\u001b[K     |███████████████████████████▏    | 675 kB 28.0 MB/s eta 0:00:01\r\u001b[K     |███████████████████████████▌    | 686 kB 28.0 MB/s eta 0:00:01\r\u001b[K     |████████████████████████████    | 696 kB 28.0 MB/s eta 0:00:01\r\u001b[K     |████████████████████████████▍   | 706 kB 28.0 MB/s eta 0:00:01\r\u001b[K     |████████████████████████████▊   | 716 kB 28.0 MB/s eta 0:00:01\r\u001b[K     |█████████████████████████████▏  | 727 kB 28.0 MB/s eta 0:00:01\r\u001b[K     |█████████████████████████████▋  | 737 kB 28.0 MB/s eta 0:00:01\r\u001b[K     |██████████████████████████████  | 747 kB 28.0 MB/s eta 0:00:01\r\u001b[K     |██████████████████████████████▍ | 757 kB 28.0 MB/s eta 0:00:01\r\u001b[K     |██████████████████████████████▉ | 768 kB 28.0 MB/s eta 0:00:01\r\u001b[K     |███████████████████████████████▎| 778 kB 28.0 MB/s eta 0:00:01\r\u001b[K     |███████████████████████████████▋| 788 kB 28.0 MB/s eta 0:00:01\r\u001b[K     |████████████████████████████████| 797 kB 28.0 MB/s \n",
            "\u001b[?25h  Installing build dependencies ... \u001b[?25l\u001b[?25hdone\n",
            "  Getting requirements to build wheel ... \u001b[?25l\u001b[?25hdone\n",
            "    Preparing wheel metadata ... \u001b[?25l\u001b[?25hdone\n",
            "Requirement already satisfied: numpy in /usr/local/lib/python3.7/dist-packages (from dtaidistance) (1.21.5)\n",
            "Building wheels for collected packages: dtaidistance\n",
            "  Building wheel for dtaidistance (PEP 517) ... \u001b[?25l\u001b[?25hdone\n",
            "  Created wheel for dtaidistance: filename=dtaidistance-2.3.6-cp37-cp37m-linux_x86_64.whl size=1593634 sha256=9c8adf2747b4665e9eaf8a3d149315fd698b63e0410158f439eb0879653ad370\n",
            "  Stored in directory: /root/.cache/pip/wheels/a4/04/e5/ff7fd821276e7ec68893652d36b6a13f230ecdcafdc3283b3f\n",
            "Successfully built dtaidistance\n",
            "Installing collected packages: dtaidistance\n",
            "Successfully installed dtaidistance-2.3.6\n"
          ]
        }
      ],
      "source": [
        "!pip install dtaidistance"
      ]
    },
    {
      "cell_type": "code",
      "execution_count": 7,
      "metadata": {
        "id": "zNXYmIQTP1uy"
      },
      "outputs": [],
      "source": [
        "from dtaidistance import dtw_ndim"
      ]
    },
    {
      "cell_type": "code",
      "execution_count": 31,
      "metadata": {
        "id": "ohgzPngCXp6x",
        "colab": {
          "base_uri": "https://localhost:8080/",
          "height": 442
        },
        "outputId": "b661e252-dc59-40ab-ffec-46f2f3f143e0"
      },
      "outputs": [
        {
          "output_type": "error",
          "ename": "KeyboardInterrupt",
          "evalue": "ignored",
          "traceback": [
            "\u001b[0;31m---------------------------------------------------------------------------\u001b[0m",
            "\u001b[0;31mKeyboardInterrupt\u001b[0m                         Traceback (most recent call last)",
            "\u001b[0;32m<ipython-input-31-acb3b431d17e>\u001b[0m in \u001b[0;36m<module>\u001b[0;34m()\u001b[0m\n\u001b[0;32m----> 1\u001b[0;31m \u001b[0mget_ipython\u001b[0m\u001b[0;34m(\u001b[0m\u001b[0;34m)\u001b[0m\u001b[0;34m.\u001b[0m\u001b[0mrun_cell_magic\u001b[0m\u001b[0;34m(\u001b[0m\u001b[0;34m'time'\u001b[0m\u001b[0;34m,\u001b[0m \u001b[0;34m''\u001b[0m\u001b[0;34m,\u001b[0m \u001b[0;34m'distance_1d = []\\ndistance_2d = []\\nfor i in non_sos_eos_list_array:\\n  for j in non_sos_eos_list_array:\\n    d = dtw_ndim.distance(i, j)\\n    distance_1d.append(d)\\n  print(distance_1d)\\n  distance_2d.append(distance_1d)\\n  print(distance_2d)'\u001b[0m\u001b[0;34m)\u001b[0m\u001b[0;34m\u001b[0m\u001b[0;34m\u001b[0m\u001b[0m\n\u001b[0m",
            "\u001b[0;32m/usr/local/lib/python3.7/dist-packages/IPython/core/interactiveshell.py\u001b[0m in \u001b[0;36mrun_cell_magic\u001b[0;34m(self, magic_name, line, cell)\u001b[0m\n\u001b[1;32m   2115\u001b[0m             \u001b[0mmagic_arg_s\u001b[0m \u001b[0;34m=\u001b[0m \u001b[0mself\u001b[0m\u001b[0;34m.\u001b[0m\u001b[0mvar_expand\u001b[0m\u001b[0;34m(\u001b[0m\u001b[0mline\u001b[0m\u001b[0;34m,\u001b[0m \u001b[0mstack_depth\u001b[0m\u001b[0;34m)\u001b[0m\u001b[0;34m\u001b[0m\u001b[0;34m\u001b[0m\u001b[0m\n\u001b[1;32m   2116\u001b[0m             \u001b[0;32mwith\u001b[0m \u001b[0mself\u001b[0m\u001b[0;34m.\u001b[0m\u001b[0mbuiltin_trap\u001b[0m\u001b[0;34m:\u001b[0m\u001b[0;34m\u001b[0m\u001b[0;34m\u001b[0m\u001b[0m\n\u001b[0;32m-> 2117\u001b[0;31m                 \u001b[0mresult\u001b[0m \u001b[0;34m=\u001b[0m \u001b[0mfn\u001b[0m\u001b[0;34m(\u001b[0m\u001b[0mmagic_arg_s\u001b[0m\u001b[0;34m,\u001b[0m \u001b[0mcell\u001b[0m\u001b[0;34m)\u001b[0m\u001b[0;34m\u001b[0m\u001b[0;34m\u001b[0m\u001b[0m\n\u001b[0m\u001b[1;32m   2118\u001b[0m             \u001b[0;32mreturn\u001b[0m \u001b[0mresult\u001b[0m\u001b[0;34m\u001b[0m\u001b[0;34m\u001b[0m\u001b[0m\n\u001b[1;32m   2119\u001b[0m \u001b[0;34m\u001b[0m\u001b[0m\n",
            "\u001b[0;32m<decorator-gen-53>\u001b[0m in \u001b[0;36mtime\u001b[0;34m(self, line, cell, local_ns)\u001b[0m\n",
            "\u001b[0;32m/usr/local/lib/python3.7/dist-packages/IPython/core/magic.py\u001b[0m in \u001b[0;36m<lambda>\u001b[0;34m(f, *a, **k)\u001b[0m\n\u001b[1;32m    186\u001b[0m     \u001b[0;31m# but it's overkill for just that one bit of state.\u001b[0m\u001b[0;34m\u001b[0m\u001b[0;34m\u001b[0m\u001b[0;34m\u001b[0m\u001b[0m\n\u001b[1;32m    187\u001b[0m     \u001b[0;32mdef\u001b[0m \u001b[0mmagic_deco\u001b[0m\u001b[0;34m(\u001b[0m\u001b[0marg\u001b[0m\u001b[0;34m)\u001b[0m\u001b[0;34m:\u001b[0m\u001b[0;34m\u001b[0m\u001b[0;34m\u001b[0m\u001b[0m\n\u001b[0;32m--> 188\u001b[0;31m         \u001b[0mcall\u001b[0m \u001b[0;34m=\u001b[0m \u001b[0;32mlambda\u001b[0m \u001b[0mf\u001b[0m\u001b[0;34m,\u001b[0m \u001b[0;34m*\u001b[0m\u001b[0ma\u001b[0m\u001b[0;34m,\u001b[0m \u001b[0;34m**\u001b[0m\u001b[0mk\u001b[0m\u001b[0;34m:\u001b[0m \u001b[0mf\u001b[0m\u001b[0;34m(\u001b[0m\u001b[0;34m*\u001b[0m\u001b[0ma\u001b[0m\u001b[0;34m,\u001b[0m \u001b[0;34m**\u001b[0m\u001b[0mk\u001b[0m\u001b[0;34m)\u001b[0m\u001b[0;34m\u001b[0m\u001b[0;34m\u001b[0m\u001b[0m\n\u001b[0m\u001b[1;32m    189\u001b[0m \u001b[0;34m\u001b[0m\u001b[0m\n\u001b[1;32m    190\u001b[0m         \u001b[0;32mif\u001b[0m \u001b[0mcallable\u001b[0m\u001b[0;34m(\u001b[0m\u001b[0marg\u001b[0m\u001b[0;34m)\u001b[0m\u001b[0;34m:\u001b[0m\u001b[0;34m\u001b[0m\u001b[0;34m\u001b[0m\u001b[0m\n",
            "\u001b[0;32m/usr/local/lib/python3.7/dist-packages/IPython/core/magics/execution.py\u001b[0m in \u001b[0;36mtime\u001b[0;34m(self, line, cell, local_ns)\u001b[0m\n\u001b[1;32m   1191\u001b[0m         \u001b[0;32melse\u001b[0m\u001b[0;34m:\u001b[0m\u001b[0;34m\u001b[0m\u001b[0;34m\u001b[0m\u001b[0m\n\u001b[1;32m   1192\u001b[0m             \u001b[0mst\u001b[0m \u001b[0;34m=\u001b[0m \u001b[0mclock2\u001b[0m\u001b[0;34m(\u001b[0m\u001b[0;34m)\u001b[0m\u001b[0;34m\u001b[0m\u001b[0;34m\u001b[0m\u001b[0m\n\u001b[0;32m-> 1193\u001b[0;31m             \u001b[0mexec\u001b[0m\u001b[0;34m(\u001b[0m\u001b[0mcode\u001b[0m\u001b[0;34m,\u001b[0m \u001b[0mglob\u001b[0m\u001b[0;34m,\u001b[0m \u001b[0mlocal_ns\u001b[0m\u001b[0;34m)\u001b[0m\u001b[0;34m\u001b[0m\u001b[0;34m\u001b[0m\u001b[0m\n\u001b[0m\u001b[1;32m   1194\u001b[0m             \u001b[0mend\u001b[0m \u001b[0;34m=\u001b[0m \u001b[0mclock2\u001b[0m\u001b[0;34m(\u001b[0m\u001b[0;34m)\u001b[0m\u001b[0;34m\u001b[0m\u001b[0;34m\u001b[0m\u001b[0m\n\u001b[1;32m   1195\u001b[0m             \u001b[0mout\u001b[0m \u001b[0;34m=\u001b[0m \u001b[0;32mNone\u001b[0m\u001b[0;34m\u001b[0m\u001b[0;34m\u001b[0m\u001b[0m\n",
            "\u001b[0;32m<timed exec>\u001b[0m in \u001b[0;36m<module>\u001b[0;34m()\u001b[0m\n",
            "\u001b[0;32m/usr/local/lib/python3.7/dist-packages/dtaidistance/dtw_ndim.py\u001b[0m in \u001b[0;36mdistance\u001b[0;34m(s1, s2, window, max_dist, max_step, max_length_diff, penalty, psi, use_c, use_pruning, only_ub)\u001b[0m\n\u001b[1;32m    208\u001b[0m                 \u001b[0;32mcontinue\u001b[0m\u001b[0;34m\u001b[0m\u001b[0;34m\u001b[0m\u001b[0m\n\u001b[1;32m    209\u001b[0m             \u001b[0;32massert\u001b[0m \u001b[0mj\u001b[0m \u001b[0;34m+\u001b[0m \u001b[0;36m1\u001b[0m \u001b[0;34m-\u001b[0m \u001b[0mskip\u001b[0m \u001b[0;34m>=\u001b[0m \u001b[0;36m0\u001b[0m\u001b[0;34m\u001b[0m\u001b[0;34m\u001b[0m\u001b[0m\n\u001b[0;32m--> 210\u001b[0;31m             \u001b[0;32massert\u001b[0m \u001b[0mj\u001b[0m \u001b[0;34m-\u001b[0m \u001b[0mskipp\u001b[0m \u001b[0;34m>=\u001b[0m \u001b[0;36m0\u001b[0m\u001b[0;34m\u001b[0m\u001b[0;34m\u001b[0m\u001b[0m\n\u001b[0m\u001b[1;32m    211\u001b[0m             \u001b[0;32massert\u001b[0m \u001b[0mj\u001b[0m \u001b[0;34m+\u001b[0m \u001b[0;36m1\u001b[0m \u001b[0;34m-\u001b[0m \u001b[0mskipp\u001b[0m \u001b[0;34m>=\u001b[0m \u001b[0;36m0\u001b[0m\u001b[0;34m\u001b[0m\u001b[0;34m\u001b[0m\u001b[0m\n\u001b[1;32m    212\u001b[0m             \u001b[0;32massert\u001b[0m \u001b[0mj\u001b[0m \u001b[0;34m-\u001b[0m \u001b[0mskip\u001b[0m \u001b[0;34m>=\u001b[0m \u001b[0;36m0\u001b[0m\u001b[0;34m\u001b[0m\u001b[0;34m\u001b[0m\u001b[0m\n",
            "\u001b[0;31mKeyboardInterrupt\u001b[0m: "
          ]
        }
      ],
      "source": [
        "%%time\n",
        "distance_1d = []\n",
        "distance_2d = []\n",
        "for i in non_sos_eos_list_array:\n",
        "  for j in non_sos_eos_list_array:\n",
        "    d = dtw_ndim.distance(i, j)\n",
        "    distance_1d.append(d)\n",
        "  print(distance_1d)\n",
        "  distance_2d.append(distance_1d)\n",
        "  print(distance_2d)"
      ]
    },
    {
      "cell_type": "code",
      "source": [
        "from numpy import save\n",
        "\n",
        "save('dtw_matrix.npy', np.array(distance_2d))"
      ],
      "metadata": {
        "id": "MI-zg1qK_TH0"
      },
      "execution_count": null,
      "outputs": []
    },
    {
      "cell_type": "markdown",
      "metadata": {
        "id": "eHIKIMiwQU4m"
      },
      "source": [
        "### **Evaluation**"
      ]
    },
    {
      "cell_type": "code",
      "execution_count": null,
      "metadata": {
        "id": "yRyXgO5Z76UD"
      },
      "outputs": [],
      "source": [
        "import plotly.graph_objects as go\n",
        "from sklearn.decomposition import PCA\n",
        "from sklearn.preprocessing import StandardScaler"
      ]
    },
    {
      "cell_type": "code",
      "execution_count": null,
      "metadata": {
        "colab": {
          "base_uri": "https://localhost:8080/",
          "height": 440
        },
        "id": "c9OS9XMqHwQo",
        "outputId": "fb571476-4ef2-454e-ced1-618fe1fa0317"
      },
      "outputs": [
        {
          "name": "stdout",
          "output_type": "stream",
          "text": [
            "[0.878, 0.678, 0.651, 0.517, 0.502, 0.495, 0.488, 0.485, 0.462, 0.446, 0.443, 0.442, 0.439, 0.42, 0.413, 0.411, 0.403, 0.394]\n",
            "Silhouette: The best value --> 1 and the worst value --> -1.\n",
            "Davies–Bouldin index: lower values --> better clustering.\n",
            "[0.878, 0.679, 0.651, 0.517, 0.497, 0.495, 0.488, 0.484, 0.459, 0.446, 0.438, 0.437, 0.436, 0.42, 0.413, 0.406, 0.421, 0.396]\n",
            "Silhouette: The best value --> 1 and the worst value --> -1.\n",
            "Davies–Bouldin index: lower values --> better clustering.\n",
            "[0.878, 0.679, 0.652, 0.517, 0.496, 0.494, 0.488, 0.485, 0.462, 0.447, 0.442, 0.444, 0.438, 0.419, 0.417, 0.419, 0.42, 0.405]\n",
            "Silhouette: The best value --> 1 and the worst value --> -1.\n",
            "Davies–Bouldin index: lower values --> better clustering.\n"
          ]
        },
        {
          "data": {
            "image/png": "[encoded data removed]",
            "text/plain": [
              "<Figure size 432x288 with 1 Axes>"
            ]
          },
          "metadata": {},
          "output_type": "display_data"
        }
      ],
      "source": [
        "for pca_num in range (2, 6):\n",
        "  sc = StandardScaler()\n",
        "  encode_pred_norm = sc.fit_transform(predictions)\n",
        "  pca = PCA(n_components=n_components)\n",
        "  encoder_pred = pca.fit_transform(encode_pred_norm)\n",
        "  sil_list = []\n",
        "  db_index_list = []\n",
        "  for cluster_num in range(2, 10):\n",
        "    labels = kmeans(encoder_pred, cluster_num)\n",
        "    sil, db = cluster_score(encoder_pred, labels)\n",
        "    sil_list.append(sil)\n",
        "    db_index_list.append(db)\n",
        "  print(sil_list)\n",
        "  print(\"Silhouette: The best value --> 1 and the worst value --> -1.\")\n",
        "  print(\"Davies–Bouldin index: lower values --> better clustering.\")\n",
        "  x_axis = list(range(2, 20))\n",
        "  plt.plot(x_axis, sil_list, label='Silhouette')\n",
        "  plt.plot(x_axis, db_index_list, label='Davies–Bouldin index')\n",
        "  plt.xlabel(\"Cluster Number\")\n",
        "  plt.ylabel(\"Score\")\n",
        "  plt.legend()"
      ]
    },
    {
      "cell_type": "code",
      "execution_count": null,
      "metadata": {
        "colab": {
          "base_uri": "https://localhost:8080/",
          "height": 542
        },
        "id": "OjxwzUQ6TTrj",
        "outputId": "dbea013e-b750-4d4d-971d-25993d2a28cf"
      },
      "outputs": [
        {
          "data": {
            "text/html": [
              "<html>\n",
              "<head><meta charset=\"utf-8\" /></head>\n",
              "<body>\n",
              "    <div>            <script src=\"https://cdnjs.cloudflare.com/ajax/libs/mathjax/2.7.5/MathJax.js?config=TeX-AMS-MML_SVG\"></script><script type=\"text/javascript\">if (window.MathJax) {MathJax.Hub.Config({SVG: {font: \"STIX-Web\"}});}</script>                <script type=\"text/javascript\">window.PlotlyConfig = {MathJaxConfig: 'local'};</script>\n",
              "        <script src=\"https://cdn.plot.ly/plotly-2.8.3.min.js\"></script>                <div id=\"99ba96a3-5309-407a-85dc-884e16117d23\" class=\"plotly-graph-div\" style=\"height:525px; width:100%;\"></div>            <script type=\"text/javascript\">                                    window.PLOTLYENV=window.PLOTLYENV || {};                                    if (document.getElementById(\"99ba96a3-5309-407a-85dc-884e16117d23\")) {                    Plotly.newPlot(                        \"99ba96a3-5309-407a-85dc-884e16117d23\",                        [{\"marker\":{\"color\":[1,1,0,1,1,1,0,0,0,0,1,1,1,0,0,0,0,0,1,1,0,0,0,0,0,1,0,0,0,0,0,0,1,1,0,0,1,1,0,0,0,0,1,0,1,0,1,0,0,1,1,1,1,0,0,1,0,1,1,1,0,0,1,1,1,0,0,0,0,0,0,0,1,0,1,1,1,0,0,0,0,1,1,0,0,0,0,0,1,0,1,0,0,0,0,0,1,0,0,0,0,0,0,1,1,1,0,0,1,1,0,0,1,0,1,1,0,0,1,0,1,1,0,0,0,0,0,1,0,0,1,0,1,1,1,0,0,1,1,0,0,0,0,1,0,0,1,1,0,0,0,1,1,1,0,1,1,0,1,0,0,1,0,0,1,0,0,1,0,1,0,0,0,0,0,0,1,0,0,0,1,1,0,1,0,0,0,1,1,0,0,1,0,0,0,0,1,0,0,1,0,1,1,1,0,0,0,1,0,1,0,1,0,0,1,0,1,0,1,0,1,1,0,1,1,0,0,1,0,0,1,0,1,1,0,0,0,1,0,1,0,0,1,1,0,1,0,0,0,1,1,1,0,1,0,1,0,1,0,1,1,0,0,1,0,0,0,1,1,0,0,1,1,0,0,0,1,0,0,0,1,0,0,0,1,1,1,0,1,1,0,0,0,0,0,0,1,1,0,0,1,0,0,0,1,0,1,1,1,1,0,1,0,0,1,1,1,0,1,0,0,1,1,1,0,1,1,0,0,0,0,0,0,1,0,1,1,0,1,0,1,1,1,0,0,0,0,1,1,0,0,0,1,0,0,0,1,1,0,0,0,1,0,1,1,0,1,0,0,0,0,0,0,0,0,0,0,1,1,0,0,0,0,1,1,0,1,0,0,0,1,0,0,1,0,0,1,0,0,0,0,0,1,1,0,0,0,0,1,0,0,0,0,0,0,1,0,0,0,0,0,1,0,1,0,1,0,0,1,1,0,0,0,0,0,1,0,0,1,1,0,0,1,1,0,0,0,0,0,0,1,0,1,1,0,0,0,1,0,1,1,0,0,0,0,0,0,1,0,0,0,0,0,0,0,0,0,1,0,1,1,0,0,1,0,0,0,0,0,0,1,1,0,1,1,1,0,0,0,0,0,0,1,0,1,1,0,0,0,0,1,1,1,0,0,0,1,1,1,0,1,1,1,0,1,0,1,0,0,0,0,1,0,1,0,1,0,0,0,1,0,0,0,1,0,1,0,0,1,0,1,0,1,0,0,1,1,1,0,0,0,0,0,0,1,1,0,1,0,0,0,0,0,0,1,0,0,0,0,0,1,1,1,1,1,1,1,1,1,1,1,0,0,0,0,0,1,0,0,0,0,0,1,1,1,1,1,0,1,1,0,1,1,0,0,1,0,0,0,0,0,1,0,0,0,1,0,0,0,1,1,0,0,1,0,0,1,0,0,0,1,0,0,0,0,0,0,1,0,1,0,0,0,1,0,0,0,0,0,1,0,1,0,0,0,0,0,1,1,0,0,0,0,0,1,0,0,1,1,0,0,0,0,1,0,1,0,1,0,0,0,1,0,1,0,0,1,1,1,1,0,0,0,0,1,1,1,1,1,0,0,0,0,1,0,1,1,0,0,0,0,1,0,0,1,0,1,0,0,0,0,0,0,0,0,0,0,0,0,0,0,0,1,0,1,0,1,0,0,1,0,0,1,1,1,1,0,0,1,1,0,1,0,1,0,0,1,1,1,0,0,1,1,0,1,1,1,0,0,0,0,1,1,1,0,0,0,1,0,1,0,1,1,1,1,0,0,0,0,0,1,1,1,1,0,0,0,0,0,1,0,1,0,0,0,0,1,0,0,0,0,1,0,0,1,0,0,0,0,0,0,0,0,1,1,1,0,1,1,1,0,0,1,0,0,1,1,1,0,1,1,0,1,1,0,0,0,1,0,1,0,1,0,0,1,1,0,1,1,0,1,0,1,1,0,0,0,0,1,1,0,1,1,0,1,0,0,0,0,0,1,1,1,1,1,1,0,1,1,0,0,1,0,0,0,0,1,0,1,0,1,0,0,0,1,1,1,1,0,1,0,0,0,1,0,0,0,0,0,1,1,0,1,0,0,1,0,0,0,0,0,1,1,0,1,1,0,0,0,0,0,1,1,1,0,1,0,0,0,1,1,0,1,1,0,1,1,1,0,0,0,0,1,0,1,1,0,0,1,0,1,0,0,1,0,1,0,0,0,0,0,1,0,0,0,0,0,1,0,0,1,1,1,0,0,0,0,1,0,1,0,1,0,0,0,0,1,0,0,0,0,1,0,0,0,0,0,0,0,0,1,1,0,1,1,0,0,1,0,1,0,0,0,0,1,1,0,1,0,1,1,0,0,0,0,0,0,1,1,0,0,0,0,0,0,1,0,1,0,1,0,0,0,0,0,0,0,1,0,1,1,1,0,1,1,1,0,0,0,1,1,1,1,0,0,0,0,0,1,0,0,1,0,0,1,0,1,1,0,0,1,0,0,1,0,0,1,0,1,0,0,1,0,0,1,0,1,1,0,1,0,1,0,0,0,0,1,0,1,1,0,0,0,0,0,1,1,0,0,1,0,0,1,1,0,1,1,1,1,0,1,0,1,0,0,0,0,1,0,0,0,0,1,1,1,0,0,1,1,0,0,0,0,0,0,1,0,1,1,1,0,1,0,0,1,0,0,1,0,0,0,1,0,0,1,0,0,1,0,1,0,0,0,0,1,0,1,1,1,0,0,0,0,1,1,0,1,0,0,0,0,1,0,0,1,0,1,0,0,0,0,0,1,1,0,0,1,0,0,0,1,1,0,0,0,0,1,0,0,1,0,0,1,1,0,1,0,0,0,0,0,0,0,0,1,1,0,0,0,1,1,0,1,0,1,0,0,1,0,0,1,0,0,0,0,0,0,1,0,0,0,0,1,1,0,1,1,0,1,1,0,0,0,1,1,1,1,0,0,0,0,0,0,0,0,1,0,0,0,0,0,1,0,0,0,1,1,0,1,0,0,0,0,0,0,0,0,1,1,0,1,0,0,0,1,0,1,0,0,1,1,0,0,1,0,1,1,1,0,0,1,0,0,1,0,0,1,1,0,0,0,0,0,0,1,1,1,1,0,1,0,0,1,1,0,0,0,1,1,1,1,1,0,1,0,1,0,0,1,0,0,1,0,0,0,1,1,0,0,0,0,0,0,0,1,0,1,0,0,0,0,0,0,0,0,0,0,1,1,1,1,0,0,1,1,0,0,1,1,0,0,0,1,1,0,0,0,1,0,0,0,0,0,1,0,0,0,0,0,1,0,0,1,0,0,0,1,1,1,0,0,0,1,1,0,0,0,0,0,0,1,0,0,1,1,1,0,1,1,0,0,0,1,0,1,0,0,1,1,0,0,0,1,1,0,1,1,0,0,1,1,1,0,0,0,0,0,1,1,0,0,0,1,1,1,1,1,1,0,1,0,0,0,1,0,1,0,1,1,1,1,0,1,0,0,0,1,0,0,0,1,0,0,0,0,0,0,1,0,1,0,1,0,1,1,1,1,0,0,1,0,1,1,0,1,0,1,1,0,1,0,1,0,0,0,0,0,0,0,0,0,0,1,1,1,1,1,0,0,0,0,1,1,0,1,0,0,0,1,1,0,1,1,0,0,1,1,1,0,1,0,0,1,1,1,0,0,0,0,1,1,0,0,0,0,1,1,0,0,0,0,1,0,1,0,1,1,0,1,1,0,0,1,1,0,0,0,0,0,0,1,1,0,1,1,0,0,0,1,0,0,0,0,0,0,1,1,1,1,0,0,0,0,0,0,1,0,1,1,0,0,0,0,0,0,1,0,0,0,0,0,0,1,0,0,1,1,0,0,1,0,0,1,0,1,1,0,1,0,1,0,0,0,0,0,1,1,0,0,0,1,0,0,0,1,1,1,0,0,0,0,0,0,0,0,1,1,0,1,1,0,0,1,0,0,1,1,0,1,1,1,0,1,0,1,0,0,0,0,0,1,0,1,1,0,1,0,1,0,0,0,0,0,1,0,1,1,1,1,1,0,0,1,0,0,1,1,0,0,1,1,0,0,0,0,1,1,0,0,1,1,0,0,0,1,0,0,0,1,0,1,1,0,1,1,1,1,0,1,1,0,1,1,1,0,1,1,0,0,0,0,0,1,0,0,0,0,0,0,1,1,0,1,1,1,1,1,1,0,1,0,0,0,0,0,0,0,1,1,0,0,0,0,1,1,0,1,0,0,0,0,0,0,0,1,1,0,0,0,0,1,1,1,0,0,0,1,1,1,0,1,1,0,0,0,1,1,1,0,0,1,0,0,1,1,0,1,0,0,0,0,1,0,0,0,0,0,0,1,0,0,0,0,0,0,1,0,0,1,1,1,0,0,0,0,0,0,0,0,0,0,0,0,0,0,1,1,1,0,1,0,1,0,0,0,0,0,0,1,1,0,0,0,1,1,0,0,0,0,1,0,0,0,1,0,0,0,1,0,0,0,0,1,0,0,0,1,0,0,0,0,1,0,0,0,0,1,0,0,0,0,0,0,1,0,0,1,1,1,0,1,0,1,0,0,0,1,0,1,1,0,0,0,0,0,0,1,1,1,0,1,1,1,1,0,0,0,0,0,0,0,0,0,1,0,0,0,1,1,1,0,0,0,1,0,0,0,0,0,0,1,1,0,0,0,0,0,0,0,0,1,0,1,0,1,1,0,1,0,0,1,0,1,1,1,0,0,1,0,0,1,0,1,1,0,1,1,1,0,0,0,0,1,0,0,1,1,0,0,0,0,0,0,1,0,1,0,0,0,0,1,1,0,1,1,1,1,1,0,0,0,0,1,0,0,0,0,0,1,1,0,0,0,1,0,1,0,0,1,0,1,0,0,0,1,1,1,1,0,0,0,0,0,0,0,0,0,0,0,1,0,1,0,0,0,1,1,0,1,1,1,0,0,0,0,0,0,0,0,1,1,0,1,1,0,0,1,0,0,0,0,1,0,1,1,0,1,1,0,1,0,1,0,0,0,0,0,1,0,1,0,0,0,0,1,1,1,1,1,0,0,0,0,1,1,1,0,0,1,0,0,0,0,1,0,1,0,0,1,1,0,0,0,0,0,0,0,1,0,0,0,1,1,1,0,0,0,1,0,0,0,1,0,0,1,0,0,0,0,0,1,1,1,1,0,0,0,0,0,0,0,1,1,0,0,0,1,0,1,0,0,1,0,1,0,0,0,1,0,0,0,1,1,0,1,1,0,1,1,0,0,0,0,1,0,0,1,1,0,1,0,1,1,0,1,0,0,0,0,0,0,0,1,0,0,1,1,0,0,1,0,1,0,0,0,0,0,0,0,0,0,0,1,0,0,1,0,0,0,1,0,0,0,1,1,1,0,1,1,1,0,1,0,1,0,1,1,0,0,0,1,0,1,1,0,0,0,1,0,0,0,0,0,1,0,0,0,0,0,0,1,0,1,0,0,0,1,0,0,0,0,1,0,1,1,1,1,0,0,1,0,1,1,0,0,0,0,0,1,0,0,0,0,1,1,1,0,0,0,1,1,0,0,0,0,0,0,1,1,0,1,0,0,0,1,0,1,1,1,0,0,1,1,0,0,0,0,0,1,0,1,0,0,0,1,0,0,0,1,1,0,0,0,0,0,0,1,0,0,0,0,0,0,1,0,0,1,0,1,1,1,0,0,0,1,1,0,0,1,1,0,0,1,1,0,0,0,0,0,1,1,1,0,0,1,1,1,1,0,1,0,1,0,0,0,1,0,0,1,1,0,0,1,1,0,0,0,1,0,0,1,1,0,1,0,1,0,1,0,0,1,0,0,0,0,0,0,0,1,0,0,1,0,0,0,0,0,0,0,0,0,1,0,1,0,0,0,0,0,1,1,1,0,1,0,0,0,0,0,0,0,0,0,0,1,1,0,0,0,0,1,1,0,0,0,0,0,1,0,1,0,0,0,0,1,1,1,0,0,1,0,1,0,0,1,1,0,0,1,0,0,0,0,0,0,0,0,1,0,0,1,0,1,0,1,0,0,0,0,0,0,0,1,1,0,0,0,0,0,0,0,0,1,0,0,0,1,0,1,1,0,0,1,0,1,0,0,0,0,0,1,0,0,0,0,0,0,1,1,0,1,0,0,1,0,0,1,1,0,0,0,0,1,0,0,0,0,1,1,0,0,0,1,0,0,1,0,0,0,0,0,0,0,1,0,0,1,0,0,1,0,0,1,0,1,0,0,0,0,0,0,0,1,0,0,0,0,1,1,0,1,0,0,0,1,0,1,0,1,0,0,0,1,1,1,1,0,0,1,0,0,1,0,0,1,0,0,1,0,0,1,1,0,0,1,0,0,0,0,0,1,0,1,0,1,1,1,1,0,1,0,0,0,1,0,0,0,0,0,0,0,1,0,0,0,0,0,1,0,1,0,1,1,0,1,1,1,0,1,0,0,0,0,0,1,1,1,1,1,0,1,1,1,1,1,1,1,1,0,0,0,0,1,0,0,1,1,1,1,1,0,1,1,0,0,0,1,1,0,0,0,0,1,1,1,0,0,0,1,0,0,0,0,0,1,1,0,1,1,1,0,0,0,0,0,1,0,0,0,0,1,0,0,0,1,0,1,0,1,0,0,1,1,0,1,1,1,0,0,0,0,0,1,0,1,0,1,1,1,0,0,0,0,0,0,1,1,1,0,0,0,0,0,1,0,0,0,1,1,0,1,1,1,0,1,0,0,0,0,0,0,0,1,1,0,0,0,0,1,0,0,1,0,0,1,1,1,1,1,1,0,1,0,0,0,0,1,1,0,0,0,0,0,0,0,0,0,0,0,1,1,1,0,0,1,1,0,1,0,0,0,0,1,1,1,1,0,0,1,0,0,1,1,0,1,0,0,0,0,0,0,1,1,0,1,0,1,0,0,0,0,1,0,1,1,1,0,0,1,0,1,1,1,0,0,0,0,0,1,0,0,0,0,1,0,1,0,1,0,0,1,0,1,0,0,0,0,0,0,0,1,0,0,0,1,0,0,1,0,1,1,1,1,0,1,0,0,0,1,0,1,0,0,1,0,0,0,0,1,0,1,0,0,0,1,1,1,1,0,0,0,0,1,0,0,1,0,0,0,0,0,0,1,1,0,0,0,0,0,0,1,0,1,0,0,0,1,0,0,0,1,1,1,1,0,0,0,1,0,1,0,0,0,0,1,0,0,0,0,0,0,0,0,0,0,0,0,0,1,0,0,1,0,1,0,0,1,1,0,0,0,1,0,0,0,0,0,0,1,0,0,1,0,0,1,0,0,0,0,0,0,0,0,0,1,1,0,0,1,1,0,0,1,1,1,1,0,1,0,0,1,1,1,0,0,0,0,0,0,1,0,1,1,1,1,1,0,0,0,0,0,0,0,0,0,0,1,1,0,0,1,0,1,0,0,0,1,1,0,0,1,0,0,0,0,0,1,1,0,1,0,0,1,0,0,0,0,0,0,0,0,1,0,1,0,0,1,1,0,0,0,0,1,0,1,0,1,0,0,0,0,0,1,1,0,1,0,1,1,0,0,0,1,1,1,1,1,0,0,1,1,1,0,1,0,0,0,1,1,1,1,0,1,1,0,0,0,1,0,0,1,0,0,0,1,0,1,0,1,0,0,0,0,0,1,1,1,1,0,1,1,0,0,0,1,0,0,0,0,0,0,1,1,1,0,0,1,0,0,0,0,1,0,0,0,0,0,0,0,0,0,0,1,0,1,0,0,1,1,0,0,1,1,0,0,1,1,1,1,0,1,0,0,0,1,0,0,1,1,0,0,0,0,1,0,0,0,1,0,0,0,0,0,0,0,1,1,0,1,0,1,1,1,0,0,1,0,0,0,1,1,0,0,0,0,1,1,0,0,0,0,0,0,0,0,1,0,1,1,0,0,0,0,0,0,1,0,0,0,0,1,1,0,1,1,0,0,0,0,0,0,1,1,1,1,1,0,0,0,1,1,0,0,0,1,0,1,0,0,1,0,0,0,0,1,1,0,0,1,0,1,0,0,1,1,0,0,0,1,0,0,0,1,0,1,0,1,0,0,1,0,1,0,0,0,0,0,0,0,0,1,1,0,0,0,0,0,0,0,0,0,1,0,1,0,0,0,0,0,1,1,1,0,0,0,0,0,0,0,0,0,1,0,0,0,0,0,1,1,0,0,0,0,0,1,0,1,1,1,1,0,1,0,1,0,0,0,0,0,1,1,0,1,1,0,0,1,0,0,0,0,0,0,0,1,0,1,1,1,0,1,0,0,1,1,0,1,0,0,0,0,1,0,1,0,0,1,0,1,0,1,0,1,0,0,0,0,1,0,1,0,1,0,1,1,1,0,0,0,1,0,0,0,0,0,1,0,1,0,1,0,0,0,0,1,0,1,1,1,1,0,0,1,1,0,1,0,0,0,0,0,0,0,0,1,1,1,0,0,1,0,1,1,1,0,0,1,1,1,0,0,0,1,0,0,0,0,1,1,1,0,0,0,1,1,0,1,1,0,0,0,1,0,1,0,0,0,0,1,0,0,0,0,0,0,0,0,0,1,0,1,0,0,1,0,1,0,0,1,0,1,0,0,0,0,1,0,0,0,0,0,0,0,0,0,0,0,0,0,0,0,0,0,0,0,0,0,0,0,0,1,0,0,0,0,0,0,0,0,0,0,0,0,1,0,1,0,1,0,1,1,0,0,0,0,0,0,0,0,0,0,0,0,0,0,1,0,0,0,0,0,0,0,0,0,0,0,0,1,0,0,0,0,0,0,1,1,1,0,0,0,0,0,0,0,0,1,0,0,0,0,0,0,0,0,0,0,0,0,0,0,0,0,0,0,0,0,1,1,1,0,1,0,0,0,0,0,0,0,0,1,0,0,0,0,0,0,0,0,0,0,0,0,0,0,0,0,0,0,1,0,0,1,1,1,1,1,0,0,0,0,0,0,1,0,0,1,0,0,1,1,1,0,0,0,1,0,0,0,0,1,0,0,0,0,0,0,0,0,1,0,0,0,0,0,0,0,0,0,0,0,1,0,1,0,0,0,0,0,1,1,0,1,0,1,0,0,0,1,0,0,0,1,0,0,0,0,0,0,0,1,0,0,1,1,0,0,1,0,1,1,0,0,0,0,0,1,1,0,0,0,0,0,1,0,0,0,0,1,0,0,0,0,0,0,0,0,1,1,1,0,1,0,0,0,0,0,0,0,1,0,0,0,0,0,1,0,0,0,1,0,0,1,0,0,0,0,1,0,1,0,0,0,0,0,0,0,1,0,0,0,0,0,1,0,0,0,0,0,0,0,1,0,1,0,0,1,1,0,1,0,1,1,0,0,0,1,1,0,0,0,0,0,0,1,1,1,0,1,0,0,0,0,1,0,1,0,0,0,0,0,1,0,0,1,1,0,1,0,0,0,0,1,0,0,0,0,1,0,1,1,0,0,0,1,1,0,0,0,0,0,1,1,0,0,0,0,0,0,0,0,0,0,1,1,1,0,0,0,0,0,0,0,0,0,0,0,0,1,0,0,0,1,0,0,0,1,0,0,0,1,0,0,1,0,0,1,0,1,1,0,0,0,1,0,0,0,0,0,0,0,1,0,0,0,0,1,1,0,0,0,1,0,0,0,1,0,1,0,1,0,0,1,0,1,0,0,0,0,0,0,1,0,0,0,0,0,1,0,0,0,1,0,0,0,0,0,0,0,0,0,0,0,0,1,1,0,1,1,0,1,0,0,0,0,1,0,1,0,0,0,0,0,0,0,1,1,0,1,0,0,1,1,0,1,0,0,0,0,0,0,0,0,0,1,0,1,1,1,0,0,1,0,1,0,0,1,0,0,0,0,1,1,1,0,0,1,0,0,1,0,0,1,0,0,1,0,0,0,1,0,0,0,0,0,0,0,0,0,1,0,0,0,1,0,1,0,0,0,1,0,0,0,0,0,1,0,0,0,0,0,0,0,0,0,1,0,1,1,1,1,0,1,0,1,0,0,0,1,0,0,0,0,0,0,1,0,0,1,0,0,0,1,1,0,0,0,0,0,1,0,1,1,0,1,0,0,1,0,0,0,0,0,0,1,1,0,0,1,0,0,0,0,0,0,0,1,1,0,1],\"line\":{\"width\":0.1}},\"mode\":\"markers\",\"name\":\"LSTM Encoder\",\"x\":[-1.8568533658981323,-1.6859952211380005,0.8033483028411865,-1.960237979888916,-1.8334534168243408,-1.9960670471191406,0.8567342758178711,1.413985013961792,1.156785488128662,0.7739031910896301,-1.8121726512908936,-1.9475538730621338,-1.805139183998108,1.0074542760849,1.3612452745437622,0.6669291257858276,0.48932531476020813,0.9054839015007019,-1.4438115358352661,-1.704272985458374,0.7716639041900635,1.1016449928283691,1.4894804954528809,0.8713246583938599,0.9653656482696533,-1.6495800018310547,1.5791248083114624,1.2764052152633667,0.9094147086143494,1.1198489665985107,0.7719205617904663,2.041837215423584,-1.6923842430114746,-1.7300564050674438,1.5965925455093384,0.8340476155281067,-1.9708555936813354,-1.6743862628936768,1.436867117881775,0.6261264681816101,1.1091084480285645,2.0068776607513428,-1.756226658821106,0.7926222681999207,-1.4356329441070557,1.00409734249115,-1.7394287586212158,1.209804654121399,1.0978251695632935,-2.132542610168457,-1.8137043714523315,-1.799938678741455,-1.7604525089263916,0.7813246846199036,0.7517935633659363,-1.6355775594711304,0.7316324710845947,-2.0211312770843506,-1.8105899095535278,-2.0282387733459473,0.6161933541297913,0.9735496640205383,-1.3617364168167114,-1.9590981006622314,-1.698885202407837,1.0858912467956543,1.0724633932113647,1.8257920742034912,1.069318413734436,1.324346899986267,0.9309663772583008,1.1620432138442993,-1.6748088598251343,1.2607970237731934,-1.752841591835022,-1.754571795463562,-2.0560460090637207,0.8232452869415283,1.0185413360595703,1.1050879955291748,0.7743626236915588,-1.9272675514221191,-1.7520127296447754,0.6505138874053955,1.223642349243164,0.8336701393127441,0.9714449048042297,0.9565553069114685,-1.0486809015274048,0.9936639666557312,-1.7542541027069092,1.1337615251541138,1.5421534776687622,1.1818020343780518,1.287872076034546,1.0283939838409424,-1.5640031099319458,0.67286616563797,1.2059509754180908,1.5024158954620361,1.2778115272521973,0.8243375420570374,0.9742415547370911,-1.9676553010940552,-2.005280017852783,-1.8733751773834229,1.6240116357803345,0.781670868396759,-1.8566627502441406,-1.9140125513076782,0.9283391237258911,1.1419014930725098,-2.127751111984253,0.5467094779014587,-1.7671983242034912,-2.00372314453125,0.7577619552612305,1.23517906665802,-1.7414573431015015,1.607998251914978,-1.9867823123931885,-1.8335400819778442,1.2037824392318726,0.8851949572563171,0.7518882751464844,0.5624420642852783,1.1170200109481812,-1.8840137720108032,1.1126518249511719,0.49111413955688477,-1.798944115638733,0.5658277869224548,-1.936410903930664,-1.7743213176727295,-1.7039008140563965,0.5978240966796875,1.1283400058746338,-1.9128403663635254,-2.0031869411468506,0.7320538759231567,1.2280528545379639,1.3532626628875732,1.2356127500534058,-1.660362958908081,1.3160518407821655,1.3351945877075195,-1.7420916557312012,-1.745894193649292,0.7413936257362366,0.682124137878418,1.418339490890503,-2.0850980281829834,-1.8926793336868286,-1.8965445756912231,0.6148005127906799,-2.1772875785827637,-1.746592402458191,0.7187305092811584,-1.795040488243103,1.1602263450622559,0.6155417561531067,-1.7071688175201416,0.8145943284034729,0.8426273465156555,-2.039829730987549,0.780685305595398,0.519611120223999,-1.874078392982483,0.8173222541809082,-1.3300114870071411,1.2329193353652954,0.4345628023147583,0.7301278114318848,0.5763105154037476,0.8622426986694336,1.622685432434082,-1.8521682024002075,1.0574325323104858,0.772578239440918,1.071921944618225,-1.8210965394973755,-1.894089937210083,0.7346212267875671,-1.8332209587097168,0.8440443873405457,1.899848222732544,0.8256930708885193,-2.021195411682129,-2.0279910564422607,1.2478270530700684,0.7655909657478333,-1.9124290943145752,0.7033395171165466,1.488507628440857,1.5195298194885254,1.0108250379562378,-1.9748111963272095,0.8762531876564026,0.6524519920349121,-1.2096599340438843,0.8221436142921448,-1.7532376050949097,-1.8403736352920532,-1.9188207387924194,1.0678924322128296,1.0551176071166992,0.9121140241622925,-1.677337884902954,0.6756947636604309,-1.4498847723007202,1.0587369203567505,-1.775153398513794,1.6755396127700806,0.627364993095398,-1.6272107362747192,1.2485768795013428,-1.7261706590652466,0.612622857093811,-1.7092821598052979,0.5428375005722046,-1.7587088346481323,-2.0097873210906982,0.46961161494255066,-1.9107626676559448,-1.8794708251953125,1.5370687246322632,0.8006816506385803,-2.0652503967285156,1.1456589698791504,1.3081281185150146,-1.4644919633865356,1.1133451461791992,-1.756991982460022,-1.6369001865386963,0.9340323209762573,0.8555260896682739,1.0175108909606934,-2.0830864906311035,1.0560382604599,-1.864107608795166,0.7906926274299622,1.0329959392547607,-1.742303490638733,-2.0363690853118896,1.3000669479370117,-1.7762370109558105,0.3787840008735657,0.8283509016036987,1.1011064052581787,-1.8531960248947144,-1.4051731824874878,-1.8530941009521484,0.9325764775276184,-2.0584163665771484,1.2203699350357056,-2.160078287124634,0.9987373352050781,-1.4060992002487183,1.1787458658218384,-1.9265172481536865,-1.89103102684021,1.2107133865356445,0.9174102544784546,-1.7476006746292114,1.2631123065948486,1.0056874752044678,0.7849353551864624,-1.8264775276184082,-1.924680471420288,0.771902322769165,1.3794251680374146,-1.8168838024139404,-2.029923677444458,1.5444904565811157,1.203676700592041,0.7997076511383057,-1.8950895071029663,0.7519082427024841,0.7675986289978027,0.5962758660316467,-1.9519293308258057,1.1201435327529907,0.6812302470207214,0.6825380325317383,-1.1926138401031494,-1.9999666213989258,-1.7509372234344482,0.8404237031936646,-2.041919708251953,-2.0156335830688477,1.6190310716629028,0.72331702709198,0.6230257749557495,0.7140974998474121,0.8630847930908203,0.9908728003501892,-2.0130257606506348,-1.9827561378479004,0.513461709022522,0.9230929613113403,-1.846994400024414,1.4859142303466797,1.0285165309906006,0.858802318572998,-1.820577621459961,1.3525980710983276,-1.7290302515029907,-2.075678586959839,-1.7654211521148682,-2.1294000148773193,1.0669409036636353,-1.8222423791885376,0.7285791039466858,0.6975204348564148,-1.7594937086105347,-2.031589984893799,-2.0898430347442627,1.3338607549667358,-2.0507354736328125,1.0090750455856323,0.9353547096252441,-1.8655085563659668,-2.159823179244995,-1.9645992517471313,0.8003636598587036,-1.8915280103683472,-1.7268271446228027,0.9010859727859497,1.0147392749786377,0.7884933948516846,1.152429461479187,0.99632728099823,0.91733318567276,-1.9939426183700562,1.0680333375930786,-1.7672260999679565,-2.240220546722412,1.030390739440918,-1.871101975440979,1.0675501823425293,-2.019087553024292,-2.0143446922302246,-1.995233416557312,1.069738745689392,1.5988596677780151,1.0687391757965088,1.0495851039886475,-2.0976717472076416,-1.5521653890609741,0.7677090167999268,0.8521627187728882,1.0934150218963623,-2.04055118560791,1.0613657236099243,0.975151777267456,0.923583984375,-1.608769416809082,-1.7265182733535767,1.0203920602798462,1.0714921951293945,1.1479697227478027,-1.9057499170303345,1.1663706302642822,-2.0658507347106934,-1.8807015419006348,0.62781822681427,-2.2002475261688232,0.7035952806472778,0.6156644225120544,0.9535015225410461,1.4492131471633911,1.1720126867294312,1.5158027410507202,1.2187442779541016,1.5272259712219238,0.803714394569397,1.1062346696853638,-1.749892234802246,-1.7340656518936157,1.0408629179000854,1.0961098670959473,0.7901114821434021,0.7472759485244751,-1.1493675708770752,-1.7324392795562744,0.7640079855918884,-2.080306053161621,0.7992469072341919,2.0415122509002686,0.9878774285316467,-1.7797542810440063,1.585318684577942,1.0999337434768677,-1.7610995769500732,0.8788837790489197,0.9565991163253784,-1.9003688097000122,0.6576003432273865,0.9715537428855896,1.3474990129470825,1.0962129831314087,0.6774396896362305,-1.1613819599151611,-1.585555911064148,0.730339765548706,1.3643935918807983,1.18690025806427,0.8532861471176147,-2.216836452484131,1.106013298034668,0.6076125502586365,0.951557457447052,1.3050074577331543,1.1240732669830322,1.0207051038742065,-1.9715651273727417,1.3315259218215942,1.5108306407928467,0.483429878950119,1.050415277481079,0.807666540145874,-1.6354485750198364,0.631072998046875,-2.060971736907959,1.0275319814682007,-1.8176159858703613,1.1823447942733765,0.999294638633728,-1.981719732284546,-1.7211791276931763,0.6358392238616943,1.264122486114502,0.6066437363624573,1.1565115451812744,0.9698379635810852,-1.0974394083023071,0.8698761463165283,0.3442782759666443,-2.0478734970092773,-2.0650477409362793,1.3225687742233276,1.1226780414581299,-1.7303149700164795,-1.536118507385254,0.527019202709198,1.3331077098846436,1.0689141750335693,0.8527280688285828,1.0126765966415405,1.1776950359344482,-2.078315258026123,0.8464531898498535,-1.9359885454177856,-1.7228301763534546,0.5140754580497742,1.2162367105484009,1.2279072999954224,-2.029573440551758,0.6643227338790894,-2.17586350440979,-1.7261954545974731,1.0940978527069092,1.6641900539398193,1.4753786325454712,1.098480463027954,0.5238902568817139,2.3502092361450195,-1.7577564716339111,1.0902310609817505,1.1226530075073242,1.3421850204467773,1.5221915245056152,1.4246965646743774,0.988794207572937,0.567183256149292,1.1208491325378418,0.82923823595047,-1.9135124683380127,1.032678246498108,-1.985733985900879,-1.8819116353988647,1.414473533630371,0.9576700329780579,-1.9301862716674805,0.6276422739028931,1.5450748205184937,0.7923529148101807,0.7496835589408875,0.6928628087043762,0.9811462759971619,-1.832801103591919,-1.8359051942825317,0.8445218205451965,-1.9867759943008423,-1.9445260763168335,-2.0098884105682373,1.0179942846298218,0.8318253755569458,1.2739135026931763,1.2034201622009277,0.9102644324302673,0.8900743722915649,-1.9160974025726318,0.8312143683433533,-1.4002629518508911,-2.1222801208496094,0.8860571384429932,1.324926733970642,0.8029096722602844,1.537466287612915,-2.0473086833953857,-2.1184206008911133,-1.8543360233306885,1.0367422103881836,1.483496069908142,2.118138551712036,-1.8686039447784424,-1.7493990659713745,-1.6891628503799438,1.1200017929077148,-1.897096037864685,-1.9177554845809937,-1.8741741180419922,1.2367255687713623,-1.9261680841445923,1.2042877674102783,-1.6761714220046997,1.7017089128494263,1.1830346584320068,1.664067029953003,0.6774704456329346,-1.76285982131958,1.209678292274475,-1.7045485973358154,1.2698603868484497,-2.108623504638672,1.3240725994110107,1.418413519859314,0.6523222327232361,-2.1035070419311523,0.7044686079025269,1.105655550956726,0.8879085183143616,-1.8226549625396729,1.0546542406082153,-2.083696126937866,1.0536390542984009,0.7857597470283508,-1.59442138671875,1.3032325506210327,-1.9224470853805542,1.0372053384780884,-2.1541757583618164,0.722644567489624,1.2836031913757324,-2.1947784423828125,-1.785754680633545,-1.7168700695037842,0.5241646766662598,1.1210952997207642,0.5613363981246948,1.5036882162094116,0.6493315100669861,0.8208969831466675,-1.753319263458252,-1.8904389142990112,0.7870900630950928,-1.7316112518310547,0.8459227681159973,1.0926399230957031,0.814969003200531,0.9221482276916504,0.8657414317131042,0.6777816414833069,-1.7332218885421753,1.253370761871338,1.3089462518692017,1.1188230514526367,0.8420167565345764,0.6174507141113281,-1.7586116790771484,-1.9040619134902954,-2.0085062980651855,-1.7992069721221924,-1.7840023040771484,-1.7737464904785156,-1.6773722171783447,-1.983073115348816,-1.8301764726638794,-1.8655579090118408,-2.1715476512908936,0.7788180112838745,1.1121909618377686,0.5662710666656494,0.8102020025253296,0.7179005742073059,-1.5896568298339844,0.9246332049369812,1.0318700075149536,1.4551459550857544,1.3186064958572388,1.2838293313980103,-1.798771858215332,-1.7383520603179932,-2.019845724105835,-1.99565589427948,-1.830946922302246,1.2072818279266357,-1.9320669174194336,-1.863757848739624,1.4332143068313599,-1.814605951309204,-1.9885751008987427,0.7584438323974609,0.6521598100662231,-1.8569260835647583,0.6959415674209595,1.0679495334625244,0.7347776889801025,1.1940641403198242,0.8871504664421082,-1.9688438177108765,1.301134705543518,0.8638677000999451,0.7516904473304749,-2.0428695678710938,1.4767701625823975,0.8701633810997009,1.50846266746521,-1.9787219762802124,-2.1462972164154053,1.1959729194641113,1.7646739482879639,-1.7693613767623901,1.4300975799560547,1.2208691835403442,-1.7391302585601807,0.6792514324188232,0.5145736336708069,0.6805002093315125,-1.7412482500076294,1.3051201105117798,1.2682909965515137,0.6578972339630127,1.097901463508606,0.6825984120368958,0.7628530263900757,-1.8228673934936523,1.2675498723983765,-1.9999828338623047,0.7865803241729736,1.5212221145629883,1.1787359714508057,-1.81980562210083,1.02176833152771,1.0760306119918823,1.178500771522522,1.207358717918396,1.1877553462982178,-1.9740815162658691,0.9162617921829224,-1.9623630046844482,1.1386865377426147,0.8861629962921143,0.9219477772712708,1.5519936084747314,1.204854130744934,-1.8355233669281006,-1.8686554431915283,1.3846733570098877,0.7800002098083496,0.866943359375,0.4144860804080963,0.7845146059989929,-1.8416950702667236,1.3095303773880005,0.7574005126953125,-1.9403209686279297,-1.8493151664733887,0.9687708616256714,1.0420095920562744,1.092705249786377,0.9621952176094055,-1.815031886100769,1.4729677438735962,-1.6534678936004639,0.8446395993232727,-1.8273783922195435,1.4764525890350342,0.4846935272216797,1.2898420095443726,-2.0320963859558105,1.4784740209579468,-1.8458912372589111,1.0385260581970215,0.8709889054298401,-1.823350429534912,-1.9208815097808838,-1.776610255241394,-1.9560368061065674,1.3581647872924805,1.123641848564148,0.665010392665863,1.0406627655029297,-1.9830822944641113,-1.832950234413147,-1.9431949853897095,-1.7396560907363892,-1.8020179271697998,1.766057014465332,1.1622759103775024,0.8703543543815613,1.064692497253418,-1.7979936599731445,0.823887825012207,-1.8803428411483765,-1.9470301866531372,0.654360830783844,0.5189533829689026,2.040513753890991,0.48020505905151367,-2.132486581802368,0.6373496651649475,0.49945321679115295,-1.7240216732025146,1.2881325483322144,-1.8251404762268066,0.8067887425422668,0.9537885189056396,0.7623607516288757,0.9248483180999756,0.8057090044021606,0.8934332728385925,0.8589785099029541,1.006221055984497,1.5163499116897583,0.7305468916893005,1.1353511810302734,0.5449728965759277,0.504589319229126,0.9443867206573486,1.0414067506790161,-1.7871721982955933,0.7573016881942749,-2.0911471843719482,1.2455369234085083,-2.084900140762329,1.0019177198410034,1.7358038425445557,-1.8606816530227661,1.2972854375839233,1.5353065729141235,-1.8918535709381104,-2.1773760318756104,-1.558602213859558,-1.8438822031021118,1.4781856536865234,0.6584110260009766,-1.6888896226882935,-2.107870101928711,0.4086260497570038,-1.8704674243927002,0.8354918360710144,-2.1151602268218994,0.9376464486122131,1.0484505891799927,-1.5577092170715332,-1.8471319675445557,-1.4697036743164062,1.8027957677841187,1.091385006904602,-1.7351372241973877,-1.7916557788848877,0.9112907648086548,-1.6153746843338013,-1.7619750499725342,-1.7918437719345093,1.5078389644622803,0.6735520958900452,1.093141794204712,1.1398531198501587,-1.7552162408828735,-1.851847529411316,-2.164407730102539,1.0939298868179321,1.2281808853149414,1.1787967681884766,-1.7764222621917725,1.0045661926269531,-1.7962100505828857,1.3014546632766724,-1.995951533317566,-1.739751935005188,-1.7796252965927124,-1.7283042669296265,0.8689497709274292,0.7547177672386169,0.5344323515892029,1.0372525453567505,0.8496796488761902,-1.959710955619812,-1.726810336112976,-2.046506643295288,-1.7170376777648926,0.5800224542617798,0.799120306968689,0.9398106932640076,1.1537235975265503,0.8857979774475098,-1.7603487968444824,1.100400686264038,-1.8861587047576904,1.064145803451538,1.3534284830093384,1.313961148262024,1.1050841808319092,-1.882101058959961,0.9221468567848206,0.7785063982009888,1.368614912033081,1.6269583702087402,-1.4313651323318481,1.2271655797958374,1.0642426013946533,-2.1213762760162354,0.9654556512832642,0.6524441242218018,0.8194878101348877,0.49037182331085205,1.4450069665908813,1.1040805578231812,0.9263380169868469,0.9432159066200256,-1.908801555633545,-2.1432292461395264,-1.9938627481460571,1.2029058933258057,-2.0200936794281006,-1.8820605278015137,-2.0280492305755615,1.5525002479553223,1.424248456954956,-1.8639018535614014,1.3781845569610596,1.0550017356872559,-1.840119481086731,-1.8512916564941406,-2.0495400428771973,1.4369080066680908,-2.045203447341919,-1.859904170036316,0.7310906052589417,-1.7828731536865234,-1.9015284776687622,1.2467988729476929,1.4795832633972168,1.2002664804458618,-1.6035524606704712,1.4646170139312744,-2.0098941326141357,1.090226411819458,-1.7736791372299194,0.9502348899841309,0.9563223123550415,-1.815902590751648,-1.7000818252563477,1.1050770282745361,-1.9211459159851074,-2.1466598510742188,0.95364910364151,-1.7808609008789062,1.0828899145126343,-1.744627594947815,-1.901430606842041,1.0516862869262695,1.1156115531921387,0.8668724894523621,0.9033606052398682,-1.8821427822113037,-2.0729455947875977,1.069311261177063,-2.0151662826538086,-1.9493117332458496,1.2093011140823364,-1.8055202960968018,0.8888046741485596,1.1617096662521362,1.5516966581344604,0.9435334801673889,1.2973127365112305,-1.9243084192276,-1.9955706596374512,-1.8172558546066284,-1.7852774858474731,-1.9849838018417358,-1.8501750230789185,0.682403564453125,-1.937621831893921,-2.0359694957733154,1.3835681676864624,1.4478167295455933,-1.8587733507156372,1.4992613792419434,0.8492143154144287,0.7800391912460327,1.6421005725860596,-1.7816048860549927,2.1205456256866455,-1.8832694292068481,0.7467315196990967,-2.0605273246765137,1.0774052143096924,0.9898735284805298,1.00416100025177,-1.9834258556365967,-1.8314532041549683,-1.9187068939208984,-1.6262998580932617,0.7630561590194702,-1.6862095594406128,0.9177360534667969,1.0117464065551758,1.7821208238601685,-1.8626346588134766,0.7599774599075317,1.1610479354858398,1.0687179565429688,0.8675193786621094,1.0709255933761597,-1.87227463722229,-1.886816382408142,0.703000545501709,-2.0260050296783447,1.1375877857208252,1.2651915550231934,-2.122134208679199,0.9379832744598389,0.8797146677970886,1.3858890533447266,1.1089699268341064,1.035029411315918,-1.9793355464935303,-1.952505350112915,0.8843585848808289,-1.901767373085022,-1.8189693689346313,1.17777681350708,0.8381019830703735,1.3291670083999634,0.7903009057044983,1.0554395914077759,-1.9458924531936646,-1.8215022087097168,-2.1321771144866943,1.8029369115829468,-1.6485193967819214,1.082886815071106,0.8971757888793945,0.8798559904098511,-2.122328281402588,-2.065809726715088,1.0991586446762085,-1.6887669563293457,-1.8209539651870728,0.8343368768692017,-2.15612530708313,-1.351141333580017,-2.0612525939941406,1.0755467414855957,0.9609445929527283,1.4449410438537598,1.5599833726882935,-1.51754629611969,1.2324833869934082,-1.966184139251709,-2.1038575172424316,0.986906886100769,1.0893936157226562,-1.7882574796676636,0.7330132126808167,-1.783611536026001,0.5026384592056274,0.9697685241699219,-2.084730863571167,0.860935628414154,-1.222559928894043,0.5187227129936218,0.9428734183311462,0.8895191550254822,0.9906290769577026,0.7157934904098511,-2.0074193477630615,1.77032470703125,0.8400243520736694,0.9816715121269226,0.7344216108322144,0.9780941605567932,-1.7485936880111694,1.2367842197418213,1.3960477113723755,-1.7377768754959106,-2.0514166355133057,-1.904721975326538,1.0136128664016724,1.3902177810668945,1.345457911491394,1.193182349205017,-1.8973344564437866,0.7733777165412903,-1.7936680316925049,1.2773711681365967,-1.977862000465393,0.5159511566162109,0.7900121212005615,0.8554219007492065,0.78794264793396,-2.0429341793060303,1.1814827919006348,0.8182598948478699,1.0128484964370728,0.8625693321228027,-1.7204277515411377,1.0401688814163208,1.0361214876174927,0.6747525930404663,1.0901165008544922,1.0300060510635376,1.4418485164642334,1.1991963386535645,1.282340407371521,-1.7946933507919312,-1.9432374238967896,1.1665685176849365,-1.759163498878479,-1.7084394693374634,1.0598080158233643,0.648269534111023,-2.120378017425537,0.7056039571762085,-1.7728358507156372,1.2575273513793945,0.902242124080658,0.5525978207588196,1.4161995649337769,-2.0362493991851807,-2.0807137489318848,0.6266442537307739,-1.7685028314590454,1.0178714990615845,-1.9865713119506836,-2.093918561935425,0.7607693076133728,1.1072325706481934,0.921742856502533,0.9711689949035645,1.2556169033050537,1.1640499830245972,-1.8095753192901611,-2.114847183227539,0.8609257936477661,0.7471956014633179,1.0323474407196045,1.012258529663086,1.0784398317337036,1.6285101175308228,-1.706149935722351,1.5664222240447998,-1.963748812675476,1.7465484142303467,-1.7965383529663086,1.0529189109802246,1.120360016822815,0.871451735496521,0.9865861535072327,0.7541308999061584,1.549250602722168,1.168860912322998,-2.033325433731079,1.4200750589370728,-1.7980844974517822,-1.4957804679870605,-2.003196954727173,1.7166483402252197,-1.9245448112487793,-1.5748305320739746,-1.7424198389053345,0.5499946475028992,0.9876453876495361,0.7377645373344421,-2.0678112506866455,-1.8513201475143433,-1.6763029098510742,-1.9479678869247437,0.8672793507575989,0.9549040794372559,0.7959002256393433,0.8440343737602234,1.6848171949386597,-1.6537501811981201,0.9705361723899841,0.7100469470024109,-1.9384316205978394,0.5286955237388611,1.0384305715560913,-2.107741594314575,0.88877272605896,-2.036403179168701,-1.8448411226272583,1.3029568195343018,0.7925509810447693,-1.3185380697250366,0.9938259124755859,1.3687152862548828,-2.1729941368103027,0.5488281846046448,0.45425939559936523,-1.76027512550354,0.9000934362411499,-1.8189493417739868,0.6694595813751221,0.8088037371635437,-1.8777573108673096,0.8045284748077393,0.7179479598999023,-1.724389910697937,1.1891511678695679,-1.6439120769500732,-1.8887566328048706,0.7529352307319641,-2.1171436309814453,0.9402593970298767,-2.0020041465759277,0.9833987951278687,0.8453896641731262,0.8177816271781921,1.256258249282837,-2.1009624004364014,0.89214026927948,-1.132567048072815,-1.6707745790481567,0.9081434607505798,1.4911363124847412,0.9832480549812317,1.7472631931304932,1.2918877601623535,-1.941162347793579,-1.819413423538208,0.7407697439193726,0.676170825958252,-1.7516014575958252,1.0463862419128418,1.180306315422058,-2.0545899868011475,-1.8542296886444092,0.5731925368309021,-1.7228161096572876,-2.0644941329956055,-1.7964036464691162,-1.8035449981689453,1.1819409132003784,-2.03116512298584,0.811705470085144,-1.988237977027893,0.8282901644706726,1.176062822341919,1.052262306213379,1.1710255146026611,-2.043184280395508,0.6101072430610657,0.6667609810829163,1.3014603853225708,0.6743524074554443,-1.7199804782867432,-1.636046290397644,-1.9540570974349976,1.3350751399993896,0.7831349968910217,-1.951697826385498,-1.8111984729766846,0.7030673623085022,1.0699083805084229,0.897278904914856,0.5299869775772095,1.3342715501785278,0.5991677045822144,-1.9211561679840088,1.0534114837646484,-1.7269134521484375,-2.01149582862854,-1.8611977100372314,1.1817576885223389,-1.7486246824264526,0.7696303725242615,0.8257385492324829,-1.6847455501556396,1.03667414188385,1.081247091293335,-1.9149006605148315,0.7742611169815063,0.9370244741439819,0.8620638251304626,-1.8836973905563354,0.8278677463531494,0.9058043360710144,-1.7864264249801636,0.9743260145187378,1.250725507736206,-1.8985867500305176,0.9704971313476562,-1.6814343929290771,1.1230154037475586,0.7634908556938171,1.1089775562286377,1.0071154832839966,-2.1034371852874756,1.515062689781189,-1.884854793548584,-1.8334929943084717,-2.165911912918091,0.6374285221099854,0.6286298036575317,1.195965051651001,1.3139450550079346,-2.07008695602417,-1.7447572946548462,0.7729746103286743,-1.997022271156311,1.2361527681350708,0.9797081351280212,1.0443007946014404,1.5038349628448486,-1.8482664823532104,1.31363844871521,0.8636499643325806,-1.9682437181472778,0.9625042080879211,-1.9093693494796753,0.7262080311775208,0.8132461309432983,0.8709622621536255,0.9096344709396362,1.4826582670211792,-1.8596627712249756,-1.7722952365875244,0.9895879626274109,0.868732750415802,-1.933556318283081,0.7971414923667908,1.0731595754623413,0.9775089025497437,-2.0825486183166504,-1.9667617082595825,0.5731351971626282,0.6127866506576538,0.937600314617157,0.870538592338562,-1.7027668952941895,0.9246559143066406,1.079284429550171,-1.8995500802993774,1.1166515350341797,1.252347707748413,-1.4656832218170166,-2.07344126701355,0.8530073761940002,-1.8928039073944092,1.1408990621566772,1.3651894330978394,1.1974400281906128,1.6088688373565674,0.8025643825531006,1.4817465543746948,2.2614316940307617,0.7046940326690674,-1.9887362718582153,-1.9240716695785522,0.7487689256668091,0.8077584505081177,1.7935779094696045,-1.9269685745239258,-1.8641144037246704,0.7412078380584717,-1.9808977842330933,0.7795785665512085,-2.071134567260742,1.2336746454238892,1.2875525951385498,-1.856474757194519,0.6605027914047241,0.9126405715942383,-2.1657750606536865,1.1751909255981445,0.657742440700531,1.7272027730941772,0.905207633972168,0.6636710166931152,0.7013844847679138,-2.1298372745513916,1.157244086265564,1.0254220962524414,0.9873497486114502,1.1717865467071533,-2.1751954555511475,-1.9670850038528442,1.102779507637024,-1.6697187423706055,-2.1397690773010254,0.8650510907173157,-2.0355379581451416,-1.7863988876342773,1.4254262447357178,0.7201128005981445,0.8189281225204468,-1.7604140043258667,-1.6951918601989746,-2.169961929321289,-1.6574710607528687,0.7185128331184387,0.4560074508190155,1.2740375995635986,0.7580506801605225,0.93779456615448,0.8345422744750977,1.3207621574401855,0.9742641448974609,-2.1695103645324707,1.379943609237671,0.8586034774780273,1.8378307819366455,0.5306642055511475,1.059613585472107,-1.96234130859375,1.1340370178222656,1.218887448310852,1.7064319849014282,-2.0882956981658936,-1.8842068910598755,0.7340413928031921,-1.3825204372406006,0.9450951814651489,0.8975935578346252,1.5297930240631104,1.1554378271102905,0.8764614462852478,1.0747992992401123,0.8902848958969116,0.8787164688110352,-1.821407675743103,-1.9655237197875977,1.127805471420288,-1.9023829698562622,1.575351595878601,0.8332181572914124,1.3368844985961914,-2.0629019737243652,1.0493513345718384,-1.8560991287231445,0.46501779556274414,1.4784064292907715,-1.856217861175537,-1.815499186515808,0.9597972631454468,1.4492337703704834,-1.8597919940948486,0.7256456017494202,-1.8770231008529663,-1.679412603378296,-1.9940741062164307,1.5031710863113403,0.6780626177787781,-2.062079668045044,1.1375517845153809,1.2609410285949707,-1.9348313808441162,0.5663033723831177,2.0032169818878174,-1.984628438949585,-1.653001308441162,0.7609874606132507,1.0325653553009033,0.4803560972213745,0.9374215006828308,0.9783007502555847,1.1593282222747803,-1.9413156509399414,-1.904159426689148,-2.060608148574829,-2.0570080280303955,0.8758952617645264,-1.8963115215301514,0.45517078042030334,1.0654114484786987,-1.80519700050354,-2.1128180027008057,0.9976397752761841,1.0642226934432983,1.1604950428009033,-1.9781150817871094,-2.0871105194091797,-1.4537432193756104,-1.7346795797348022,-1.7043074369430542,0.8841652274131775,-1.8560965061187744,0.9110609292984009,-1.7100112438201904,0.8346231579780579,1.048799753189087,-2.0812580585479736,1.0597660541534424,1.0240614414215088,-1.8268070220947266,0.8956679105758667,0.7889124751091003,0.760507345199585,-1.894224762916565,-1.7038087844848633,0.7718548774719238,1.5613090991973877,1.2588330507278442,1.5711193084716797,0.7222353219985962,1.334071397781372,0.9987314939498901,-1.925369143486023,0.7674612402915955,-1.9976099729537964,0.8895203471183777,1.101736068725586,0.8293464779853821,1.2043302059173584,0.7843352556228638,0.9924889802932739,0.9168264865875244,0.9828076362609863,0.963355541229248,1.236338496208191,-2.1270604133605957,-1.6438071727752686,-2.048853874206543,-2.0382702350616455,0.6585704684257507,1.3116635084152222,-2.1168081760406494,-2.093360662460327,0.8121034502983093,0.6742003560066223,-1.8526122570037842,-1.7951527833938599,1.803196907043457,1.291748046875,0.9234331250190735,-2.005821943283081,-1.9146021604537964,1.2018228769302368,1.0940841436386108,1.688489556312561,-1.6479698419570923,0.6459141969680786,0.9110391139984131,1.2554152011871338,1.048215389251709,1.0564178228378296,-2.003882646560669,1.1078232526779175,0.922123908996582,1.327581524848938,1.100943922996521,1.3278135061264038,-1.9866936206817627,0.8305574655532837,1.275153398513794,-1.9824577569961548,1.7614223957061768,0.8592422604560852,1.4042881727218628,-2.150834321975708,-2.2093679904937744,-2.0636098384857178,1.2085288763046265,1.2016206979751587,0.936116099357605,-2.168208599090576,-1.9244450330734253,0.4954940378665924,1.0036362409591675,1.3829472064971924,1.271673560142517,1.0111891031265259,1.2939525842666626,-1.8799158334732056,1.202454686164856,0.6959061622619629,-1.7907435894012451,-1.7241923809051514,-1.8624540567398071,1.1216862201690674,-2.1621971130371094,-2.069688320159912,1.4527448415756226,0.8001036047935486,1.426530361175537,-1.7966587543487549,1.2363547086715698,-1.979028582572937,0.5588523149490356,1.0034762620925903,-1.6640413999557495,-1.6690953969955444,0.5488685369491577,1.238909363746643,0.712428867816925,-2.094646692276001,-1.9819108247756958,0.9270156025886536,-2.149423122406006,-2.0233523845672607,0.6766389608383179,1.2739064693450928,-2.1391677856445312,-1.8148365020751953,-1.884993553161621,1.4790904521942139,0.9446704983711243,1.8322222232818604,0.9567089676856995,0.7015802264213562,-1.7632572650909424,-1.9080249071121216,0.8708402514457703,1.5494414567947388,0.6846358180046082,-1.8457543849945068,-2.173370838165283,-1.7477185726165771,-1.7271878719329834,-1.7362560033798218,-1.9232914447784424,0.8133668303489685,-2.067702054977417,1.3498750925064087,1.300847053527832,0.8095346689224243,-2.0758073329925537,1.188309907913208,-1.2504701614379883,1.032749891281128,-1.689507246017456,-2.054384708404541,-1.7521156072616577,-1.970518708229065,0.7946984767913818,-1.8013983964920044,1.2293188571929932,1.1018016338348389,0.7418803572654724,-1.691768765449524,0.7999658584594727,0.9792042970657349,1.1096512079238892,-1.8601946830749512,0.7567814588546753,1.019118309020996,1.0993080139160156,0.824926495552063,0.8995254039764404,1.2617342472076416,-1.9075132608413696,0.6111496090888977,-1.6704628467559814,1.2469929456710815,-1.502873182296753,0.8909037709236145,-1.9728771448135376,-1.8595097064971924,-1.7460354566574097,-2.0494189262390137,1.004107117652893,0.9372084140777588,-2.1417479515075684,1.5839335918426514,-1.9395259618759155,-2.0165672302246094,1.131351351737976,-1.744072437286377,1.1006691455841064,-2.0079541206359863,-1.7947477102279663,0.9707185626029968,-1.7701215744018555,1.4175416231155396,-1.7253855466842651,0.9788998961448669,1.3408761024475098,0.9290196895599365,1.2866528034210205,0.8822964429855347,0.944754421710968,1.0635546445846558,0.851647675037384,0.980155348777771,1.6311492919921875,-1.6656113862991333,-1.7817628383636475,-1.813773512840271,-1.9415682554244995,-1.9372986555099487,0.8948164582252502,0.7908852696418762,0.8852670788764954,1.499782681465149,-1.9265714883804321,-2.0278046131134033,1.1284927129745483,-1.8525992631912231,1.104012370109558,1.228143334388733,1.2204035520553589,-2.0046679973602295,-1.8531233072280884,0.8892164826393127,-2.1525731086730957,-1.737549901008606,1.0772098302841187,1.0472285747528076,-2.024171829223633,-2.005181312561035,-2.11551570892334,1.1049550771713257,-1.811033010482788,0.8119769096374512,1.3380614519119263,-1.7743030786514282,-2.2317864894866943,-1.9549646377563477,0.4229813516139984,0.5359342098236084,0.8915672898292542,0.634678304195404,-1.7600932121276855,-1.6281052827835083,1.195784091949463,0.6627126932144165,1.5920970439910889,0.7864668369293213,-2.1591379642486572,-1.73769211769104,1.3637948036193848,0.8306039571762085,1.171329140663147,0.5000825524330139,-2.15417218208313,0.9474969506263733,-1.825637936592102,1.045339822769165,-1.8755481243133545,-2.0748867988586426,1.1527175903320312,-2.149954319000244,-1.9773600101470947,0.7550170421600342,0.5979223847389221,-2.0467236042022705,-2.1873939037323,1.83852219581604,1.029624581336975,0.8251246213912964,0.6010240316390991,0.7758992314338684,1.128942608833313,-1.6715950965881348,-2.162814140319824,0.9436008930206299,-1.269950032234192,-1.3653548955917358,1.4002962112426758,1.0804260969161987,0.7255154848098755,-1.86284601688385,1.889890193939209,0.8731480240821838,1.028588056564331,1.2255480289459229,1.4585258960723877,1.496870517730713,-2.146172046661377,-1.647066354751587,-1.9399442672729492,-1.6682699918746948,0.7713420391082764,0.8874431848526001,1.126914620399475,1.2132048606872559,1.2066516876220703,0.9345860481262207,-2.119101047515869,0.854405403137207,-1.728131651878357,-1.8337172269821167,1.5372697114944458,1.0172783136367798,1.1950047016143799,0.5490400791168213,0.6780707836151123,0.9485283493995667,-1.7558971643447876,0.9784760475158691,0.8089609146118164,0.6527012586593628,0.9243114590644836,1.3004263639450073,0.6027910113334656,-1.907975435256958,0.8583323359489441,1.7837128639221191,-1.9818471670150757,-1.1909570693969727,0.88042151927948,1.175255298614502,-1.8150098323822021,0.7676243185997009,0.6200129985809326,-1.6312282085418701,1.1093767881393433,-1.5830730199813843,-1.8934749364852905,1.3850786685943604,-2.066296339035034,1.2198718786239624,-1.7266777753829956,0.9739688634872437,0.49124830961227417,0.8995588421821594,1.380560278892517,1.05405592918396,-1.965023159980774,-2.0869088172912598,1.5020437240600586,1.0818514823913574,1.2312926054000854,-1.7001826763153076,1.2548117637634277,1.3404039144515991,1.5694612264633179,-1.6960915327072144,-1.8686859607696533,-1.814879059791565,1.5119203329086304,1.0517001152038574,0.9357256889343262,0.9018605947494507,1.1582289934158325,0.7057631015777588,0.6881518959999084,0.9479153752326965,-1.4840118885040283,-2.039726734161377,0.6935185790061951,-2.0617117881774902,-2.2097697257995605,1.7330266237258911,1.3986215591430664,-1.79167640209198,0.88796067237854,0.7918840050697327,-1.9625499248504639,-1.9909900426864624,0.7165669202804565,-1.983845829963684,-1.966907024383545,-1.8788628578186035,1.2456415891647339,-1.9818110466003418,0.9940869212150574,-1.9184210300445557,0.6271011233329773,0.8561672568321228,0.49851131439208984,0.8379505276679993,1.1110090017318726,-1.5562942028045654,0.7033409476280212,-1.8482847213745117,-1.7105393409729004,0.7398442625999451,-2.0002400875091553,1.1279839277267456,-1.7655926942825317,1.390236496925354,0.8012089133262634,1.4470710754394531,0.6645716428756714,1.121356725692749,-1.7652860879898071,1.2027106285095215,-1.944378137588501,-2.0676352977752686,-1.6941722631454468,-2.4945929050445557,-1.8528929948806763,1.0193307399749756,0.7616022825241089,-1.7841042280197144,1.3181427717208862,0.9200498461723328,-1.6496788263320923,-2.0557479858398438,1.0765141248703003,1.2069065570831299,-1.6330639123916626,-1.861456036567688,1.1426838636398315,1.0719703435897827,0.9685889482498169,0.9288800358772278,-1.7999191284179688,-1.4084590673446655,1.0842047929763794,0.7360574007034302,-1.9448180198669434,-2.156604051589966,1.5784450769424438,0.991885244846344,1.0988678932189941,-1.7179523706436157,1.155165433883667,2.0853843688964844,1.0699824094772339,-1.7145754098892212,0.8927788734436035,-1.9901870489120483,-1.901691198348999,1.4890486001968384,-1.9102462530136108,-1.6664149761199951,-1.8482725620269775,-1.8820033073425293,1.4611361026763916,-1.5978307723999023,-1.7399544715881348,0.9031041860580444,-1.7700550556182861,-1.8033347129821777,-1.666143774986267,0.70287024974823,-2.0805015563964844,-1.8684861660003662,0.7297603487968445,0.7039041519165039,2.0805604457855225,0.7505267262458801,0.6487752199172974,-2.06230092048645,1.057875156402588,1.1383424997329712,0.7680156230926514,0.8404598236083984,0.6421735882759094,0.7342432737350464,-1.7645968198776245,-1.7907211780548096,0.7166018486022949,-2.118598699569702,-2.1365857124328613,-1.9047702550888062,-1.901495099067688,-1.7321008443832397,-2.030782699584961,0.8524562120437622,-1.842515230178833,1.4506045579910278,1.3313515186309814,0.9930696487426758,0.6628305315971375,1.2815029621124268,1.5695550441741943,1.3001446723937988,-1.7922254800796509,-1.7655242681503296,0.6382213830947876,1.215462327003479,1.201241135597229,0.9567573666572571,-1.411759853363037,-1.8165740966796875,0.9441646933555603,-2.00589919090271,0.735245943069458,0.5227577090263367,0.6965827941894531,0.9041631817817688,1.1602675914764404,0.9412148594856262,0.9453588128089905,-1.983088731765747,-1.7962889671325684,0.9328845739364624,0.7620372772216797,0.9959359169006348,0.9600080251693726,-1.86375093460083,-1.3507612943649292,-1.9709728956222534,1.2364449501037598,2.223449468612671,0.7850443124771118,-1.6286660432815552,-1.9095063209533691,-1.7441422939300537,1.1755554676055908,-2.0282320976257324,-2.0065994262695312,0.7305666208267212,1.331009864807129,1.1500433683395386,-1.7771371603012085,-1.7976715564727783,-1.857327938079834,0.8274959325790405,1.2744718790054321,-1.9299863576889038,1.1981953382492065,1.360344409942627,-1.9668389558792114,-2.0141162872314453,0.48416751623153687,-1.9402105808258057,0.7426702976226807,0.8975960612297058,1.1588581800460815,0.8821544051170349,-2.001237630844116,0.9869788885116577,0.3171076774597168,0.7784166932106018,1.3037022352218628,0.8208641409873962,1.0533074140548706,-2.140141725540161,0.7836803793907166,1.6407992839813232,1.655489206314087,1.659049153327942,1.098541498184204,1.114648461341858,-1.7686983346939087,1.0660064220428467,1.6031417846679688,-1.7082538604736328,-1.9554710388183594,-2.1494388580322266,0.6205452084541321,0.5956447720527649,1.039138913154602,1.1621699333190918,1.7141157388687134,0.7282772660255432,1.231681227684021,0.9973465204238892,0.8784402012825012,0.8701392412185669,0.9332742691040039,1.4981797933578491,0.978187084197998,1.5100059509277344,-1.8139499425888062,-1.9923676252365112,-1.6807327270507812,1.0801929235458374,-1.880104899406433,0.9797251224517822,-1.3879069089889526,0.7967448830604553,0.9790952801704407,0.8802024722099304,1.7123608589172363,0.6204131841659546,1.2160334587097168,-2.0296123027801514,-1.9372352361679077,1.185806393623352,1.4717597961425781,0.6207932829856873,-2.280033826828003,-2.0129520893096924,1.3111188411712646,0.9860669374465942,0.8476138114929199,1.033151388168335,-1.3742165565490723,0.9224168658256531,1.7355002164840698,0.8865373134613037,-2.052504301071167,0.9167002439498901,1.3379547595977783,0.7580989599227905,-1.7201799154281616,1.1089234352111816,1.3405314683914185,0.8760051131248474,0.7640714645385742,-1.915757179260254,1.179945945739746,1.091131567955017,1.1359325647354126,-2.0270540714263916,1.1062604188919067,1.0080842971801758,1.1003599166870117,0.5895254015922546,-1.786902666091919,0.9611278772354126,1.115886926651001,0.8862597346305847,1.0068869590759277,-1.8038614988327026,1.0126709938049316,0.9785169959068298,1.0043169260025024,1.5129616260528564,1.6964046955108643,1.034165620803833,-1.6817424297332764,1.7692168951034546,0.6015933156013489,-1.8427056074142456,-1.9211022853851318,-1.7907593250274658,0.8722271919250488,-2.106419563293457,0.9148961305618286,-1.7364985942840576,0.9441901445388794,0.8778489828109741,0.6944770216941833,-1.5141806602478027,0.6791073083877563,-1.742297649383545,-1.8111940622329712,0.7259935140609741,0.8569530844688416,1.041499137878418,0.9761021733283997,1.0540188550949097,1.2953566312789917,-1.9359623193740845,-1.7286732196807861,-1.7544159889221191,1.2410893440246582,-1.9715828895568848,-2.0074594020843506,-1.8206908702850342,-1.8958016633987427,0.7812573313713074,1.091599941253662,0.6938289999961853,0.721550703048706,1.0026441812515259,1.2510998249053955,0.6824507713317871,1.2521378993988037,0.7682942748069763,-1.8148771524429321,0.9815487861633301,0.9113574028015137,0.7080665230751038,-1.7092727422714233,-1.793155550956726,-1.7942711114883423,0.6664630770683289,0.8951308131217957,1.508255958557129,-1.8114675283432007,0.7302034497261047,0.9419887661933899,0.41016656160354614,0.8936061263084412,0.5498738884925842,0.7869064807891846,-1.8501167297363281,-1.7082304954528809,0.7046763896942139,1.4212955236434937,1.0730414390563965,0.9232043027877808,0.9281440377235413,1.0562151670455933,0.6969905495643616,1.1459999084472656,-1.7850676774978638,0.6539585590362549,-1.7676799297332764,0.631736695766449,-1.9900490045547485,-1.9553930759429932,0.7922487854957581,-1.7923134565353394,1.2223504781723022,0.5216812491416931,-1.9673036336898804,0.9142112731933594,-1.9687128067016602,-2.2054076194763184,-1.850441813468933,1.2991647720336914,0.5908752679824829,-1.93051278591156,1.1275497674942017,0.44601157307624817,-2.074141502380371,1.4908807277679443,-1.6042814254760742,-1.8345386981964111,0.9887780547142029,-1.7379931211471558,-1.7751548290252686,-1.909165859222412,1.0789674520492554,1.0720270872116089,1.0116790533065796,0.6119222640991211,-1.7601248025894165,0.7455189228057861,0.9976353645324707,-1.813389778137207,-1.995847463607788,1.0971274375915527,0.9382143616676331,0.8780964612960815,0.7875217795372009,0.8748978972434998,1.18721342086792,-1.266175389289856,1.1483609676361084,-2.0471701622009277,1.0411467552185059,0.8652059435844421,0.943157434463501,2.1569418907165527,-2.109236240386963,-1.7622135877609253,0.9811290502548218,-1.95460844039917,-1.684600591659546,-1.8308475017547607,-2.0823609828948975,-1.9209271669387817,1.1673475503921509,0.7285467386245728,0.6746389865875244,1.1440562009811401,-1.7388508319854736,0.9924631118774414,0.7643845081329346,0.9714015126228333,0.8252897262573242,1.336391806602478,-2.161733865737915,-1.7836772203445435,0.8547717332839966,0.9169556498527527,1.055828332901001,-2.0359902381896973,1.024666666984558,-1.9301748275756836,1.2019734382629395,1.0891647338867188,-1.455979347229004,0.960083544254303,-1.7786731719970703,0.9089280962944031,0.9017974138259888,0.835305392742157,-1.781031847000122,-1.845947265625,-1.9844545125961304,-2.007488489151001,0.8066315054893494,0.8631758689880371,0.731367290019989,1.2105246782302856,1.6195560693740845,0.7028205394744873,0.4746631383895874,1.2405508756637573,1.215151071548462,0.6857104301452637,0.6594646573066711,-1.5676521062850952,1.175098180770874,-1.9765625,0.952709436416626,1.0658133029937744,0.5456114411354065,-1.7453742027282715,-1.3873320817947388,0.8690887093544006,-2.064060926437378,-2.094513177871704,-1.7797771692276,0.8189480304718018,0.9744701981544495,1.0084631443023682,1.0674192905426025,1.0958760976791382,0.8044142723083496,0.8869255185127258,1.3798027038574219,-1.6605268716812134,-1.7085107564926147,1.1687043905258179,-1.9499626159667969,-1.7447658777236938,0.8129540681838989,1.1466888189315796,-2.0969386100769043,1.8338998556137085,1.6909960508346558,0.7780900001525879,0.6405711770057678,-1.7951180934906006,0.6073145866394043,-1.9375669956207275,-1.815535068511963,1.0402113199234009,-1.9296488761901855,-1.6177226305007935,0.8219092488288879,-1.8580327033996582,1.0482572317123413,-1.726025938987732,0.9543441534042358,0.6919139623641968,0.9092918634414673,0.671806275844574,0.7070175409317017,-1.5968691110610962,0.7646161317825317,-1.9899392127990723,1.0842236280441284,1.2997697591781616,0.8049388527870178,1.277549386024475,-1.9670624732971191,-2.008169651031494,-1.8493136167526245,-1.803118348121643,-1.8462275266647339,1.305505633354187,0.7717537879943848,0.8381862640380859,0.5730612277984619,-2.051116943359375,-1.9300503730773926,-1.7969838380813599,1.547917127609253,0.6815468072891235,-1.8309541940689087,1.628021001815796,1.7715516090393066,0.7233147025108337,0.9183653593063354,-1.8054391145706177,1.0576837062835693,-1.7667211294174194,0.6417312026023865,0.8629776239395142,-1.8428945541381836,-1.8475581407546997,0.8000918030738831,0.9092789888381958,0.6486931443214417,0.5309970378875732,1.1126468181610107,0.6431344151496887,1.0518442392349243,-1.7491158246994019,1.130867600440979,0.9580128192901611,1.3490550518035889,-2.0924034118652344,-1.9393373727798462,-1.9460605382919312,1.1397522687911987,0.7824677228927612,0.778258740901947,-1.7316702604293823,0.9522161483764648,0.6038066148757935,0.8950034379959106,-2.1008732318878174,0.5372384786605835,0.6621625423431396,-1.842078447341919,0.8189615607261658,0.6875447034835815,1.1921619176864624,0.8854170441627502,1.0230985879898071,-1.8686128854751587,-2.0966086387634277,-1.9101660251617432,-1.818873643875122,1.1577727794647217,1.3204001188278198,1.143999695777893,0.939574122428894,0.803426206111908,1.0555565357208252,1.3253980875015259,-2.0545406341552734,-1.9791755676269531,1.4754928350448608,1.538198709487915,0.8853665590286255,-1.855915904045105,0.7565103769302368,-1.760485291481018,0.6405849456787109,0.5809458494186401,-1.9057632684707642,0.7581446170806885,-1.529848337173462,1.1083978414535522,0.859300434589386,0.6710391044616699,-2.103525161743164,0.5496495962142944,1.200197458267212,0.7570741772651672,-1.7529724836349487,-1.9813168048858643,1.319082498550415,-2.073431968688965,-1.745192527770996,1.3944422006607056,-1.5234034061431885,-1.8560019731521606,1.0533087253570557,0.7082480788230896,0.9148931503295898,1.2709298133850098,-2.0161197185516357,0.8102366924285889,1.8881853818893433,-2.0050370693206787,-1.977110743522644,1.4533833265304565,-1.947382926940918,1.3209084272384644,-1.9823764562606812,-1.8172736167907715,0.9478277564048767,-1.7623274326324463,0.9128265976905823,1.6790359020233154,0.6408002376556396,0.5310521125793457,1.52301025390625,0.972058117389679,1.179368257522583,-1.7309526205062866,0.8443408608436584,1.1363528966903687,-1.8897005319595337,-1.9470765590667725,0.8391525149345398,0.9090859293937683,-1.9441477060317993,1.2345999479293823,-1.9299838542938232,0.5326571464538574,1.227172613143921,1.4185048341751099,0.8915450572967529,1.140518069267273,0.7865175008773804,2.076524257659912,1.0722848176956177,1.287208914756775,1.689220905303955,-1.8709359169006348,0.8791154026985168,0.8023345470428467,-1.7954620122909546,0.9393860101699829,1.1633497476577759,0.9153450727462769,-1.6564078330993652,1.1095542907714844,0.8726157546043396,0.9823406338691711,-2.170520067214966,-1.9366763830184937,-1.7325383424758911,1.2627583742141724,-1.622286081314087,-2.0437309741973877,-1.8026129007339478,1.3673738241195679,-1.9777638912200928,1.4970155954360962,-1.801650881767273,1.1620923280715942,-2.011692523956299,-1.8529564142227173,1.0839502811431885,1.349534511566162,0.5977352857589722,-1.9026116132736206,0.7188625335693359,-1.8567025661468506,-2.025940179824829,1.3857003450393677,1.2151020765304565,1.2393065690994263,-2.2434144020080566,0.8788503408432007,0.9169107675552368,1.0131521224975586,1.3023368120193481,1.0379658937454224,-2.2022857666015625,1.6209527254104614,1.0525740385055542,1.7278761863708496,0.8106915354728699,1.4278600215911865,1.309609055519104,-1.8360832929611206,1.8686519861221313,-1.8198686838150024,0.9958342909812927,0.7570895552635193,0.8260536193847656,-1.886420726776123,1.401430368423462,0.7228348851203918,1.2386131286621094,0.535593569278717,-1.8043822050094604,1.6480880975723267,-1.855595588684082,-1.848818063735962,-1.718480110168457,-1.9090372323989868,0.5484476685523987,1.2144616842269897,-2.0273211002349854,1.6298452615737915,-2.0618789196014404,-1.829132080078125,0.7694284319877625,1.0804715156555176,1.8674415349960327,2.25022554397583,0.5006198883056641,-1.6887956857681274,1.0856945514678955,0.7627729773521423,0.7824780344963074,1.0531672239303589,-1.8755639791488647,-2.1307244300842285,-1.8944941759109497,0.9552830457687378,1.0411750078201294,0.747107744216919,-1.7662001848220825,-2.0169599056243896,0.7983080744743347,0.817358672618866,0.927168607711792,1.3149645328521729,0.49995356798171997,0.952469527721405,-1.9018038511276245,-1.8330026865005493,1.3662989139556885,-1.985295295715332,0.6186012029647827,1.125680923461914,0.9364762902259827,-1.7942194938659668,0.8238626718521118,-1.7113345861434937,-1.7074034214019775,-1.765829086303711,0.832562267780304,0.790127694606781,-1.8248015642166138,-1.7267650365829468,0.9593955874443054,1.7909061908721924,1.4305187463760376,0.8636894822120667,1.2115646600723267,-2.1181516647338867,0.9043583869934082,-1.9992483854293823,1.0278489589691162,1.0933427810668945,0.9031655192375183,-2.079900026321411,1.4075260162353516,1.14691162109375,0.6292623281478882,-1.4362385272979736,-1.970004916191101,0.8658356666564941,1.9714690446853638,1.1493335962295532,0.9943288564682007,1.5452954769134521,1.2933136224746704,-1.9571583271026611,1.0552687644958496,0.6303191184997559,1.3503756523132324,1.083579659461975,1.1155418157577515,0.9733303785324097,-1.1338601112365723,1.0888972282409668,1.1460950374603271,-1.6637344360351562,0.9474500417709351,-1.94695246219635,-2.0673065185546875,-2.051311492919922,0.7620059847831726,1.049954891204834,0.9026550650596619,-1.8456544876098633,-1.8057817220687866,1.317865014076233,1.4755759239196777,-1.6737905740737915,-1.9104328155517578,0.7585279941558838,1.0942063331604004,-1.624457597732544,-2.0285565853118896,0.9724782705307007,1.1097049713134766,1.0541530847549438,1.1449377536773682,1.250779151916504,-1.5804505348205566,-1.8846322298049927,-1.587565302848816,0.8647646903991699,0.7698794603347778,-2.113401412963867,-1.7879207134246826,-1.791333556175232,-1.903544306755066,0.8517007231712341,-1.9137641191482544,0.6031426191329956,-2.12089467048645,0.7744100093841553,0.762208104133606,1.4302730560302734,-1.8532958030700684,1.3987516164779663,0.6083404421806335,-1.9835537672042847,-1.30833899974823,1.8857697248458862,1.7104729413986206,-1.7971792221069336,-1.6504032611846924,0.5355838537216187,1.0654045343399048,0.9380601644515991,-1.949367880821228,0.8265921473503113,0.9436264634132385,-1.8141587972640991,-2.0594756603240967,1.1578902006149292,-2.009382963180542,1.172560453414917,-1.982063889503479,1.0700507164001465,-1.9354156255722046,0.801167905330658,0.5745522975921631,-1.8186826705932617,1.2029190063476562,0.7632896900177002,0.8652750253677368,1.2705614566802979,0.6969633102416992,0.6810829639434814,1.073251724243164,-2.0298068523406982,0.9976791143417358,0.887583315372467,-2.1703715324401855,1.1625008583068848,1.3265573978424072,0.787152111530304,0.80507493019104,1.3414770364761353,0.6946166157722473,0.9912077784538269,1.0253949165344238,0.9065418839454651,-2.064563751220703,0.7269799709320068,-2.1551949977874756,1.4562181234359741,1.6357868909835815,1.1773241758346558,1.1643997430801392,0.9975555539131165,-1.9882582426071167,-1.8535624742507935,-1.7685554027557373,0.710370659828186,-1.7753278017044067,1.5963867902755737,0.7645180821418762,1.0192961692810059,0.8920450806617737,1.875178337097168,1.23137366771698,0.6475473046302795,0.7306147217750549,0.9513500332832336,1.2463901042938232,-1.844491958618164,-1.812170386314392,0.8354092836380005,1.070204734802246,0.8497339487075806,1.3549892902374268,-2.0795016288757324,-1.921141505241394,0.4866800308227539,0.8149601221084595,1.8071284294128418,0.6688198447227478,1.045455813407898,-1.7176707983016968,1.0876277685165405,-1.8934805393218994,0.6841391921043396,1.0589098930358887,0.7457393407821655,0.9265838861465454,-1.7615772485733032,-2.0168542861938477,-1.7508597373962402,1.013174057006836,0.9935416579246521,-1.7906192541122437,0.5605408549308777,-1.8246569633483887,1.2796028852462769,0.8111423254013062,-2.0637757778167725,-1.6749074459075928,1.079561471939087,0.7623336911201477,-1.802628755569458,0.7031798958778381,0.8500176072120667,0.7915266156196594,1.3452930450439453,1.2391357421875,0.9055045247077942,1.0170230865478516,1.2498663663864136,-1.895336627960205,0.693588376045227,0.9921838641166687,-1.8087050914764404,0.8671500086784363,-1.9228088855743408,0.9424203038215637,-1.660183310508728,0.9710627794265747,1.0346589088439941,0.9317030906677246,0.5351173281669617,0.8111359477043152,0.8956851959228516,0.6816096305847168,-1.77164888381958,-1.8201261758804321,1.5427197217941284,1.1838215589523315,1.2178328037261963,0.6642237901687622,2.3569440841674805,1.247262954711914,1.2101033926010132,1.136269450187683,-1.9869580268859863,0.6525086164474487,0.5349188446998596,0.6216689944267273,-1.9530545473098755,1.2104520797729492,-1.8431652784347534,-1.8463619947433472,1.1373001337051392,0.4009883999824524,-2.1743063926696777,0.7780166268348694,-2.133230447769165,0.8381407856941223,0.6843481063842773,0.9789043068885803,1.0591895580291748,0.7118142247200012,-1.6826483011245728,1.1484882831573486,0.9748701453208923,0.7624422311782837,0.7844911813735962,0.7799275517463684,1.6055209636688232,-1.8165135383605957,-1.9085171222686768,0.7673150897026062,-1.9456454515457153,0.970192015171051,1.0890569686889648,-1.7905548810958862,0.6497384309768677,0.7735750079154968,-1.9525909423828125,-1.7789498567581177,0.685897171497345,0.8013750910758972,1.2678507566452026,0.950775682926178,-1.820088505744934,1.368092656135559,0.7411529421806335,1.3597346544265747,0.8667623996734619,-1.7949711084365845,-2.157191753387451,0.8434997200965881,0.8854594826698303,0.5079665184020996,-1.8102943897247314,0.912104070186615,1.0646682977676392,-1.895371437072754,0.7446030378341675,0.6747764945030212,0.7346117496490479,0.4915478825569153,0.9784023761749268,1.163481593132019,1.441346526145935,-1.6681064367294312,0.956191897392273,0.6699888706207275,-1.795748233795166,0.7114362716674805,0.8831329941749573,-2.059717893600464,1.1702666282653809,1.1777938604354858,-1.9398869276046753,1.0658044815063477,-1.2377970218658447,0.8079192638397217,0.9566469788551331,0.7007009983062744,1.0390058755874634,0.5315656065940857,0.9399616122245789,0.948871910572052,-1.8254066705703735,0.9493603706359863,1.3389546871185303,1.0600258111953735,0.7534181475639343,-1.9655476808547974,-2.2736690044403076,0.871406614780426,-1.8953200578689575,1.5354787111282349,1.5718159675598145,0.9481721520423889,-1.7077735662460327,0.9026918411254883,-1.7335721254348755,1.8029143810272217,-2.0537526607513428,1.6160088777542114,0.6911811828613281,1.1243685483932495,-1.705424427986145,-1.7593382596969604,-1.7228548526763916,-1.9832959175109863,0.6739341616630554,1.4280925989151,-1.8934110403060913,1.2152385711669922,0.6873873472213745,-1.7592321634292603,0.6924034357070923,0.7385991215705872,-1.7739733457565308,0.8513756394386292,1.3686394691467285,-1.9547702074050903,0.938856840133667,0.8979743719100952,-1.7280316352844238,-1.7447857856750488,0.7154235243797302,1.0251408815383911,-1.8302901983261108,0.5693737268447876,0.8252333402633667,0.8645175695419312,1.336318016052246,0.8887622356414795,-2.2342472076416016,0.8376288414001465,-2.2021358013153076,1.3987609148025513,-1.840382695198059,-1.8863705396652222,-1.6764415502548218,-1.988243579864502,0.8790280222892761,-1.7964318990707397,1.0896605253219604,1.008766531944275,0.7961030006408691,-1.8564831018447876,1.3725117444992065,1.23342764377594,0.8240163326263428,0.8430033326148987,1.1009650230407715,0.7874863743782043,1.2146285772323608,-1.754551887512207,0.8057202696800232,1.2883350849151611,1.0359023809432983,1.3135149478912354,0.9375944137573242,-1.9501709938049316,0.6622121930122375,-1.7957450151443481,1.569551706314087,-2.0820705890655518,-2.0548343658447266,0.9623400568962097,-1.7848669290542603,-2.184380531311035,-1.7995318174362183,0.8795358538627625,-2.1039624214172363,0.8959050178527832,1.4355415105819702,0.9630016088485718,0.8398587107658386,1.035930871963501,-1.7896591424942017,-2.161736488342285,-1.8861775398254395,-2.138132333755493,-1.7477465867996216,1.0151208639144897,-1.8645120859146118,-1.7051417827606201,-1.965573787689209,-1.8794747591018677,-1.9022250175476074,-1.924012541770935,-2.028451681137085,-1.3661577701568604,0.9883538484573364,0.9188384413719177,0.9464420080184937,1.0395833253860474,-2.0682098865509033,1.15421724319458,1.766952395439148,-1.9375965595245361,-1.8869960308074951,-1.9499895572662354,-2.099954605102539,-1.7219606637954712,0.5440964102745056,-2.032109022140503,-0.7975165247917175,0.9814473986625671,0.485450804233551,1.0343583822250366,-2.1109166145324707,-2.0427780151367188,0.6735666990280151,0.5717775225639343,0.7648638486862183,0.7183085680007935,-1.9314161539077759,-1.8493525981903076,-1.9234983921051025,0.827113151550293,0.9691681861877441,0.9976049661636353,-1.7663772106170654,0.7577650547027588,0.7180185317993164,1.0327990055084229,1.2255836725234985,1.0490238666534424,-1.8518502712249756,-1.6481492519378662,1.0166828632354736,-1.7022231817245483,-1.9555460214614868,-1.9035425186157227,0.712007999420166,0.6640726923942566,0.8517739772796631,0.9776849150657654,1.9185562133789062,-1.9371931552886963,1.0421501398086548,1.0389984846115112,0.7486974596977234,1.109753966331482,-1.6894968748092651,1.0920050144195557,1.284493088722229,1.368463397026062,-2.111687421798706,1.1303836107254028,-1.7465505599975586,0.8665090799331665,-1.7541847229003906,0.5352323055267334,0.47588592767715454,-1.9986178874969482,-1.7920576333999634,0.6124747395515442,-2.211026191711426,-1.646870732307434,-1.550978183746338,1.0157577991485596,1.1535331010818481,1.0399441719055176,1.2889301776885986,1.294437289237976,-1.9144455194473267,0.9495227336883545,-1.727854609489441,0.8568213582038879,-2.024763584136963,-2.1453959941864014,-1.877281904220581,0.9673933386802673,1.2879225015640259,0.9617035388946533,1.078332781791687,2.027945041656494,0.8522807955741882,-1.8051598072052002,-2.15045428276062,-1.5688315629959106,1.0138243436813354,1.3956260681152344,0.6998600959777832,0.716429591178894,1.0598825216293335,-1.78585684299469,1.3439161777496338,0.5488826036453247,0.7924661636352539,-1.9407018423080444,-1.8029894828796387,1.2011239528656006,-1.9465827941894531,-1.9754326343536377,-1.8216406106948853,1.0204755067825317,-1.8315600156784058,0.8858639597892761,1.4226278066635132,1.39389967918396,1.0179911851882935,0.7888762354850769,1.0599141120910645,0.6435955762863159,-2.145829677581787,-2.0786378383636475,1.1166831254959106,0.8570393919944763,1.0671534538269043,0.7097195982933044,-1.9131686687469482,1.442718744277954,1.1153713464736938,-1.8665916919708252,0.8097490668296814,1.1939306259155273,-1.745743989944458,-1.925098180770874,-1.822813630104065,-1.8443527221679688,-1.871801495552063,-1.831833839416504,0.5950987339019775,-1.8723607063293457,1.0740126371383667,1.1793562173843384,1.24703848361969,1.0475740432739258,-1.8856066465377808,-1.7820178270339966,0.7215142846107483,1.0481809377670288,0.7001272439956665,0.9048469066619873,1.1722488403320312,0.92255038022995,0.9800573587417603,0.9881758689880371,0.9845490455627441,0.8415054082870483,1.5677573680877686,-2.0823419094085693,-1.9738781452178955,-2.1343326568603516,0.831889271736145,1.452865719795227,-2.159048557281494,-1.7045141458511353,0.7352989315986633,-1.76953125,0.8061128854751587,0.7122319936752319,0.6270230412483215,1.5652271509170532,-1.9244402647018433,-0.96418297290802,-1.6342909336090088,-1.8916189670562744,1.068884253501892,0.8044359087944031,-1.8072618246078491,1.344459056854248,1.040692925453186,-1.4574183225631714,-2.1028356552124023,1.1925162076950073,-2.031844139099121,1.423378586769104,1.3245823383331299,1.1827448606491089,0.871967613697052,1.0141277313232422,1.1227163076400757,-1.9093927145004272,-1.7734442949295044,1.1419429779052734,-1.8392267227172852,1.028082013130188,-1.988648772239685,1.2547246217727661,0.8565754294395447,0.6805346608161926,1.0190770626068115,-2.1808643341064453,0.8081063628196716,-1.9234840869903564,-1.8918447494506836,-1.8642938137054443,1.4107630252838135,1.3059792518615723,-1.9571608304977417,0.7883574962615967,-1.9186463356018066,-1.7810755968093872,-2.0326743125915527,1.1932682991027832,0.996208906173706,0.5545864105224609,0.9335493445396423,1.4431232213974,-1.27357816696167,1.4919854402542114,1.0547983646392822,0.8931652307510376,0.5165635347366333,-1.790879249572754,0.7994545698165894,-2.123154401779175,1.0094634294509888,-1.6627700328826904,0.8250408172607422,1.0851882696151733,-1.9993293285369873,0.6734979152679443,-1.4692274332046509,0.6950636506080627,1.0962975025177002,0.6806805729866028,0.7022503614425659,0.5756738781929016,1.4046727418899536,1.1432033777236938,-1.7600971460342407,0.9612078666687012,0.9812389612197876,1.433404564857483,-1.7175530195236206,0.8165106177330017,1.0261846780776978,-1.7794077396392822,1.3045459985733032,-1.6510120630264282,-1.8352969884872437,-1.823266625404358,-2.224470615386963,1.2148330211639404,-2.0494558811187744,0.6732003688812256,0.9196980595588684,0.6708818078041077,-2.1939709186553955,0.7568553686141968,-1.7709753513336182,0.6430608034133911,0.69162917137146,-1.736449122428894,0.9258906841278076,1.1264381408691406,0.6568509340286255,1.4610652923583984,-1.7519477605819702,0.8665156960487366,-2.199984550476074,0.6334147453308105,0.9603114724159241,0.8413075804710388,-1.7091619968414307,-1.9348423480987549,-2.1874887943267822,-1.6901170015335083,1.101088523864746,1.1219478845596313,1.1383883953094482,1.0225763320922852,-1.763253092765808,1.0004687309265137,1.015497088432312,-1.820798397064209,0.8080788254737854,1.076000690460205,1.0037018060684204,0.6827619075775146,0.590631902217865,0.6041823029518127,-2.028397798538208,-1.7382186651229858,0.7013237476348877,1.0363858938217163,0.9186019897460938,0.709968090057373,0.7507122159004211,0.7236193418502808,-1.5723779201507568,0.6500663757324219,-1.8223882913589478,1.2752864360809326,0.6349869966506958,1.0696319341659546,-2.112854480743408,1.4132614135742188,0.8763935565948486,1.44448983669281,-2.1601266860961914,-1.9796268939971924,-1.8349319696426392,-1.9651151895523071,0.7776719927787781,1.3176195621490479,1.0768171548843384,-1.9594122171401978,1.1187810897827148,-2.0355513095855713,1.2702792882919312,1.4038082361221313,0.8189917802810669,1.5296969413757324,-1.4926095008850098,1.4204121828079224,1.0549248456954956,0.9740579128265381,1.2012971639633179,0.7025842666625977,0.9325173497200012,0.9183999300003052,1.1839412450790405,0.6892650127410889,1.604762315750122,0.8711808323860168,0.5606242418289185,0.7750524878501892,-2.0684525966644287,0.6500930190086365,1.0462889671325684,-1.7367587089538574,0.7879053950309753,-2.2421016693115234,1.589357614517212,1.3364286422729492,-1.7566801309585571,-1.7476967573165894,0.6557738184928894,0.5583952069282532,0.9560457468032837,-1.8096579313278198,1.0637775659561157,0.8542360067367554,1.006062626838684,0.7718762159347534,0.7969495058059692,1.816131830215454,-1.8007632493972778,1.1930358409881592,0.8880680799484253,-1.897097110748291,1.18815279006958,0.9397933483123779,-1.8685765266418457,2.21618914604187,0.736280620098114,1.1000604629516602,1.063795804977417,1.475629448890686,0.7392848134040833,1.2663859128952026,0.7618029117584229,1.4748026132583618,-2.048487663269043,-2.011496067047119,0.8616343140602112,0.6975191235542297,-2.1165692806243896,-1.8262596130371094,0.7250683903694153,1.258710503578186,-1.729217290878296,-1.8589040040969849,-1.7818150520324707,-1.7498048543930054,0.8238305449485779,-1.844565510749817,1.182175636291504,1.2799402475357056,-1.7582274675369263,-1.9030299186706543,-1.5308066606521606,0.9113560318946838,0.7682895064353943,1.0282090902328491,1.423974871635437,0.7625186443328857,1.096997618675232,-1.774577260017395,1.2117290496826172,-1.8008801937103271,-1.7916271686553955,-1.9863231182098389,-2.0402681827545166,-2.012129068374634,0.7501703500747681,0.7794762253761292,0.4951688051223755,0.9265245199203491,0.7691537141799927,1.3277580738067627,1.5800389051437378,1.3632147312164307,0.9641364812850952,0.9369162321090698,-1.760022521018982,-2.1604766845703125,0.8060404062271118,0.9825201034545898,-1.9245059490203857,1.5727856159210205,-1.760475516319275,1.462812900543213,0.9014151096343994,0.9083802103996277,-1.808430552482605,-1.8884779214859009,2.018977403640747,1.133150577545166,-2.1290557384490967,0.9885327219963074,0.836036741733551,0.4843713939189911,0.8006131649017334,1.346322774887085,-1.9743279218673706,-2.1888587474823,0.8902621269226074,-1.7785487174987793,1.271249771118164,0.8834344744682312,-1.7594256401062012,0.5784814953804016,0.9256445169448853,0.8187540769577026,1.0694085359573364,0.7205101847648621,0.7259390354156494,1.1875418424606323,0.8366611003875732,-2.0572192668914795,0.9018902778625488,-2.019895315170288,0.541053295135498,1.0954954624176025,-1.7769875526428223,-1.7874951362609863,0.7737939953804016,0.8798231482505798,0.8932603597640991,1.168449878692627,-1.643315076828003,1.05934739112854,-1.7158029079437256,0.5455785989761353,-1.789432168006897,1.2636630535125732,0.9552949070930481,0.8835692405700684,0.8233662843704224,0.6131574511528015,-1.8584851026535034,-1.9366445541381836,0.8714462518692017,-1.7807807922363281,1.3944172859191895,-1.9292914867401123,-1.78047513961792,0.8095619678497314,1.1000980138778687,1.1149917840957642,-1.9515364170074463,-1.7631865739822388,-1.8375574350357056,-2.0105080604553223,-1.8258086442947388,1.3494586944580078,0.8758619427680969,-1.8920629024505615,-1.9454171657562256,-2.034879446029663,1.109360694885254,-1.8888556957244873,0.9746966361999512,0.8203217387199402,1.3844178915023804,-1.7745035886764526,-2.069601535797119,-1.8093854188919067,-1.2366591691970825,1.3197236061096191,-2.0002524852752686,-1.8457478284835815,0.8305385112762451,0.635437548160553,0.7818619608879089,-2.070664644241333,1.5114575624465942,1.3919978141784668,-1.7182977199554443,1.0166162252426147,1.571981430053711,1.63777494430542,-1.791807770729065,0.5722240805625916,-2.0410752296447754,1.1230978965759277,-1.8669090270996094,0.8834900259971619,1.4329452514648438,1.0483410358428955,1.597906470298767,0.9410430192947388,-1.9009267091751099,-1.944732666015625,-1.9636421203613281,-1.9902441501617432,1.4562902450561523,-1.8967137336730957,-1.9406241178512573,0.8125953078269958,1.038658618927002,0.978080689907074,-1.7867190837860107,1.146959900856018,1.6819794178009033,1.6908113956451416,0.7071592211723328,0.9433358311653137,0.6869115233421326,-1.960518479347229,-0.9703026413917542,-2.068683385848999,0.9321659803390503,0.6904207468032837,-1.993579387664795,1.2564634084701538,1.245294451713562,1.0000884532928467,1.6563904285430908,-2.0940194129943848,1.4291775226593018,1.0575324296951294,0.906029224395752,0.9636554718017578,0.49814626574516296,0.8428504467010498,1.3463749885559082,0.8346129655838013,1.11263108253479,1.2185167074203491,-1.6502923965454102,1.0746835470199585,-1.9385995864868164,0.9926304817199707,1.1972676515579224,-1.5999428033828735,-2.1190073490142822,0.8770744204521179,0.961456835269928,-1.8512574434280396,-1.771793246269226,0.9487160444259644,0.8121169209480286,-2.1387665271759033,-1.9783942699432373,-1.9346617460250854,-1.9867092370986938,0.6144183874130249,-1.84306001663208,0.9469689130783081,1.2060292959213257,1.1172282695770264,-1.970603108406067,0.9756546020507812,0.9449104070663452,-1.9822516441345215,-2.049859046936035,1.5399413108825684,1.3584845066070557,1.1583706140518188,1.2296019792556763,-1.909754991531372,0.824024498462677,0.8988214135169983,1.4627959728240967,-2.0719339847564697,0.5171108841896057,1.43888258934021,0.7483590841293335,0.5565034747123718,1.5530540943145752,0.5680528283119202,1.2516051530838013,-1.760428786277771,-1.8334237337112427,1.628705382347107,-1.762381672859192,1.1649351119995117,-1.3793275356292725,-1.8330793380737305,-1.8253949880599976,1.2378137111663818,1.320738673210144,-1.991355538368225,0.7466850280761719,1.5585379600524902,0.9118316173553467,-1.8872612714767456,-2.0453848838806152,1.0757522583007812,0.9234246015548706,0.8928698897361755,0.6842426061630249,-1.7850606441497803,-1.9214974641799927,1.2091718912124634,0.9255848526954651,0.8838435411453247,0.9693450331687927,1.3086040019989014,0.6029366850852966,1.1405903100967407,0.7750678062438965,-2.108449935913086,1.0815815925598145,-1.9405163526535034,-1.9140255451202393,0.726310133934021,1.3333836793899536,0.9779988527297974,1.3293207883834839,1.183347225189209,0.8386121392250061,-1.8668309450149536,1.0291568040847778,1.3492505550384521,0.47648367285728455,0.539586067199707,-1.5952738523483276,-1.783329725265503,0.8403249979019165,-2.0626108646392822,-2.030987024307251,0.6088140606880188,0.9013922214508057,0.6348275542259216,0.8263182640075684,1.0113420486450195,1.3681756258010864,-1.7232658863067627,-2.022216796875,-2.094231367111206,-2.0485057830810547,-1.8962184190750122,0.8766236901283264,1.2924636602401733,1.0147700309753418,-1.945937156677246,-2.09975266456604,1.5177994966506958,0.6287968754768372,1.1740639209747314,-1.7924158573150635,1.2579929828643799,-1.5251832008361816,0.743827760219574,1.20145583152771,-1.8619635105133057,1.0657135248184204,0.8769916892051697,1.7020623683929443,0.7012567520141602,-2.1276729106903076,-2.1360981464385986,0.9436454772949219,1.1881539821624756,-2.236907720565796,1.7035512924194336,-1.8367303609848022,0.9943576455116272,1.2720884084701538,-1.981491208076477,-1.9343626499176025,0.7327331304550171,1.4244110584259033,0.7551325559616089,-1.8855228424072266,1.0116286277770996,1.0212162733078003,1.069123387336731,-1.8963816165924072,1.018051028251648,-1.7341328859329224,1.060091257095337,-2.0723655223846436,1.371018886566162,1.2087149620056152,-1.800341010093689,1.556138277053833,-2.0001866817474365,1.168155550956726,1.2347573041915894,0.7074223756790161,1.0733009576797485,0.6576822400093079,1.8132089376449585,0.8539124131202698,0.8055868148803711,-2.0682482719421387,-1.8209846019744873,0.7820854783058167,0.7058319449424744,1.1230343580245972,1.2063360214233398,0.6509629487991333,0.8014001250267029,0.8788119554519653,1.0778281688690186,0.850348174571991,-1.843307375907898,1.0735851526260376,-1.564184546470642,1.3518937826156616,1.4088099002838135,1.6770433187484741,1.3140032291412354,0.8527709245681763,-2.1248903274536133,-1.2914444208145142,-2.090235471725464,0.7715256214141846,0.42858773469924927,0.7742274403572083,0.5641505718231201,1.2099835872650146,1.0450211763381958,1.073624610900879,1.0473577976226807,1.0773625373840332,-1.7105921506881714,0.7000370025634766,1.326248288154602,1.0857534408569336,1.3302803039550781,1.1122782230377197,-1.9678525924682617,-1.8554713726043701,1.2588045597076416,0.6837447881698608,1.4974920749664307,1.1896438598632812,0.7501584887504578,-1.707950472831726,0.7065826058387756,-1.152117133140564,-1.9749358892440796,-2.003688097000122,-2.2082443237304688,0.9145013093948364,-1.6779584884643555,1.1562598943710327,-1.9529480934143066,1.3954441547393799,0.9387497305870056,1.2009048461914062,1.3341020345687866,0.7602897882461548,-2.1056134700775146,-1.8824548721313477,0.9187636375427246,-1.7185200452804565,-1.878320336341858,1.3046752214431763,0.9446865916252136,-2.0060830116271973,0.6142128705978394,0.9387605786323547,1.7639126777648926,0.8354628086090088,1.1624897718429565,0.6117150783538818,0.6883329749107361,-1.9184588193893433,1.6391276121139526,-1.8488022089004517,-1.8821649551391602,-2.0477144718170166,1.1007585525512695,-2.2104990482330322,1.2249876260757446,0.9580776691436768,-1.7133824825286865,-2.050340414047241,1.1599935293197632,-1.456591248512268,2.5180296897888184,1.236357569694519,0.8351638913154602,1.1858439445495605,-2.0839297771453857,0.36309078335762024,-1.8928035497665405,1.2409031391143799,0.9779682159423828,-1.7577179670333862,1.032581090927124,-2.2308788299560547,1.0073598623275757,-2.0386970043182373,1.1321722269058228,-2.0638821125030518,0.8910847306251526,0.5444345474243164,1.1014132499694824,0.9601505994796753,-1.9415310621261597,0.7070490121841431,-1.8729676008224487,0.9240726828575134,-1.9069875478744507,1.4864306449890137,-1.9934206008911133,-1.8056972026824951,-1.9578588008880615,0.9377607703208923,0.9363839626312256,1.1335182189941406,-1.9931612014770508,1.1204081773757935,1.422501802444458,0.5975555777549744,1.0544532537460327,0.9394038319587708,-1.7404958009719849,0.840868353843689,-1.9801145792007446,1.168509602546692,-2.090247392654419,1.43975031375885,0.9907376170158386,1.3221646547317505,0.8943449854850769,-1.8129767179489136,0.8230968117713928,-1.8393112421035767,-1.492153286933899,-1.9647828340530396,-1.77432119846344,1.795854926109314,1.2614927291870117,-1.3246256113052368,-1.7551569938659668,0.9776687622070312,-1.6938680410385132,0.8007274270057678,0.5843328833580017,0.7474187016487122,1.0025606155395508,1.796369194984436,0.8417258262634277,0.7231414318084717,0.7758684158325195,-2.056267738342285,-2.02256441116333,-1.8644828796386719,1.5179716348648071,0.7366523146629333,-1.7476904392242432,0.46623727679252625,-1.6880292892456055,-1.7740355730056763,-1.7963600158691406,0.5517706274986267,0.6071485280990601,-1.8070168495178223,-1.6190415620803833,-1.8184460401535034,0.9817148447036743,0.532619059085846,1.041715383529663,-1.5458942651748657,0.7435505390167236,2.1324265003204346,1.2447251081466675,0.9901649355888367,-1.9684756994247437,-2.119162082672119,-1.8820427656173706,1.208693504333496,1.0647889375686646,1.4635869264602661,-1.9356422424316406,-2.0180788040161133,0.9535636901855469,-1.7128595113754272,-1.8104579448699951,0.7051290273666382,0.7155433893203735,0.9915804862976074,-2.0676138401031494,0.9758743643760681,-1.8078699111938477,0.6550261378288269,0.6429101228713989,0.7628505825996399,1.0289133787155151,-1.8776624202728271,0.9212686419487,0.6911860108375549,1.6868081092834473,1.2433264255523682,0.5738623142242432,0.761256992816925,0.5276588201522827,0.874514102935791,0.8574884533882141,-1.805627465248108,1.0520049333572388,-2.0660266876220703,0.9342103600502014,1.2202231884002686,-1.7040783166885376,0.8073664307594299,-2.106729030609131,0.5635653734207153,0.7677919268608093,-1.6401703357696533,0.863383412361145,-1.7869049310684204,0.9919807314872742,1.3566830158233643,1.0004764795303345,1.0695774555206299,-1.4469256401062012,0.9862117171287537,0.5607149600982666,0.6748927235603333,0.7636961936950684,1.0070265531539917,0.7528663277626038,0.5174160003662109,0.9419758319854736,1.2208861112594604,1.0890551805496216,0.6247381567955017,1.1417986154556274,1.0822049379348755,0.9277918934822083,0.6441401839256287,0.7168458700180054,1.2081836462020874,0.5343244671821594,1.2584877014160156,0.6314091682434082,0.7139182090759277,0.8317690491676331,0.8292521834373474,0.895545482635498,-1.6682045459747314,1.3424878120422363,0.6570175886154175,1.1207557916641235,1.1754419803619385,0.8830400705337524,1.1462395191192627,0.8465182185173035,0.47876763343811035,0.911200225353241,0.691613495349884,0.5505160093307495,0.8229813575744629,-1.3886722326278687,1.2187786102294922,-2.2169480323791504,1.0483198165893555,-1.3627294301986694,0.92054283618927,-1.8854825496673584,-1.6948156356811523,0.9823014736175537,1.1334254741668701,0.7784499526023865,0.7054583430290222,0.7618834376335144,0.9013952612876892,0.9563780426979065,0.8856068849563599,0.8039733171463013,1.0980418920516968,0.8316616415977478,0.5180718898773193,0.5764613747596741,0.5157421231269836,-1.8457921743392944,0.9595140218734741,1.198709487915039,1.1339830160140991,1.333267331123352,1.1021190881729126,0.67247074842453,0.8520078063011169,0.9219096899032593,1.029166340827942,1.1285945177078247,0.9986047744750977,1.0089998245239258,-1.7752463817596436,0.6583945155143738,1.702900767326355,0.7168378233909607,1.2677221298217773,1.0315024852752686,0.7504090070724487,-1.1890935897827148,-1.084592342376709,-1.7883135080337524,1.246825098991394,0.7367658019065857,0.979893147945404,1.1983798742294312,0.7007032632827759,0.561572790145874,0.9309011697769165,0.945986270904541,-1.5443700551986694,1.1708167791366577,0.7725161910057068,2.178507089614868,1.2424901723861694,1.0902329683303833,0.8235784769058228,1.7737970352172852,1.2220202684402466,1.2325918674468994,1.043510913848877,0.9238138198852539,1.0446913242340088,0.6713843941688538,0.8360734581947327,0.9679448008537292,0.5937867760658264,0.9003450274467468,0.7383200526237488,1.072665810585022,1.001308560371399,-1.8761590719223022,-1.5592504739761353,-2.1779568195343018,1.2399951219558716,-1.6975468397140503,0.8902696371078491,0.5580305457115173,0.8093847036361694,1.0278006792068481,0.7735059261322021,0.8325481414794922,1.2378475666046143,1.6537262201309204,-1.5921921730041504,0.5302441716194153,0.6696522235870361,0.5645300149917603,0.7785449028015137,0.5245811939239502,0.6845756769180298,0.5141817331314087,1.5401021242141724,0.7885366082191467,0.7211703062057495,1.0978111028671265,0.865684986114502,0.8331264853477478,1.2389013767242432,0.9059891104698181,0.7423856854438782,0.9167479872703552,0.8496232032775879,-1.7760040760040283,1.6479272842407227,0.9979188442230225,-2.067063570022583,-1.9649157524108887,-1.7151178121566772,-1.817124605178833,-2.0078132152557373,0.7018011212348938,1.0915560722351074,0.7722920179367065,0.9467748403549194,0.895539402961731,0.6113386154174805,-1.8651453256607056,0.7377906441688538,1.2626935243606567,-1.6418635845184326,1.2420319318771362,1.4857701063156128,-1.5872892141342163,-2.008375883102417,-1.0413570404052734,1.3140993118286133,1.1784206628799438,0.8602586984634399,-2.0181562900543213,0.9312310218811035,1.0953041315078735,0.8318575024604797,1.0208543539047241,-2.048722505569458,1.0014078617095947,1.174128770828247,1.1198171377182007,1.2535455226898193,1.1538023948669434,0.9595600962638855,1.0997889041900635,0.9754658937454224,-1.507719874382019,1.2536619901657104,1.3439946174621582,1.1412086486816406,1.420414686203003,1.351344108581543,0.8396694660186768,0.9095652103424072,0.6179562211036682,0.9463164806365967,0.9649348258972168,0.6925204396247864,-1.8782000541687012,0.8698447346687317,-1.566198706626892,0.8631033897399902,1.4254928827285767,1.0742428302764893,0.840364933013916,1.346191167831421,-1.427446961402893,-2.1063153743743896,0.8231420516967773,-1.873987078666687,1.046533226966858,-1.9043458700180054,0.9579681754112244,1.3236596584320068,1.337431788444519,-1.8660590648651123,1.3297145366668701,1.4744441509246826,0.772297739982605,-1.604669213294983,1.2786751985549927,0.8062513470649719,1.0200607776641846,1.5054428577423096,1.0026105642318726,0.9223285913467407,1.3826236724853516,-2.171067714691162,1.500916838645935,1.0196739435195923,-1.7627102136611938,-1.4001622200012207,0.8007725477218628,0.9923644661903381,-1.515182375907898,0.7014766335487366,-1.94377601146698,-2.226363182067871,1.2800449132919312,1.1103798151016235,1.333892583847046,0.8901786804199219,1.0730334520339966,-1.7942173480987549,-1.8297336101531982,0.9758746027946472,0.7243472933769226,0.7062677145004272,1.2116546630859375,0.6905838847160339,-1.7536191940307617,0.9369812607765198,0.8698278069496155,1.1233370304107666,1.0671583414077759,-2.065087080001831,1.393641471862793,1.00339937210083,1.094261884689331,0.9114075899124146,0.848943293094635,1.1535134315490723,0.5448586940765381,0.6663632392883301,-0.710269570350647,-2.0459084510803223,-0.7355878949165344,0.8258994221687317,-1.1586490869522095,0.8282791972160339,1.453153133392334,1.0449233055114746,1.2465699911117554,1.4772056341171265,1.689527153968811,0.8924246430397034,-2.1126649379730225,0.8438531160354614,1.0681743621826172,1.1606892347335815,0.831607460975647,1.2744108438491821,-1.9305973052978516,1.4719175100326538,0.7984679937362671,0.8237499594688416,-2.0073983669281006,1.0153330564498901,1.057579517364502,-1.4205827713012695,0.9753249883651733,0.7195367217063904,1.0876561403274536,1.3435673713684082,-1.9845834970474243,1.0897027254104614,-1.9854493141174316,0.9596582651138306,0.9967594742774963,1.095903992652893,0.9584262371063232,0.9813781380653381,0.970445990562439,1.0060962438583374,-1.466907024383545,1.0355910062789917,1.0385980606079102,0.5829933285713196,0.7549132108688354,1.0539636611938477,-1.6140905618667603,0.9334846138954163,1.0835285186767578,0.7877914905548096,1.057232141494751,0.9830265045166016,1.0216456651687622,0.8223401308059692,-1.769465446472168,0.906968891620636,-1.8762636184692383,1.0581064224243164,0.8326990604400635,-1.5104304552078247,-1.6728376150131226,0.9452525973320007,-1.5395135879516602,0.9948259592056274,-1.5039951801300049,-1.491330623626709,0.7923957705497742,0.961357831954956,1.2888948917388916,-1.7681505680084229,-1.668824315071106,1.057753086090088,1.1532042026519775,0.9096407890319824,0.9976542592048645,1.012702465057373,0.9754678606987,-1.9601235389709473,-2.022526264190674,-1.790925145149231,1.020434021949768,-2.082521677017212,1.0117197036743164,1.3573424816131592,0.9930867552757263,1.1203750371932983,-1.6305346488952637,0.8975902199745178,-2.1367273330688477,1.0305548906326294,1.1771026849746704,1.2944538593292236,1.0315213203430176,1.1306718587875366,-1.7763524055480957,1.0289006233215332,0.6610521078109741,-1.5381122827529907,-1.030951976776123,0.953300952911377,-1.9584063291549683,1.734401822090149,2.242064952850342,2.0192508697509766,0.7645777463912964,-1.690189003944397,1.3538024425506592,1.1113636493682861,1.6747002601623535,1.0063220262527466,-1.4493855237960815,0.7320469617843628,-2.1524648666381836,-1.9206039905548096,0.9954723715782166,1.194823980331421,1.0775586366653442,-1.963146686553955,-1.5344253778457642,0.8836671113967896,0.9807812571525574,1.2595115900039673,1.0607095956802368,0.8509447574615479,-1.925365924835205,-1.7565829753875732,0.8766228556632996,1.5804377794265747,1.2598865032196045,1.2404496669769287,1.109315037727356,0.908113956451416,1.1213322877883911,0.9578409790992737,1.0891542434692383,1.4765478372573853,-1.627511739730835,-2.032467842102051,-1.4021368026733398,1.5903022289276123,0.9610446691513062,0.8967191576957703,1.0866211652755737,0.9565314650535583,1.0287772417068481,1.2141952514648438,1.3851689100265503,1.0049275159835815,0.8425484299659729,0.8546827435493469,0.6828973889350891,-1.5897260904312134,0.81344074010849,0.994617223739624,1.0938752889633179,-1.5037869215011597,1.3438104391098022,1.046303629875183,0.9855453372001648,-2.2935400009155273,1.0845409631729126,1.314348816871643,1.2148611545562744,-1.5862582921981812,1.0338494777679443,0.8146183490753174,-2.1604878902435303,0.8117355704307556,1.031105637550354,-1.0135459899902344,1.4859246015548706,-1.4637916088104248,-1.685336947441101,0.2300218641757965,1.2132890224456787,1.1221317052841187,-2.0768954753875732,1.4163020849227905,0.9944972395896912,1.0360406637191772,0.9579209089279175,1.295882225036621,0.9918407797813416,1.5022965669631958,-1.619197964668274,1.353842854499817,1.353145718574524,1.994635820388794,0.9664464592933655,-1.3986445665359497,-2.069685220718384,0.9467068910598755,1.2587240934371948,1.359473466873169,-1.395107626914978,2.1354854106903076,1.7198718786239624,1.0619604587554932,-1.8551603555679321,0.9906824231147766,-1.673557162284851,1.09279465675354,-1.6985281705856323,1.39780592918396,1.1685099601745605,-1.773262858390808,1.4645224809646606,-2.019364833831787,0.9318094849586487,1.085113286972046,1.7970308065414429,1.267712116241455,1.2291333675384521,1.3633521795272827,-1.3139898777008057,1.4000897407531738,1.0598188638687134,1.3669016361236572,1.0883747339248657,1.7162946462631226,-1.4478895664215088,1.48259699344635,0.7272313237190247,1.095229148864746,-1.232893943786621,1.2655125856399536,1.3873034715652466,1.243769645690918,1.1721560955047607,1.7674871683120728,1.0323566198349,1.127690315246582,0.973261296749115,1.2621842622756958,0.6714760065078735,1.2125405073165894,0.9888595938682556,-1.8784444332122803,-1.210433840751648,1.3994909524917603,-1.539793610572815,-2.13607120513916,1.4500166177749634,-1.6103039979934692,1.1762114763259888,1.053011178970337,1.4098660945892334,1.7794272899627686,-1.6506065130233765,1.284857988357544,-1.5484979152679443,2.008877754211426,2.516995906829834,0.966262698173523,1.1980936527252197,1.055949330329895,1.350540280342102,1.1727142333984375,-1.7401845455169678,-1.6731956005096436,0.6256589293479919,-2.1020960807800293,1.267589807510376,1.01398503780365,-2.032242774963379,-2.028538942337036,1.0509274005889893,-1.2906259298324585,0.9788387417793274,1.0032165050506592,1.1576248407363892,0.8267614841461182,0.8581463098526001,0.5965423583984375,1.0388834476470947,1.2771573066711426,1.2292438745498657,-1.6902137994766235,1.048116683959961,-1.246545433998108,-1.4247037172317505,-2.0472562313079834,0.8139353394508362,1.2907688617706299,-2.130262851715088,0.8473947048187256,-1.3926209211349487,1.092844009399414,0.7856705188751221,-1.7507566213607788,1.244099497795105,1.1970248222351074,1.1525148153305054,0.883865237236023,-1.4933851957321167,-1.497680902481079,-1.903763771057129,1.444264531135559,1.153896689414978,-1.6458899974822998,1.1015827655792236,0.6913670301437378,-2.2236745357513428,1.3704075813293457,1.1292864084243774,-2.1851987838745117,1.3431028127670288,1.2320138216018677,-2.1585466861724854,1.0367056131362915,0.7958886027336121,1.184149980545044,-1.6694607734680176,1.133795976638794,1.2688270807266235,0.7460509538650513,0.7572223544120789,0.7617380023002625,1.1232808828353882,0.7143187522888184,1.0935533046722412,1.291258692741394,-1.9878746271133423,0.8879460692405701,0.8687870502471924,1.230294942855835,-1.9452099800109863,1.1303385496139526,-1.4065885543823242,1.046271562576294,1.2549442052841187,1.304627537727356,-1.677676796913147,0.7066190838813782,1.239280343055725,0.9975123405456543,1.0899285078048706,0.8216788172721863,-1.9080731868743896,1.2775540351867676,0.886654794216156,2.6847615242004395,0.6006634831428528,0.7770743370056152,1.2364789247512817,1.112898588180542,1.0768027305603027,1.0708446502685547,-1.7101809978485107,1.1836786270141602,-2.095170021057129,-2.3263466358184814,-2.233484983444214,-1.9906628131866455,1.3775572776794434,-1.2369320392608643,1.1052677631378174,-2.3870580196380615,1.2356903553009033,1.1040488481521606,0.8587764501571655,-1.9404704570770264,1.5379785299301147,1.314480185508728,0.8695439100265503,1.615623116493225,1.0387173891067505,0.6967185139656067,-1.8457932472229004,0.7777516841888428,1.3543075323104858,-1.864731788635254,1.8005043268203735,1.1801540851593018,1.2971926927566528,-1.4959834814071655,-2.0600967407226562,1.4736567735671997,1.511493444442749,1.1193002462387085,0.8861211538314819,1.114174485206604,-1.0096657276153564,1.3936163187026978,-1.767453908920288,-1.7812391519546509,0.8638194799423218,-1.8776087760925293,0.873863697052002,0.961085855960846,-1.8622338771820068,0.7138747572898865,1.4275600910186768,0.9986827373504639,1.3554670810699463,1.3272663354873657,0.8880171775817871,-2.096310615539551,-2.0237627029418945,0.686225950717926,1.1997982263565063,-1.9513074159622192,0.9103665947914124,0.6602550148963928,1.8749793767929077,1.043350338935852,0.6019186973571777,0.790493369102478,1.163304090499878,-1.9441461563110352,-1.1675843000411987,0.8294913172721863,-1.6261945962905884],\"y\":[0.06636069715023041,0.05448368936777115,-0.1547575443983078,0.04583176225423813,-0.010890386067330837,-0.0048531596548855305,-0.0414719395339489,0.1723056137561798,0.10121717303991318,-0.10158843547105789,-0.009624330326914787,0.026476986706256866,-0.018693314865231514,-0.01193704642355442,0.13689753413200378,-0.2000429630279541,-0.2376229614019394,-0.020740997046232224,0.05404868349432945,-0.01697934791445732,-0.1631437987089157,0.09272201359272003,0.28848904371261597,-0.12683488428592682,-0.04189535602927208,0.09486806392669678,0.2874811887741089,0.12158340960741043,-0.10134238004684448,0.0815310999751091,-0.11118698120117188,0.44757625460624695,0.08078061789274216,0.009749178774654865,0.2735748887062073,-0.12314505875110626,0.01618221029639244,-0.00979575514793396,0.1750081330537796,-0.2061649113893509,0.014190401881933212,0.5050740242004395,0.0005569214117713273,-0.15651577711105347,0.09381238371133804,-0.012380206026136875,-0.006633058190345764,0.11073841154575348,0.04876048490405083,0.009218751452863216,-0.006436564028263092,0.018625717610120773,0.005526270717382431,-0.10784658789634705,-0.11000863462686539,-0.009942769072949886,-0.09193966537714005,0.09632792323827744,-0.0037719225510954857,0.030271243304014206,-0.19711847603321075,-0.029277604073286057,-0.05070113390684128,0.01985788717865944,0.13750547170639038,-0.0025393671821802855,0.023468373343348503,0.4297069311141968,0.011219032108783722,0.13782300055027008,-0.08232922852039337,0.04412312060594559,-0.05994225665926933,0.14130190014839172,-0.0335266999900341,0.004523869603872299,0.10531805455684662,-0.09648636728525162,0.016871897503733635,0.0168016217648983,-0.14115890860557556,0.07357319444417953,-0.025211088359355927,-0.199983149766922,0.09915745258331299,-0.1596078723669052,-0.06883670389652252,-0.03922346606850624,-0.36032259464263916,-0.03994152322411537,0.013251186348497868,0.06595814228057861,0.24324166774749756,0.06817346811294556,0.11579164117574692,0.00023981381673365831,0.009843404404819012,-0.1973331868648529,0.0350680947303772,0.20398978888988495,0.14764510095119476,-0.14542171359062195,-0.04820298030972481,0.023313887417316437,-0.020544780418276787,0.02375725843012333,0.21480749547481537,-0.12811490893363953,-0.001817817217670381,-0.009833439253270626,0.032129064202308655,0.08161681145429611,0.01881628856062889,-0.23716305196285248,0.002533102175220847,0.0071679940447211266,-0.1489763855934143,0.11201947182416916,-0.0001262561127077788,0.16223463416099548,-0.005480449181050062,-0.018528101965785027,0.08783404529094696,-0.09158391505479813,-0.18937592208385468,-0.22399216890335083,0.04713371396064758,0.01727554388344288,0.041832007467746735,-0.3011855483055115,-0.04853580892086029,-0.19914352893829346,0.11099332571029663,0.005206018220633268,-0.04281233623623848,-0.19675086438655853,0.04550303891301155,0.03054674156010151,0.12548834085464478,-0.1743401437997818,0.07061022520065308,0.13328269124031067,0.055669140070676804,0.014915474690496922,0.16365227103233337,0.12219081819057465,-0.03129102289676666,-0.036073390394449234,-0.13189655542373657,-0.22830109298229218,0.18518459796905518,0.0665852501988411,0.011272457428276539,0.023120790719985962,-0.19526369869709015,0.052545856684446335,-0.03914560005068779,-0.13068309426307678,0.017531685531139374,0.07878725975751877,-0.20984326303005219,-0.029846280813217163,-0.11572276800870895,-0.06409558653831482,0.04752466082572937,-0.14860732853412628,-0.25185248255729675,-0.005852086935192347,-0.1461682766675949,-0.07413318753242493,-0.03600171580910683,-0.3158954083919525,-0.11278577148914337,-0.20102716982364655,-0.1656918227672577,0.29014939069747925,0.055114198476076126,0.09364030510187149,-0.13571582734584808,0.012851274572312832,-0.0471249558031559,0.0038647903129458427,-0.13959090411663055,0.019919568672776222,-0.06554107367992401,0.4327338635921478,-0.038675665855407715,0.14642298221588135,0.0004227002791594714,0.059716541320085526,-0.14563621580600739,0.014479358680546284,-0.16355128586292267,0.19103732705116272,0.27014175057411194,0.008625599555671215,0.036870334297418594,-0.09478497505187988,-0.21252048015594482,0.23926207423210144,-0.10249868035316467,-0.026678770780563354,-0.035577524453401566,0.07022058963775635,0.057742808014154434,-0.028602661564946175,-0.08603484183549881,-0.0046617863699793816,-0.18849888443946838,-0.04097574204206467,0.027607981115579605,-0.035285867750644684,0.3241402208805084,-0.2117117941379547,0.0818253606557846,0.15229187905788422,-0.04261704906821251,-0.19922813773155212,-0.010934899561107159,-0.19394059479236603,0.02830333821475506,0.04481048882007599,-0.3028320074081421,0.13289085030555725,0.06244309991598129,0.2564244866371155,-0.11500430107116699,0.050435423851013184,0.05633167549967766,0.13245750963687897,-0.04349524527788162,0.04679934307932854,-0.04580433666706085,-0.04010084643959999,-0.09453592449426651,-0.10313308984041214,-0.04047819972038269,-0.016233494505286217,-0.09730643033981323,0.025693977251648903,-0.05383548513054848,-0.0015034701209515333,-0.03732952103018761,0.06205155327916145,0.08216994255781174,0.028166389092803,-0.31141147017478943,-0.0911804661154747,0.027130844071507454,0.024210141971707344,-0.05981048569083214,-0.017403682693839073,-0.0180484838783741,0.0736340805888176,0.08185279369354248,0.005195345263928175,-0.016851186752319336,0.020393332466483116,0.10885963588953018,0.08926700055599213,-0.008941834792494774,0.09808702766895294,-0.027337636798620224,0.029596269130706787,0.1805655062198639,-0.06279606372117996,-0.14181579649448395,0.03999589383602142,-0.015513450838625431,-0.1032830998301506,0.13964349031448364,0.06367992609739304,0.016979437321424484,0.27760374546051025,0.07548374682664871,-0.16108764708042145,0.03254071623086929,-0.18893037736415863,-0.13855640590190887,-0.1712270975112915,0.025736309587955475,-0.005730568431317806,-0.1995922476053238,-0.12173906713724136,-0.009557153098285198,0.028815744444727898,-0.001843530684709549,-0.11842614412307739,-0.005714228842407465,0.0023071321193128824,0.2950730621814728,-0.1809108853340149,-0.25265976786613464,-0.18048150837421417,-0.18027125298976898,-0.03835037723183632,0.016938062384724617,0.03172894939780235,-0.3109443187713623,-0.09994841367006302,0.10544981062412262,0.17503270506858826,-0.04785334691405296,-0.10570306330919266,0.12498044967651367,0.21887533366680145,-0.01926550641655922,0.021946771070361137,-0.006000370252877474,0.01586443930864334,0.018503103405237198,-0.03743495047092438,-0.1440948098897934,-0.16356982290744781,0.027495229616761208,0.08291368931531906,0.038782086223363876,0.22257229685783386,0.046636320650577545,-0.04470192268490791,-0.06435653567314148,0.08000605553388596,0.03885006532073021,0.09408395737409592,-0.14098764955997467,0.014642062596976757,0.0861145555973053,-0.08388010412454605,0.024258116260170937,-0.07274962216615677,0.05012618377804756,-0.11423075944185257,-0.09785279631614685,0.04107671231031418,-0.06612766534090042,0.07052776217460632,0.006396427750587463,0.01050602924078703,-0.005691921804100275,-0.08735978603363037,0.04453812167048454,0.11494199931621552,0.03191998600959778,0.02643013186752796,0.28457772731781006,0.0493042878806591,0.007559192832559347,0.046885378658771515,0.1092490404844284,-0.1625344604253769,-0.14544443786144257,0.050202254205942154,0.16947460174560547,-0.0366528145968914,-0.012587791308760643,-0.13784809410572052,-0.017400281503796577,-0.0003115790314041078,0.03623179718852043,0.05852747708559036,0.013723570853471756,-0.0013067529071122408,0.05785384029150009,0.10286660492420197,0.012033973820507526,-0.20627063512802124,0.04790870100259781,-0.17480094730854034,-0.22793403267860413,-0.036833640187978745,0.21389493346214294,0.05647432431578636,0.18731431663036346,-0.04601981118321419,0.2789534032344818,-0.06882024556398392,0.17647479474544525,-0.036059677600860596,-0.04800644889473915,0.005043011624366045,0.04905639961361885,-0.05340670794248581,-0.13910815119743347,0.24730853736400604,0.16528713703155518,-0.1335071623325348,0.027961773797869682,-0.1485019028186798,0.42558416724205017,-0.048519037663936615,-0.0029869885183870792,0.23612579703330994,0.0582638755440712,-0.019756749272346497,-0.016013525426387787,-0.02040030062198639,-0.024130387231707573,-0.08503926545381546,-0.12010214477777481,0.13503877818584442,0.05232684314250946,-0.20049414038658142,0.049075596034526825,0.004434681497514248,-0.15962660312652588,0.22366684675216675,0.06889014691114426,-0.11737771332263947,0.05541500076651573,0.04241332411766052,-0.20481887459754944,-0.04594907537102699,0.1268835961818695,0.04602972790598869,-0.007729522883892059,0.11092876642942429,0.11853472143411636,0.2057671993970871,-0.2580024302005768,-0.02293923683464527,-0.07976239919662476,0.18614767491817474,-0.18663667142391205,0.2314811795949936,-0.013667748309671879,0.07844842970371246,0.11222059279680252,-0.01565437577664852,0.07871642708778381,-0.03207273408770561,-0.16683784127235413,0.07609131187200546,-0.2127375602722168,0.02591828815639019,-0.01854400709271431,-0.01829896681010723,-0.08737072348594666,-0.29747214913368225,0.01071504969149828,0.0025065229274332523,0.15785405039787292,0.07124996930360794,-0.04333866015076637,0.0040775490924716,-0.28627708554267883,0.16498202085494995,0.04259231314063072,-0.1056806743144989,-0.0030782828107476234,-0.04773033410310745,0.014232078567147255,-0.1361417919397354,0.10587332397699356,-0.04158192127943039,-0.30111992359161377,0.17146249115467072,0.13882382214069366,0.04850998520851135,-0.19059346616268158,0.0528176985681057,-0.04153521731495857,0.0300151277333498,0.2018459290266037,0.1493261307477951,-0.00800393894314766,-0.29421117901802063,0.8163658380508423,-0.005404571071267128,-0.015019779093563557,0.041390951722860336,0.14347369968891144,0.30238592624664307,0.2143792062997818,0.03542667254805565,-0.16896693408489227,0.07638537138700485,-0.1080993264913559,0.012636560015380383,-0.0016054336447268724,0.06864427030086517,0.04722079262137413,0.04105667024850845,-0.05400139465928078,0.025697870180010796,-0.21152161061763763,0.24369217455387115,-0.09263529628515244,-0.11577542126178741,-0.1847730129957199,0.01633237861096859,0.04032118245959282,-0.016826225444674492,-0.05488654971122742,0.08728430420160294,0.05196613818407059,0.058849036693573,-0.02202901802957058,-0.1126033216714859,0.053194575011730194,0.11028315871953964,-0.09607835114002228,-0.10202144086360931,-0.002197643741965294,-0.14577245712280273,-0.046122800558805466,0.02314774878323078,-0.11279316991567612,0.12780672311782837,-0.1346319615840912,0.27137675881385803,0.07532399892807007,0.034553173929452896,0.11787523329257965,0.018177011981606483,0.18785130977630615,0.5853224992752075,0.11002223193645477,0.1250399649143219,-0.010632997378706932,0.04460321366786957,-0.004728068597614765,-0.017594000324606895,0.07572862505912781,0.029428422451019287,-0.0020303819328546524,0.07830140739679337,0.009791175834834576,0.23065513372421265,0.02096681483089924,0.33083173632621765,-0.1905435174703598,0.048289261758327484,0.0435560904443264,0.08749118447303772,0.07277819514274597,0.048756714910268784,0.15752190351486206,0.1789965182542801,-0.19770082831382751,0.013301135040819645,-0.1982956975698471,-0.006436848547309637,-0.04781736806035042,0.012483020313084126,-0.03578072786331177,0.01174857560545206,0.06440968811511993,-0.11647143959999084,-0.010717983357608318,0.13079310953617096,0.030554354190826416,-0.003902341239154339,0.027880102396011353,-0.15828430652618408,0.1089213415980339,0.023889224976301193,0.0012362615671008825,-0.012593714520335197,-0.2886585295200348,0.04002286121249199,-0.27743473649024963,0.2687658369541168,-0.1977032572031021,-0.09230953454971313,-0.04803953319787979,0.037925299257040024,-0.1309834122657776,-0.009382713586091995,-0.08580680936574936,0.02973836660385132,-0.1002129316329956,-0.10395801067352295,-0.1258097141981125,-0.17031137645244598,0.0018850761698558927,0.07955562323331833,-0.006500497926026583,0.052340079098939896,-0.1202867329120636,-0.21239309012889862,0.040741704404354095,0.052218958735466,0.13863006234169006,-0.043879348784685135,-0.013203823007643223,-0.019018663093447685,-0.024186452850699425,-0.0029215074609965086,0.0028613111935555935,0.051879484206438065,0.0038941509556025267,-0.12335225194692612,0.03957759588956833,-0.25807690620422363,-0.12285183370113373,-0.15339677035808563,0.022240938618779182,-0.046956468373537064,-0.0388927161693573,0.1524457335472107,0.19760707020759583,0.1081075444817543,0.12558932602405548,0.13230814039707184,0.05541590601205826,0.10461636632680893,0.058831267058849335,0.09645774960517883,-0.011577255092561245,0.06416912376880646,0.19134679436683655,-0.03198183327913284,0.03550195321440697,-0.13437549769878387,-0.2074773609638214,-0.002476781839504838,-0.19045902788639069,0.01564115844666958,-0.17447789013385773,0.08689296245574951,-0.04423071816563606,0.054021794348955154,0.16470615565776825,-0.043781962245702744,-0.150220587849617,0.07232388854026794,0.26260843873023987,-0.08328933268785477,0.21647760272026062,0.05892591178417206,0.04065482318401337,0.0019979928620159626,0.30971312522888184,-0.003280028933659196,0.03198375180363655,-0.003939028829336166,0.043493952602148056,-0.2087472528219223,-0.30526623129844666,-0.1824696660041809,0.029035523533821106,0.03286343067884445,0.07032258808612823,-0.19455303251743317,-0.004403639119118452,-0.19621670246124268,-0.18126991391181946,0.022397227585315704,0.08716418594121933,0.09138631820678711,-0.11077812314033508,0.2426452785730362,0.023945022374391556,0.03815640136599541,-0.013063871301710606,-0.018201427534222603,0.08162962645292282,0.025620639324188232,0.04688437655568123,0.022351693361997604,-0.08292524516582489,-0.014223876409232616,0.14986059069633484,-0.04883144423365593,-0.029951198026537895,0.20643633604049683,0.0705413818359375,0.056810785084962845,-0.025667110458016396,0.22123859822750092,-0.1535653918981552,-0.10696029663085938,-0.3023856282234192,-0.08720257878303528,0.11753059923648834,0.12595029175281525,-0.15520133078098297,-0.005344438832253218,0.00721998605877161,-0.07975690066814423,-0.05315990746021271,0.19053879380226135,-0.0507967472076416,0.05375947430729866,0.165185809135437,0.10596346855163574,-0.1285134106874466,0.018091466277837753,0.19624382257461548,-0.3151083290576935,0.10933631658554077,0.06069198250770569,0.2403310090303421,0.08716985583305359,-0.02973300591111183,-0.0740414559841156,0.03246884420514107,0.002857519779354334,-0.032060496509075165,0.04953931272029877,0.18302246928215027,0.04954448342323303,-0.14938002824783325,-0.0005078142276033759,0.07654598355293274,0.0016702202847227454,0.03343719616532326,-0.04209926351904869,-0.014542194083333015,0.342099666595459,0.06810858845710754,-0.09056956321001053,0.02474655583500862,0.0009660018258728087,-0.127752885222435,0.005474761128425598,-0.006032492965459824,-0.16823039948940277,-0.21832288801670074,0.36168867349624634,-0.3139617145061493,0.06283648312091827,-0.21187426149845123,-0.21418151259422302,-0.00837336853146553,0.13882872462272644,0.011743525974452496,-0.12036781758069992,-0.0219794400036335,-0.1257762759923935,-0.09644303470849991,-0.1307636797428131,-0.06817369908094406,0.045930832624435425,0.01436410378664732,0.21032670140266418,-0.10357389599084854,0.03203997388482094,-0.2429792732000351,-0.2985955774784088,-0.072103351354599,0.01928446814417839,0.03176068142056465,-0.13465282320976257,0.008603720925748348,0.1126607283949852,0.021317726001143456,-0.0343037024140358,0.3319862186908722,0.029810501262545586,0.11330974847078323,0.26361867785453796,0.01177789457142353,0.018969515338540077,0.015145727433264256,0.03452793508768082,0.2246231585741043,-0.2132771760225296,-0.03440376743674278,0.03617743402719498,-0.28362709283828735,-0.027903584763407707,-0.10218726098537445,0.02870524488389492,-0.08688180893659592,-0.04365802928805351,-0.055942460894584656,-0.01878131739795208,0.018493086099624634,0.32621049880981445,0.026350339874625206,-0.00040489513776265085,-0.05050463229417801,-0.048562198877334595,-0.05257905647158623,0.017392823472619057,0.06176585704088211,0.16839759051799774,-0.15270361304283142,-0.024587716907262802,0.02558206208050251,-0.013291913084685802,0.011511672288179398,0.03512180969119072,0.03955220803618431,-0.0070927878841757774,0.04072459042072296,-0.023171791806817055,-0.10866480320692062,-0.02653096616268158,0.07970257848501205,0.008889356628060341,-0.021275760605931282,-0.027132168412208557,-0.03788696229457855,-0.08951891958713531,-0.10922440886497498,-0.20293878018856049,0.016480708494782448,-0.057511456310749054,-0.0012001078575849533,-0.015812190249562263,0.04844369366765022,0.03490016981959343,-0.24477636814117432,-0.08834335952997208,-0.07191001623868942,0.024295177310705185,-0.0637473538517952,0.017936546355485916,0.06705251336097717,0.005725483875721693,-0.04564225301146507,0.1692989021539688,0.17782191932201385,0.026909129694104195,0.04863150417804718,-0.07801813632249832,-0.149665966629982,0.2090768814086914,0.27934134006500244,0.14624173939228058,0.15540938079357147,-0.03813129663467407,0.018236512318253517,0.09212393313646317,-0.23112671077251434,-0.1356210708618164,-0.3120459318161011,0.17944960296154022,-0.026189429685473442,-0.06431735306978226,-0.09136966615915298,0.102479487657547,0.027420876547694206,0.007076648995280266,-0.02835485152900219,0.047278840094804764,0.01628894731402397,0.01530157309025526,0.17289483547210693,0.2022525817155838,0.12624606490135193,0.1206662729382515,-0.029531102627515793,0.03188920021057129,0.021484291180968285,-0.021109996363520622,0.19745230674743652,0.03529488295316696,0.11046317219734192,-0.1221403107047081,0.05532970279455185,0.07661198079586029,0.0639132708311081,0.21312913298606873,0.09315723180770874,0.002756411675363779,0.20237290859222412,0.025256812572479248,0.04570174217224121,0.0396873876452446,-0.04591155797243118,-0.051791880279779434,-0.029315052554011345,0.029150905087590218,0.047006670385599136,-0.004647000692784786,0.03011886402964592,-0.08446165174245834,0.004987495485693216,-0.022230369970202446,0.10188128799200058,0.034890688955783844,-0.03229408338665962,0.013721497729420662,-0.10957448929548264,-0.10307124257087708,0.027409208938479424,0.03611644729971886,0.013842328451573849,0.07232925295829773,0.08812811225652695,0.13940902054309845,-0.0069688004441559315,-0.09553536027669907,0.09453023970127106,0.22822719812393188,-0.0355902835726738,0.10540912300348282,0.03950856998562813,0.03898542374372482,-0.023818086832761765,-0.006708802189677954,0.0720733255147934,0.0034529997501522303,-0.1823037713766098,0.03916047886013985,0.02124629355967045,0.1694575399160385,0.1829732358455658,0.04370694234967232,0.2647336423397064,-0.16495490074157715,-0.12915444374084473,0.31009671092033386,-0.028575841337442398,0.4909161329269409,0.03825908154249191,-0.1770680695772171,0.08192090690135956,-0.007516504731029272,-0.05216485261917114,-0.031896911561489105,0.022649504244327545,0.0026302719488739967,0.09691976010799408,0.08862478286027908,-0.16656535863876343,-0.027375122532248497,-0.05535976588726044,-0.02686355635523796,0.33131033182144165,-0.021860651671886444,-0.14596860110759735,0.007479697000235319,0.008631543256342411,-0.19126394391059875,-0.01958199217915535,0.0389714390039444,0.029877204447984695,-0.08732941746711731,0.06439464539289474,0.09400920569896698,0.15898002684116364,0.061162952333688736,-0.012291462160646915,-0.09387072920799255,0.2321902960538864,0.1293604075908661,-0.02761003002524376,0.04221438243985176,0.0037455488927662373,-0.09900158643722534,0.019160445779561996,0.018100565299391747,-0.03055551089346409,-0.029025856405496597,0.09234941005706787,-0.1490982323884964,-0.020523976534605026,0.07227068394422531,-0.02924862690269947,-0.0025905335787683725,0.33322033286094666,-0.01237750705331564,-0.014439038001000881,-0.06475622951984406,-0.11785854399204254,0.014787796884775162,0.04759417846798897,-0.007841326296329498,0.0064362166449427605,0.1131664589047432,-0.0871390849351883,0.008326750248670578,0.023166360333561897,0.01969175785779953,-0.0054172975942492485,-0.07695037871599197,0.15044072270393372,0.25500208139419556,0.024556543678045273,0.1681162416934967,0.07502087950706482,0.01905566267669201,-0.02174622192978859,0.04442112520337105,0.0090122539550066,-0.22525613009929657,-0.0049904715269804,-0.2904263734817505,-0.07681775093078613,0.05228940397500992,-0.1016252338886261,-0.06812506914138794,-0.2645616829395294,-0.06885889917612076,-0.08715520799160004,-0.12539586424827576,-0.17770975828170776,0.019592702388763428,0.368015319108963,-0.08437793701887131,-0.0068303486332297325,-0.18374569714069366,-0.0717792734503746,0.03261224180459976,0.07413309812545776,0.184334397315979,0.113343745470047,0.004135086201131344,0.08564655482769012,-0.010020471177995205,0.12924200296401978,0.15739862620830536,0.10520454496145248,-4.5345575927058235e-05,-0.09677910059690475,0.06210482120513916,-0.016847722232341766,0.018043044954538345,-0.23645345866680145,-0.14310458302497864,-0.06168521195650101,-0.12858791649341583,0.0026618523988872766,0.10198241472244263,-0.10578732192516327,-0.051833104342222214,-0.10956015437841415,0.14157907664775848,-0.01739061437547207,0.04293442890048027,-0.2088434398174286,0.06769143044948578,-0.05341234803199768,0.1544518768787384,0.09454428404569626,0.10256408900022507,0.0282882172614336,0.02192617766559124,0.030372189357876778,-0.015033664181828499,-0.03368927165865898,-0.03783327341079712,-0.20353937149047852,0.04075004160404205,-0.17112059891223907,0.029434487223625183,0.0889594703912735,-0.09048449993133545,-0.20118923485279083,0.14939026534557343,0.06084851548075676,0.04395166039466858,-0.21784815192222595,-0.008885733783245087,-0.015723373740911484,0.014526650309562683,0.03922216594219208,-0.13930274546146393,0.03448377549648285,-0.0730985701084137,-0.06135113537311554,0.05864401161670685,0.062210120260715485,0.006559801287949085,0.07781434059143066,-0.06192678585648537,-0.1752699464559555,0.005460559390485287,-0.08202479779720306,-0.002805697964504361,0.27686017751693726,0.15641894936561584,0.17316678166389465,0.029100272804498672,0.3266407549381256,0.0013360005104914308,-0.1115868017077446,0.006092866882681847,-0.08893918246030807,-0.0758587047457695,-0.17195665836334229,0.24888190627098083,0.1387641578912735,0.0003743956913240254,0.20219935476779938,-0.035466518253088,-0.0564851388335228,0.10362565517425537,0.35344836115837097,-0.013525161892175674,0.09474296867847443,0.015448303893208504,-0.23175537586212158,-0.033559855073690414,-0.17147652804851532,-0.012391944415867329,0.0836758092045784,0.0074654556810855865,0.15359187126159668,-0.06017705425620079,-0.017090922221541405,-0.15617384016513824,-0.12895801663398743,0.23536674678325653,0.009145325981080532,0.020550692453980446,-0.1833837628364563,0.014205100014805794,-0.24865084886550903,0.052633583545684814,0.026302970945835114,-0.06167028471827507,0.037215884774923325,0.019184617325663567,0.13068094849586487,-0.10133150219917297,0.02036924846470356,-0.05620914697647095,0.1335393786430359,0.00798130314797163,-0.22605223953723907,-0.25603967905044556,-0.039264217019081116,-0.002887545619159937,0.01149078831076622,-0.17161493003368378,-0.10498125106096268,0.12153171747922897,-0.07558878511190414,-0.19650651514530182,-0.05108876898884773,0.03924564644694328,-0.023300129920244217,-0.035000815987586975,-0.17206010222434998,-0.006652707699686289,-0.07387202978134155,0.15298454463481903,-0.07869299501180649,-0.09033621102571487,-0.08689138293266296,0.16784796118736267,0.0697476714849472,-0.0719713419675827,0.0324319489300251,-0.05716162174940109,-0.0944545641541481,0.26099568605422974,0.020547954365611076,0.22108079493045807,0.13829341530799866,0.024952273815870285,0.009351244196295738,-0.11672074347734451,-0.16889522969722748,-0.049675822257995605,-0.08954125642776489,0.03484310954809189,0.03363418951630592,0.012258143164217472,-0.2231983095407486,-0.04071655869483948,0.05958603322505951,0.011711617931723595,-0.04278252646327019,0.021961634978652,0.0005679983296431601,-0.14000095427036285,0.05487774685025215,-0.1024429202079773,0.0005682861083187163,-0.028930051252245903,0.004274402745068073,0.02148161455988884,-0.200603187084198,-0.21021027863025665,0.1882748007774353,-0.1558580845594406,-0.02220306359231472,-0.009962599724531174,0.11712318658828735,0.130436509847641,-0.08757707476615906,0.007179598324000835,0.00021197709429543465,-0.18222062289714813,-0.03605837747454643,-0.07001546025276184,-0.2080942541360855,0.11980889737606049,-0.22158151865005493,0.0008928338647820055,-0.0028961917851120234,0.00591414887458086,0.11574281752109528,0.05759797245264053,0.03432474657893181,0.0009381864219903946,-0.1979561299085617,-0.06394828855991364,-0.052305012941360474,0.010561247356235981,0.024129701778292656,0.06266814470291138,-0.15018567442893982,-0.0849604681134224,-0.10854490101337433,0.0015736299101263285,-0.10829533636569977,-0.1604773849248886,-0.030245350673794746,-0.0314045287668705,0.023285990580916405,0.04075758159160614,0.007677099201828241,0.04047594964504242,0.0015294597251340747,-0.07616544514894485,0.0711493194103241,-0.05177519470453262,-0.0045348829589784145,0.2893199920654297,0.064006008207798,-0.04060851410031319,0.045112237334251404,-0.19051052629947662,-0.21257823705673218,0.0916883572936058,0.11292937397956848,0.04835802689194679,-0.010471688583493233,-0.0924341008067131,0.07194066047668457,0.0768885388970375,-0.024436771869659424,0.0490289069712162,0.2269994467496872,0.003811715403571725,0.18280154466629028,-0.06809207051992416,0.07628729939460754,-0.019341927021741867,0.027886440977454185,-0.16753317415714264,-0.06295409798622131,-0.06220671534538269,-0.0524851493537426,0.19158543646335602,5.122703078086488e-05,0.021494783461093903,-0.03193753585219383,-0.10289078205823898,0.04256323724985123,-0.12936490774154663,-0.06873678416013718,-0.0532350167632103,-0.007694291416555643,0.04217049106955528,-0.2635250389575958,-0.2293964922428131,-0.05992359668016434,-0.1103518158197403,0.008586070500314236,-0.02581617422401905,0.011174309998750687,-0.012915857136249542,-0.0067150485701859,0.08458076417446136,-0.06557372957468033,0.027887294068932533,-0.0884309783577919,0.13044874370098114,0.15290698409080505,0.14654763042926788,0.07731126248836517,0.1188906878232956,-0.14151215553283691,0.18065901100635529,-0.22229893505573273,-0.2012045681476593,-0.009806420654058456,0.07278437912464142,-0.1651892066001892,-0.12189885228872299,0.3246660828590393,0.02164652943611145,0.004525889176875353,-0.1632339358329773,0.002298431470990181,-0.1369209736585617,0.017791960388422012,0.11884643137454987,0.16035224497318268,-0.000508452532812953,-0.2070302814245224,-0.09494443982839584,0.031046539545059204,0.027989234775304794,-0.15883922576904297,0.20123693346977234,-0.08917708694934845,-0.18457487225532532,-0.18145984411239624,0.05881555750966072,0.11028347909450531,-0.04033231735229492,-0.052554577589035034,0.0470588319003582,0.031857460737228394,0.033323295414447784,0.03930328041315079,0.1936722695827484,0.013186225667595863,-0.04052934795618057,0.03149206563830376,-0.010460631921887398,0.1596250683069229,-0.17965543270111084,-0.10516852140426636,0.15873678028583527,0.08602362871170044,0.029953304678201675,-0.03357858210802078,-0.16416220366954803,-0.2323305755853653,0.1419527530670166,-0.17990504205226898,-0.0816451832652092,-0.1201544925570488,0.21249878406524658,-0.04165325313806534,0.04557773098349571,0.11817076802253723,-0.06133034825325012,0.44534146785736084,-0.22693249583244324,-0.022819967940449715,0.019640741869807243,0.12340465933084488,0.05938810482621193,0.02662387304008007,0.06329549103975296,0.11761951446533203,-0.18474610149860382,-0.03540949523448944,-0.0088256960734725,-0.05011950433254242,0.2710935175418854,0.030425667762756348,-0.06405413150787354,0.0248106736689806,-0.1169731542468071,-0.08407363295555115,0.08624251186847687,0.054787132889032364,0.013309025205671787,0.016145678237080574,0.2283635288476944,-0.1373770385980606,0.1245984211564064,0.030025390908122063,-0.029458317905664444,0.13390661776065826,-0.3167264461517334,0.08435475081205368,0.019280582666397095,-0.009438569657504559,-0.05167868360877037,0.1589861810207367,0.017910951748490334,-0.1672733873128891,0.0050333295948803425,0.10506507754325867,0.060046788305044174,0.25751224160194397,-0.16491572558879852,0.029599031433463097,0.005306290462613106,0.02360587753355503,0.006184813100844622,-0.22532588243484497,0.32822176814079285,0.07793424278497696,0.09185134619474411,-0.12222745269536972,0.08960917592048645,-0.3162669241428375,-0.06000668555498123,-0.038924574851989746,0.0854610875248909,-0.015217912383377552,-0.00380920828320086,0.05285558104515076,0.05953593924641609,-0.10880180448293686,0.09212594479322433,-0.2357279509305954,0.06104876101016998,0.02510400116443634,0.019818810746073723,-0.0058695669285953045,-0.0029383674263954163,0.030192052945494652,0.07863249629735947,0.03931553661823273,-0.009758909232914448,0.08732961118221283,0.1455099880695343,-0.08612911403179169,0.025202317163348198,-0.08384522050619125,0.14217256009578705,-0.1420743614435196,-0.0058091264218091965,0.03474816307425499,-0.020520798861980438,-0.05500653386116028,0.08579526096582413,-0.0777646154165268,-0.1184702217578888,-0.15508854389190674,-0.0022737293038517237,0.07729927450418472,-0.2169981449842453,0.22634105384349823,0.1252022683620453,0.27625125646591187,-0.17211157083511353,0.14622029662132263,-0.1425999402999878,0.0021904597524553537,-0.14672419428825378,0.015969565138220787,-0.10024788230657578,0.017388951033353806,-0.1671365350484848,0.03421939164400101,-0.12012685835361481,-0.03452359512448311,-0.06522276252508163,0.07422146201133728,-0.020805632695555687,0.008551694452762604,0.048795439302921295,0.018952876329421997,0.04518142342567444,0.06116998568177223,-0.11466152220964432,0.06144338101148605,0.029999151825904846,0.022611550986766815,-0.14270548522472382,-0.21412725746631622,0.029513735324144363,-0.010638325475156307,0.26164618134498596,0.11324305832386017,-0.06862211227416992,0.015258791856467724,0.010400391183793545,0.03733754903078079,0.07269994914531708,0.3154917359352112,0.0428481362760067,-0.20520205795764923,-0.0868254005908966,0.08461074531078339,0.06502746045589447,-0.035195451229810715,0.05688248947262764,0.0022937962785363197,-0.05235057696700096,0.16514131426811218,-0.01835857704281807,0.09916379302740097,0.028060508891940117,-0.13617482781410217,0.07407870143651962,-0.011090162210166454,0.3105129897594452,-0.10683505982160568,0.08384860306978226,0.03941255807876587,0.0014896946959197521,0.0003709315788000822,0.009100602939724922,0.0730862021446228,-0.09036248922348022,0.0594346858561039,0.08512863516807556,-0.31118708848953247,-0.0456567257642746,0.1645364761352539,0.12266875058412552,-0.15651780366897583,0.06562399119138718,0.03315472602844238,0.04802359640598297,-0.18571345508098602,-0.03307197615504265,-0.010595927946269512,0.0214066319167614,0.0008107266621664166,0.014844691380858421,0.0821465402841568,0.1084161251783371,-0.06519003212451935,0.07076102495193481,0.006120285484939814,0.07440872490406036,0.056207552552223206,-0.18157774209976196,-0.026673629879951477,-0.032996661961078644,0.029256820678710938,-0.19998577237129211,0.06536127626895905,-0.16303607821464539,0.11853579431772232,0.04980575665831566,-0.0604424774646759,0.02125432901084423,0.015304449014365673,-0.19283095002174377,0.11728710681200027,0.0026003464590758085,0.11363516747951508,0.025942865759134293,0.20699149370193481,0.007170407567173243,0.41406357288360596,-0.05256609991192818,-0.16905634105205536,-0.04073365032672882,0.02212914265692234,-0.03890388086438179,0.10576339066028595,-0.17169955372810364,-0.021934112533926964,0.01089473720639944,-0.04296701028943062,-0.028048241510987282,-0.007925838232040405,0.045099418610334396,-0.10010284185409546,-0.0008645690395496786,0.15224337577819824,0.07502306252717972,-0.12098264694213867,0.005965981632471085,0.0881689116358757,0.03207673877477646,0.023019075393676758,0.14248095452785492,0.022138353437185287,0.10769306868314743,0.004270703997462988,-0.09646070003509521,0.038223620504140854,0.02033267356455326,0.07753057032823563,-0.16050080955028534,0.11554846167564392,-0.13227248191833496,-0.053215112537145615,0.017396485432982445,0.0717257410287857,-0.10593019425868988,-0.05484261363744736,0.005178468301892281,-0.156712606549263,-0.11044231057167053,0.2530880272388458,-0.0028677915688604116,-0.18862135708332062,0.10982117056846619,0.14035776257514954,-0.053235411643981934,-0.0900745764374733,0.030028043314814568,-0.028274307027459145,0.15206341445446014,0.029033396393060684,-0.002500813454389572,-0.16568100452423096,0.05483757704496384,0.28447040915489197,0.007426241412758827,0.08468178659677505,0.016064580529928207,0.012248906306922436,-0.013915267772972584,0.08040714263916016,0.007483765948563814,-0.059527114033699036,0.1389777958393097,0.13343606889247894,0.14558808505535126,-0.056296978145837784,0.15265925228595734,-0.09859657287597656,0.15422648191452026,-0.08813326060771942,-0.04639432206749916,-0.02049841359257698,-0.08170802146196365,0.008131343871355057,0.2590019106864929,-0.03349028527736664,0.08843495696783066,0.017285896465182304,0.012654819525778294,0.11285783350467682,-0.054895300418138504,-0.12446790188550949,-0.020970167592167854,0.15112775564193726,0.08397713303565979,0.037164997309446335,0.028764747083187103,0.053631797432899475,0.07243451476097107,0.13201025128364563,0.12353621423244476,-0.011572171002626419,-0.02742140181362629,-0.05892801657319069,0.04924209415912628,-0.04689440131187439,0.005658717360347509,0.030450161546468735,-0.0015362207777798176,0.03367975354194641,-0.010220718570053577,0.04649485647678375,-0.005907821469008923,-0.08621641993522644,0.1317143440246582,-0.025757988914847374,0.0083139194175601,0.04082415625452995,-0.3186657130718231,-0.2260390818119049,-0.054564978927373886,-0.20598310232162476,-0.004855459090322256,-0.021492721512913704,0.14504389464855194,-0.20526450872421265,0.22430962324142456,-0.141924187541008,0.023580869659781456,0.023471910506486893,0.19194257259368896,-0.09955254942178726,-0.07117582112550735,-0.2896457314491272,0.034478675574064255,-0.042088449001312256,0.011169832199811935,-0.0020871476735919714,0.03564082458615303,0.034842848777770996,0.024663874879479408,0.03958934545516968,0.035930272191762924,-0.13899016380310059,-0.21256741881370544,0.018583491444587708,0.01993859000504017,0.3486611247062683,-0.04862004145979881,-0.0938786044716835,-0.2253265380859375,-0.14374150335788727,0.06623167544603348,-0.028275059536099434,0.019663585349917412,-0.004789328668266535,-0.06245369091629982,0.01336896326392889,0.19039297103881836,0.020410427823662758,-0.1842828392982483,0.0016110811848193407,0.4137296676635742,-0.07744499295949936,0.002941484795883298,0.09063161164522171,0.21007999777793884,0.24950331449508667,0.021840974688529968,0.09642218798398972,0.049140386283397675,0.09686440974473953,-0.13735438883304596,-0.1190912202000618,0.09558935463428497,0.1364663690328598,0.15039724111557007,-0.0704750046133995,0.027415204793214798,-0.13771657645702362,0.0441884770989418,0.001010533538646996,0.21988241374492645,0.030480949208140373,0.07487707585096359,-0.19883513450622559,-0.18570977449417114,-0.07772291451692581,0.06618352979421616,-0.014396701008081436,-0.14382511377334595,-0.20972880721092224,-0.016469087451696396,0.10584111511707306,-0.20098495483398438,0.036396484822034836,-0.09641280770301819,-0.008126050233840942,0.08463050425052643,0.05276001617312431,-0.05321471765637398,0.07245097309350967,0.030583741143345833,-0.1465650498867035,-0.22320914268493652,0.06624069809913635,0.0013261884450912476,0.04456428438425064,-0.015642231330275536,0.04643351957201958,-0.013467855751514435,0.11473420262336731,0.11896628141403198,-0.1037263348698616,-0.25536155700683594,-0.09341051429510117,0.21028484404087067,-0.005933818873018026,0.025310495868325233,0.05644800141453743,0.2919149696826935,-0.018846677616238594,0.056447334587574005,0.08492562919855118,0.09693766385316849,0.20237140357494354,0.2580261826515198,0.013176900334656239,0.07684803009033203,-0.04358912631869316,0.23512643575668335,-0.06285923719406128,-0.061242055147886276,-0.00781773030757904,0.08239893615245819,-0.15246744453907013,-0.1719728410243988,-0.08314588665962219,-0.01440668199211359,0.05515308678150177,-0.19582970440387726,0.0289444737136364,0.0065625677816569805,0.28637298941612244,0.20235000550746918,0.09984035789966583,-0.08454897254705429,-0.1464809626340866,0.03198317438364029,0.11224343627691269,-0.1849174052476883,0.028921104967594147,0.06047159433364868,0.03593067079782486,0.107084721326828,0.023619061335921288,-0.058100540190935135,0.08347506076097488,-0.2055588960647583,-0.13047049939632416,-0.2655380964279175,-0.13751941919326782,0.028719589114189148,-0.007230797782540321,-0.1844855695962906,0.1403287947177887,0.14727282524108887,-0.14564402401447296,0.05138682574033737,0.034086525440216064,0.08174333721399307,0.17422206699848175,-0.14106830954551697,0.1883426159620285,-0.1882617175579071,-0.012721126899123192,0.08166870474815369,0.09227249026298523,0.0504714734852314,0.02214154228568077,-0.04451191797852516,0.15387435257434845,0.027276918292045593,-0.02665085718035698,-0.2055170089006424,0.015654513612389565,0.13109837472438812,-0.059848904609680176,-0.006569706369191408,0.013199415989220142,-0.09441034495830536,0.026993079110980034,-0.019683321937918663,0.006503182463347912,0.01662873663008213,0.009299964644014835,-0.08121391385793686,-0.04322914406657219,0.0982842743396759,0.0170060396194458,-0.12396111339330673,-0.1316315084695816,0.026060987263917923,0.043380070477724075,0.19792070984840393,-0.03262956067919731,0.020864199846982956,-0.02320096828043461,0.07928312569856644,0.45776888728141785,0.007429096382111311,-0.03781982511281967,-0.18464450538158417,0.01774766482412815,0.009288707748055458,0.2559003233909607,0.04557402804493904,-0.04745440557599068,0.0231577567756176,0.03667429834604263,0.20654240250587463,-0.028291163966059685,-0.0247530248016119,-0.0713181123137474,-0.03889910504221916,-0.004504644311964512,0.0023774371948093176,-0.11883194744586945,0.1178235113620758,0.006049564108252525,-0.14083853363990784,-0.1943751871585846,0.6457275152206421,-0.1598665714263916,-0.2190074622631073,0.00812662485986948,-0.02204793319106102,0.0731801688671112,-0.15311983227729797,-0.10643478482961655,-0.1323208510875702,-0.16508957743644714,0.009925343096256256,0.004377696663141251,-0.1713581532239914,-0.005718324799090624,0.05327250808477402,0.00010828411905094981,-0.007800729013979435,0.00349363312125206,0.11379965394735336,-0.06048616021871567,0.016768421977758408,0.2035876363515854,0.20701076090335846,-0.008273622952401638,-0.20476458966732025,0.1433079093694687,0.2909829616546631,0.1164156123995781,-0.002847834723070264,-0.021298686042428017,-0.18317699432373047,0.0817386656999588,-0.05501459538936615,-0.061084236949682236,-0.010683885775506496,0.07527712732553482,-0.06537637114524841,0.12610182166099548,-0.14126870036125183,-0.24897195398807526,-0.14422178268432617,-0.09179843217134476,0.054078299552202225,-0.025208907201886177,-0.08012723177671432,0.036414213478565216,0.08723224699497223,-0.019190428778529167,-0.14393581449985504,0.008322101086378098,-0.022056730464100838,-0.017650289461016655,-0.03715364634990692,0.021589787676930428,0.1116650179028511,0.6941847801208496,-0.13283376395702362,0.11374678462743759,0.03933229669928551,-0.03418818488717079,-0.06549850851297379,-0.0056236302480101585,0.03299000486731529,-0.19497337937355042,0.1936042755842209,0.1523616909980774,0.12798817455768585,0.10331706702709198,0.014715658500790596,-0.13801456987857819,0.06653141975402832,-0.01502256840467453,0.04106427729129791,0.10856397449970245,0.008152620866894722,0.03233591467142105,-0.31391140818595886,0.01792394183576107,0.1828603446483612,-0.08732346445322037,0.06846392154693604,-0.08211284875869751,0.04805099964141846,-0.012420907616615295,-0.3126894235610962,-0.11515718698501587,0.10540974140167236,-0.11122718453407288,-0.11314363777637482,0.004922565538436174,-0.15894994139671326,0.31315451860427856,0.2694826126098633,0.20145314931869507,-0.006541023496538401,0.009956673718988895,-0.03757430613040924,-0.01901884563267231,0.16494709253311157,-0.03384322673082352,0.11598475277423859,0.047752272337675095,-0.20528489351272583,-0.2084098905324936,0.047307126224040985,0.0028069166000932455,0.34817126393318176,-0.1628655046224594,0.049236904829740524,-0.02331415005028248,-0.021547595039010048,-0.07781169563531876,-0.1025485023856163,0.14379198849201202,-0.03698242828249931,0.21400998532772064,0.07408509403467178,0.01918998546898365,-0.0106057683005929,0.015303337015211582,0.04858552664518356,-0.026013128459453583,0.018066126853227615,-0.14643870294094086,0.06753825396299362,-0.08741111308336258,0.33393195271492004,-0.22435101866722107,0.08506008237600327,0.0014011289458721876,0.04147503897547722,0.05580917373299599,0.22947542369365692,-0.20000143349170685,0.00984868686646223,0.017699485644698143,0.13932764530181885,-0.019591040909290314,-0.06499865651130676,-0.024822145700454712,-0.0399625226855278,-0.012976165860891342,0.33753642439842224,-0.11285565793514252,-0.0014646064955741167,-0.08287857472896576,0.160878524184227,-0.1589549481868744,0.016914982348680496,-0.06870123744010925,0.14037099480628967,-0.12456430494785309,-0.07968084514141083,0.06727053970098495,0.038352400064468384,0.013372535817325115,-0.018784785643219948,0.06740504503250122,0.0012281750096008182,-0.05288725346326828,-0.008571936748921871,-0.1929144561290741,0.05515706539154053,0.024144383147358894,-0.005290337838232517,-0.0992761105298996,-0.03879670053720474,-0.008475307375192642,-0.02773342840373516,-0.04669909551739693,-0.09975271672010422,0.17203330993652344,0.29843011498451233,0.026187745854258537,0.10982339829206467,0.3927343189716339,-0.21683314442634583,-0.009515955112874508,0.011726670898497105,0.10498781502246857,-0.12246808409690857,0.059569764882326126,-0.05581030994653702,-0.030731383711099625,-0.08133947104215622,-0.10531087219715118,-0.17892447113990784,0.0017701154574751854,-0.19186009466648102,0.08843178302049637,0.08620832860469818,-0.149945467710495,-0.10410144925117493,-0.022545989602804184,-0.027744807302951813,0.03633013740181923,0.07896983623504639,0.10227843374013901,-0.030558085069060326,0.04429515823721886,0.10887383669614792,-0.006258754059672356,0.06356780230998993,0.0614100806415081,0.06377620995044708,-0.16707482933998108,0.020062340423464775,-0.16659758985042572,-0.1490674465894699,-0.055171798914670944,0.1411503553390503,-0.19156599044799805,0.1362571120262146,-0.1345435529947281,0.029185278341174126,-0.05244271084666252,-0.04390624538064003,-0.17297066748142242,0.04138052836060524,-0.028509823605418205,-0.013918481767177582,-0.19447913765907288,-0.010878212749958038,0.270643025636673,0.0057366075925529,-0.13568121194839478,-0.016651155427098274,-0.30032119154930115,-0.11510983109474182,-0.2534029185771942,-0.1131877675652504,0.009041164070367813,-0.013061046600341797,-0.14472176134586334,0.26916879415512085,-0.02126409113407135,-0.10228469222784042,-0.03455605357885361,0.000543054542504251,-0.17162129282951355,0.007735213730484247,-0.027743367478251457,-0.2354147881269455,0.1238783597946167,-0.24201495945453644,0.1402292251586914,-0.005909305065870285,-0.15714752674102783,0.0034887392539530993,0.06368314474821091,-0.22269679605960846,0.005893346853554249,-0.0833156630396843,-0.007373318076133728,-0.0032673112582415342,0.00514611741527915,0.10873828828334808,-0.1886284500360489,-0.020062897354364395,0.06448962539434433,-0.2813081741333008,0.012796701863408089,0.2736259996891022,-0.010012958198785782,-0.0061437408439815044,-0.009256705641746521,-0.02173720858991146,-0.05311271548271179,0.05137356370687485,0.03466147184371948,0.03198153153061867,0.032336536794900894,-0.21348121762275696,-0.03113391250371933,-0.153749018907547,-0.05172053724527359,-0.0019843040499836206,-0.021745087578892708,0.008210313506424427,-0.02987813390791416,-0.14685751497745514,-0.108845055103302,-0.09974005818367004,0.17342153191566467,0.16005025804042816,0.08174744993448257,0.02552596479654312,0.036889608949422836,-0.06274482607841492,-0.05068456009030342,0.3839772045612335,0.03536069020628929,0.05313709005713463,-0.05681814253330231,0.10753236711025238,0.09785410016775131,0.0944945365190506,0.004529903177171946,0.03316052630543709,0.008102696388959885,-0.14848050475120544,-0.1746082305908203,-0.02758990041911602,0.004099712707102299,-0.051363084465265274,-0.1323401927947998,-0.02256622537970543,-0.07764577120542526,0.11166688054800034,0.007462198380380869,0.14444443583488464,-0.11465577781200409,-0.04941779747605324,-0.03488915413618088,0.028356218710541725,-0.04234160855412483,0.0014206338673830032,0.07377266883850098,-0.0011522377608343959,0.14300228655338287,-0.0760449543595314,0.03001096472144127,-0.0753384679555893,-0.019732598215341568,-0.11898986995220184,0.0002871976757887751,0.01395924761891365,0.11145373433828354,0.06597195565700531,-0.1405116468667984,-0.10087575018405914,-0.1582575887441635,0.08986587822437286,0.2386031150817871,-0.17362438142299652,-0.30956152081489563,-0.014584599062800407,0.10935158282518387,-0.1732272505760193,-0.16192981600761414,-0.014994927681982517,0.04404266178607941,0.1083550825715065,-0.06562643498182297,0.0014044152339920402,-0.26323381066322327,-0.05013440549373627,0.008945520967245102,-0.11397150903940201,0.045158639550209045,0.005091317929327488,-0.04642996937036514,-0.10128381848335266,-0.06719960272312164,0.010204941034317017,0.06857964396476746,0.05912458524107933,-0.12125735729932785,-0.06277742981910706,0.22480469942092896,0.02022126130759716,0.057602543383836746,0.033626358956098557,0.06261558085680008,-0.010756957344710827,-0.1418849527835846,0.02518255077302456,0.004203249234706163,0.3544161319732666,0.3151373863220215,-0.13880611956119537,-0.23069718480110168,-0.03670539706945419,-0.20483241975307465,0.07831115275621414,0.021352073177695274,-0.008665756322443485,-0.015000580810010433,0.040421012789011,-0.1278895139694214,-0.013689901679754257,0.02339615486562252,-0.028962472453713417,-0.09457340836524963,-0.1648596227169037,-0.002582488814368844,-0.17638836801052094,-0.14676201343536377,-0.042784955352544785,-0.12643671035766602,0.045709095895290375,0.008737937547266483,0.08692944049835205,-0.08534001559019089,0.17021559178829193,0.01410586666315794,0.11778153479099274,0.027179313823580742,-0.00914757139980793,0.009056759998202324,0.15016613900661469,-0.1396988034248352,-0.1391942799091339,-0.25350499153137207,0.05479034408926964,0.025378039106726646,-0.011099559254944324,0.28237226605415344,-0.1827126294374466,0.0737319365143776,0.30129143595695496,0.3983912169933319,-0.16065186262130737,-0.04971066489815712,-0.003114860039204359,-0.006685301661491394,-0.03291548788547516,-0.19485744833946228,-0.06749036908149719,0.01415995042771101,0.01625867560505867,-0.1397280991077423,-0.042981863021850586,-0.2027026116847992,-0.22777509689331055,0.08961307257413864,-0.1930585503578186,-0.0044567156583070755,0.013412355445325375,0.01768115721642971,-0.07845434546470642,0.1470680832862854,0.025251023471355438,-0.007009590044617653,-0.025012746453285217,0.038223955780267715,-0.12185985594987869,-0.09570183604955673,-0.029989350587129593,-0.03894317150115967,-0.2162354588508606,-0.07933561503887177,0.1003355085849762,-0.17301806807518005,-0.19538788497447968,0.07474194467067719,-0.07597635686397552,-0.1602301001548767,0.07642427831888199,-0.08751540631055832,-0.0012390309711918235,0.019674530252814293,0.12939095497131348,-0.0329592227935791,0.10896535962820053,0.04306739941239357,0.18940739333629608,0.04586600512266159,-0.04773494228720665,-0.07931365817785263,-0.011025998741388321,0.12591765820980072,0.04099130257964134,0.03516145795583725,0.21124914288520813,0.18087376654148102,-0.02893410250544548,0.07058318704366684,-0.14048521220684052,0.01158938929438591,-0.19511660933494568,-0.20679537951946259,0.012941436842083931,-0.15463045239448547,-0.07004285603761673,-0.02023146115243435,-0.06947939842939377,-0.199265718460083,0.05646615847945213,-0.2725042998790741,-0.0423026904463768,-0.14323675632476807,-0.045118626207113266,0.07302458584308624,0.10869836807250977,0.017971046268939972,0.05048568174242973,0.1426635980606079,0.00606307340785861,-0.021044904366135597,0.011448412202298641,-0.18782265484333038,-0.08173888921737671,0.09236389398574829,0.056633416563272476,-0.16929055750370026,0.45760324597358704,0.05472484230995178,0.020157357677817345,0.21673783659934998,0.015160980634391308,0.06287557631731033,0.08263366669416428,-0.004306690767407417,-0.0825166255235672,0.15867482125759125,-0.07334089279174805,0.29729652404785156,-0.21252460777759552,-0.26923736929893494,0.235894113779068,-0.009069154970347881,0.17109055817127228,-0.05519060418009758,-0.02665366232395172,0.020283440127968788,0.025079401209950447,0.04211561754345894,-0.06559489667415619,-0.0864422544836998,0.0095878466963768,0.16022391617298126,0.10682142525911331,-0.29491710662841797,0.10190025717020035,0.19633184373378754,-0.08913525193929672,0.0441383495926857,-0.09553168714046478,0.5527392029762268,-0.025888491421937943,0.12382353097200394,0.4717881977558136,0.03836362436413765,-0.09399019181728363,-0.1029285192489624,0.013135146349668503,-0.07774250954389572,0.11352559179067612,-0.06872417777776718,0.03294626623392105,-0.035824667662382126,-0.11715155094861984,-0.05008561164140701,0.015535064972937107,0.02537125162780285,0.05304896831512451,0.13845543563365936,0.006490936037153006,0.07471295446157455,0.08835913985967636,0.1332949697971344,0.058865174651145935,0.22786617279052734,0.010861407034099102,0.048090264201164246,-0.0010499197524040937,0.10165854543447495,0.012671863660216331,0.17008817195892334,-0.22296175360679626,-0.005018660333007574,-0.16539523005485535,0.026833057403564453,-0.02435070276260376,0.09006523340940475,0.0768258348107338,0.09909450262784958,0.05459434166550636,-0.12010444700717926,-0.11735069006681442,0.008271965198218822,0.14781086146831512,-0.015421220101416111,0.03077206015586853,0.10894864052534103,-0.0030817012302577496,0.19092369079589844,-0.11448758840560913,0.1876719892024994,0.2001170814037323,-0.02000243216753006,0.3545486629009247,-0.026540130376815796,-0.04112231358885765,-0.14745084941387177,-0.06809008121490479,0.052310340106487274,0.17602233588695526,-0.18048176169395447,0.040143705904483795,-0.15674176812171936,0.02766791358590126,0.3101085424423218,0.13661587238311768,0.0484045147895813,-0.059968844056129456,0.05230320990085602,-0.22559209167957306,0.08869396150112152,0.026779675856232643,0.25822970271110535,0.020700179040431976,0.058795537799596786,-0.15797001123428345,-0.008058704435825348,0.46676015853881836,0.5869661569595337,-0.2040073573589325,0.14873097836971283,0.03972460329532623,-0.16269254684448242,-0.1480141282081604,-0.01171464379876852,0.03783167526125908,0.024094104766845703,0.03798341751098633,-0.03882405161857605,-0.034245897084474564,-0.17361555993556976,-0.02568165771663189,0.07798174768686295,-0.127451553940773,-0.1346815526485443,-0.020436011254787445,0.10593963414430618,-0.2965688705444336,-0.03805140033364296,-0.01731429621577263,-0.02278217487037182,0.12176337093114853,0.04904123768210411,-0.241238072514534,0.008672025986015797,-0.029198631644248962,-0.04140808433294296,-0.1606970578432083,-0.06195088103413582,-0.00033108258503489196,0.014134729281067848,-0.07823632657527924,-0.10820100456476212,0.13807229697704315,0.12055076658725739,-0.041564635932445526,0.34051260352134705,0.1856735795736313,-0.1263737827539444,0.07991714775562286,0.008149472996592522,-0.06655411422252655,0.09774615615606308,0.026631388813257217,-0.03161236271262169,-0.07286649197340012,0.012972347438335419,0.23560507595539093,0.023286819458007812,-0.2060154527425766,-0.0720837339758873,0.05277378112077713,-0.056791484355926514,0.4403518736362457,0.1267806738615036,-0.11526951938867569,0.1458205282688141,0.09044039994478226,0.015997912734746933,0.05051335319876671,-0.2220151275396347,0.17183485627174377,0.06689313054084778,0.07870130240917206,-0.015727803111076355,0.13566848635673523,0.00905248150229454,-0.04446016252040863,0.05271795764565468,-0.06588428467512131,0.038939882069826126,0.04343215376138687,-0.006077120546251535,-0.10503382235765457,0.010000266134738922,-0.07703956216573715,0.12627996504306793,0.05722741410136223,0.17674647271633148,0.1801033765077591,0.11362510174512863,0.039574313908815384,-0.16100534796714783,0.08418242633342743,0.027663927525281906,0.053734343498945236,-0.037072498351335526,-0.009847179986536503,0.173314169049263,0.12897099554538727,0.09077098965644836,-0.0658220648765564,-0.003323554527014494,-0.00895723607391119,-0.05501430109143257,-0.161430224776268,0.008751561865210533,0.006397319957613945,0.029615502804517746,0.028417842462658882,-0.17109978199005127,-0.0025075788144022226,-0.18115076422691345,0.018772510811686516,-0.19222846627235413,-0.08971592783927917,0.1306542009115219,0.02410934306681156,0.2154105305671692,-0.24414660036563873,0.08733512461185455,0.04904976859688759,0.2971651554107666,0.32811635732650757,-0.020892687141895294,0.04516458138823509,-0.2786102592945099,0.05451870337128639,-0.10921965539455414,0.04129854962229729,-0.11969682574272156,-0.01980217546224594,0.06646474450826645,0.04681854322552681,0.110014408826828,0.005115665961056948,0.03056836687028408,0.012077580206096172,0.0002786441473290324,0.059198927134275436,-0.11605334281921387,-0.2399841994047165,-0.028835993260145187,0.07201444357633591,-0.1590937376022339,-0.06794518232345581,-0.014546409249305725,-0.1743340641260147,-0.18847589194774628,0.06794597953557968,0.016910482197999954,-0.008687896654009819,-0.0495772585272789,0.08809532970190048,0.01866864413022995,0.1339503675699234,-0.1442997306585312,-0.11280409246683121,0.14012086391448975,-0.1473497897386551,-0.0012431041104719043,-0.10446292161941528,-0.0605580098927021,0.005309307482093573,-0.14636339247226715,-0.013104618526995182,0.17295226454734802,0.2729129493236542,0.043397385627031326,0.0611523799598217,-0.04971843212842941,0.019778143614530563,0.1506245881319046,-0.02115466631948948,-0.16311980783939362,0.005814261734485626,0.2917199730873108,-0.15367735922336578,-0.0786420926451683,-0.0491659939289093,-0.11999844014644623,0.16358479857444763,-0.21395790576934814,-0.16981230676174164,-0.06143486499786377,0.10843212902545929,0.030105654150247574,0.0113605298101902,-0.08751395344734192,0.04376574605703354,-0.08730463683605194,0.11577057093381882,-0.012835281901061535,-0.010758358053863049,-0.3030085861682892,-0.07969436794519424,0.40872249007225037,-0.2049056589603424,-0.009331136010587215,-0.058533620089292526,-0.04502306878566742,-0.01868271641433239,-0.16892829537391663,0.025040263310074806,-0.10603760927915573,-0.056741371750831604,-0.034021928906440735,-0.014799297787249088,0.0068390402011573315,-0.08580798655748367,-0.042502619326114655,-0.001506730797700584,-0.23607444763183594,0.009934245608747005,0.11566703021526337,-0.16357986629009247,0.005778247490525246,0.05993526428937912,0.0018343455158174038,-0.11153202503919601,-0.018022306263446808,-0.18743278086185455,-0.1084732934832573,-0.06087534874677658,0.1413479596376419,0.08832656592130661,-0.03931014984846115,0.0026894393377006054,0.1325741708278656,0.04593971371650696,-0.18921920657157898,-0.1022794246673584,-0.013374111615121365,-0.06327451765537262,-0.013889538124203682,-0.05254774168133736,0.006312062963843346,-0.0782872810959816,0.016208723187446594,-0.044413067400455475,-0.2452097088098526,-0.15042544901371002,-0.10647458583116531,-0.17636071145534515,-0.04663887247443199,0.025546850636601448,0.1745191067457199,0.031292397528886795,0.02526070922613144,-0.19919973611831665,-0.19715438783168793,0.10868864506483078,0.06480181217193604,0.06837805360555649,0.17732776701450348,-0.19320367276668549,-0.1953786015510559,-0.2388717532157898,-0.010104515589773655,0.07918374240398407,0.01255054958164692,-0.014561551623046398,-0.0032622606959193945,-0.3183560371398926,0.05278252065181732,-0.19769901037216187,0.04287780448794365,-0.09892395883798599,-0.19087018072605133,-0.054120756685733795,0.03298960626125336,-0.17179051041603088,-0.012442913837730885,0.10015977174043655,-0.038952719420194626,-0.15807302296161652,-0.1261119395494461,-0.1439572125673294,0.19959814846515656,-0.003331833751872182,-0.019499141722917557,-0.13269884884357452,0.020038584247231483,-0.07538620382547379,0.013469808734953403,0.008548189885914326,-0.1884067803621292,-0.09925085306167603,0.049293674528598785,-0.042403485625982285,-0.20146788656711578,-0.09766947478055954,0.14864595234394073,-0.053530752658843994,-0.012729639187455177,0.16422496736049652,-0.15931850671768188,0.13533179461956024,-0.08596856892108917,-0.007557499688118696,0.0116621358320117,-0.10363870114088058,-0.08445852994918823,-0.31209394335746765,-0.02016614004969597,-0.03865429759025574,0.06375840306282043,0.09161786735057831,-0.19845673441886902,-0.19473692774772644,-0.16236935555934906,-0.2556752860546112,-0.05727040767669678,0.12313607335090637,0.23590102791786194,-0.030655618757009506,-0.054544899612665176,-0.20245489478111267,0.00022708218602929264,-0.1395212858915329,-0.10151083767414093,0.05872905254364014,0.07160195708274841,0.10413665324449539,0.1199938952922821,-0.008336416445672512,-0.06146206706762314,-0.15129916369915009,-0.04683620482683182,-0.19751067459583282,0.01946747861802578,-0.24665144085884094,-0.05101296678185463,-0.02502112276852131,-0.0007506145630031824,-0.07177912443876266,0.16500990092754364,0.18432095646858215,-0.23024378716945648,0.06665946543216705,-0.0005711438716389239,-0.07814263552427292,0.03498776629567146,0.06514573842287064,0.2459164559841156,-0.059122614562511444,0.011951492168009281,-0.08360625058412552,-0.00015045868349261582,0.24112151563167572,0.01574239321053028,0.3359973728656769,-0.1752375215291977,0.038494840264320374,-0.027329999953508377,0.021503791213035583,-0.030014945194125175,0.05008469894528389,-0.17584703862667084,0.21926891803741455,0.025534726679325104,-0.0317290760576725,-0.1320703774690628,-0.03449787572026253,-0.17617839574813843,-0.12972146272659302,0.03965604677796364,0.06412582099437714,0.17213378846645355,0.024066908285021782,0.03595425933599472,-0.06481669098138809,-0.019203586503863335,-0.01718893088400364,-0.16406777501106262,-0.02554522082209587,0.04997744783759117,-0.24661196768283844,-0.0675336942076683,-0.06306172162294388,0.23935207724571228,-0.13160423934459686,0.045556649565696716,-0.1296539306640625,0.020905479788780212,0.13979452848434448,-0.01248867530375719,0.02984018623828888,0.010885937139391899,0.0779050961136818,-0.0931982472538948,0.078910693526268,-0.029202749952673912,-0.0005365746328607202,-0.14743952453136444,0.133286714553833,-0.003313018474727869,0.15046097338199615,-0.13058948516845703,-0.05775260180234909,-0.023782014846801758,-0.1330878734588623,0.09737210720777512,-0.008346905000507832,-0.11743025481700897,0.05805620551109314,0.0029073464684188366,0.14253048598766327,-0.0613265223801136,0.04862266033887863,-0.20799969136714935,0.048113174736499786,0.3358539938926697,0.011289329268038273,0.025456862524151802,-0.018570566549897194,0.07261151820421219,0.005173753947019577,-0.027544397860765457,-0.07757563143968582,0.002624848624691367,-0.0742509514093399,0.1942061185836792,-0.10672498494386673,-0.10601429641246796,-0.04194999858736992,0.012079141102731228,0.018086759373545647,-0.016248663887381554,-0.008208018727600574,-0.025616515427827835,0.047473322600126266,0.05826058238744736,0.10699599236249924,0.001968707423657179,0.10069146752357483,0.018519021570682526,0.02140050195157528,-0.025212818756699562,0.08837317675352097,-0.027145620435476303,-0.04901891574263573,-0.029683809727430344,0.006035916041582823,0.044248614460229874,0.00751864816993475,0.3548392057418823,-0.0008400700171478093,0.04729941114783287,0.0853828489780426,0.03143225237727165,0.013222618028521538,-0.2406691014766693,0.05328145623207092,-0.05145804211497307,-0.00020910680177621543,-0.2401507943868637,0.047784529626369476,0.06222952902317047,0.09401483088731766,-0.1683727204799652,-0.16090352833271027,-0.18072468042373657,-0.16380921006202698,0.023227974772453308,-0.015831217169761658,0.016498159617185593,-0.04878323897719383,-0.0735270157456398,-0.03520916402339935,0.11584952473640442,-0.060571521520614624,-0.19535918533802032,-0.0177100021392107,0.11753121018409729,-0.02042900025844574,0.0013753599487245083,0.12246259301900864,-0.14263279736042023,0.1291661262512207,-0.0007684055017307401,0.07375817745923996,-0.17134712636470795,-0.18084342777729034,-0.04064292460680008,-0.05328722298145294,0.3807927668094635,0.1348237246274948,-0.03695746511220932,-0.04201198369264603,-0.16051368415355682,0.06539373099803925,0.019546134397387505,0.026171233505010605,0.1414378434419632,0.2231995314359665,0.025293990969657898,-0.003240398596972227,0.025301488116383553,-0.1040976345539093,0.13528972864151,-0.20360249280929565,-0.2773158550262451,0.013833612203598022,-0.0351000614464283,-0.23158031702041626,0.019411107525229454,0.16205333173274994,0.00886018481105566,-0.047495875507593155,0.04261809587478638,0.030774571001529694,0.19982245564460754,-0.011120624840259552,0.05972086265683174,-0.08388060331344604,0.02599295973777771,-0.084989532828331,0.07220879942178726,0.01786624640226364,0.09386992454528809,-0.0806962177157402,0.02093621715903282,-0.03474080190062523,-0.029539786279201508,0.47730547189712524,-0.0641200840473175,0.003986808471381664,-0.009416451677680016,-0.00033867877209559083,-0.033180829137563705,0.20399323105812073,-0.10462792962789536,-0.09740950167179108,0.01968499645590782,-0.04377888888120651,0.06808975338935852,-0.19794492423534393,-0.15669406950473785,0.07425424456596375,0.02374068647623062,0.0320182740688324,0.021763520315289497,0.07957831770181656,0.03586390241980553,-0.016879625618457794,0.012783881276845932,-0.09139462560415268,0.06709656119346619,0.16587188839912415,-0.03463945910334587,-0.12615670263767242,-0.001118455664254725,-0.21489326655864716,0.071025051176548,0.05358473211526871,-0.04348279535770416,-0.12124957144260406,-0.00804098416119814,-0.1925067901611328,0.08296661078929901,0.21033869683742523,-0.022981399670243263,0.022041212767362595,-0.1196393147110939,0.05320574715733528,0.11040899157524109,0.004767563194036484,0.11264870315790176,-0.030540265142917633,-0.005408303812146187,-0.01311966311186552,-0.21132612228393555,0.0601654015481472,-0.026171930134296417,0.05138762295246124,0.018110059201717377,0.004159012343734503,0.07745969295501709,0.11447804421186447,-0.23046499490737915,0.04415213689208031,-0.19175952672958374,-0.09563826024532318,0.024647638201713562,-0.05994199216365814,-0.08454876393079758,-0.022824058309197426,-0.0441410206258297,-0.1258130967617035,0.23300208151340485,0.03718947619199753,0.0458531491458416,0.018860753625631332,-0.11414530128240585,0.19371359050273895,0.0017641723388805985,0.07281826436519623,-0.13587169349193573,0.053735703229904175,-0.12985384464263916,-0.20592276751995087,-0.22175297141075134,0.41566887497901917,0.018378088250756264,-0.017840707674622536,0.01881048083305359,0.0181209035217762,0.0046225073747336864,-0.1531049758195877,0.0985908955335617,0.14174649119377136,-0.06949463486671448,0.027696318924427032,0.040892403572797775,0.05912149325013161,0.024222273379564285,0.19768327474594116,0.12135407328605652,0.08769811689853668,-0.10900011658668518,0.01659994199872017,0.03680500388145447,0.0202631875872612,-0.025041488930583,0.03861917927861214,0.06634648889303207,0.06597873568534851,0.04205215722322464,0.10347636044025421,-0.04222827032208443,-0.18674692511558533,0.03018142096698284,0.06425609439611435,-0.14481320977210999,0.0678284764289856,0.11177805811166763,-0.001775152049958706,0.1765187829732895,0.10608862340450287,0.0611279234290123,-0.15403865277767181,0.041788626462221146,-0.009797319769859314,0.09142328053712845,0.08364768326282501,-0.033779434859752655,-0.21204590797424316,-0.057387575507164,0.1721946895122528,0.05902741849422455,0.23630714416503906,0.00928104855120182,-0.1093553826212883,-0.23737733066082,0.10660336166620255,-0.0936443954706192,0.03578243777155876,-0.002890013623982668,0.017283419147133827,-0.1213265135884285,-0.026831533759832382,0.060628920793533325,-0.19451509416103363,0.09064973145723343,-0.19878020882606506,0.03907855600118637,-0.18808411061763763,-0.1397644728422165,-0.20261381566524506,0.20585012435913086,0.0629185363650322,-0.0429077222943306,-0.06838289648294449,0.05953564494848251,0.18498286604881287,-0.00803422462195158,-0.07503554224967957,0.04837353155016899,0.023311413824558258,0.1145191341638565,-0.051300957798957825,0.016715381294488907,0.021665284410119057,0.025669582188129425,-0.04576548561453819,0.08179377764463425,-0.15228815376758575,-0.03599413484334946,-0.19149896502494812,0.019218089058995247,-0.1507798135280609,0.134199321269989,-0.1540168821811676,-0.1840543895959854,0.03749050572514534,-0.035994917154312134,0.049929071217775345,-0.19005507230758667,0.226747527718544,0.0012003820156678557,-0.1112799122929573,0.028275800868868828,-0.19752421975135803,-0.11136830598115921,-0.07652408629655838,-0.006829920690506697,0.09769084304571152,0.12953166663646698,-0.0053542545065283775,0.030641183257102966,0.02850915491580963,0.08503616601228714,-0.12394527345895767,-0.04403196647763252,-0.04508417099714279,0.024284446612000465,-0.009603762999176979,-0.15545038878917694,-0.007436076179146767,-0.013976190239191055,-0.17637309432029724,-0.23572920262813568,-0.21068315207958221,0.03941488265991211,-0.013819013722240925,-0.1899486780166626,0.04429495707154274,-0.09321831166744232,-0.1621437966823578,-0.14290903508663177,-0.18568260967731476,-0.015704939141869545,-0.21135084331035614,0.004075898788869381,0.12884429097175598,-0.18890444934368134,0.009728354401886463,0.03124411590397358,0.17478859424591064,-0.0901036486029625,0.15499866008758545,0.01855682209134102,0.029346812516450882,0.03618205338716507,0.05271131917834282,-0.16913945972919464,0.1460459679365158,0.03896571323275566,0.01791170984506607,0.010587377473711967,-0.025090722367167473,0.0952162817120552,0.22060252726078033,-0.11848998069763184,0.17796559631824493,-0.0007201357511803508,0.18660414218902588,-0.019145384430885315,-0.048054710030555725,0.10359302163124084,-0.14975951611995697,-0.05917895957827568,-0.056451816111803055,0.05662468075752258,-0.1598370224237442,0.22619417309761047,-0.11121377348899841,-0.24155840277671814,-0.16653774678707123,0.012945419177412987,-0.1900499016046524,0.058501992374658585,-0.03263600915670395,-0.09489636868238449,0.0034453237894922495,0.2194872945547104,0.12901929020881653,0.029035858809947968,0.014691021293401718,-0.20231541991233826,-0.23426339030265808,-0.08597137778997421,-0.02034231275320053,0.0012204026570543647,-0.16555489599704742,-0.019461091607809067,-0.15801042318344116,-0.21513983607292175,0.3407054543495178,-0.028506048023700714,0.07648666948080063,-0.049014102667570114,0.002716010669246316,0.044722165912389755,-0.05322728306055069,0.03772806003689766,0.04359907656908035,-0.17665693163871765,0.0006168701802380383,-0.0489313080906868,0.2198602706193924,-0.12167192250490189,0.16320733726024628,-0.13881072402000427,0.12917274236679077,0.03649071604013443,0.034029342234134674,-0.052623722702264786,-0.1742880642414093,0.07564737647771835,0.02922878973186016,-0.17040452361106873,0.09775613248348236,-0.03894898295402527,-0.018677474930882454,0.0027061167638748884,-0.012343413196504116,-0.14402098953723907,0.0289912112057209,0.06969040632247925,0.11167621612548828,0.053836774080991745,0.0018960280576720834,-0.0748516172170639,-0.017070677131414413,-0.1376807540655136,-0.032980166375637054,0.06882958859205246,-0.1681554615497589,0.016254175454378128,0.004476018715649843,0.0708494484424591,0.028127335011959076,-0.012080480344593525,0.07598118484020233,0.03394785895943642,0.014253252185881138,-0.1465533822774887,-0.1367408037185669,-0.3120124638080597,-0.09216839075088501,-0.15133734047412872,0.10008833557367325,0.1354418843984604,0.18817190825939178,-0.08738542348146439,-0.049091633409261703,0.05903906747698784,0.02316584251821041,-0.15706706047058105,-0.05301927402615547,0.08205512166023254,0.17778192460536957,0.03724408894777298,0.17794987559318542,-0.06383220106363297,-0.04780926555395126,0.0940333753824234,0.04376477003097534,0.4874587953090668,-0.04065285623073578,0.01982874795794487,0.04271005466580391,-0.10130368918180466,-0.286638468503952,-0.14804500341415405,0.1429697722196579,0.07686852663755417,0.017011893913149834,-0.09448633342981339,-0.0366680808365345,0.10637268424034119,-0.1084146648645401,-0.02754795365035534,-0.22028817236423492,-0.023050453513860703,-0.08083135634660721,0.017766624689102173,-0.10709220916032791,-0.15786689519882202,0.020056506618857384,-0.11113414913415909,0.008556961081922054,-0.03033263422548771,0.019796624779701233,-0.23713567852973938,0.07840070128440857,0.013800540007650852,-0.0226006917655468,-0.17930173873901367,-0.10734859853982925,-0.0797591432929039,0.030160019174218178,-0.014878719113767147,0.08828109502792358,-0.01631796360015869,-0.28359389305114746,-0.03541536256670952,0.06396013498306274,-0.061645008623600006,-0.10429413616657257,-0.09410261362791061,-0.20563949644565582,0.03047093003988266,0.009835492819547653,-0.08634418249130249,0.0092266034334898,0.021976618096232414,0.08173901587724686,0.007518979255110025,-0.1254635453224182,-0.012006021104753017,0.02341628260910511,0.010092305019497871,-0.02150905132293701,0.09951751679182053,0.07736768573522568,-0.007260896265506744,0.24995523691177368,-0.06109343096613884,0.03690798580646515,0.024506177753210068,0.06363307684659958,-0.0022421793546527624,0.07999859750270844,-0.0626131147146225,-0.10825789719820023,0.17191416025161743,0.04580985754728317,0.005385558120906353,0.02096952497959137,0.15801435708999634,0.048600710928440094,0.03878737613558769,-0.02381701022386551,-0.11669756472110748,-0.2103462964296341,-0.13571040332317352,-0.011998764239251614,0.24824321269989014,0.1388823390007019,0.0005005197017453611,-0.05347509682178497,0.26077011227607727,0.293335884809494,-0.012367410585284233,-0.19161826372146606,0.038289427757263184,0.0357828252017498,-0.0018859305419027805,-0.0958089604973793,0.05352571979165077,0.0029495658818632364,0.16456443071365356,-0.049481749534606934,0.07415676862001419,0.014733896590769291,0.021081477403640747,0.021555280312895775,0.13223260641098022,0.09295138716697693,0.004331284202635288,-0.14916060864925385,-0.037974368780851364,-0.024602429941296577,0.013629961758852005,0.10512375831604004,0.35122352838516235,0.2927837073802948,-0.15460334718227386,-0.05148616060614586,-0.18574795126914978,0.03462309017777443,0.06248728558421135,0.04495256766676903,-0.08754361420869827,-0.17777124047279358,0.019732331857085228,0.11331228166818619,-0.02554987370967865,0.011612720787525177,0.24245375394821167,-0.01688208058476448,0.19222259521484375,-0.0012538331793621182,-0.08760381489992142,-0.07982049882411957,-0.3160642981529236,-0.07343823462724686,0.18484507501125336,-0.11767973005771637,0.07859417051076889,0.08079955726861954,0.00796727929264307,0.055851295590400696,0.08073989301919937,-0.03669712319970131,0.02510194480419159,0.033291950821876526,0.04770548641681671,-0.10037288069725037,-0.04032665863633156,-0.046825069934129715,-0.008181542158126831,-0.019540870562195778,-0.11400831490755081,0.016205742955207825,0.019442563876509666,0.04249297454953194,0.06824252754449844,-0.23301774263381958,0.05243846774101257,-0.07942938059568405,0.038582753390073776,0.030384209007024765,0.08593049645423889,0.0027763224206864834,-0.05089060589671135,0.039998747408390045,0.03707444295287132,0.2587330639362335,0.2049260288476944,0.07394512742757797,0.07537499815225601,-0.020124852657318115,-0.12929660081863403,-0.0921986848115921,0.18085363507270813,0.017172282561659813,-0.23819896578788757,0.11270923912525177,-0.0972670391201973,-0.23682163655757904,0.26413673162460327,-0.2730865180492401,0.10307527333498001,-0.0021814557258039713,-0.03892366215586662,0.158834770321846,0.011717609129846096,-0.015205794014036655,0.13172253966331482,-0.015494249761104584,0.0290349330753088,0.09127867221832275,0.08931140601634979,0.11540789157152176,-0.09872440993785858,0.24403055012226105,-0.02199433371424675,0.01662571355700493,-0.007341428659856319,0.00985645316541195,-0.06078103929758072,-0.08263981342315674,-0.19739538431167603,0.020252030342817307,-0.01330167893320322,0.15829721093177795,-0.08772916346788406,-0.12115941196680069,-0.12435785681009293,0.17401163280010223,-0.20346006751060486,0.051849205046892166,-0.1503232717514038,0.0230694692581892,0.016792673617601395,-0.021738100796937943,0.02399839647114277,-0.17937088012695312,0.09325553476810455,-0.07475169003009796,-0.005358046852052212,0.030049964785575867,-0.15646426379680634,0.030300628393888474,-0.031217830255627632,0.21004462242126465,-0.32051554322242737,-0.29405587911605835,0.07623555511236191,0.02856438234448433,-0.12490691244602203,0.06127859652042389,0.08672155439853668,-0.20923125743865967,-0.08931051939725876,-0.20709538459777832,-0.10591043531894684,-0.04872310906648636,0.062348853796720505,-0.014012950472533703,0.03754039853811264,0.03868512809276581,0.0757475420832634,-0.019601890817284584,-0.0639014020562172,0.08440812677145004,0.08870764821767807,0.006431572139263153,0.01601269654929638,0.25533780455589294,-0.19866614043712616,0.020009150728583336,-0.010027900338172913,0.04305431619286537,0.0026688361540436745,-0.14174368977546692,0.04228733479976654,0.10660150647163391,-0.03349205479025841,-0.06393302977085114,0.3393538296222687,-0.14208446443080902,0.03797677159309387,0.04851185157895088,-0.03471805155277252,0.12972669303417206,-0.0032142107374966145,0.1858830451965332,0.07826044410467148,0.006551357917487621,0.08862442523241043,0.025706354528665543,0.017041439190506935,-0.17063671350479126,0.03426292911171913,-0.17148908972740173,0.019220201298594475,-0.036127157509326935,-0.01278100349009037,0.006912613287568092,-0.008806179277598858,-0.01218403596431017,0.07934846729040146,-0.0032496119383722544,0.0681941881775856,0.12789759039878845,0.04788067564368248,-0.025664174929261208,0.37785571813583374,0.05546465888619423,0.06364671885967255,0.10059737414121628,-0.085311658680439,0.04095980152487755,-0.11196069419384003,0.3506075143814087,-0.11598622798919678,-0.12333621084690094,0.020943300798535347,0.034414730966091156,-0.13702411949634552,-0.17212027311325073,0.046544622629880905,0.12830907106399536,-0.1775381863117218,-0.13374918699264526,-0.10771644860506058,-0.03302307054400444,-0.11003409326076508,0.04328316077589989,0.037820421159267426,0.016168752685189247,0.1262313574552536,0.18384402990341187,0.16818144917488098,0.1427430361509323,-0.1267872452735901,0.040049269795417786,-0.06367992609739304,0.01785428076982498,-0.15560859441757202,-0.30983883142471313,-0.10301855951547623,-0.27277567982673645,0.05499337241053581,0.06456132233142853,-0.026477769017219543,0.0071188523434102535,-0.017688963562250137,0.033074431121349335,-0.1293628215789795,0.18743222951889038,0.04294397681951523,0.12712083756923676,0.010622277855873108,0.0017465081764385104,-0.002765149110928178,0.09137634932994843,-0.19689583778381348,-0.04941726103425026,0.10707396268844604,-0.13492633402347565,-0.02427113801240921,-0.13687849044799805,0.02810204215347767,0.07900405675172806,0.09210190176963806,0.0009184114169329405,-0.09968332946300507,0.15870997309684753,0.05364138260483742,0.004622316919267178,0.05585383251309395,-0.06796561926603317,0.10125242173671722,0.1558455228805542,-0.12597624957561493,-0.017804238945245743,0.0044094561599195,-0.10113651305437088,0.014831961132586002,-0.018471766263246536,0.00838030781596899,-0.05963929370045662,0.027069363743066788,-0.1765611618757248,-0.08990054577589035,0.33298811316490173,-0.14029255509376526,0.09553961455821991,-0.19985152781009674,-0.2014167457818985,0.040868375450372696,0.2758541405200958,-0.006013014353811741,0.027137624099850655,-0.008465436287224293,-0.004526097327470779,-0.005678978282958269,0.12704840302467346,-0.031729280948638916,0.02236102893948555,0.022104362025856972,0.023436343297362328,-0.004114075098186731,0.621270477771759,0.04070903733372688,-0.12896610796451569,0.12294050306081772,0.01601247303187847,-0.271503746509552,0.022189201787114143,0.06272505968809128,-0.011919005773961544,0.04365180805325508,-0.0429491251707077,-0.0038111016619950533,-0.02713758870959282,0.08982250094413757,-0.08757443726062775,0.017635799944400787,-0.08213604986667633,-0.24081072211265564,-0.030230524018406868,-0.033412810415029526,0.034544937312603,-0.12584994733333588,-0.01927555724978447,-0.08703663945198059,0.04845361039042473,0.2690927982330322,0.008942754939198494,-0.03286999091506004,0.08502770215272903,-0.04977856203913689,-0.06229506805539131,-0.031074518337845802,-0.01874040812253952,0.07699116319417953,0.16237440705299377,-0.22457514703273773,-0.019162368029356003,-0.028315242379903793,-0.01977629028260708,-0.00027969497023150325,0.012760420329868793,0.017716916278004646,0.025557320564985275,0.1857031285762787,-0.05271218344569206,0.1667313128709793,-0.0770028680562973,-0.013345463201403618,-0.09123477339744568,-0.03684558346867561,-0.019657528027892113,0.09136277437210083,5.855041672475636e-05,0.3916328549385071,0.09721828997135162,-0.03216267377138138,0.024066586047410965,-0.059875089675188065,0.002986475359648466,-0.13008689880371094,-0.21937449276447296,-0.16772066056728363,-0.00674061942845583,0.510663628578186,-0.05326923355460167,-0.14256909489631653,-0.14729171991348267,-0.010401630774140358,0.0014264333294704556,0.03543292358517647,0.247039332985878,-0.16784556210041046,-0.04195597022771835,-0.27035412192344666,-0.04902103543281555,0.0029059601947665215,-0.024249810725450516,-0.28229498863220215,-0.24620816111564636,0.01329751405864954,-0.019816024228930473,0.015131447464227676,-0.055686794221401215,-0.21911999583244324,0.07052922248840332,0.17637406289577484,-0.15054865181446075,0.4008388817310333,0.07872962206602097,-0.010314413346350193,0.03964373096823692,-0.00044132405309937894,0.10802971571683884,0.10373371094465256,0.0009895937982946634,0.22773955762386322,0.10324869304895401,0.08014833927154541,-0.013005094602704048,0.02431464195251465,-0.022620409727096558,-0.19213072955608368,-0.19344520568847656,-0.07525067031383514,0.03743826225399971,-0.006447754334658384,-0.005339489784091711,-0.2045414298772812,-0.14429903030395508,-0.13941942155361176,0.01987432688474655,-0.03427619859576225,-0.023947525769472122,-0.17831873893737793,0.25009262561798096,0.0770677998661995,-0.19375388324260712,-0.17276522517204285,-0.2795727849006653,-0.055998388677835464,-0.07510878890752792,0.004847396165132523,0.0021885496098548174,0.04468180984258652,-0.07059144973754883,0.030906392261385918,-0.026700589805841446,-0.09135891497135162,-0.013506346382200718,-0.16118589043617249,-0.11323761940002441,0.09764335304498672,-0.10799533873796463,0.01139788143336773,0.04096496105194092,0.08493989706039429,-0.061158765107393265,-0.012181867845356464,-0.056498877704143524,-0.01762942411005497,-0.2856406271457672,-0.20477266609668732,-0.15269799530506134,0.024655163288116455,-0.1269499808549881,-0.22895294427871704,-0.00666204234585166,0.017629891633987427,0.013450561091303825,-0.23094522953033447,0.04677325859665871,-0.0015559066087007523,-0.07928231358528137,-0.210957869887352,-0.19169965386390686,0.0621245875954628,-0.2625548839569092,0.1232394427061081,-0.2025441974401474,-0.17048175632953644,-0.11113108694553375,-0.13663257658481598,-0.10950879007577896,-0.045004818588495255,0.12306617945432663,-0.12938962876796722,0.08934348821640015,0.061539534479379654,-0.05926898866891861,-0.0030275366734713316,-0.04818657413125038,-0.19889113306999207,-0.0905657634139061,-0.13960115611553192,-0.1647043377161026,-0.07712157070636749,-0.013905948027968407,0.10172349214553833,0.02022319659590721,0.013217692263424397,-0.04198706895112991,0.008180898614227772,0.08527955412864685,0.05036105588078499,-0.014354709535837173,0.13449686765670776,-0.15146459639072418,-0.16385579109191895,-0.08806896209716797,-0.06051645055413246,-0.04462572559714317,-0.053411975502967834,-0.14940676093101501,0.03389132395386696,-0.12944813072681427,-0.1467871367931366,-0.2309647500514984,-0.23974373936653137,0.05805206298828125,-0.043182622641325,0.045341599732637405,0.03853778541088104,0.1348075419664383,-0.011014260351657867,-0.20492608845233917,-0.120519258081913,-0.04959966614842415,-0.030632764101028442,0.0396338514983654,-0.006710689980536699,0.02766454592347145,-0.046034738421440125,-0.15093830227851868,0.36425748467445374,-0.17279092967510223,0.12874440848827362,0.005057625938206911,-0.12046753615140915,-0.08951953798532486,-0.087551049888134,-0.04356832429766655,0.15286105871200562,-0.1441815346479416,-0.08038965612649918,0.06501993536949158,-0.20401613414287567,-0.21534694731235504,-0.09002936631441116,-0.036846574395895004,0.09624792635440826,0.04272537678480148,-0.13469432294368744,0.49575135111808777,0.13591982424259186,0.03349767625331879,-0.07934542745351791,0.327567994594574,0.05500025302171707,0.08535442501306534,-0.03942278027534485,-0.05797708407044411,-0.043068863451480865,-0.19726033508777618,-0.09274505078792572,-0.005768327973783016,-0.20065762102603912,-0.10768111795186996,-0.11740588396787643,-0.0022142573725432158,-0.005545086693018675,0.031067419797182083,-0.037633463740348816,0.008216341957449913,0.0859094187617302,-0.04249700903892517,-0.10916975140571594,-0.1627030223608017,-0.11669604480266571,0.008081406354904175,-0.12205985188484192,-0.10264560580253601,0.13229289650917053,0.3070825934410095,-0.031913600862026215,-0.21137292683124542,-0.1406596302986145,-0.22616858780384064,-0.17493674159049988,-0.21944570541381836,-0.14868508279323578,-0.23061808943748474,0.12143954634666443,-0.16090327501296997,-0.1285189390182495,0.057745251804590225,-0.12771101295948029,-0.16332659125328064,0.08183986693620682,-0.01692724972963333,-0.17235222458839417,-0.07661805301904678,-0.11120305210351944,-0.032881151884794235,0.22343306243419647,-0.02024199068546295,0.05567183718085289,0.06329670548439026,0.007480421103537083,-0.021864112466573715,-0.004052984993904829,-0.17952243983745575,0.011767460964620113,-0.13908123970031738,-0.09145587682723999,-0.07189039140939713,-0.1529081016778946,-0.03362744674086571,-0.17399856448173523,0.056815676391124725,-0.039348118007183075,0.06120317429304123,0.17652548849582672,0.024544503539800644,0.02667165733873844,-0.01330848503857851,0.1774357110261917,0.07293374836444855,-0.06448999792337418,-0.01598253659904003,-0.09513146430253983,0.025932539254426956,-0.08872358500957489,0.0008371102157980204,0.011638143099844456,-0.031165355816483498,0.07445897161960602,0.037095263600349426,0.04948442801833153,0.02314353920519352,0.011787068098783493,0.04273822531104088,-0.04615623131394386,-0.00664864806458354,0.057216331362724304,0.15527568757534027,-0.009089655242860317,0.1833784580230713,0.14101608097553253,-0.1223398968577385,-0.06867922097444534,-0.19171619415283203,-0.02798481471836567,-0.03906974568963051,-0.15367743372917175,0.03670659288764,0.15187688171863556,-0.044999778270721436,-0.10416103899478912,0.1911933869123459,0.0025881207548081875,-0.05987729877233505,0.12834443151950836,-0.024638347327709198,0.004819741938263178,-0.1305011510848999,0.015908140689134598,0.07749468833208084,0.028615692630410194,-0.04897356033325195,0.022947590798139572,0.1691773682832718,0.06198303773999214,0.11296302080154419,0.21051886677742004,-0.08098256587982178,0.01462312787771225,0.052350107580423355,-0.08047134429216385,0.005305340979248285,0.23347550630569458,0.00939158909022808,-0.11357837170362473,0.15542206168174744,-0.008416993543505669,0.20808720588684082,-0.007457691244781017,-0.00692701805382967,-0.010937054641544819,-0.06368711590766907,-0.01620637997984886,-0.003344055963680148,-0.18292035162448883,0.013430586084723473,0.004536317195743322,0.10671454668045044,-0.016065970063209534,0.1722688376903534,-0.06896524876356125,0.010472415015101433,-0.036193542182445526,0.058202534914016724,-0.04815254360437393,-0.11488912254571915,-0.16385617852210999,0.05820940062403679,-0.19831836223602295,0.06374841183423996,-0.0661846473813057,-0.029720813035964966,0.07080516964197159,0.034308381378650665,0.05408833548426628,0.13403847813606262,-0.014240005053579807,0.022712593898177147,-0.10890383273363113,-0.07449165731668472,0.05305119603872299,-0.24234656989574432,-0.1866316795349121,-0.07429942488670349,0.040387630462646484,0.031868718564510345,-0.13487647473812103,-0.03982061892747879,-0.10824475437402725,0.22374016046524048,-0.08289729803800583,0.12435078620910645,0.22924630343914032,0.2897416651248932,-0.07799246907234192,0.0024251597933471203,-0.0942089855670929,-0.03222503885626793,-0.006741834804415703,-0.13597515225410461,0.1521557718515396,0.04957660287618637,0.12445344030857086,-0.1326366364955902,-0.10864521563053131,0.015498495660722256,-0.10315590351819992,0.04212065786123276,0.016958652064204216,-0.03595074638724327,-0.1778632551431656,-0.016556715592741966,0.14717483520507812,0.01135254092514515,-0.06451360136270523,0.01738720014691353,-0.05004246532917023,0.01647091843187809,0.0033784767147153616,-0.08159027248620987,-0.0795769914984703,-0.06373118609189987,-0.03933003172278404,-0.020684028044342995,0.05971766263246536,-0.037786275148391724,-0.20848886668682098,-0.12480351328849792,0.007044679019600153,-0.007239814847707748,-0.024045675992965698,0.0013455268926918507,-0.16485236585140228,0.027126749977469444,-0.030314642935991287,-0.039763156324625015,-0.10550422221422195,0.010961662046611309,-0.08662649244070053,0.016892651095986366,-0.013673154637217522,-0.09233887493610382,0.008758318610489368,-0.0056467726826667786,-0.07996264100074768,0.016370998695492744,-0.02971305325627327,-0.058335211127996445,-0.028314482420682907,-0.06501925736665726,-0.08145256340503693,0.09307129681110382,-0.038373224437236786,0.057227570563554764,-0.020113380625844002,-0.019851434975862503,-0.11228810995817184,-0.01866943947970867,-0.006237138994038105,-0.09567216038703918,-0.0048855082131922245,-0.023519830778241158,-0.027401603758335114,-0.07491050660610199,0.02826046571135521,-0.0520796962082386,0.16672834753990173,-0.008333026431500912,0.031158000230789185,-0.024373909458518028,-0.07508295774459839,0.0036788329016417265,-0.052854832261800766,0.04846180975437164,0.08183028548955917,0.018185071647167206,0.05631228908896446,0.05621131509542465,-0.014117793180048466,-0.1877955198287964,0.043860387057065964,0.008627213537693024,-0.052528224885463715,0.01589355058968067,0.3277013301849365,0.5488746762275696,0.4893660843372345,-0.16925878822803497,0.08100313693284988,0.14129780232906342,-0.0072365403175354,0.28914815187454224,-0.046600740402936935,0.0227948185056448,-0.1440313160419464,0.004443197976797819,0.06920725852251053,-0.02639261819422245,0.07611634582281113,0.053494714200496674,0.038714755326509476,0.0015401860000565648,-0.0756673738360405,-0.058026015758514404,0.09342897683382034,0.023700779303908348,-0.09516911208629608,-0.02518322505056858,-0.012709420174360275,-0.09569628536701202,0.3324853479862213,0.07703299075365067,0.08767091482877731,0.04318622872233391,-0.05165496841073036,0.051788538694381714,0.059164997190237045,0.03228938579559326,0.1870257556438446,-0.033469751477241516,0.0947040244936943,-0.02086087130010128,0.17653198540210724,-0.04422629997134209,-0.02925034612417221,0.026754407212138176,-0.026320725679397583,0.06495779752731323,0.07917714864015579,0.12468461692333221,-0.015989454463124275,-0.09750469774007797,-0.08776087313890457,-0.19423054158687592,-0.04626403748989105,-0.09260978549718857,-0.024811897426843643,0.06391499936580658,0.02226749248802662,0.09085258841514587,-0.017932025715708733,-0.02419021911919117,0.042160794138908386,-0.007099378854036331,0.1021072193980217,0.16862711310386658,-0.0012072152458131313,-0.008154132403433323,-0.10257773101329803,0.07035832852125168,-0.10392521321773529,-0.01628734916448593,-0.026716727763414383,0.28172025084495544,0.0604364387691021,-0.014496058225631714,-0.45151230692863464,0.06071529537439346,0.0306528490036726,0.020098060369491577,0.19550387561321259,0.017062479630112648,0.08071225136518478,-0.05480112135410309,0.1274256706237793,-0.06806080788373947,0.21021756529808044,0.14588592946529388,0.13029706478118896,0.162455216050148,0.43156513571739197,-0.06442411988973618,0.12763041257858276,0.04161057621240616,-0.04410227760672569,0.08507051318883896,0.21866250038146973,0.04854872077703476,0.5272201299667358,0.2898935079574585,-0.032130371779203415,-0.012494844384491444,-0.03854938969016075,0.22479617595672607,0.01501430943608284,0.007244842126965523,0.19071488082408905,0.054325103759765625,0.021892286837100983,0.22822342813014984,0.07184577733278275,-0.016184072941541672,-0.01938595622777939,0.03934922814369202,0.03778349235653877,0.07475846260786057,0.1345428228378296,0.008381440304219723,0.17626546323299408,-0.009579725563526154,0.16591876745224,0.02658860571682453,0.3057391941547394,0.07991977781057358,0.21968448162078857,-0.11441003531217575,0.04031161591410637,-0.06387828290462494,0.08188409358263016,0.16389904916286469,0.08183924853801727,0.06352610141038895,0.28246602416038513,0.07135812938213348,0.00910177268087864,-0.07557899504899979,0.05937116965651512,-0.18832460045814514,0.03163813054561615,-0.062426239252090454,0.00013207386655267328,0.02031898871064186,0.14915382862091064,0.044472694396972656,0.03554742783308029,0.15611989796161652,-0.012637054547667503,0.06814941018819809,-0.04878315329551697,0.18560931086540222,0.4051041007041931,0.11051882058382034,0.11543016880750656,0.1977263242006302,0.4345337748527527,-0.00655181473121047,-0.06837885826826096,0.25488775968551636,-0.026881927624344826,0.1691213995218277,0.13433361053466797,0.10335537791252136,-0.010722741484642029,-0.22529378533363342,0.0590997040271759,0.12475602328777313,-0.02971823327243328,0.07300093024969101,0.041122548282146454,-0.029051823541522026,0.0073647405952215195,-0.06274595856666565,-0.032662440091371536,0.003633001819252968,-0.12436940521001816,-0.10854822397232056,-0.22861723601818085,0.005395895801484585,0.1297331154346466,0.08350387960672379,0.01802041567862034,-0.014061275869607925,0.030302491039037704,0.08691906183958054,0.024959003552794456,-0.13069352507591248,0.13774143159389496,-0.0006472646491602063,-0.12063397467136383,0.007860134355723858,0.05482332408428192,-0.15403330326080322,0.040337029844522476,0.08903568238019943,0.05723261833190918,0.0759650245308876,-0.10297569632530212,-0.011502758599817753,-0.02902863919734955,0.08582302927970886,0.21102158725261688,0.06925158202648163,0.054841846227645874,0.0034453151747584343,-0.12601369619369507,0.0035120558459311724,0.14416857063770294,0.020000498741865158,0.02224484086036682,0.09802258759737015,0.057359978556632996,0.017957422882318497,-0.037230268120765686,-0.15137945115566254,0.0997932031750679,0.08677825331687927,0.02197832055389881,0.1350967139005661,-0.14207638800144196,-0.1521628051996231,-0.15356488525867462,-0.0059791612438857555,-0.16209042072296143,-0.011534157209098339,0.06970382481813431,0.07572201639413834,-0.10943563282489777,-0.12830835580825806,0.10960715264081955,0.00629377318546176,-0.040807437151670456,0.07202707231044769,-0.06640326976776123,0.07333563268184662,0.0811370238661766,0.012447305023670197,-0.08539705723524094,0.03682129085063934,-0.01809355989098549,0.043307431042194366,-0.10287635028362274,0.0918920636177063,0.1038791835308075,-0.11153575032949448,0.8363319635391235,-0.1855589598417282,-0.11278475821018219,0.1407821923494339,0.020879002287983894,-0.05218353122472763,-0.0281442292034626,-0.037734128534793854,0.05586772784590721,0.018177691847085953,0.018627647310495377,0.021999312564730644,0.00499736750498414,0.15082012116909027,0.10172660648822784,0.039236582815647125,0.014179056510329247,0.08553227037191391,0.026087678968906403,-0.08957315981388092,0.05491125211119652,0.18566085398197174,0.12467867136001587,-0.12038299441337585,0.24908354878425598,-0.045646168291568756,-0.17911981046199799,-0.02886592410504818,-0.10359214246273041,0.06372911483049393,0.04795381426811218,0.35584062337875366,-0.04630739614367485,0.12051992118358612,0.00379900261759758,0.0635964423418045,0.2283647060394287,0.2437768280506134,-0.06395280361175537,-0.04538392648100853,0.07284329831600189,0.13486573100090027,0.11124047636985779,0.04187179356813431,0.05062999203801155,-0.10026789456605911,0.004614940844476223,-0.04514533281326294,-0.05181512609124184,-0.003394397208467126,-0.17225101590156555,0.1430850327014923,-0.038761407136917114,0.1703721433877945,0.14636990427970886,-0.08535245805978775,0.013346189633011818,0.051625579595565796,-0.1740313023328781,0.11719050258398056,0.028808625414967537,0.030873404815793037,-0.20850293338298798,0.41095590591430664,0.00028646705322898924,-0.2100038230419159,-0.15973584353923798,0.0969555601477623,0.028175199404358864,0.26798924803733826,-0.13267676532268524,-0.018867067992687225],\"z\":[3.3315912251197233e-09,1.6090329069129439e-09,-6.071704472532247e-09,-3.535425463496722e-08,-5.393103919004716e-08,3.6620606547188572e-09,2.9563235415253075e-08,-1.1330153704136592e-08,-1.6853688222795427e-08,2.5164418104850483e-08,-3.984128227330075e-08,4.809848963560626e-09,1.2758900425069442e-07,3.1517393495050783e-07,-2.1698516247670163e-11,-5.97924695866503e-11,-6.059060198015942e-11,-3.5010643689714627e-11,5.968584654292286e-11,5.558611557154869e-11,-5.660935956108837e-11,-2.088580697279241e-11,1.7837315825774969e-12,-5.3360073304364875e-11,-4.0966910419548697e-11,7.428709730694649e-11,-1.4899443441171445e-12,-2.1594346102937756e-11,-4.998045380344429e-11,-2.3572564039620048e-11,-4.7055730839629106e-11,1.2034826260554077e-11,7.316892230990746e-11,6.13936262938708e-11,-4.651098516744723e-12,-5.139681388821593e-11,7.087298109498263e-11,5.5878652399643514e-11,-1.728952571389275e-11,-5.951356768507665e-11,-3.5596373071378196e-11,2.3821429204207156e-11,6.060338342273042e-11,-5.611149045403607e-11,6.672246088967881e-11,-3.686903907174077e-11,5.870141178698773e-11,-2.1295982338687125e-11,-2.8845177982295134e-11,7.516140487773271e-11,6.12963221846563e-11,6.543472014231e-11,6.166354232783888e-11,-4.67649113877755e-11,-4.6145500615102364e-11,5.451466014716466e-11,-4.212542814574505e-11,8.735547007976407e-11,6.167944627266664e-11,7.544283947558128e-11,-5.750641629553854e-11,-3.8926598056043815e-11,3.757957833805392e-11,7.114443756339739e-11,8.383290589497605e-11,-3.7875612368676315e-11,-3.2626405049862583e-11,1.6188668461314393e-11,-3.477250432037948e-11,-2.0257070326712423e-11,-4.7223589622058526e-11,-3.191093916887766e-11,4.6663926195344985e-11,-1.742753337474756e-11,5.4213789707491244e-11,6.127647000919723e-11,9.021287189492355e-11,-4.6118241170400864e-11,-3.198287468197947e-11,-3.4977291896165497e-11,-5.2656084353897015e-11,7.993401079930962e-11,5.5715699415204156e-11,-5.921597240332588e-11,-2.3904116533413067e-11,-5.8094657556795326e-11,-4.613479737125559e-11,-4.017165072811579e-11,-3.0189697963756146e-11,-4.15821786725612e-11,6.287175641217502e-11,-2.6917992140829128e-11,-8.358429400001643e-12,-2.8165235768651264e-11,-2.3055328479681947e-11,-3.538337331465691e-11,5.569054245535554e-11,-5.949826742401854e-11,-3.5090076677679605e-11,-1.4213666701956562e-11,-1.6846234476841637e-11,-5.516224629853461e-11,-4.243357401567671e-11,7.207529711950045e-11,6.529941171118381e-11,6.890900350331464e-11,-1.6411604714106076e-11,-5.050714707577342e-11,6.362627785749808e-11,6.412669006916616e-11,-2.6067445077493367e-11,-2.4316489793951845e-11,7.67627281184069e-11,-6.24828036532854e-11,6.134505403654344e-11,7.034621496426752e-11,-5.3522981185993856e-11,-2.1934336291717926e-11,5.996884239189981e-11,-2.553580263908728e-11,6.743471753223318e-11,5.975424322013367e-11,-2.53039915409925e-11,-4.735009259682066e-11,-6.075602521082857e-11,-6.060072582636522e-11,-2.980582447520419e-11,6.808257430046538e-11,-3.06311087605593e-11,-7.235068100186481e-11,5.303962477554158e-11,-5.614405815257406e-11,8.713604143784082e-11,6.208238090277263e-11,5.0818817903808267e-11,-5.6805948833726916e-11,-3.0495914821182524e-11,7.151813863348622e-11,9.210417845073593e-11,-5.730546245863444e-11,-2.9310068261345634e-11,-2.208882209087104e-11,-3.232035125644295e-11,5.994357094030178e-11,-1.5217523421928725e-11,-2.3507813751155737e-11,5.425493387889446e-11,5.350574497353655e-11,-4.981562384820393e-11,-6.551673092936028e-11,-1.477832092811049e-11,8.408505142165623e-11,6.727623319546794e-11,6.959004206219532e-11,-5.7117071489143356e-11,8.467703621617417e-11,5.296437594060066e-11,-4.88115624308616e-11,6.506463423594511e-11,-2.5468535266859327e-11,-5.982592199416104e-11,5.33177633987858e-11,-4.936060934990216e-11,-4.0824534724981376e-11,7.901757026473888e-11,-5.4244747582643527e-11,-6.425281834365748e-11,6.348373909892402e-11,-5.5057972070393646e-11,3.217409325073639e-11,-4.90992628499054e-11,-7.310982375052788e-11,-4.591025476452515e-11,-5.6851853086348214e-11,-6.019870019136064e-11,-2.499507111702881e-12,7.394956869077873e-11,-1.9193705652620352e-11,-5.159283417155436e-11,-3.456178745975258e-11,5.406241773697751e-11,6.596147933413121e-11,-5.099843464195786e-11,6.68194041764103e-11,-4.1139387035871167e-11,1.4194583008997341e-11,-3.556271249705034e-11,9.657749600044951e-11,6.994078233235612e-11,-3.199621817495668e-11,-5.317794121717512e-11,6.85468209971063e-11,-5.433061986415133e-11,-1.611839134385562e-11,-2.6282019095769105e-12,-3.3234762164546794e-11,7.481682634535858e-11,-4.7631194127761844e-11,-6.159019128038068e-11,8.570733706081413e-11,-4.718683430104953e-11,5.5487777567142516e-11,5.685177328906832e-11,7.902598020415041e-11,-2.6160847793610387e-11,-4.161233857491453e-11,-4.725615038170261e-11,5.692522841993508e-11,-5.796979563044147e-11,4.240615497641542e-11,-3.139165663523791e-11,5.465864913456464e-11,1.9355753978766987e-12,-6.057711970930413e-11,7.11160366706487e-11,-1.498389433363112e-11,5.162194977037515e-11,-5.7771690209484916e-11,5.687113627250717e-11,-5.439448197419594e-11,6.579551486973756e-11,7.748308938904103e-11,-7.191296863551244e-11,9.028263553423344e-11,7.623898734543388e-11,-5.757012054574684e-12,-4.874910197738558e-11,8.042900373483874e-11,-2.9099569975876705e-11,-2.0685836724099183e-11,4.2445658099410366e-11,-2.974077234485506e-11,5.209712175546777e-11,4.900973724075719e-11,-4.9575815674884893e-11,-4.845360571104074e-11,-4.25024633543547e-11,6.877327179966031e-11,-5.4288736700547346e-11,6.894618903574568e-11,-3.7147080550470335e-11,-3.586275026945529e-11,5.315086565316207e-11,8.157196446090254e-11,-2.966338286114478e-11,6.637414923238438e-11,-7.036303484309059e-11,-4.531759689729853e-11,-3.293906467027874e-11,6.829720122780714e-11,3.7399403018945065e-11,6.063480273432731e-11,-3.5448418506112134e-11,8.446320726163137e-11,-2.697624415515243e-11,7.536947455033527e-11,-3.750725771634045e-11,5.219253154664649e-11,-2.0571813350023227e-11,8.279654045706408e-11,6.349909487113337e-11,-2.3655731887228804e-11,-3.663558692523772e-11,6.565079729847767e-11,-1.0280968784637246e-11,-4.620267710087056e-11,-5.3141210182294785e-11,7.02820787679137e-11,6.344880870701175e-11,-4.5600419273927884e-11,-2.181942473922227e-11,7.431053689055389e-11,7.305456933837107e-11,-2.114722242804734e-12,-2.7573374139500118e-11,-5.719702836359808e-11,7.127360507341862e-11,-6.067471525206258e-11,-5.1944091389311e-11,-5.205505471117533e-11,7.197938078906674e-11,-3.964291742097892e-11,-6.02021765772065e-11,-4.591863694836107e-11,3.932581690846426e-11,7.420099257249291e-11,5.997936175505814e-11,-5.074796485815547e-11,6.92911214517089e-11,6.98618940475626e-11,-1.4674351143939557e-12,-5.821380877346627e-11,-6.796395390917809e-11,-5.781718159791893e-11,-6.291099585720161e-11,-4.119318081086121e-11,7.246483274547799e-11,7.414427405372237e-11,-7.491661457859067e-11,-5.019510501691471e-11,8.30354326963878e-11,-1.8974644772074e-11,-4.423896318717091e-11,-4.903945305390067e-11,8.571993115324972e-11,-6.312908962941011e-12,5.6018224781073656e-11,7.554501468831631e-11,5.97132690516311e-11,7.627624920569787e-11,-3.334999637560898e-11,5.588530679889736e-11,-5.1619219315623965e-11,-5.413356568562122e-11,6.567382054845083e-11,8.524692757250207e-11,7.91314444525959e-11,-4.987006467505051e-12,7.922976164032036e-11,-4.298921288392599e-11,-4.406696188508086e-11,7.899039061731727e-11,8.155472824844523e-11,8.499499021263901e-11,-5.3520281956265237e-11,6.785672718168101e-11,7.533716012142477e-11,-4.6479660398279776e-11,-3.04924939464879e-11,-4.055239824496404e-11,-3.047490385044149e-11,-5.534659536232667e-11,-4.961099239753075e-11,7.625006182010452e-11,-4.896362135187182e-11,7.38601818595086e-11,7.835140175549427e-11,-3.35626977598924e-11,6.341068642390368e-11,-5.2854668558532936e-11,7.77533384899165e-11,9.05475416868029e-11,7.4609263212011e-11,-3.198744394361519e-11,-2.7041634990260244e-12,-2.7743099484389688e-11,-3.476628707144158e-11,8.089252878651365e-11,7.35779909222245e-11,-5.636096450656325e-11,-5.612497966378527e-11,-2.842790065848977e-11,1.0148686058197853e-10,-4.330918956796381e-11,-3.5910087403667745e-11,-5.718732085102651e-11,5.221861484883128e-11,5.942010078419102e-11,-2.848351415840611e-11,-2.6140445710809423e-11,-3.702103901215281e-11,6.541134994764164e-11,-2.953292471685742e-11,9.009945567406419e-11,6.700377058743712e-11,-5.959130411348212e-11,8.461453065988778e-11,-5.64098975863736e-11,-6.315969275361155e-11,-3.9626607550857784e-11,-1.0557859274340498e-11,-2.9981187671390686e-11,-1.7743894895061452e-11,-5.045474454901111e-11,-1.2715814729294395e-12,-4.035356770959453e-11,-5.6295137822182095e-12,5.364600777491013e-11,5.0902032588950874e-11,-3.4928913927867455e-11,-2.8731622983557692e-11,-3.7048145801188426e-11,-5.134552852337215e-11,8.511122362442336e-11,9.010191898140008e-11,-5.0891093422711364e-11,7.681146690918794e-11,-5.4864786325214965e-11,7.998461268310386e-12,-4.296149894167378e-11,6.076163877599683e-11,-1.1155094209458483e-11,-2.7168749888728527e-11,5.703258351696938e-11,-3.32242115763659e-11,-3.6708823480946506e-11,6.102536531660263e-11,-3.8305084798517797e-11,-5.557377127929364e-11,-2.156706410683107e-11,-2.8133264814989012e-11,-6.023759269169204e-11,4.904104899949857e-11,5.543756079195994e-11,-5.453843279767945e-11,-5.837394803642759e-12,-2.8208962943310212e-11,-5.099810504449742e-11,8.656751704361199e-11,-3.029542589016998e-11,-5.862804686174172e-11,-4.1237305237196153e-11,-2.16041923933874e-11,-3.025198841433152e-11,-3.658522443328316e-11,8.833518638784454e-11,-2.405432103502747e-11,-1.4176424791012554e-11,-6.413827108309178e-11,-4.040801374061154e-11,-4.250357704682628e-11,9.059996503024692e-11,-5.60898688606315e-11,1.136024330161689e-10,-3.7913314848703195e-11,7.705385635103923e-11,-2.0077219400893576e-11,-3.730618938768693e-11,8.275644752808731e-11,5.339064260145854e-11,-5.2610159284594005e-11,-2.954387429143779e-11,-6.005207442427718e-11,-3.507090451382311e-11,-3.682324931086889e-11,3.44382196371118e-11,-4.604694403553822e-11,-6.660885037979014e-11,7.251998307422625e-11,7.160087800439641e-11,-1.6509160358224584e-11,-2.5562231151243786e-11,5.1631900144233356e-11,5.366875346912714e-11,-7.084375447385938e-11,-1.556034814886864e-11,-2.89844381134996e-11,-4.8826082066355525e-11,-3.545260265913619e-11,-4.93554364044968e-11,7.421598752221925e-11,-5.421617668699419e-11,8.61791610295981e-11,5.169738942489843e-11,-7.312959959815402e-11,-1.0341514103395788e-11,-1.675058876327018e-11,7.884558284043663e-11,-5.796353674814014e-11,8.467800072242682e-11,5.1821911345451e-11,-3.2166786595455577e-11,-2.0181255971918333e-11,-2.3342900529188526e-11,-3.931503733678454e-11,-7.219619346798822e-11,6.928603524247734e-11,5.955888560116307e-11,-4.032209635629336e-11,-3.105681337101096e-11,-1.9831589495589164e-11,3.214523048786222e-12,-9.624157373822051e-12,-2.7543176073230313e-11,-5.063685928896611e-11,-2.4554075786498153e-11,-4.8462019119899225e-11,6.824498605118023e-11,-3.587056693343804e-11,8.104098642158775e-11,7.352145975358937e-11,-4.117136145898037e-11,-4.2929874932706724e-11,7.122327727593358e-11,-6.055166090757069e-11,-8.376149600308747e-12,-4.4345242755650105e-11,-4.7134171565765826e-11,-5.7875492592840416e-11,-3.079394378380229e-11,7.055978024084197e-11,6.014894832206963e-11,-3.9194904266626196e-11,8.450751903810172e-11,7.655184819377325e-11,8.007031843115797e-11,-3.91236106012105e-11,-4.938008335564348e-11,-3.409523358088862e-11,-2.1159829097228133e-11,-4.904089981327964e-11,-4.94391715066822e-11,6.560384874232383e-11,-5.5463696135849005e-11,3.974941903406304e-11,7.737144258612716e-11,-5.128327623671325e-11,-2.2120494672095425e-11,-5.2438251657571655e-11,-3.018794632672628e-12,8.439157705986133e-11,7.933760592937489e-11,8.557519276530812e-11,-3.236968679209973e-11,-1.6532124627599565e-11,3.4757998562673365e-11,8.462140016485264e-11,8.327882827785515e-11,5.6233608047850936e-11,-3.037427601104703e-11,6.448355738264411e-11,6.28273197356144e-11,7.850167738077118e-11,-3.718820043574489e-11,6.598156049308912e-11,-2.707584156880216e-11,5.954504944671868e-11,-1.6171518985030886e-11,-3.6895913407830605e-11,3.5623520192734626e-12,-5.840727901329501e-11,6.961684700934612e-11,-3.3656296499762206e-11,7.482304359429648e-11,-3.035131174167205e-11,8.161422232477733e-11,-1.6622104734298482e-11,-1.5919765505856276e-11,-5.885820303364042e-11,7.491247899782394e-11,-6.076410208333272e-11,-3.927380295976057e-11,-3.9388495937098256e-11,6.508674849081686e-11,-4.291747512930044e-11,7.394427431473005e-11,-2.444281582691943e-11,-4.8505068017679065e-11,5.295417923600887e-11,-2.0823516522217034e-11,7.185047695701385e-11,-3.6449270685023905e-11,7.934120027641711e-11,-5.402630079420767e-11,-2.417271938170984e-11,8.000543283426254e-11,6.17456294427221e-11,5.682724429911801e-11,-7.11837047639996e-11,-3.1254939608649224e-11,-7.039854116319688e-11,-2.3356995591111707e-12,-5.875563230395286e-11,-4.5268608306336944e-11,5.1559211761142976e-11,7.210441271832124e-11,-5.122177335059597e-11,5.792603896548343e-11,-4.493392810611674e-11,-3.216749783208073e-11,-4.651898657948017e-11,-5.090051297118592e-11,-5.297905864010133e-11,-5.469434280480634e-11,6.00553148877303e-11,-2.8535883725422373e-11,-4.628874367140767e-11,-2.8909725308112755e-11,-5.1145278984199294e-11,-6.036097316419742e-11,6.808140856628953e-11,7.520441908104303e-11,9.470610407014135e-11,5.390568200147605e-11,5.902761612830432e-11,5.7604112452258605e-11,5.333295263754145e-11,6.777789440803872e-11,6.357501330933601e-11,7.381550232166134e-11,7.552512087949381e-11,-4.95323157490013e-11,-3.1030147201738245e-11,-6.700581062224487e-11,-5.0521382216617283e-11,-5.296333163706812e-11,5.885601034316679e-11,-4.0495187064726323e-11,-4.270532538708238e-11,-2.2071742003526573e-11,-9.05626702102369e-12,-2.433028604975629e-11,8.508078963576082e-11,8.42359515473845e-11,7.978148697240783e-11,8.800332684799628e-11,7.39026270735188e-11,-2.3837379986568763e-11,6.442770622561156e-11,7.601535373380486e-11,-1.4156612514193423e-11,5.662586372023881e-11,7.503913462825196e-11,-5.085922308301072e-11,-6.065194874116386e-11,6.35140620652841e-11,-5.902803940083245e-11,-3.3911477792525346e-11,-5.74246483697749e-11,-2.514240204920526e-11,-3.8702267085577446e-11,7.776792404490251e-11,-1.450967297700334e-11,-3.7817596276745746e-11,-5.3542812544771223e-11,8.36864882947097e-11,-2.5416433280939232e-12,-4.5305675877571616e-11,-1.21236397657154e-11,7.901081178207647e-11,8.142093249619009e-11,-4.0832774661492266e-11,-3.79028622723987e-12,6.034968358381576e-11,-4.3379445868740873e-11,-4.278312079608604e-11,6.791681106399494e-11,-6.18189596734986e-11,-7.390988515654229e-11,-5.7025682786981946e-11,6.532877017129124e-11,-3.891215127893588e-11,-3.074918444867514e-11,-5.847092254818165e-11,-3.8632472221244996e-11,-5.962805943449112e-11,-5.96418747722538e-11,6.691874138153864e-11,-2.7624017656657784e-11,8.571744702923212e-11,-4.748550511135541e-11,-7.74712412277001e-12,-3.619969601853512e-11,6.971368621266905e-11,-3.760361813598401e-11,-4.041847412317168e-11,-2.5574951878493124e-11,-3.68773414582968e-11,-3.2288505202870965e-11,7.211958114039518e-11,-4.682671958522455e-11,6.498428184453786e-11,-1.1645708702934243e-11,-3.951499891186039e-11,-3.727291392197074e-11,-1.547130999701718e-11,-2.852356198457251e-11,7.368842341870518e-11,5.96500418503787e-11,-6.9829337624727206e-12,-5.513366846399137e-11,-4.955130056272239e-11,-6.993177564806885e-11,-4.3075341904508235e-11,8.507628629361719e-11,-2.1931775839867385e-11,-5.4656206643910465e-11,6.585918616019981e-11,6.503653171563428e-11,-4.805250641837233e-11,-4.56804490067686e-11,-2.575008565749992e-12,-4.249596161076674e-11,7.242091648596016e-11,-2.0340933798435046e-11,7.646310667963618e-11,-5.274972125768329e-11,6.628168153222092e-11,-1.4744866785876276e-11,-7.469194013287606e-11,-2.4311268276289155e-11,8.117455319034406e-11,-6.7004158298134e-12,7.963306403180326e-11,-4.124880992328883e-11,-4.3632070179100424e-11,6.878902308882218e-11,6.669904212275313e-11,5.530246399709782e-11,7.650173550199924e-11,-1.310326933762207e-11,-2.9590257327738456e-11,-5.040204018036398e-11,-3.594362307790533e-11,8.24039239621932e-11,6.345135528107448e-11,7.309581412373589e-11,5.2181810955564956e-11,5.940191394326888e-11,2.1226980676664065e-12,-2.750451776056817e-11,-4.6652154361837006e-11,-3.212346014191958e-11,6.211751252260811e-11,-5.189486687595668e-11,6.57842114115681e-11,6.596367896349875e-11,-5.350451331986861e-11,-5.8059154706135985e-11,-3.7268747116181444e-12,-7.432628124082186e-11,8.502760995288128e-11,-6.095098731284665e-11,-5.662518370863623e-11,5.785034951077961e-11,-1.8824402106543126e-11,6.503627497655984e-11,-4.994661628732189e-11,-3.690264066547044e-11,-4.9411513075581226e-11,-4.961042340823063e-11,-5.182274748216642e-11,-4.332532596573735e-11,-2.1137851885510983e-11,-3.2020004703259275e-11,-1.352739188026364e-11,-4.4229273021834103e-11,-3.321527775046462e-11,-6.349342579481387e-11,-7.23382187484134e-11,-4.58038780515313e-11,-3.232655809703999e-11,6.74123742938626e-11,-5.087092552757966e-11,7.362215004302897e-11,-2.2173141794867846e-11,7.57469156842383e-11,-4.082889581979998e-11,1.3035552455173405e-12,6.958580239802004e-11,-2.3836394663634408e-11,-4.372248656875355e-12,6.734082735881941e-11,7.850048389101971e-11,5.6480351645626925e-11,6.987529999058495e-11,-9.581452818652192e-12,-6.193474205717919e-11,5.184927487356106e-11,7.927309503275026e-11,-6.627744880693953e-11,5.930084201466457e-11,-4.7589352597521284e-11,7.81490080981051e-11,-4.8291603355066215e-11,-4.4153548872660764e-11,4.336606768129414e-11,6.017587123041679e-11,5.403393704694892e-11,-2.0672706168428645e-12,-3.274782181539315e-11,5.969984229192704e-11,5.2426195329413616e-11,-4.033108222389892e-11,4.597163621999911e-11,6.38999825275377e-11,7.30956475902822e-11,-2.095110890332208e-11,-5.130798563790506e-11,-4.218330892924449e-11,-3.4558918227123314e-11,5.801973484986789e-11,6.591364953845158e-11,8.102649107222248e-11,-3.0405733486560393e-11,-4.361543765041276e-11,-3.3113574382515054e-11,5.69319209831054e-11,-5.460602803264436e-11,5.6995345942834064e-11,-3.016530081279001e-11,7.039530069974376e-11,5.6017600280622304e-11,5.6313360224935494e-11,5.2566010572130395e-11,-4.6410396359330974e-11,-4.610189660581021e-11,-5.576100692294972e-11,-3.269946466377682e-11,-3.985569513309528e-11,6.728990281645864e-11,5.657732615738098e-11,7.941671625877333e-11,6.557409476526388e-11,-6.503161203985641e-11,-4.3788458969906685e-11,-4.5610654142436147e-11,-3.527358960475624e-11,-4.2247642884074565e-11,6.394403756493361e-11,-2.5567319095198826e-11,6.60307086786105e-11,-4.5059428410709756e-11,-1.5465875108366944e-11,-1.2537628053810312e-11,-3.311690852103588e-11,7.378762184595544e-11,-4.6126321512351964e-11,-5.4364530238659725e-11,-8.668052386973102e-12,-4.635890629711703e-12,7.622488057412724e-11,-1.3672524050434287e-11,-4.3680396105694186e-11,7.643640581589395e-11,-1.6304246147624823e-11,-6.501432725514178e-11,-5.31914026713487e-11,-7.432392895578843e-11,-1.6752502163264182e-11,-4.285493834799148e-11,-4.374912931925934e-11,-4.93094384768078e-11,8.461797235126411e-11,7.887958342056578e-11,6.998970847327257e-11,-4.6657941399352865e-11,7.829242115731105e-11,6.783369699281394e-11,7.268118051850792e-11,-2.1661951746243524e-11,-1.184057799724636e-11,8.744534957250139e-11,-2.5269369929858954e-11,-4.177922244275045e-11,6.92600282681255e-11,6.77299119566932e-11,6.672011554353929e-11,-1.3160164798187157e-11,7.695184073286399e-11,8.440285276245518e-11,-4.7665094093929383e-11,7.160205761636007e-11,7.960659909045376e-11,-3.118840255500466e-11,-1.1745038101806937e-11,-2.42031516356489e-11,5.574865222235381e-11,-1.3209100480082725e-11,7.388797906848765e-11,-2.914635199857685e-11,6.840642635674854e-11,-4.118483679094176e-11,-4.247679638580415e-11,5.716134857114419e-11,6.393184592834444e-11,-2.9417780711415986e-11,6.532697993666403e-11,7.949432084819463e-11,-4.839745965101727e-11,6.226744814208374e-11,-4.139628223542857e-11,7.885218172853925e-11,7.192456352722587e-11,-4.217352855828693e-11,-3.590670469288959e-11,-5.0029990567024285e-11,-5.0090084857679074e-11,6.988316869627198e-11,7.805874002730917e-11,-3.428945322125898e-11,8.273311896678237e-11,8.337219803422613e-11,-1.6001913336061158e-11,6.091641774341738e-11,-4.8201689167859385e-11,-2.2622202722200058e-11,-1.1450549709801638e-11,-3.905438819562512e-11,-2.5291419999962095e-11,7.356260045554563e-11,7.592124845468007e-11,5.821966519992117e-11,6.026692339622386e-11,8.164623838124996e-11,6.437284733040727e-11,-5.7060717262302774e-11,7.395716677960351e-11,7.404813567868374e-11,-1.6474975897406985e-11,-1.6200780300623663e-11,7.207764940453387e-11,-2.9253064814244167e-12,-5.961423715783454e-11,-5.064226468731725e-11,5.028845720921049e-13,5.6115861957195534e-11,1.7299918442237328e-11,7.191887363422467e-11,-5.831317373417022e-11,8.606108881092922e-11,-3.849930443888816e-11,-4.370126482911019e-11,-4.046320917217017e-11,7.249630062933221e-11,6.357647741594974e-11,8.393594846944907e-11,7.233606769130319e-11,-5.6942551368566185e-11,5.305053965565243e-11,-4.1804181644122806e-11,-3.979815435539713e-11,-4.164327574180532e-13,6.014318904012939e-11,-5.304573447162397e-11,-3.862074202110044e-11,-3.522803923572404e-11,-6.508692890205836e-11,-4.049668933525652e-11,7.167121063300641e-11,7.049839184647411e-11,-4.029057990018181e-11,8.164616899231092e-11,-2.1887106710360982e-11,-1.4325329117381713e-11,8.436297493918943e-11,-3.457512054438894e-11,-4.758217431177769e-11,-5.009189677634973e-12,-1.4394977397580444e-11,-4.0737618139941034e-11,7.595624129663747e-11,6.7951901050467e-11,-4.868647152100891e-11,6.90410714709877e-11,6.599366886295144e-11,-4.619727864141332e-11,-3.4214176630742443e-11,-2.8792369530239448e-11,-5.466635824569188e-11,-4.0136578088878494e-11,8.033589765643612e-11,5.736647268328454e-11,7.297534798667016e-11,-7.820014709565559e-13,5.4512391128858084e-11,-3.9962203685073305e-11,-4.282528151544618e-11,-5.200191666165921e-11,7.583448452530561e-11,7.992534412082364e-11,-3.9308473143151446e-11,5.936149488627862e-11,8.355857672448508e-11,-4.4780002622646364e-11,7.580963634623572e-11,5.08096377471734e-11,7.463302198473798e-11,-3.804892859116116e-11,-4.726636096408221e-11,-2.2089215873100088e-11,-6.80819810250366e-12,5.679803502522951e-11,-1.1517066814126231e-11,8.154110719971186e-11,7.598365686645181e-11,-3.8000620011802155e-11,-2.935335655096516e-11,6.326299206715902e-11,-6.670941576913947e-11,6.052578577220302e-11,-7.076750990764324e-11,-4.754592899947063e-11,8.144131202758587e-11,-4.836243905348425e-11,2.957822181626213e-11,-6.656129120097276e-11,-4.5154612687836604e-11,-4.668396225149252e-11,-5.720519544172298e-11,-5.736547001311543e-11,7.276027003122465e-11,6.745359912990745e-12,-4.446775586641749e-11,-3.50750574418246e-11,-5.911809236591736e-11,-4.6905434397670476e-11,6.62400898021609e-11,-2.896248692263459e-11,-1.416685865840428e-11,8.072580104379057e-11,7.143102082052266e-11,8.13793893383874e-11,-3.6762544397550556e-11,-2.410558037901911e-11,-1.7381499017865565e-11,-2.174184270120616e-11,6.535360447257332e-11,-4.4454211145517064e-11,7.322088074745992e-11,-4.710537862551156e-11,7.145682656695129e-11,-6.12925959986299e-11,-5.355329721346003e-11,-4.0821672431246014e-11,-5.08102587781778e-11,7.086767284114615e-11,-2.1931824412124712e-11,-4.765830438624441e-11,-4.4431673618117173e-11,-4.9879111257977726e-11,8.532474726763439e-11,-3.90338317224348e-11,-2.7791789702913405e-11,-6.16816805965037e-11,-2.5095448288880995e-11,-4.5313398866486665e-11,-2.1244443704215854e-11,-2.3911003385612695e-11,-2.529924360283875e-11,6.703237964700293e-11,7.097870902139647e-11,-3.459764419400102e-11,5.7835156802577004e-11,5.265424901645943e-11,-4.347278440008928e-11,-5.979316347604069e-11,8.054555633574267e-11,-5.58017347607187e-11,6.649036182748702e-11,-2.6948332454423962e-11,-4.773501038890515e-11,-5.606479863695668e-11,-2.129241054305009e-11,8.134644347013165e-11,7.976839327961116e-11,-6.168166671871589e-11,5.928840057789486e-11,-3.7958847870500634e-11,7.110968064383272e-11,7.935284374038787e-11,-5.184618706577382e-11,-3.179683599752181e-11,-4.520698052012939e-11,-4.474760145756207e-11,-3.2461977550468646e-11,-2.865122201989312e-11,6.354601567171159e-11,8.717657151713354e-11,-4.105574213930652e-11,-5.799821040097797e-11,-3.455870312141229e-11,-4.996802277501544e-11,-3.766794168247323e-11,-5.146001246653098e-12,8.756412261945457e-11,-2.2091510912258805e-11,7.300567789192414e-11,-5.040319019360834e-14,6.213547731892533e-11,-5.680952583353438e-11,-3.7474308378637744e-11,-4.6389888458397976e-11,-4.7948780362849774e-11,-5.7627326521814126e-11,-7.56486019659608e-12,-1.472745883579485e-11,7.01156632754163e-11,-1.1706600966387981e-11,5.541536327036134e-11,4.11327846783216e-11,8.808076490396388e-11,5.913475004809543e-12,6.381006834033087e-11,7.168900889586993e-11,6.286844655978285e-11,-6.1600710643539e-11,-4.0200318768279786e-11,-5.697515029212674e-11,6.895407161922051e-11,7.917701910775676e-11,5.91215340572937e-11,9.537426404193639e-11,-4.095258854253103e-11,-3.604135739854186e-11,-5.616149212350763e-11,-5.281070025731083e-11,-1.4722450689119704e-11,5.865379015812522e-11,-2.965206205574056e-11,-5.821178261644633e-11,6.939211011358637e-11,-6.39765185272978e-11,-2.6086242541079052e-11,7.745130231606723e-11,-4.196784239574036e-11,7.700223098039416e-11,6.708444910685785e-11,-2.083466038582671e-11,-4.595257160899813e-11,4.917167020779267e-11,-4.458175495436478e-11,-2.257391322479929e-11,7.632717374805864e-11,-6.051088102809743e-11,-6.277213471239662e-11,5.3413901773824435e-11,-3.153908037512032e-11,6.477647584990365e-11,-5.46475677210001e-11,-4.718419058247214e-11,8.705501597372489e-11,-4.1627333524640875e-11,-6.089916765317227e-11,5.000141273248104e-11,-3.374247409260178e-11,5.234340391679915e-11,5.862467455930442e-11,-5.7605181041919806e-11,7.170983251647556e-11,-4.5987214036813384e-11,9.712400328432125e-11,-4.8360617593834476e-11,-4.5749189159227654e-11,-4.4164099460841655e-11,-1.2385468518838483e-11,8.521362088176332e-11,-4.3979722641473984e-11,4.498518918483185e-11,4.703671480088545e-11,-4.866897856947716e-11,-3.333361147869751e-12,-3.009048565871808e-11,-1.9502965215023593e-11,-1.9052290994858723e-11,7.146416791670163e-11,6.439868777130542e-11,-4.700107317234803e-11,-5.437821720688518e-11,5.119888887850088e-11,-5.252707296898862e-11,-3.424803843299351e-11,7.696954879010676e-11,6.613308511926874e-11,-6.082496312176389e-11,5.185616866465459e-11,8.20870871276469e-11,6.404043267904669e-11,5.425699473038392e-11,-3.667514208993694e-11,7.007686791959955e-11,-5.372940634074119e-11,7.859356915274063e-11,-4.738831549389033e-11,-4.041001214205586e-11,-4.157422670014732e-11,-3.9554380604212014e-11,7.433998555628207e-11,-5.793810223253537e-11,-6.165793570156453e-11,-1.0183168544508625e-11,-5.1916131116325204e-11,5.5165823298342076e-11,5.45271570950856e-11,8.887211105923498e-11,-2.198610217496455e-11,-4.309674839220179e-11,6.855611217604363e-11,6.243362771218841e-11,-5.7757267718505645e-11,-4.349406945713952e-11,-4.379677523425052e-11,-5.655671070359247e-11,-2.391439477000823e-11,-6.14222214756488e-11,6.634691407381155e-11,-3.682237847968395e-11,6.057952750548878e-11,9.059679395573284e-11,7.47177597570925e-11,-3.4393439485302935e-11,6.041166872305936e-11,-6.294639115500544e-11,-4.0215612090444e-11,4.8411850916973975e-11,-3.376899801454947e-11,-3.280728119725573e-11,7.750093622416188e-11,-5.4313931824312434e-11,-4.791655960900698e-11,-4.9674844099234505e-11,6.518178358172477e-11,-4.8450885664630405e-11,-6.073966329900315e-11,5.597468322182664e-11,-3.934479478329145e-11,-3.8800986729148335e-11,7.290638232015922e-11,-3.2020056744963554e-11,6.537378277604589e-11,-3.8405667535101884e-11,-4.0319747540706885e-11,-2.5108784842964305e-11,-4.422351720934081e-11,7.162742621247276e-11,1.0553795250917153e-12,7.67121158262718e-11,5.568880426243261e-11,8.291700659412982e-11,-5.7021779659161e-11,-6.078015174493245e-11,-2.432530912810371e-11,-2.4480313609576143e-11,8.021327352336627e-11,5.817848633404843e-11,-4.3640646651965653e-11,8.203655116334474e-11,-2.843360442927878e-11,-3.824781810712885e-11,-2.6951893841720143e-11,-1.0027706096038536e-11,6.437312488616342e-11,-1.1610028043118614e-11,-4.228428371333415e-11,8.184514177500546e-11,-3.671746240385687e-11,7.090894538208659e-11,-5.5851285402086503e-11,-3.9602279788830685e-11,-4.1453011162539966e-11,-4.099602601836949e-11,-1.5816006490587675e-11,6.407360753080127e-11,6.501046923013121e-11,-3.996865685640394e-11,-4.886395801873e-11,7.44433820143442e-11,-5.127015825778791e-11,-4.962041888489921e-11,-4.347226398304649e-11,7.032635584991453e-11,7.551499703328801e-11,-6.824497911228633e-11,-6.332970953204509e-11,-4.332845193744106e-11,-5.029935148948006e-11,6.02394592541522e-11,-3.660517375325689e-11,-3.512406338002094e-11,6.306115352128217e-11,-3.9703806214985704e-11,-2.757577846623782e-11,3.842322640612572e-11,7.656127121169476e-11,-4.5660964592686426e-11,8.921450384002938e-11,-1.1161255947245152e-11,-2.005833173168714e-11,-2.702216922445544e-11,-3.354308844571996e-11,-5.3692630203050484e-11,-1.7795561899069945e-11,-1.1881819139691885e-10,-6.130723706476715e-11,6.670584917767286e-11,7.967872195369097e-11,-5.619708864923467e-11,-5.026180860401297e-11,-2.0339695639554067e-12,7.03667887846926e-11,6.505052052574456e-11,-5.557675500367232e-11,6.866367197044809e-11,-5.205579717282305e-11,7.462379325584578e-11,-2.0626035601711834e-11,-1.4843102441597367e-11,6.386077777698063e-11,-6.085708326164507e-11,-4.8914060302163165e-11,8.032355336418107e-11,-3.5333250214542034e-11,-5.189259438820315e-11,-2.2464086146811724e-11,-4.7596548230499636e-11,-5.683338175077601e-11,-5.755928025874546e-11,8.419630964651148e-11,-1.956903215860617e-11,-4.274815570970425e-11,-4.3686044365331966e-11,-3.1706286901522773e-11,8.079732716215204e-11,7.389784617561901e-11,-3.075641130667606e-11,9.316543370108121e-11,7.614055219651306e-11,-3.725973349300027e-11,7.591897249747959e-11,5.96150490084213e-11,-1.972659882665262e-11,-5.787235621279585e-11,-4.756743263167884e-11,8.986005689548549e-11,7.423060083278088e-11,8.026658504522999e-11,5.091878654828186e-11,-5.4965768048198527e-11,-5.846877149107144e-11,-1.776388064422818e-11,-5.92252358266876e-11,-4.733292230385544e-11,-5.0863445399951246e-11,-6.389761549735473e-12,-4.1228905706125474e-11,8.312665139564857e-11,-2.57892596167153e-11,-4.086597032992856e-11,1.8651420685689146e-11,-6.004715474849931e-11,-4.0702934078762354e-11,7.12161996041516e-11,-1.635465721183671e-11,-3.1059717298109746e-11,-5.388545165629921e-11,8.358974623590143e-11,8.655716421390736e-11,-5.928911528396696e-11,4.1109941839589936e-11,-3.418225771878447e-11,-4.0145834573346306e-11,-2.8065865603776885e-12,-3.420435462642146e-11,-4.198246611464285e-11,-3.2459826493358435e-11,-5.219823184798855e-11,-4.574466846984926e-11,7.861893774885331e-11,7.779439592514592e-11,-3.640269335969393e-11,6.850742195751991e-11,-1.2240353695902595e-11,-5.398757829677692e-11,-2.312291851047643e-11,7.65917052003573e-11,-4.1571177056276554e-11,8.858646455278674e-11,-7.431193160822858e-11,-3.540496021359196e-11,6.749403119732378e-11,6.080564524113541e-11,-4.257567909338178e-11,-2.0664333091890974e-11,6.736508573190747e-11,-5.5784085684074114e-11,6.558860399241695e-11,7.719153094498665e-11,7.974595983561983e-11,-4.389064632570605e-12,-5.371096969963851e-11,7.648491562317616e-11,-3.821132299464125e-11,-3.9094033565945097e-11,6.779198730155755e-11,-6.097920779435384e-11,-8.601494516646824e-12,8.271269086312927e-11,7.384974576307712e-11,-4.8711056022110455e-11,-1.9078965837748818e-11,-7.475575714011029e-11,-4.33375835218186e-11,-4.086575869366449e-11,-2.420930123037124e-11,6.407626512716647e-11,6.489599135850455e-11,8.071450452451501e-11,8.181997440681599e-11,-5.019860915833618e-11,8.228216025196744e-11,-5.90652249332635e-11,-2.5466930647644048e-11,6.680817704607378e-11,7.643279759106392e-11,-3.544832136159748e-11,-3.720258476280769e-11,-3.442156629174242e-11,8.261681616605898e-11,7.913549676663578e-11,4.828442159987567e-11,7.583129263410981e-11,8.549288360581997e-11,-4.6310677515037924e-11,6.857972523199862e-11,-4.681687329477491e-11,8.507513443722914e-11,-5.490051122047923e-11,-3.719962532455767e-11,7.809327490226892e-11,-4.028503572395259e-11,-4.540200854163956e-11,7.87226325793533e-11,-4.5167487805475304e-11,-4.8981547984272567e-11,-5.4742481381264696e-11,6.483635156540046e-11,7.292177278683809e-11,-6.652763756553881e-11,-1.2128832660440736e-11,-2.0322956859053498e-11,-3.2809833409169764e-12,-5.655705764828767e-11,-1.9046573346281903e-11,-6.065065810689774e-11,6.673086389019645e-11,-5.34426079779049e-11,7.175551819393888e-11,-4.90936666319719e-11,-3.475372420402856e-11,-5.933133151447834e-11,-3.519044777799962e-11,-4.912876008789091e-11,-4.054455035595872e-11,-4.3588098408431364e-11,-2.019689623877774e-11,-3.701617484752617e-11,-4.101715495030689e-11,8.225648634452298e-11,6.011630776514565e-11,7.889717351661218e-11,8.147520852430645e-11,-4.3790377574071115e-11,-3.387752578465353e-11,7.844391802791506e-11,7.627650594477231e-11,-5.42408791492921e-11,-6.263512625226397e-11,6.925319345763015e-11,5.988391033051599e-11,-1.3963925502014085e-11,-2.3657912434638106e-11,-4.444132908898446e-11,7.190761180941863e-11,6.787096579197183e-11,-3.4530184267467234e-11,-2.4310329790888652e-11,-1.0225754433750706e-13,6.465755014728458e-11,-6.001803221078461e-11,-4.7364612232314585e-11,-2.767593793029377e-11,-2.414227324998297e-11,-4.28705126953588e-11,7.950148872559737e-11,-3.774163273573272e-11,-4.1401510691985166e-11,-1.534065756370051e-11,-4.130563946436183e-11,-2.749158192760781e-11,7.360474035822406e-11,-5.3674658467839365e-11,-3.029429138101669e-11,6.625328757836613e-11,-3.531051969915544e-12,-4.9262954826545524e-11,-3.294478231885556e-11,8.134860840502967e-11,7.638547433463927e-11,7.11583014734174e-11,-3.995810973767e-11,-2.7943803521113253e-11,-4.887948726328695e-11,8.563212638978968e-11,8.196351236611221e-11,-7.434231702463379e-11,-4.2977579828296086e-11,-1.735929108792611e-11,-2.1231591137982342e-11,-6.364134913505737e-11,-3.2497973062595165e-11,7.086389808286242e-11,-3.2585222714542894e-11,-5.8153419579820564e-11,5.5603178311658397e-11,5.744716854994003e-11,6.810015051872398e-11,-3.8492153908720184e-11,7.721841221997039e-11,8.641821286348161e-11,-3.009252569352583e-11,-3.9561045411806717e-11,-3.611974261352735e-11,6.302015853609788e-11,-2.8896961212776517e-11,7.85210646503387e-11,-5.267083297288977e-11,-3.947829563255567e-11,5.1252242033728024e-11,6.288387172093124e-11,-5.571483205346617e-11,-3.0650121329856006e-11,-5.454891746636825e-11,9.397531364196965e-11,7.744212215943236e-11,-4.305931305959021e-11,7.795802198229396e-11,7.251991368528721e-11,-5.879963183019754e-11,-2.2298985574709107e-11,7.417153696787082e-11,8.343409296784898e-11,6.971150046108932e-11,-1.2857671524701964e-11,-3.122360356377918e-11,1.3088042802311683e-11,-4.2632609248416387e-11,-5.528320162762057e-11,5.324619911650785e-11,6.980301753278795e-11,-3.716000424036636e-11,-3.391187677892482e-11,-5.518594956011036e-11,5.954815807118763e-11,7.687635944497728e-11,5.229986235755213e-11,5.433832897527857e-11,5.835417565824841e-11,7.455654149612911e-11,-4.6443533047169083e-11,7.107187754984423e-11,-1.8482475966363765e-11,-3.100561474234098e-11,-5.015437024025182e-11,7.260823886579004e-11,-2.470934047649198e-11,4.898149594256829e-11,-3.134099230139853e-11,8.442554294552096e-11,7.484671910029661e-11,8.017977948249211e-11,6.866910512437485e-11,-4.51300975756741e-11,6.909193356330334e-11,-3.86070897473445e-11,-2.3687128647420508e-11,-5.509690273464152e-11,7.954662623044229e-11,-5.1902582925977825e-11,-4.3527011855948317e-11,-3.502500373064876e-11,7.728337414469877e-11,-4.556670665789575e-11,-4.5201554305096536e-11,-3.691737193722844e-11,-5.7260581692863965e-11,-5.131458452600768e-11,3.1140120863859533e-12,6.518478812278516e-11,-5.5768795831356854e-11,7.775857041592005e-11,-1.7125760878866636e-11,4.1975232317748024e-11,-4.7268963049296175e-11,7.349090780373047e-11,5.885512216474709e-11,8.813651891648178e-11,7.594464640492404e-11,-3.505110784951526e-11,-6.277922626196641e-11,8.387449762503607e-11,-2.2097245908070384e-12,6.818218906134987e-11,8.50548242947724e-11,-3.601769577032954e-11,6.233653176979104e-11,-4.047839494147887e-11,8.397136458393462e-11,6.320526046987851e-11,-4.43963824037219e-11,8.655790667555507e-11,-2.4274963983383913e-11,8.623338848545714e-11,-4.408372972219965e-11,-1.8095927534211853e-11,-5.015047752077173e-11,-1.5939530945141556e-11,-4.661515271009442e-11,-4.108488896314988e-11,-4.041143114585921e-11,-4.4376783497890315e-11,-3.226917344445468e-11,-8.523674821514504e-12,5.1215479773825123e-11,7.76567213311985e-11,6.566473059743672e-11,6.921484912991716e-11,8.750976332461136e-11,-4.0929135081135826e-11,-5.0153364100635756e-11,-3.435636497517436e-11,-2.3852022787429483e-11,8.182483163254872e-11,7.669664209286609e-11,-3.3581793595915954e-11,7.369158755432537e-11,-2.4701201153942698e-11,-1.8012730196304005e-11,-1.930571848218765e-11,6.692970483390681e-11,5.87920961914179e-11,-4.1478424861463026e-11,8.321759253915317e-11,5.1226724251396405e-11,-3.6067718256482806e-11,-3.047210747619822e-11,6.944867597669102e-11,7.527584805488985e-11,7.09970554568784e-11,-2.950777816534966e-11,6.130160268291718e-11,-4.38399004598633e-11,-2.185379828489875e-11,5.638293304466302e-11,7.841376159500868e-11,7.486081893270935e-11,-7.322072809179403e-11,-6.006427299976025e-11,-4.075640519518586e-11,-5.97747129571502e-11,5.97404486990527e-11,5.213152132199639e-11,-1.4499179634697157e-11,-6.060822677067534e-11,-1.3563333615962403e-11,-5.321391244317297e-11,7.872087703919561e-11,6.418229836491207e-11,-1.1655508155850036e-11,-4.693605573646842e-11,-5.345119138966403e-11,-7.053578554572226e-11,8.055551364849478e-11,-4.038688827812109e-11,6.494781101817892e-11,-3.639541445998873e-11,7.117099964926155e-11,7.789122125068104e-11,-3.5171077855666866e-11,8.135082191218501e-11,7.47316167282186e-11,-5.159049229486179e-11,-5.972031896783747e-11,7.392853690335599e-11,7.902394016934267e-11,8.339268945528611e-13,-4.441824685841311e-11,-4.5703031636978864e-11,-6.217543147002402e-11,-5.318433540790757e-11,-2.6701639163628776e-11,5.238144987207427e-11,7.812656077632596e-11,-3.3387903553006026e-11,3.225458095057476e-11,4.949610860061071e-11,-1.3198163048566691e-11,-3.346352361877081e-11,-5.891014065451117e-11,6.447035960643888e-11,1.1039964081804854e-11,-4.433286029947858e-11,-3.4892824740673234e-11,-2.5538914733003182e-11,-1.1580801421995357e-11,-5.646033120199068e-12,7.79540043627236e-11,7.44865349955326e-11,7.587394601493713e-11,7.529837864339584e-11,-5.185182144762379e-11,-5.249016499231374e-11,-2.1228609148327138e-11,-1.667797844273622e-11,-1.3888305436249304e-11,-4.516655799369218e-11,7.804733248573115e-11,-5.47799583472397e-11,6.766576188255158e-11,6.33563687624239e-11,-1.2489378455049494e-11,-2.943467344862505e-11,-2.7386285947339495e-11,-5.550896894912505e-11,-5.7538317860261756e-11,-4.698081160214862e-11,7.267037666069953e-11,-3.635753156872035e-11,-5.433868632831462e-11,-6.10849704152372e-11,-3.487301419857758e-11,-2.5319175575577724e-11,-5.7756324028934714e-11,7.242717536826149e-11,-4.731342748143241e-11,-6.294332416389992e-11,8.384929556237708e-11,5.0737993667615555e-11,-4.012393195473862e-11,-2.715244522277782e-11,6.815475267485382e-11,-5.341893941079867e-11,-6.243989353338364e-11,6.838612315318571e-11,-3.7973235667010385e-11,6.273774555420886e-11,6.235009036847927e-11,-3.916914362300794e-11,6.870386898283343e-11,-2.0907385198110084e-11,8.137825135978716e-11,-5.264306005003938e-11,-6.392156248757885e-11,-4.818109453075259e-11,-8.857232655645753e-12,-3.7403646152567305e-11,7.235209653622121e-11,8.228171616275759e-11,1.981467073752796e-12,-4.073775344837216e-11,-3.202831055926225e-11,7.420045827766231e-11,-2.538642386584744e-11,-8.93031482096518e-12,-6.578129100459629e-12,6.085441872638597e-11,7.851863603747233e-11,5.449899559417659e-11,-8.810496603117723e-12,-4.7799410263227315e-11,-4.350652477169703e-11,-3.250733709991849e-11,-2.473500917976601e-11,-5.237417097236907e-11,-5.535737493400639e-11,-4.795777663879619e-11,4.8471754388046406e-11,8.041799864910715e-11,-5.993302382156784e-11,7.635176518805409e-11,7.73329733583239e-11,-6.9957238786610976e-12,-1.0939815026089761e-11,8.00973523618076e-11,-4.615060764101564e-11,-5.423919299807345e-11,7.349496705666425e-11,8.92463256074727e-11,-5.871865493833894e-11,7.366503934624902e-11,7.888825703794566e-11,7.133851842588967e-11,-2.3202991611404045e-11,7.261911905143137e-11,-4.493885125134156e-11,8.145165097950269e-11,-5.943560921206625e-11,-5.350703907724963e-11,-6.604473218319029e-11,-5.4176815811324275e-11,-3.2987803461059784e-11,5.228253247002712e-11,-5.818355172659828e-11,8.949924135137621e-11,8.603201484547185e-11,-5.229241692439324e-11,7.836454402054827e-11,-3.2584816789249516e-11,7.586809652737614e-11,-1.5827804344947793e-11,-5.3564250257487345e-11,-1.518688126644907e-11,-5.754295651083652e-11,-4.0971292331049014e-11,7.584380345981856e-11,-2.4450186666968854e-11,7.627166259682738e-11,7.530377016395917e-11,5.017088133829617e-11,1.1425715235047207e-10,6.885119557820119e-11,-4.002028222704901e-11,-6.406137426084868e-11,6.434239252506302e-11,-2.12809787153434e-11,-4.271009934608827e-11,5.562124025249027e-11,7.324849754519747e-11,-5.4461102294567354e-11,-3.6609177495039447e-11,5.263535440835909e-11,6.532285129479121e-11,-3.63042582107731e-11,-3.521705843612111e-11,-4.8314390682646646e-11,-3.995548336632737e-11,8.009492374894123e-11,5.165040964372203e-11,-6.016476206127663e-11,-4.958300783841629e-11,7.179416089408974e-11,8.227755976530915e-11,-1.7949816980000755e-11,-4.017516527787812e-11,-3.4015311400903414e-11,5.491229693177502e-11,-2.5202928286005566e-11,1.2410572569621081e-11,-3.549290375493008e-11,5.210541720312989e-11,-6.473881153379324e-11,7.182705125119426e-11,6.722158246708076e-11,-4.199222566891869e-12,7.419448389001104e-11,4.867311068079694e-11,6.793390155968027e-11,7.158357934189397e-11,-1.2321808504078824e-11,4.983734952501706e-11,5.5384596214791415e-11,-4.4237197238672366e-11,5.381802295478799e-11,6.129464991122546e-11,5.783513251644834e-11,-4.6084022015113746e-11,9.335693329504124e-11,6.548154379837356e-11,-5.1060603661889914e-11,-6.002309760333446e-11,4.716987911379533e-11,-5.527802868221521e-11,-6.265743479616503e-11,7.254061240580256e-11,-4.050096716334828e-11,-2.574662011367579e-11,-5.463879695910556e-11,-4.8542236202875344e-11,-4.647565318705027e-11,-5.5678350818766376e-11,6.261594021061967e-11,6.249489120646601e-11,-5.622433074670141e-11,7.193192569365792e-11,8.340860641053993e-11,6.563804361148229e-11,6.4069582972337e-11,6.031274785156526e-11,9.090358327190629e-11,-4.049882651457892e-11,6.655963280532973e-11,-1.250281128628572e-11,-7.764615339578285e-12,-3.573334336759437e-11,-6.052027629044332e-11,-1.777164700123013e-11,-5.157841384897943e-13,-2.3363269652243446e-11,6.121686491056266e-11,5.6901226785921466e-11,-5.569938260618912e-11,-2.6828182037030857e-11,-5.15072255680149e-11,-4.4202013577132604e-11,4.6667888303764116e-11,7.643428945325326e-11,-4.455815230675064e-11,9.231052727765032e-11,-5.1328750277912505e-11,-6.38310654332841e-11,-5.0540332335868854e-11,-4.8043014011511787e-11,-3.001755094489411e-11,-3.706385198753992e-11,-4.731412830971671e-11,7.501804039078408e-11,7.793578282733193e-11,-3.5669200232346654e-11,-5.274256378862141e-11,-3.277769375364947e-11,-3.7131117625044396e-11,6.095654536686368e-11,3.9694858511296616e-11,7.187226508387212e-11,-2.204318672038852e-11,5.1165828518495715e-11,-5.1491848979123844e-11,7.704117205298289e-11,7.302022875244063e-11,5.37923733334722e-11,-5.255188298414204e-11,6.883627695630778e-11,7.519775774289528e-11,-6.105170535786186e-11,-1.0220257799786747e-11,-1.1576625942588681e-11,8.477698404396605e-11,8.0943772517994e-11,6.669211710663703e-11,-5.3907784486328936e-11,-3.1659865701305634e-11,6.372193744885735e-11,-3.371932594253835e-11,-2.6882183978838015e-11,6.925679474356627e-11,7.533630663747459e-11,-7.445352667723171e-11,7.013783998033318e-11,8.070282289662778e-12,-4.699317671108538e-11,-2.7321379533762347e-11,-4.5502230455740644e-11,7.778496596833051e-11,-3.6286810362051725e-11,-6.847352546079932e-11,-4.801022426836887e-11,-2.5511412427015046e-11,-4.874920953024109e-11,-5.7109449114189914e-11,7.463248075101347e-11,-5.625145835241874e-11,1.110490172040457e-12,-7.433225909792007e-12,-2.007644571422329e-11,-3.904790032982497e-11,-3.6566430439144426e-11,5.4015101419446765e-11,-4.022358834898654e-11,-2.4869276776806615e-11,5.2619519852470376e-11,8.871129525411803e-11,8.283541907960768e-11,-5.915933021238828e-11,-5.887668130810653e-11,-2.7090956214448347e-11,-3.9519394701148514e-11,5.029492881197806e-12,-5.506349889938811e-11,-3.336874526693734e-11,-3.864883066362346e-11,-3.422745767367452e-11,-4.429670172334532e-11,-5.1024379166264566e-11,-2.5146936616371462e-11,-4.050440191583071e-11,-1.263096224835003e-11,7.612450253491332e-11,7.216762604178584e-11,5.5948200933242376e-11,-3.439542400895945e-11,7.371039195680495e-11,-3.8538526536679996e-11,5.1137503953579966e-11,-5.439886735514321e-11,-2.1299025043663988e-11,-4.641010839523396e-11,2.469252883760542e-12,-6.266383939523834e-11,-2.623656153444287e-11,7.017670472508897e-11,7.436983667785668e-11,-3.057878603107689e-11,-8.467047375726455e-12,-5.8195476215772146e-11,8.035831028374574e-11,7.260243101159247e-11,-1.9524446295826614e-11,-3.757503336254686e-11,-4.1162521308146793e-11,-4.0159826852903535e-11,3.9985913885542956e-11,-3.416488619789604e-11,2.3355080890075097e-12,-5.131132324587284e-11,7.043789856941984e-11,-4.683323520660032e-11,-1.648256184316743e-11,-5.537111047448917e-11,6.237223237892664e-11,-5.0845914284503024e-11,-2.0345667858800986e-11,-5.310342443554106e-11,-4.0986745247773015e-11,7.837750587436076e-11,-3.358975944611764e-11,-3.512761262425279e-11,-4.258942157275847e-11,8.223636355220165e-11,-3.788391822467929e-11,-4.4461566373055206e-11,-3.9484325531358166e-11,-5.5813988847353e-11,7.170911087150955e-11,-2.8666546567079898e-11,-3.941525231199172e-11,-4.880248982708224e-11,-4.1826996727278853e-11,6.058201162950638e-11,-3.9990101508013964e-11,-4.230408384708895e-11,-5.295719765485707e-11,-2.045843355835686e-11,-3.5150528321370444e-12,-3.0806576040154354e-11,7.814754399149137e-11,1.1332969285238192e-11,-6.063186758220596e-11,6.172864303044534e-11,6.833899418579037e-11,8.101313370145746e-11,-5.2587479509869084e-11,8.352839253600308e-11,-4.178926996112331e-11,5.4165255614080365e-11,-4.749697857242552e-11,-4.96234234259596e-11,-5.6854694563401864e-11,5.2488333124323105e-11,-5.87059775791765e-11,7.629658016483631e-11,7.826079367889704e-11,-5.260693269892869e-11,-4.868097938648397e-11,-4.0028480530196475e-11,-3.8732420049036875e-11,-2.962384157423337e-11,-3.009009361121251e-11,8.551663543965304e-11,5.392757421174288e-11,6.85908690956083e-11,-2.27168891336893e-11,6.676786207249208e-11,8.085511427058378e-11,7.4023925877853e-11,7.704692439602923e-11,-5.766333591172845e-11,-3.391251515716398e-11,-5.456364873812625e-11,-5.229228508540906e-11,-4.4694616063711834e-11,-1.7121366824301987e-11,-5.876702596774308e-11,-1.805771331075956e-11,-5.122949980895797e-11,6.789278861329962e-11,-4.3465613053239593e-11,-3.947646376456504e-11,-5.622706467089955e-11,6.649927830615354e-11,5.6525919361893884e-11,5.924983420557695e-11,-5.875241265718145e-11,-3.2838773367238616e-11,-2.1475586066410646e-12,6.345969583154698e-11,-5.012668405357523e-11,-3.551549332403425e-11,-6.940301111590941e-11,-5.1969709785604223e-11,-6.55807005922604e-11,-4.794022470666626e-11,6.539931790561226e-11,5.644359979406488e-11,-5.091116764277537e-11,5.768408754130983e-13,-4.087916810613379e-11,-5.0628931602680893e-11,-3.8333884677665964e-11,-3.628598463367716e-11,-5.559716229064371e-11,-3.805532278189361e-11,5.638836272914283e-11,-6.585570283546005e-11,8.369480802850049e-11,-6.63049129490112e-11,9.436459252887275e-11,6.627444426587914e-11,-5.6214900789886e-11,6.238613098341617e-11,-3.038853196857261e-11,-5.895813004475059e-11,6.885698955461095e-11,-4.682793736110469e-11,6.6463862191668e-11,7.537353380326905e-11,6.469365321226661e-11,-2.4742487572670946e-11,-5.507166597751301e-11,6.28124149915088e-11,-2.6974278713454147e-11,-6.713857941820223e-11,7.380802219403293e-11,-9.999898045037758e-13,5.3423616225289905e-11,6.20679410645586e-11,-3.57664280137282e-11,5.587208820601042e-11,5.1377731929980186e-11,7.522465289566682e-11,-3.07904118868052e-11,-3.104455581492971e-11,-2.8900265860998253e-11,-6.037077782128364e-11,5.4905080482114954e-11,-5.397961244657523e-11,-4.3886876771592753e-11,6.210490455238471e-11,6.475355668333904e-11,-3.6284256849095087e-11,-3.781984447837061e-11,-5.727845628356043e-11,-4.7162156124880283e-11,-4.8496470728132124e-11,-8.981128341023492e-12,7.307560112579381e-11,-2.4514971649902684e-11,7.522165529350033e-11,-2.9077433169599765e-11,-4.135374681579762e-11,-4.181948190518092e-11,-3.635625004175247e-12,7.916983041367232e-11,7.048681777144239e-11,-4.42564387914679e-11,8.712595228610454e-11,7.604310237052658e-11,8.046290023155933e-11,7.256970718794165e-11,7.227778098251036e-11,-3.872310111452393e-11,-5.2425268987077445e-11,-5.537690098145198e-11,-4.4489818079584964e-11,6.065683372247221e-11,-4.364290873137833e-11,-5.068928957130403e-11,-3.761738837093631e-11,-4.272112177905463e-11,-2.5485950155834658e-11,7.584373407087952e-11,8.803100609577896e-11,-5.05483224721992e-11,-4.068369252596682e-11,-4.279383097882672e-11,7.535740781383637e-11,-4.309192239149162e-11,6.675474062411979e-11,-2.7829611878860128e-11,-3.773308748789006e-11,7.647660976717319e-11,-4.7070063124987627e-11,6.67975535995069e-11,-4.517776083790004e-11,-3.469805692768446e-11,-5.0675390966814504e-11,6.140825348222023e-11,6.616084763377827e-11,8.887583030636748e-11,8.12985859188764e-11,-5.36486098601241e-11,-4.830166822067383e-11,-5.4321873388385455e-11,-2.516230106219819e-11,-1.1878616146265841e-11,-5.616665813001909e-11,-7.332553314531864e-11,-4.5420417427166626e-11,-2.1735398203492906e-11,-5.550413947896793e-11,-5.25207342894074e-11,5.124484517282646e-11,-3.237548076850949e-11,8.803366369214416e-11,-4.489853627775986e-11,-3.645810389696358e-11,-6.724320406048534e-11,5.0899957859673606e-11,4.94390847705084e-11,-5.091559812653301e-11,7.941685503665141e-11,7.309167160407526e-11,5.276690542843632e-11,-4.685316024044539e-11,-4.5937722376043766e-11,-3.2862726428994904e-11,-2.415006909728401e-11,-2.6870557862102018e-11,-5.0028533399304465e-11,-4.210797335812977e-11,-6.158810874484777e-12,6.092573667793033e-11,6.945863328944313e-11,-3.4072304005983156e-11,7.869913054570077e-11,5.812627809631543e-11,-5.411916054187671e-11,-3.4867927989346015e-11,7.301177024077177e-11,2.052348959183381e-12,-2.538068496690804e-13,-5.235147038096244e-11,-6.452625933572875e-11,5.5085162126156106e-11,-5.862026836167544e-11,8.116082111930822e-11,6.647377787105668e-11,-3.742950741014717e-11,6.371436017671428e-11,6.316885209356471e-11,-5.185185614209331e-11,6.148845321796159e-11,-3.1805811456786515e-11,5.413004419696499e-11,-5.028244140503624e-11,-5.417781848149339e-11,-3.179981972190049e-11,-5.5606939192154314e-11,-5.1367323589124325e-11,4.7136690384252944e-11,-4.961075647513802e-11,7.696471931994964e-11,-3.5742620668743896e-11,-2.8777180291483795e-11,-4.3436150509723603e-11,-1.2683181761785622e-11,7.036016907990827e-11,9.08574257496575e-11,6.870991275942373e-11,6.04326866326943e-11,6.526820750529794e-11,-1.7336285185187705e-11,-5.229748231694309e-11,-5.449318773997902e-11,-6.639828270538217e-11,8.07436270622297e-11,7.11597308855616e-11,5.98620944480821e-11,-1.3551413680437663e-12,-5.710645498147038e-11,7.664529427797717e-11,-6.326666621148114e-13,1.2293673024021956e-11,-5.448512127581573e-11,-4.078616264169277e-11,6.162293592071322e-11,-3.766693207341021e-11,5.4804421417697924e-11,-5.7970041961175056e-11,-4.215038387767045e-11,6.609261749002115e-11,6.663954110752712e-11,-5.327910335140018e-11,-3.9234733517634623e-11,-5.965375415861729e-11,-6.021370207998089e-11,-2.1837000957480868e-11,-5.7687299381825596e-11,-3.705559817324122e-11,6.272440900012555e-11,-3.570350959325452e-11,-4.7442164780031604e-11,-1.9406724491299876e-11,7.672931040536568e-11,6.551883341421316e-11,6.243702777020133e-11,-3.2228743979123564e-11,-4.9383379330247834e-11,-4.4424096345974107e-11,5.4135487759232603e-11,-3.9970585868909225e-11,-6.059810986336345e-11,-4.543372622567432e-11,9.084012014826115e-11,-5.035086930726962e-11,-5.877151543209891e-11,7.721440153929393e-11,-4.2195871796657514e-11,-5.317524545689345e-11,-2.7003592070751203e-11,-4.6608945869497376e-11,-3.547312790730395e-11,6.799353441389044e-11,9.604076561808839e-11,5.973796457503511e-11,8.271371088053314e-11,-3.195812711687118e-11,-1.0627179691802269e-11,-3.0968574926681924e-11,-4.1153167679164326e-11,-4.227490926766997e-11,-3.839253914783569e-11,-2.2484418840673648e-11,7.832189757861485e-11,7.465266599337994e-11,-1.1950128386839509e-11,-1.9700786141330084e-11,-3.582552310366083e-11,7.692568804174016e-11,-5.19170990920248e-11,6.278057240738377e-11,-5.797825067266338e-11,-5.8073164332927973e-11,6.803414082101611e-11,-5.457677365594549e-11,3.981115090367915e-11,-4.190712013518727e-11,-4.238978265624915e-11,-5.979100548003657e-11,8.285747088443429e-11,-6.908851268860872e-11,-4.913168483167141e-11,-5.2442925002615937e-11,5.208485379104566e-11,8.169500492760662e-11,-2.5435998793343906e-11,7.473589802575731e-11,6.941247576719434e-11,-2.1780910408608634e-11,5.359615529165751e-11,6.006483505016647e-11,-3.417877439404471e-11,-5.896678284544876e-11,-4.6561227096120206e-11,-2.6783466069990602e-11,7.987720207491833e-11,-5.906945765854488e-11,1.917347183799656e-11,7.914414262844005e-11,7.182007766282084e-11,-1.0178294838902868e-11,6.987640327471567e-11,-3.393241937432734e-11,8.350002633772391e-11,6.181127137905307e-11,-4.783894808069178e-11,8.991457578488848e-11,-4.4944419713699446e-11,-3.1253426496097303e-12,-6.118955342415688e-11,-6.78465825187935e-11,-9.051251068092903e-12,-3.515591984193378e-11,-9.139874621033606e-12,4.9472568403041706e-11,-3.399251366498213e-11,-3.541352974756329e-11,6.971474092454244e-11,7.482675590253507e-11,-4.098077086012175e-11,-4.722680926882994e-11,6.873925040284945e-11,-1.3042532331919432e-11,8.614679802843028e-11,-7.262813961350645e-11,-2.3520926525910646e-11,-1.2732401070969512e-11,-4.711818088476427e-11,-3.1166607489252485e-11,-4.4677282706739874e-11,3.0194756417412094e-11,-4.170420606075531e-11,-2.1554239296173172e-11,2.863836771893613e-11,7.151322589660225e-11,-4.758352045719505e-11,-4.6583532170574316e-11,6.426999210606965e-11,-4.666947731046811e-11,-1.918266760714271e-11,-4.418148139007094e-11,6.312582401246658e-11,-4.4816834271488304e-11,-5.162236957345634e-11,-4.305908060664443e-11,7.763219234124819e-11,7.138672986073402e-11,6.944830127642021e-11,-1.8018985609158378e-11,5.7081339654985186e-11,8.41558628339456e-11,7.836103987912679e-11,-2.2572690244748728e-11,7.896661796680249e-11,-9.633274213050047e-12,6.406471880771036e-11,-3.118249061739853e-11,6.910827465844704e-11,8.254303490717874e-11,-3.500917611365395e-11,-1.5186473606432216e-11,-6.162691190692016e-11,6.462007318130958e-11,-5.520475396258995e-11,6.890073234178118e-11,6.531067353598985e-11,-3.116030003469383e-11,-2.7719960007943634e-11,-2.4455321448457745e-11,8.73320721295201e-11,-5.2380620674252754e-11,-5.318495643891197e-11,-3.3380014030637284e-11,-1.76606038820859e-11,-3.859547403894936e-11,8.153081682005237e-11,-3.5789166769051306e-11,-3.6827665916838725e-11,-2.4385406888205452e-11,-4.899882929954025e-11,-1.464849595789186e-11,-8.28435410549222e-12,5.957050824845211e-11,8.795563019234343e-13,5.78086849223336e-11,-4.187426794199922e-11,-5.3219050694108816e-11,-4.0988754057558197e-11,7.461350981508019e-11,-1.5882089046681536e-11,-5.811821857104604e-11,-3.528112177408893e-11,-4.7298619881841475e-11,6.725197482237988e-11,2.987920241087627e-13,8.906773235617393e-11,7.25992738148662e-11,4.816348014857752e-11,7.539131818834477e-11,-6.041308425741576e-11,-2.5513615525829536e-11,7.476860103272642e-11,-8.620860969532629e-12,7.484019654002694e-11,7.38335365069176e-11,-5.558013077555657e-11,-3.870472345401943e-11,2.1573378500283624e-11,3.0510198534283717e-11,-5.4792861220454014e-11,8.555132297027868e-11,-3.009030871692353e-11,-5.6220018224140134e-11,-5.419733412059813e-11,-3.843696888550241e-11,7.15747530688482e-11,7.783651501114264e-11,7.225482018258234e-11,-4.005431403220072e-11,-4.2170638508975955e-11,-5.769070290928546e-11,5.611784648085205e-11,8.383523042443386e-11,-5.0958206404549955e-11,-5.2945134387805126e-11,-3.570153547793886e-11,-2.5801865852215222e-11,-7.180551292451653e-11,-3.981518240103732e-11,6.232928062566145e-11,5.895278015755068e-11,-2.4657997865773496e-11,7.741800950311628e-11,-6.570941707417788e-11,-3.718292340693097e-11,-3.763490907804368e-11,5.418869172824081e-11,-5.795725704915711e-11,4.7552538295914104e-11,5.87580123445619e-11,6.343311986789502e-11,-4.3080351785906856e-11,-4.713339787909554e-11,8.827495678875863e-11,8.167288373384096e-11,-4.0700380565805716e-11,9.745559394203074e-13,-1.5107890632970467e-11,-5.3012188389045534e-11,-2.7029156690616674e-11,7.446884775497153e-11,-4.340361056676123e-11,8.686264901802687e-11,-3.0507315423866643e-11,-4.348309559643049e-11,-4.452428356560567e-11,7.403872653855004e-11,-5.126084452744539e-12,-3.522450733872695e-11,-5.95940935488315e-11,3.6210732329289286e-11,7.75782216244636e-11,-4.027974828679781e-11,1.3129350905083381e-11,-1.626026743806186e-11,-5.5468931531299503e-11,-2.639668865433986e-11,-2.7908588634550924e-11,7.036720511832684e-11,-2.7056523688173684e-11,-6.257517420893421e-11,-1.489397667697734e-11,-2.5017179300368397e-11,-2.3945002231018364e-11,-3.6425244764881626e-11,6.403003821597864e-11,-3.5845729162709006e-11,-4.766496572439216e-11,6.701713489709604e-11,-4.476480991444376e-11,7.423799769368244e-11,7.921090866558345e-11,6.954788828172909e-11,-4.558171201596295e-11,-3.4329754317052874e-11,-4.5274742288548e-11,8.682298630047214e-11,7.274051500028023e-11,-1.2870048776703058e-11,-1.7685261241573436e-11,7.857329370475341e-11,7.309669536326169e-11,-5.5763255124574584e-11,-2.2201228702667386e-11,6.105296129765847e-11,7.977207783227414e-11,-4.0324309863448704e-11,-4.004095319198875e-11,-4.417037048620731e-12,-1.5705714506708546e-11,-2.6382465656560328e-11,4.233118716667761e-11,6.431267324247258e-11,5.304205338840795e-11,-3.991577207651531e-11,-5.6232504763720215e-11,7.441600807789328e-11,6.277011549427058e-11,6.71609157176789e-11,7.080608321885506e-11,-6.08308403649005e-11,6.546643088745085e-11,-5.411802603272342e-11,7.651846517520156e-11,-6.205689434546358e-11,-4.27694685223301e-11,-2.522555428430273e-11,6.828207443909662e-11,-8.540556283020972e-12,-6.589125078892977e-11,8.440586424240948e-11,5.409886774665473e-11,-1.0271366222835976e-11,1.4639569938246222e-12,5.806644401418204e-11,6.516771150488765e-11,-6.972774441171836e-11,-2.666852676191933e-11,-5.241705680614217e-11,7.475531305090044e-11,-5.050533949391145e-11,-3.615184540617378e-11,7.472920199314004e-11,7.956439673773019e-11,-1.9640811546595138e-11,7.016347225441422e-11,-3.476795587542547e-11,7.050365846694717e-11,-3.6811272779990745e-11,7.7569166367919e-11,-4.895892372069888e-11,-6.396119744955797e-11,5.734528824019591e-11,-2.8185787037671162e-11,-5.557547477774705e-11,-4.23132362481482e-11,-4.6447231477619866e-11,-5.609550324248147e-11,-5.8151185255983506e-11,-2.4467618903178945e-11,7.303785354295655e-11,-3.596838105135447e-11,-3.970119025198393e-11,9.098154174491668e-11,-3.6611502024497256e-11,-2.1045963582988492e-11,-5.367473479567231e-11,-4.849550275243253e-11,-2.04242751183914e-11,-5.104829406410438e-11,-3.43752595832747e-11,-5.4550221978422186e-11,-4.237526649020218e-11,7.210005509294959e-11,-5.19816550914598e-11,7.183321992787484e-11,-1.8334528339991607e-11,-6.123148862946515e-12,-3.2570928593100845e-11,-2.8857943812354847e-11,-4.351564941718067e-11,7.213429853436537e-11,9.157594821340709e-11,5.703215330554734e-11,-5.4493427131818706e-11,6.222899279206828e-11,-1.3044768173639532e-12,-5.46209223684091e-11,-4.9587892819724644e-11,-3.977920076669861e-11,-8.668396556110736e-11,-1.231283304481412e-11,-6.1685774543907e-11,-5.642255759830128e-11,-4.408026374469465e-11,-2.2980794350813127e-11,6.908239952307937e-11,6.451896655823575e-11,-4.488594218532427e-11,-2.8812934677047153e-11,-4.53408942335809e-11,-2.5371347384117726e-11,6.927520362909334e-11,6.420204645696259e-11,-7.253346534508154e-11,-4.274231663048411e-11,1.2969505677751236e-11,-6.075256964166442e-11,-3.7732636459786306e-11,4.839974601655861e-11,-4.575440720744339e-11,6.179069755862798e-11,-5.4658801790230527e-11,-3.187019398387392e-11,-4.520608540281579e-11,-4.2363269142642324e-11,5.442358716467588e-11,6.675558023028216e-11,6.157468979139935e-11,-5.069584682604322e-11,-4.2049325826853945e-11,6.14083714434166e-11,-6.275892999729749e-11,6.468661023495414e-11,-2.2793395643150305e-11,-5.8049620665912016e-11,7.21592230412682e-11,6.873035474086464e-11,-3.685259042374156e-11,-4.678897547183425e-11,5.878245112889147e-11,-5.872043129517834e-11,-4.924668312034086e-11,-3.8471469065992636e-11,-2.03298888140635e-11,-2.6431233937640464e-11,-3.842894058525559e-11,-3.454081465292802e-11,-1.8657289255208376e-11,7.374816035632392e-11,-5.871879371621702e-11,-5.300426070276032e-11,5.984727297070336e-11,-4.1518205540214126e-11,6.368321148197964e-11,-4.213699875132981e-11,5.835395361364348e-11,-4.7860982538283636e-11,-3.266017317704595e-11,-4.027063404965503e-11,-6.356442455723865e-11,-5.5628376904870436e-11,-5.045204531928249e-11,-5.5939568949225915e-11,5.244843795382259e-11,6.740397823223887e-11,-2.1026080182506846e-11,-3.502263409838058e-11,-3.730441650029448e-11,-5.954408494046604e-11,-1.1748077510809196e-10,-2.2963646609253097e-11,-2.9760742481510505e-11,-2.6559017138327867e-11,1.0108596598668029e-10,-5.803694677619653e-11,-5.438634265164666e-11,-6.537958369134955e-11,6.54217652273914e-11,-2.7125808543804197e-11,6.580573586045801e-11,6.092597953921697e-11,-3.977966220314322e-11,-7.240608113079361e-11,8.461788214564336e-11,-6.318796874626997e-11,8.1379923633218e-11,-4.708001002939888e-11,-5.870431918353347e-11,-4.36833555439442e-11,-3.0416780205655414e-11,-5.6138965004448593e-11,5.5676074861565894e-11,-2.113063543585092e-11,-4.075275880643936e-11,-5.535841576809197e-11,-5.023566979067695e-11,-5.3362810698009966e-11,-1.8573835178226084e-11,6.196450991202695e-11,6.215843117995945e-11,-5.085626017531375e-11,7.071426083582466e-11,-4.729705169181919e-11,-3.503824660966437e-11,6.325671930706989e-11,-5.705866334970722e-11,-4.491592514588305e-11,7.633782495020114e-11,5.3479470851769406e-11,-6.070816072067942e-11,-4.5582572438807034e-11,-1.6318885479038592e-11,-4.2605752259561314e-11,6.035802413428826e-11,-1.690488721228789e-11,-5.4854239206481026e-11,-2.193465374611403e-11,-4.5681614740944454e-11,6.044467704136025e-11,7.646023397755997e-11,-4.813235227052459e-11,-4.604780098893535e-11,-7.49388814891283e-11,5.865196522902849e-11,-3.853558444566474e-11,-2.4942633028435246e-11,8.215626789986885e-11,-6.217634740401934e-11,-5.908625672068624e-11,-5.5190400860549715e-11,-6.398962609788228e-11,-4.424574595596198e-11,-1.741843648483954e-11,-6.236718173152633e-12,5.182313606022504e-11,-4.297899189320553e-11,-6.034178018365921e-11,6.190416235174467e-11,-5.0186910183214195e-11,-4.9106069904825134e-11,8.176483795585554e-11,-2.7136846589281838e-11,-2.1408265785116676e-11,8.891229419383251e-11,-3.82505659091148e-11,3.132943557360157e-11,-5.5678364696554183e-11,-4.1575905912472066e-11,-6.048982842399298e-11,-3.221016509069585e-11,-6.370740740502256e-11,-4.176982371095761e-11,-3.729307487820854e-11,6.274593344901547e-11,-4.5915542201679926e-11,-1.5756640783792797e-11,-2.593596344635518e-12,-6.833032056841049e-11,7.998028628275478e-11,7.822132525037162e-11,-4.440126738503025e-11,7.17319259546656e-11,-4.090641020360053e-11,-8.888004915386105e-12,-4.3545229921893025e-11,6.103132582646609e-11,-4.648458701295155e-11,5.969275074235725e-11,-1.7731682441790575e-11,7.364778231711e-11,6.168651527083124e-12,-5.606258166035438e-11,-3.1648930004513076e-11,5.372078823451254e-11,6.45657693976176e-11,5.3827088619673447e-11,7.754118180880454e-11,-5.558061649812984e-11,-8.841211616983369e-12,6.99263633108238e-11,-4.7703813121913186e-11,-4.798713162945667e-11,5.425521143465062e-11,-5.627785737427615e-11,-4.93190349670769e-11,6.8410797859908e-11,-1.7527212320400665e-11,-1.5468142391950046e-11,7.176999272662243e-11,-2.5725761798600644e-11,-4.286392421559704e-11,5.59952223477822e-11,5.694318627735839e-11,-5.484197124205892e-11,-4.0016951557975133e-11,7.225048337389239e-11,-6.500260746333808e-11,-4.085809121590067e-11,-4.138835801859031e-11,-1.983401507268945e-12,-5.483857812293991e-11,8.535292611577816e-11,-5.2718118065397945e-11,7.970973880944143e-11,-2.2457730119995745e-11,6.110151273830411e-11,7.047622901934503e-11,5.975585304351938e-11,8.283186636592887e-11,-4.743475057189528e-11,7.64091498406394e-11,-4.291276362033969e-11,-3.485011237924773e-11,-5.456095644729153e-11,8.848558691321173e-11,-4.789189184117859e-11,-1.4798979749985897e-11,-5.242135545091564e-11,-3.9670083190612715e-11,-4.230453140574575e-11,-5.16227477431741e-11,-2.3922187147862317e-11,5.890696264110318e-11,-4.936916153663873e-11,-3.369727760715868e-11,-3.515108343288276e-11,-1.9017511523888864e-11,-4.3586446951682234e-11,7.613095570624395e-11,-6.109437955537089e-11,7.071731394914238e-11,7.74267889386282e-12,7.380374783538812e-11,7.547296121401814e-11,-3.656984437494515e-11,7.485140285368175e-11,7.620271774699816e-11,5.6923264712960275e-11,-4.457695670923023e-11,7.296324655570174e-11,-4.452897078843776e-11,-1.371054398485727e-11,-5.28171360814067e-11,-4.844414452920276e-11,-4.3407898803193845e-11,6.387572415444964e-11,7.779922539530304e-11,6.198709601168417e-11,7.21466150710448e-11,5.549410930782983e-11,-2.6232960248506743e-11,7.495388337774855e-11,7.843326682577256e-11,6.807508723394307e-11,8.327859929435633e-11,6.89387782970563e-11,7.021967729503586e-11,6.523852291717702e-11,6.332802338082644e-11,-3.904421230771504e-11,-4.067514727812416e-11,-3.806751441848277e-11,-3.470208842504263e-11,7.939229829112548e-11,-3.837825890418145e-11,4.43651409012813e-12,6.659434115263707e-11,7.371108584619535e-11,8.289028491370587e-11,7.812708119336875e-11,6.175400468766412e-11,-6.303806088236996e-11,7.981110911048361e-11,1.8003260340848648e-11,-3.3848712027717553e-11,-6.092236437549303e-11,-2.6838409966645216e-11,8.417283536843456e-11,8.767547798882447e-11,-5.4192334647540363e-11,-4.931108993355693e-11,-5.96108024053521e-11,-5.4893770085051585e-11,7.081107228357197e-11,6.07953271059003e-11,6.929971180236194e-11,-3.7471893643559184e-11,-4.6919603619022254e-11,-4.084697163841966e-11,8.217224817252955e-11,-3.725248928776459e-11,-6.069043184675493e-11,-3.883872043419778e-11,-2.058937395577054e-11,-3.98980813665073e-11,6.404816954574954e-11,7.931647699743749e-11,-6.127512386377987e-11,8.241306248546465e-11,6.722587764240728e-11,7.915074151654267e-11,-5.606404923641506e-11,-5.6160458228315946e-11,-3.682324931086889e-11,-4.3487938944375415e-11,3.9905275264762174e-12,9.154888652718185e-11,-4.2703288821721586e-11,-4.3524985698928376e-11,-5.533411229219354e-11,-2.619482408761087e-11,6.179947525941643e-11,-3.2802149885213794e-11,-1.8218830957761334e-11,-6.063608816442301e-12,7.740154350788231e-11,-3.953737337525354e-11,6.482418768438691e-11,-4.9009480501682745e-11,8.533011797151602e-11,-5.591071702837347e-11,-6.743295505318159e-11,7.139711738490817e-11,5.527519414405546e-11,-6.372088967587786e-11,7.974096383200902e-11,8.655897526521628e-11,5.506087599749243e-11,-4.3733652116406674e-11,-3.1894768076634605e-11,-3.016145319612029e-11,-7.626203488153571e-12,-4.6639241080281835e-11,7.694282710968281e-11,-4.814837070710176e-11,6.430738580531781e-11,-4.5158963374314354e-11,8.304157361749276e-11,7.719572203690461e-11,8.194757372681494e-11,-4.8177926925685455e-11,-4.0514869237284756e-11,-3.952398477946595e-11,-4.258456087757878e-11,1.7984967681794473e-11,-4.116159149636367e-11,6.292034948618408e-11,7.23486964782083e-11,5.3982904951732635e-11,-4.1032403169660725e-11,-1.0534188972510794e-11,-4.336612319244537e-11,-4.260840985592651e-11,-3.2889312800987724e-11,5.346427467411985e-11,-3.376537591193163e-11,-5.533970851012704e-11,-5.6138933779426026e-11,8.05221514466048e-11,6.648120942642777e-11,-3.548509749928819e-11,7.106402272194501e-11,8.269848000841407e-11,6.935496621451875e-11,-3.8261359358582325e-11,6.544888936366178e-11,-4.733829994663097e-11,-3.665973080657636e-11,-1.749081435242772e-11,-4.144440693409912e-11,-5.03949694474759e-11,-3.67192005967798e-11,-6.172178740326828e-11,8.699434922432303e-11,8.146981700374312e-11,-4.6471864550978736e-11,-5.184000798075239e-11,-3.8242659039511295e-11,-5.987957352182605e-11,8.117713445887631e-11,-1.098864662457677e-11,-4.2653471032938484e-11,6.83594778005947e-11,-4.991452390301632e-11,-3.133781428799054e-11,8.046013855178558e-11,6.719584610959117e-11,8.352733782412969e-11,5.791593246651239e-11,6.348697262348324e-11,6.069086899707088e-11,-5.939458647130635e-11,7.557485193210312e-11,-4.181589102758565e-11,-3.1170354491960595e-11,-3.962658326472912e-11,-3.532280024032275e-11,7.921411443456705e-11,8.245864407951942e-11,-6.727196577571704e-11,-2.798311582452584e-11,-5.941158676137093e-11,-4.877327361429984e-11,-3.584690530522572e-11,-4.2813374373507074e-11,-4.932323993678267e-11,-3.824270761176862e-11,-4.204107895144915e-11,-5.21447711399059e-11,-1.1125027982172853e-11,7.857992728732555e-11,7.643793237255281e-11,7.699763049373587e-11,-4.966608374568082e-11,-1.4397999285875596e-11,7.470252888497342e-11,7.212134361944678e-11,-5.033727254466491e-11,7.084906966658977e-11,-5.166920016841381e-11,-6.243528610783144e-11,-6.241338001977681e-11,2.2581303146806952e-11,6.967815213698714e-11,2.993196315803637e-11,5.97622715203805e-11,6.850013611892081e-11,-3.597161804536064e-11,-5.589071913614241e-11,8.040430821143474e-11,-2.0227810745843122e-11,-4.8641438099572554e-11,5.5304538726375085e-11,7.996742851235084e-11,-3.020032141032303e-11,7.445374178294273e-11,-1.2651575100053325e-11,-2.3296224324620418e-11,-2.4604270010275542e-11,-5.009980624803845e-11,-3.188088681937984e-11,-3.190302882982721e-11,6.95067059464094e-11,5.6485219279700516e-11,-3.223147443387475e-11,7.557100778488035e-11,-2.3273613938834536e-11,7.624721687360392e-11,-2.4180005220308942e-11,-3.7280432213515624e-11,-5.781408685123779e-11,-2.955176728325348e-11,8.695547754067334e-11,-5.4491099132913945e-11,7.874638441318638e-11,8.574518872705994e-11,6.389701268094683e-11,-1.6112226136622e-11,-2.546491142951801e-11,7.867331092148433e-11,-5.5508677515581084e-11,7.378717081785169e-11,5.955374388078027e-11,8.685045738143771e-11,-2.5712265649957544e-11,-4.053574143014771e-11,-5.8131433694486034e-11,-4.272215220479936e-11,-1.8022847103615902e-11,5.473773170838747e-11,-7.906446330974148e-12,-3.4628976769424114e-11,-5.089543370084826e-11,-6.148372783121303e-11,8.131460088600662e-11,-4.477561030280519e-11,7.972693338853531e-11,-3.5307257117978e-11,6.046230877077008e-11,-5.0751843699847754e-11,-4.2322284565798896e-11,8.0034139038343e-11,-5.900138017045364e-11,6.729769519431272e-11,-6.052928297473059e-11,-3.057447350851561e-11,-5.8065212360514096e-11,-4.9915228200747563e-11,-5.71219425926639e-11,-1.0504090652840858e-11,-2.7802690705236444e-11,5.273719655418674e-11,-4.5698615031009027e-11,-2.2845727046250097e-11,-1.5334426436974802e-11,5.7689922283721273e-11,-4.193828617715667e-11,-2.6448421577840442e-11,6.558983217663794e-11,-2.3863929929368588e-11,4.743454240507816e-11,6.630120757966651e-11,6.679778258300573e-11,8.135597057146171e-11,-5.0273184920568426e-11,8.565628067946918e-11,-5.121940371832778e-11,-3.830759667811101e-11,-5.835614630411712e-11,7.911790667058938e-11,-5.382366427553187e-11,8.570786441675082e-11,-5.049928530898029e-11,-5.770073654987051e-11,6.671954655423917e-11,-3.852107174906472e-11,-2.961580633509264e-11,-5.760705107382691e-11,-8.600687870230495e-12,6.057439272399989e-11,-5.033157224332285e-11,8.099210191403472e-11,-5.817435422272865e-11,-5.357904744873743e-11,-4.306648787588685e-11,5.762250052110396e-11,8.463372364042598e-11,9.919740723285386e-11,5.723801640988846e-11,-3.22923875140102e-11,-3.340337381696479e-11,-2.3566145562758933e-11,-5.803877517474021e-11,5.263900426655255e-11,-4.276308820938546e-11,-3.051375818685642e-11,6.095778742887248e-11,-5.644788456105054e-11,-3.843611540155223e-11,-3.71491483408537e-11,-5.5981549257344554e-11,-6.373200578391192e-11,-5.958916693415972e-11,7.713116950691656e-11,5.733716626488139e-11,-5.911952871695547e-11,-2.755049834102241e-11,-4.880174389598757e-11,-5.42999256669674e-11,-5.2163447172848265e-11,-5.910243822127015e-11,5.1276965312707645e-11,-6.129272783761408e-11,6.353026438254972e-11,-2.0219470195370626e-11,-5.664207644584529e-11,-3.50576616348075e-11,7.853684369507619e-11,-1.6516727222026795e-11,-4.677444542799947e-11,-2.123479170279552e-11,7.783029082331083e-11,7.359804432560679e-11,6.987140033221095e-11,7.739828222774747e-11,-5.7919818247098576e-11,-1.8511907284857188e-11,-2.9924160371841424e-11,7.079707653456779e-11,-3.659271843869938e-11,6.55055731879628e-11,-2.62360827507635e-11,-7.759183920375001e-12,-5.0021396746924296e-11,-1.9943142623435328e-11,5.1286894869884136e-11,-1.4588457178388303e-11,-3.986512508991069e-11,-4.239996895250009e-11,-2.2317989470388433e-11,-5.176627876357642e-11,-4.3016295386832937e-11,-4.202803730035676e-11,-3.0364443598385193e-11,-5.3162165641884584e-11,-1.3652805448682859e-11,-5.04801200840177e-11,-6.377110645106043e-11,-5.735073180246353e-11,7.363942094995579e-11,-5.737329014654513e-11,-2.527690036446817e-11,5.3823674683872724e-11,-4.460817132345696e-11,7.787306216533452e-11,-1.435649168990416e-11,-2.2293571502740583e-11,6.586044903889032e-11,6.291086401821744e-11,-5.982642159452212e-11,-6.235169325297107e-11,-4.8757886617067925e-11,5.859761981197309e-11,-3.642184470686871e-11,-5.989766321823353e-11,-3.8239956340335723e-11,-5.567189417798879e-11,-6.705011545982131e-11,1.410547704029999e-13,5.67886987434818e-11,-2.7022223000883194e-11,-3.961424244192102e-11,6.58536489228645e-11,-3.2700144675379406e-11,-4.217156832075908e-11,7.131497475887372e-11,-6.832202859019532e-11,-5.787747364704998e-11,-3.778283588773412e-11,-4.565271077838773e-11,-1.0369985252445257e-11,-4.7861173357865994e-11,-1.3588452411894547e-11,-5.1791234495501826e-11,-2.7032221946998725e-11,7.728505335702351e-11,7.555772674194827e-11,-3.936795334169574e-11,-5.610617526130568e-11,8.683707225509707e-11,6.829291993026843e-11,-5.634048436120587e-11,-2.5370089709597643e-11,5.240199593692374e-11,6.06005176595481e-11,6.188043133459331e-11,5.800789709686782e-11,-5.488698037736661e-11,6.887983239334261e-11,-2.7898917551172353e-11,-2.3539507149061834e-11,7.047827599304668e-11,6.59071131003941e-11,3.895912759066533e-11,-3.453742153380901e-11,-5.18067255761423e-11,-4.149102242334557e-11,-3.638717799292479e-11,-5.721668625002785e-11,-3.4799340492552844e-11,6.195684937315704e-11,-2.870370087448837e-11,6.721590645186737e-11,5.949703230090364e-11,8.241161919553264e-11,7.653390421413775e-11,7.193980827713276e-11,-5.281551584968014e-11,-5.201910777130614e-11,-7.448302391521722e-11,-4.888143362302699e-11,-5.434994468367371e-11,-2.731951123657872e-11,-2.950372238186283e-11,-1.2329500267971305e-11,-4.929685479271306e-11,-4.131130160178742e-11,7.149756481306113e-11,7.869062346177458e-11,-5.667519925589559e-11,-4.360518890411669e-11,8.139994928102467e-11,-2.1461318833182474e-11,6.7501886025223e-11,-1.7641919175526155e-11,-4.280125906475085e-11,-4.009223855683253e-11,7.960577336207919e-11,7.311160010736728e-11,2.0162579938975966e-11,-4.6518320445665395e-11,7.699400839111803e-11,-2.6193684374287152e-11,-4.7445505857446335e-11,-6.944107094897234e-11,-5.482776732623762e-11,-2.0066871775359374e-11,8.216169411490171e-11,7.853575428873327e-11,-4.805883122016574e-11,5.452122781024471e-11,-2.4216224511763862e-11,-5.038707992510716e-11,5.554097806670377e-11,-6.04715721941318e-11,-3.6130209934981394e-11,-4.308227385951824e-11,-3.357054911834467e-11,-4.453105245660893e-11,-5.406296937904287e-11,-3.7218721160581225e-11,-4.9276277502841026e-11,7.244475158652008e-11,-3.6652153534433296e-11,7.3227590657865e-11,-6.228290799770164e-11,-2.3309746494115657e-11,6.375601435681943e-11,5.7418479693094326e-11,-5.965655053286056e-11,-5.006647180172408e-11,-4.545163204139335e-11,-3.470150208850775e-11,5.387277429713677e-11,-2.0246014934000023e-11,5.610504075215239e-11,-7.098927695681212e-11,5.5126715692299655e-11,-3.176074681032759e-11,-4.42548359069761e-11,-4.963335298313609e-11,-4.568368600077477e-11,-5.897009269784093e-11,6.963167542561877e-11,6.852634432119586e-11,-4.591210397975054e-11,6.30448748761836e-11,-4.399205652538818e-11,8.150662089700944e-11,6.27200652525417e-11,-5.098000840919603e-11,-4.010733412052048e-11,-3.410106572121485e-11,6.908662530946685e-11,5.6781974955288916e-11,8.161851750010385e-11,8.349995694878487e-11,6.156158915970877e-11,-4.846180423102864e-13,-4.1416908097557936e-11,7.197312190676541e-11,7.152864411885673e-11,8.181172406196424e-11,-3.862942604682118e-11,7.97933247254079e-11,-4.5101387902146683e-11,-4.818403315232089e-11,-1.605212317234983e-11,6.956164810834053e-11,7.228763421185391e-11,6.619153142262135e-11,7.168408922009206e-11,-3.651884003530448e-11,7.604609303379917e-11,5.920139378723377e-11,-5.0089286884880124e-11,-6.06038969008793e-11,-5.1911658999204136e-11,6.912473371478711e-11,-6.3804612634998925e-12,-2.239263288683624e-11,5.928637442087492e-11,-4.486367527478663e-11,-6.15994364891459e-12,-2.432862938883673e-12,5.945044456723281e-11,-5.4979406444166656e-11,7.736074975062124e-11,-3.210429838640394e-11,6.396670693131767e-11,-4.806896200526545e-11,-3.9512823568621513e-11,-3.5571812856405316e-11,-2.4759356023751344e-11,-4.152526586476135e-11,7.913399102665863e-11,6.97065044574785e-11,7.152617387262694e-11,7.252980854799418e-11,-2.583132145683731e-11,8.244793736622569e-11,6.765040611034223e-11,-5.5445863178515964e-11,-4.2770165881167443e-11,-3.822224134419905e-11,6.405986852087153e-11,-2.016438058194403e-11,6.698327656429193e-12,-4.361568398114635e-12,-5.281537360235511e-11,-4.1973154119023803e-11,-5.7849901952122806e-11,7.391085660168883e-11,4.492686431212256e-11,7.953817465766733e-11,-4.822460486497704e-11,-5.650271570067922e-11,7.230918641631945e-11,-2.2429632803855348e-11,-4.760195015940383e-11,-3.231512973878026e-11,-1.2438835551853433e-11,6.903053823004157e-11,-1.3856365707609619e-11,-3.6662076152715883e-11,-4.7335295405570577e-11,-4.788798524391069e-11,-7.533131757275768e-11,-4.2551698276049876e-11,-1.2361674184280247e-11,-5.041041195585905e-11,-2.386444687696443e-11,-2.7106247801889083e-11,5.831785748755536e-11,-2.674292384763355e-11,8.164340037364326e-11,-4.094945563193342e-11,-3.662516470659405e-11,6.124426660258919e-11,8.177845900458891e-11,-4.8687918280387876e-11,-4.0543547685789605e-11,5.5156639672260255e-11,5.953134513125846e-11,-3.6279083903689724e-11,-4.895972516294478e-11,7.666175333431724e-11,7.173275168304016e-11,7.446852856585195e-11,8.100065063132433e-11,-6.405239533213702e-11,7.314333860808375e-11,-4.7241169309764075e-11,-3.444591487045123e-11,-3.2895686175038463e-11,8.370119874978599e-11,-3.309969659470724e-11,-4.191778868456453e-11,7.564891768563342e-11,7.743974905771722e-11,-5.4310822332481745e-12,-9.0830129875763e-12,-2.6295786728636195e-11,-2.848649267861436e-11,6.208592667755752e-11,-5.218368792636596e-11,-4.7932654373417094e-11,-1.71069165777471e-11,7.453729300443968e-11,-6.16538001207978e-11,-2.8824841818986258e-11,-4.3682137768064067e-11,-6.27573618072752e-11,-4.8882915944237215e-12,-6.982965594648505e-11,-2.4146353319598468e-11,6.024414994643124e-11,5.599649910426052e-11,-2.6874879058280676e-11,6.286950127165625e-11,-4.29298332993433e-11,7.176000765829471e-11,6.029674676222285e-11,6.822745840517896e-11,-2.5842366441208853e-11,-2.9061147585607294e-11,8.984132882083884e-11,-4.389269156468423e-11,-8.777677369675718e-12,-3.545999258114385e-11,6.807484437265643e-11,6.91110293993269e-11,-3.52449250340392e-11,-4.2997914256881486e-11,-4.596835065373561e-11,-5.990163226554657e-11,6.522150874932464e-11,6.374622357752102e-11,-1.2521156854405913e-11,-4.803204015080276e-11,-5.2746796513902794e-11,-5.628093130427558e-11,-1.3054344064067358e-11,-5.82168757645718e-11,-2.974993862370212e-11,-5.4367049057146843e-11,7.688059910915257e-11,-3.416915708709389e-11,6.284871928441405e-11,7.035376448083497e-11,-5.803348426813848e-11,-2.8770855489690383e-11,-4.744921122679102e-11,-4.678037818228731e-11,-3.523496078239319e-11,-5.7686334875572953e-11,6.988783857186931e-11,-4.1199318262519213e-11,-7.822844802496398e-12,-7.540430779773288e-11,-7.27083185325661e-11,6.898703830415798e-11,6.669172852857841e-11,-5.1937322498307736e-11,8.233372317256737e-11,8.592698774734231e-11,-5.94815169341345e-11,-4.74896649782508e-11,-5.998455898659216e-11,-4.795857461159514e-11,-4.3807391741923496e-11,-3.565768166846617e-11,5.678636727513009e-11,7.6573240803679e-11,7.926477529895948e-11,8.451076644044875e-11,6.171584077119263e-11,-4.1959945934477716e-11,-2.8989524322731164e-11,-1.86318478007097e-11,6.821998521644446e-11,7.528219714281192e-11,-5.293202508249717e-12,-5.822543835964922e-11,-3.676313767297934e-11,5.990197921024176e-11,-3.541305790277782e-11,5.303276567891757e-11,-5.171180844643075e-11,-3.360654463047119e-11,8.376307286672713e-11,-4.2877236483551684e-11,-4.197844155617858e-11,3.821909368845189e-12,-5.030798000404957e-11,8.028645109847687e-11,8.251563321515221e-11,-3.889771144072185e-11,-1.7055409168298397e-11,7.646844962794219e-11,-2.4475137194723828e-11,7.767773230193953e-11,-3.304922654989717e-11,-2.7511616249031867e-11,7.299226501000788e-11,6.977397132290619e-11,-5.664725979959151e-11,-4.2764077001766765e-11,-5.7575777479002e-11,6.849245476336918e-11,-4.149902990691068e-11,-3.7532543045726285e-11,-3.555837221891345e-11,6.370838578906302e-11,-3.7313624412504964e-11,7.434357296443039e-11,-3.71175347402275e-11,8.39425612353395e-11,-2.3691619846499812e-11,-3.282718888386604e-11,5.7297184358207076e-11,1.5935031072444872e-11,7.911321597831034e-11,-2.8528259615745455e-11,-2.4022006606116975e-11,-4.007155024465803e-11,-2.943602306348936e-11,-4.326269550936068e-11,2.0641834595769293e-12,-5.076358083888621e-11,-5.04515318411336e-11,7.510434635316088e-11,6.906564903319534e-11,-5.216114346007217e-11,-5.599357782992698e-11,-3.012144006442341e-11,-1.7942676858173634e-11,-5.5100521367812405e-11,-5.222378085534274e-11,-5.0099337872699934e-11,-4.320826335613148e-11,-4.9545326175071125e-11,7.146686020753634e-11,-3.002360859927222e-11,5.686095344570319e-11,-2.3339441490577428e-11,-1.469674902609963e-11,-2.681987618102788e-11,-1.8995222061946038e-11,-5.271214714719363e-11,8.057202821598608e-11,3.2769367080964784e-11,7.529328549527037e-11,-5.5217767858106725e-11,-7.17892967294631e-11,-4.5631835116077823e-11,-6.963801757464694e-11,-3.1561819130443425e-11,-2.4118027019959243e-11,-4.185881502527522e-11,-3.477060306344981e-11,-4.037003717427545e-11,6.501602728414824e-11,-4.79245879092538e-11,-1.1192167852225321e-11,-2.949981925404188e-11,-2.2431166299408112e-11,-3.636227777215062e-11,6.811269603890224e-11,6.341087377403909e-11,-2.6547514186958665e-11,-5.979253897558934e-11,-6.068270885783988e-11,-2.1275883832494458e-11,-5.067518973889129e-11,5.437077524317324e-11,-4.953331494972346e-11,4.486177401785696e-11,8.257568934189052e-11,8.597679512778456e-11,7.624162412511737e-11,-4.985034260385213e-11,8.701458997784073e-11,-2.9959909553234354e-11,6.812852365589706e-11,-3.779245666413189e-11,-4.484814949967664e-11,-2.2735254651129466e-11,-1.727614232227559e-11,-4.9376971261727576e-11,6.9260208679367e-11,6.566090032800176e-11,-5.0264625794937956e-11,6.193167506607367e-11,6.130725788144886e-11,-4.340285075787875e-11,-4.3520242964945055e-11,7.409028252025607e-11,-5.365468486173697e-11,-4.888556920379372e-11,5.196203710366998e-13,-5.460149346547816e-11,-2.2463296847630154e-11,-5.785514775591416e-11,-6.078265668563176e-11,7.361134618522058e-11,-5.696925570175537e-12,6.258337598152863e-11,6.983395806070547e-11,6.898440152447449e-11,-3.875343795867181e-11,7.510507493702079e-11,-1.8817232494416913e-11,-3.8844816252492365e-11,6.314039568966479e-11,7.470112722840483e-11,-3.564765496677502e-11,4.942144957165162e-11,2.7598111296267547e-11,-3.5099367856616936e-11,-5.250661364031295e-11,-1.822480014124217e-11,7.473707069882707e-11,-6.247753703281234e-11,6.928970591735251e-11,-3.120398731071283e-11,-3.588402838761162e-11,6.858620615890487e-11,-4.347638915547236e-11,7.615091196511159e-11,-3.9697471004851437e-11,8.676330487400463e-11,-5.512036313493063e-11,7.434521054339172e-11,-4.5814137206168226e-11,-6.30757668318438e-11,-4.350679538855928e-11,-3.92260772474895e-11,7.324236356298641e-11,-4.7519613244340064e-11,6.097492649681513e-11,-4.78524858626983e-11,7.461219836413235e-11,-1.6810134013944822e-12,7.03179389716091e-11,5.6155500388621604e-11,8.309601617906281e-11,-4.146681956140874e-11,-4.372300438371113e-11,-4.4768123236282875e-11,6.521401474390842e-11,-2.4427388931047567e-11,-1.911984112701326e-11,-6.191765850038777e-11,-3.98519967026445e-11,-3.7573173738980614e-11,5.6319202773602584e-11,-2.9018851557816028e-11,7.056219497592053e-11,-3.6993661606254946e-11,7.67114149979875e-11,-1.542046872138325e-11,-4.383176460676097e-11,-1.486141765205673e-11,-4.4981712798985996e-11,5.999969271419658e-11,-4.5146587857036735e-11,5.658178786616119e-11,4.778582043951651e-11,8.450049687747097e-11,6.113499984028437e-11,1.0212580781043812e-11,-2.5564933850419358e-11,3.971306616890047e-11,6.489339621218448e-11,-4.469985145916233e-11,5.890231358218756e-11,-5.1526571204218996e-11,-6.050498296827911e-11,-5.661647886623378e-11,-3.577815821387276e-11,3.2102053654226026e-11,-3.880092080965625e-11,-5.1151086838396864e-11,-5.3836678171048646e-11,6.892270781877485e-11,6.993856882520078e-11,7.075152963498255e-11,-6.826437852491818e-12,-5.6268576603679676e-11,5.2484960821885807e-11,-6.581928752025235e-11,4.9129370710554454e-11,6.164921351192731e-11,5.7420360133342285e-11,-7.096351978264082e-11,-6.6229612072366e-11,6.469792063201751e-11,5.212786799435598e-11,6.542918290497468e-11,-4.4068398236118966e-11,-5.867663993575079e-11,-2.290577276464756e-11,8.571608700602695e-11,-5.332277674963137e-11,3.1224840963718636e-13,-2.839007327837262e-11,-3.600887643617767e-11,7.51090092898643e-11,7.292254994295533e-11,8.471764956219374e-11,-2.2546893171937477e-11,-3.649916480163995e-11,-8.50497623716695e-12,8.568418197185679e-11,8.42725333960459e-11,-3.5243193780010174e-11,6.34819280476151e-11,5.8205898434415815e-11,-5.965221372417062e-11,-6.025289989164406e-11,-4.800892669520884e-11,7.811834512594373e-11,-3.480492977159244e-11,6.129724505754552e-11,-6.02103436553314e-11,-4.870556041813856e-11,-5.193935906366853e-11,-3.178760379918266e-11,5.837583888501641e-11,-3.614456650646858e-11,-5.662983970644575e-11,-1.2080796432667462e-11,-2.864774216460031e-11,-5.542889758292091e-11,-5.802163610679756e-11,-6.963186971464808e-11,-4.043275436682592e-11,-4.3363427432163704e-11,6.309484879007954e-11,-3.583809984886166e-11,7.939682244995083e-11,-4.517504773038361e-11,-3.6347692217164607e-11,5.379025697083151e-11,-4.462753430689581e-11,7.008966323995836e-11,-4.908015313609404e-11,-4.7290910770714234e-11,7.447371885849208e-11,-4.96191560062087e-11,6.365546284525792e-11,-2.6633641472817438e-11,-3.110396315508801e-11,-4.5721822161670644e-11,-3.908828469234571e-11,3.944723714344178e-11,-3.721899177744348e-11,-7.188741268926435e-11,-6.093729687517424e-11,-5.441236003433936e-11,-3.015371979886439e-11,-4.930044913975529e-11,-5.996261820406801e-11,-3.367658582553723e-11,-3.8814024910793776e-11,-3.504172299551023e-11,-6.402647162451203e-11,-3.0725776090090307e-11,-3.7567619154410536e-11,-4.6553462473841734e-11,-6.10162545489068e-11,-5.997650986966363e-11,-3.018734220927577e-11,-6.672942060026443e-11,-2.067231108515699e-11,-5.90291773794327e-11,-5.5970575396635525e-11,-4.910718706674366e-11,-5.3713943015676335e-11,-5.100566496940573e-11,4.9185596567857814e-11,-2.3597953452414444e-11,-4.6447529850057734e-11,-2.216596871329468e-11,-2.9167088883008674e-11,-4.132840597526055e-11,-4.0044426108387654e-11,-3.803057174733837e-11,-5.309843537082415e-11,-4.8058571011644347e-11,-4.95187328641844e-11,-4.927816835142984e-11,-4.2545127143522876e-11,4.527952665589474e-11,-2.3264293269598113e-11,8.009443802636795e-11,-3.368127304836932e-11,3.9217580571904165e-11,-3.0206441514746274e-11,8.064905687721335e-11,6.76540767852174e-11,-3.64815851139344e-11,-1.4292115234348923e-11,-5.469361769039338e-11,-5.445965553518839e-11,-4.245517132295262e-11,-4.2190317212087436e-11,-4.1159808200630366e-11,-4.03388676628591e-11,-5.519414092436392e-11,-3.1589258986386426e-11,-5.2474677381120216e-11,-4.4862887710328536e-11,-6.236695881955967e-11,-6.189095763664554e-11,7.427062437281862e-11,-4.1002250206201296e-11,-3.294980954748894e-11,-3.197224429651868e-11,-2.1119354529086642e-11,-3.99944244389161e-11,-6.088209797416866e-11,-5.1532254158326296e-11,-4.088783478461977e-11,-4.1091966634931865e-11,-3.158488054433306e-11,-3.563637232528727e-11,-2.966783416158414e-11,5.268356584320344e-11,-5.0460916695138636e-11,8.376460115810946e-12,-5.6496154976493074e-11,-1.9977262899484316e-11,-3.460375735953036e-11,-4.8022728155183714e-11,2.4487752103841132e-11,2.1250048595766735e-11,5.358765167717827e-11,-1.4818793761528504e-11,-5.191720664488031e-11,-4.855211718779451e-11,-2.9316729599493385e-11,-6.168721089494511e-11,-5.897966143253441e-11,-4.8638530703026817e-11,-3.9370100929359e-11,7.091663367653211e-11,-3.247043259269056e-11,-5.140269113135254e-11,1.6193095475625086e-11,-1.7787429515414566e-11,-3.139269399987654e-11,-4.297498815142298e-11,-8.184497459103046e-13,-3.1975214143109554e-11,-2.6752822179787472e-11,-4.3203898791865925e-11,-4.24952642519294e-11,-4.391560726180188e-11,-5.943381897743905e-11,-4.5871584308798674e-11,-3.440671011989416e-11,-5.738589464732158e-11,-5.083462817356832e-11,-4.7042782863604415e-11,-3.7360170512812374e-11,-3.551498678477927e-11,7.035031585056473e-11,4.6788864449531786e-11,7.654139821955397e-11,-2.6905713768066164e-11,5.065796740422179e-11,-5.07615165179498e-11,-4.91687003612018e-11,-4.936027281354782e-11,-3.391972119848319e-11,-4.9111454486494566e-11,-4.757230026575243e-11,-1.8295014808655807e-11,-4.5234855357983994e-13,4.897640973333672e-11,-5.7168998701673246e-11,-4.895698776929969e-11,-6.107321592896398e-11,-5.901685390385936e-11,-5.845968154005732e-11,-5.094814847783624e-11,-6.015766357281294e-11,-3.0705014919529816e-11,-5.677824876926252e-11,-4.849730339540059e-11,-2.71910792493113e-11,-5.3327040699935324e-11,-5.876035075180752e-11,-2.7617019782155694e-11,-3.432613915332894e-11,-5.729551902367014e-11,-4.568265210558309e-11,-4.973550044029551e-11,5.5130535553393756e-11,-1.564797770525761e-11,-3.810312829144458e-11,8.145520369318149e-11,7.933961820860702e-11,6.04614552868199e-11,5.857475615655972e-11,6.842193478462377e-11,-5.721706095029866e-11,-3.543764587332632e-11,-5.220236395930833e-11,-4.944791104355417e-11,-4.4081925609784633e-11,-4.9202412977233934e-11,5.8064039687444335e-11,-5.744022271714222e-11,-3.304225990041765e-11,4.9319267420022683e-11,-3.152297520236935e-11,-1.86949379588075e-11,5.91984239406429e-11,7.409606955777193e-11,3.3424700507378446e-11,-1.2613465827371328e-11,-2.717263740403819e-11,-4.1504511633094765e-11,6.658264911640899e-11,-4.9588909367681566e-11,-3.295973216577153e-11,-4.498621267168268e-11,-3.50137072113732e-11,7.271912932926838e-11,-4.02337295424271e-11,-2.6744075704021597e-11,-3.1749727846808184e-11,-3.4076404892280365e-11,-3.548826510435532e-11,-3.088685904262256e-11,-3.0021200803087567e-11,-4.20990603489102e-11,5.07163200325067e-11,-3.265738374169658e-11,-1.7721813599935743e-11,-4.098682157560596e-11,-1.518222006446912e-11,-2.0599428413037302e-11,-5.144229833775604e-11,-4.397410213741182e-11,-5.6572874856941624e-11,-3.775049370324801e-11,-4.043202925241296e-11,-5.214067025360869e-11,7.145850577927604e-11,-2.013188660915377e-12,4.5672490095460816e-11,-4.8903818494761e-11,-1.3918846110405614e-11,-3.653063962438807e-11,-3.9970231985320126e-11,-2.2754081605014242e-11,4.4640027785369796e-11,7.344826830069096e-11,-5.237498282295583e-11,6.748548248003416e-11,-2.17897731108474e-11,7.087009451511861e-11,-4.20147978907881e-11,-4.137579862062424e-11,-1.4937169556805685e-11,7.569229271142675e-11,-2.501737185467423e-11,-1.2048412614817927e-11,-4.1509712334075743e-11,5.7971155653646633e-11,-3.4414682908989747e-11,-4.258529986977955e-11,-3.4164011897264146e-11,-8.89120634756102e-12,-3.2810799216465014e-11,-5.2677324308136875e-11,-1.902561962141558e-11,7.324275907993893e-11,-1.3407907596685309e-11,-3.6499671340894935e-11,5.944933434420818e-11,4.6221762528553256e-11,-3.930748435077014e-11,-3.71690421496762e-11,5.158159316343003e-11,-5.783125714420301e-11,6.943368102696468e-11,7.753166858526228e-11,-2.4456294628327768e-11,-4.1208751688781575e-11,-1.4246276033857974e-11,-4.3358885926103596e-11,-3.5037899664969174e-11,5.514833728570423e-11,7.374511418190011e-11,-4.248055726630007e-11,-4.6098225930935044e-11,-5.448761233872723e-11,-3.102748960537305e-11,-6.028996052398483e-11,7.214371461339297e-11,-4.4459450010414514e-11,-3.543501603253674e-11,-2.5666800282375668e-11,-3.044858115641702e-11,8.109567878333834e-11,-2.334075120680179e-11,-3.718728103230262e-11,-3.3516439623682004e-11,-5.144076484220328e-11,-4.2955469042871286e-11,-2.997391224113244e-11,-6.33730568022628e-11,-5.7304674894176344e-11,1.0793785136520295e-11,7.791342571117355e-11,3.1205853873172984e-11,-5.3275241856942657e-11,3.258586803167596e-11,-4.845574635981009e-11,-8.88160812256844e-12,-5.125388655158325e-11,-2.0057218039215563e-11,-8.69681757165175e-12,-4.877204543007885e-12,-4.509768600224895e-11,7.322628614581106e-11,-4.6409029397231905e-11,-4.2728823951287964e-11,-4.122580402055043e-11,-5.367408600909229e-11,-1.589890719078113e-11,7.563222270690062e-11,-2.7801401805693793e-11,-5.1918001148232307e-11,-4.837341638364023e-11,7.200601226386993e-11,-5.3963049306826605e-11,-2.8680776503753336e-11,5.205933947816099e-11,-4.021592434066967e-11,-5.752267759340235e-11,-4.051625701606554e-11,-1.9198023379352058e-11,7.045701522212511e-11,-4.941304657113399e-11,7.15974987630652e-11,-4.226974673060546e-11,-3.13063117096668e-11,-3.71313917113536e-11,-4.803357017690857e-11,-4.845370285555539e-11,-4.51607362617068e-11,-4.189791916187069e-11,4.6727181152173e-11,-2.468462066695931e-11,-4.273346607130968e-11,-5.845537248694299e-11,-4.8975913602422594e-11,-3.501181636278439e-11,5.4271913352277323e-11,-3.658346889312547e-11,-3.707921469864317e-11,-5.747939624267673e-11,-3.142838420067129e-11,-3.944393076049657e-11,-4.2513301906632606e-11,-4.774675793628447e-11,6.297439653080161e-11,-4.7187788398961317e-11,6.774510119544885e-11,-3.896757569399334e-11,-4.5680587784646676e-11,5.364529306883803e-11,5.658890370185965e-11,-4.728017977129184e-11,5.6048273661124526e-11,-3.973969417425671e-11,4.1075275125646016e-11,4.616419746472644e-11,-3.926408503884815e-11,-4.8109214528802013e-11,-2.7272153285684553e-11,5.3849195935651295e-11,6.802245572368193e-11,-4.014071020019827e-11,-4.3380729564113096e-11,-5.2002759737268534e-11,-3.780458932012287e-11,-3.603486953274171e-11,-5.1212357271568365e-11,6.6625829853173e-11,6.534598556706683e-11,5.665305030655432e-11,-4.8940310137801646e-11,7.694276465963767e-11,-4.443817189225818e-11,-1.6073822828310824e-11,-3.574486540092181e-11,-3.2861678656015414e-11,5.168494104923482e-11,-4.4740152554956225e-11,7.428595238945235e-11,-4.522969498932383e-11,-3.16312080694825e-11,-2.9532536138798804e-11,-3.2188342269368064e-11,-2.8586841227529192e-11,7.153968389905785e-11,-3.8043294209311185e-11,-5.7335913794531734e-11,6.105932426336835e-11,3.710344184670866e-11,-4.25082330446358e-11,7.039099164662943e-11,5.632346260393828e-13,2.378072912201379e-11,2.0504186890035747e-11,-5.749068929250534e-11,7.313426253485744e-11,-2.0632266728437543e-11,-3.9617621683252224e-11,-4.4756503191079045e-12,-4.3243842534623766e-11,5.4125703918828094e-11,-5.1726997685186404e-11,7.496878118296024e-11,7.89009205193203e-11,-3.915084922923029e-11,-2.7151973377992356e-11,-2.727569906046945e-11,7.475444568916245e-11,5.314342715889708e-11,-4.436807518604091e-11,-4.446676013514228e-11,-2.619409029958053e-11,-3.21787214929703e-11,-4.683003290706367e-11,6.169273425449262e-11,5.817402809471517e-11,-4.781165394152076e-11,6.747672299384222e-12,-2.9224629660706825e-11,-2.659717932007588e-11,-3.026692091401273e-11,-4.079084986452486e-11,-2.909767912728789e-11,-2.2107900579659834e-11,-3.157791736430049e-11,-1.6444701503304238e-11,4.9906741933503085e-11,8.74471536849164e-11,4.4463339260447654e-11,-2.229480142168505e-11,-4.124706132202505e-11,-3.6274823422832725e-11,-3.250934590970367e-11,-3.779613080845401e-11,-2.3485463573891252e-11,-2.725597178510064e-11,-2.4770427028975028e-11,-3.756190497528067e-11,-4.6970642653132444e-11,-4.5595340003590223e-11,-5.927280888329278e-11,4.625030913807393e-11,-4.506701262174673e-11,-3.883046315045213e-11,-2.5919972765353627e-11,5.590274076983093e-11,-2.9572302939762096e-11,-3.934481213052621e-11,-3.840352688633253e-11,8.67705213236647e-11,-3.8668360180516004e-11,-2.6485997423053576e-11,-1.0815966178245873e-11,5.4423385936752666e-11,-3.711618859481014e-11,-4.6942141146422145e-11,8.737661288948928e-11,-4.709083123444202e-11,-3.85185529305776e-11,2.999888878973955e-11,6.604553601068097e-13,6.154978610117823e-11,5.539082387207017e-11,-9.102334164179382e-11,-3.0622591268292254e-11,-3.301516698916984e-11,7.524669082270563e-11,-1.2808908447792255e-11,-3.111949933853886e-11,-2.0836133166057813e-11,-4.308570861200067e-11,-2.119006879686136e-11,-4.669462386197587e-11,-1.3063361156695485e-11,8.263011108677887e-11,-2.265830405245861e-11,-1.671569306582743e-11,1.0714108419906943e-11,-4.515048751541073e-11,7.167231391713713e-11,7.895760434362131e-11,-4.073030801521327e-11,-2.7705306798742058e-11,-6.588935994034095e-12,5.699578309315001e-11,2.3466879481293113e-11,-5.894613356455247e-12,-4.2497335511759715e-11,6.160943977207012e-11,-4.122325050759379e-11,9.902589859223099e-11,-3.4882742527830857e-11,5.984658602020687e-11,-1.3053124553463746e-11,-3.025607542284092e-11,6.511695349598057e-11,-8.448150165540902e-12,8.27887619569978e-11,-3.5078856486236987e-11,-4.094936542631267e-11,-5.466447086655002e-11,-3.671795506532405e-11,-2.8583829747574896e-11,-2.220447437029094e-11,4.680867499162744e-11,-1.579116004624126e-11,-3.827319364213544e-11,-1.655213292817148e-11,-3.260027317542047e-11,-2.8550460606791006e-12,6.458781426355031e-11,-1.064236979791966e-11,-4.6109414897355094e-11,-3.031072962067505e-11,3.071583265512601e-11,-2.852561416244459e-11,-1.7626676160342747e-11,-2.7784843870115594e-11,-2.8688267039722604e-11,-8.901927806004295e-12,-2.2430810681095537e-11,-3.717305629979961e-11,-4.743826512165761e-11,-3.255438280058698e-11,-5.779238546055332e-11,-3.594834846465389e-11,-4.5554903599365204e-11,6.473551555918888e-11,4.54383128345448e-11,-2.0760336158498482e-11,6.122993778667762e-11,8.012866065110202e-11,-2.1218827042646105e-11,5.314813172896393e-11,-2.7977073782659012e-11,-4.5253922137389324e-11,-1.4408248899533405e-11,1.3257832331969865e-11,7.720292460877687e-11,-2.301802498605454e-11,8.973558007774329e-11,1.076983988101965e-11,-8.791472411173729e-11,-4.5872014520220716e-11,5.637630119681436e-12,-4.1324291211175534e-11,-1.5399050090625366e-11,-1.567562919746468e-11,7.897042741955573e-11,5.566703001336215e-11,-6.3018056051245e-11,8.32929419880557e-11,-2.0706755754495987e-11,-4.040066892141425e-11,8.344501478685373e-11,7.745031005423897e-11,-4.155066221644965e-11,4.581668724967791e-11,-4.5268531978504e-11,-4.057156693937358e-11,-3.921079086421919e-11,-5.1371143450218426e-11,-4.9540496704914005e-11,-6.262668855727682e-11,-3.479576696219233e-11,-2.01203272792716e-11,-2.697806388007873e-11,6.154337456321102e-11,-3.869487022467588e-11,4.8519757656073637e-11,6.507726302285022e-11,7.512027805356425e-11,-5.2093225566540724e-11,-1.9115336050146148e-11,7.326705908639042e-11,-5.139445119484165e-11,4.942152243003761e-11,-2.755773907681114e-11,-5.5415123878521655e-11,6.773631655576651e-11,-2.647172758774019e-11,-3.0703273257159935e-11,-2.5722302759989546e-11,-4.9400893098461296e-11,4.932911717991928e-11,4.6251526913954066e-11,8.13788550435568e-11,-1.0916214980560834e-11,-2.7005493327680874e-11,6.67932931186499e-11,-3.7314724227188734e-11,-4.7009517806229084e-11,7.725053929874548e-11,-2.0675952269733067e-11,-3.5222168931481335e-11,7.93727791825738e-11,-2.8228322457302113e-11,-3.188518546415331e-11,7.766554066535036e-11,-4.2565936886340694e-11,-5.527869481602998e-11,-2.242662652807148e-11,7.348306685361905e-11,-3.501350945289694e-11,-1.8846207580636154e-11,-5.184962875715016e-11,-5.4090842915854864e-11,-5.4504453034232014e-11,-3.9796742290487686e-11,-5.443998377097081e-11,-3.9795021444799517e-11,-3.1654290300053844e-11,8.241737153857898e-11,-5.0730412926025537e-11,-5.3543846439962905e-11,-2.2210063649330536e-11,6.816958109112647e-11,-4.6449896012878966e-11,6.17123990798163e-11,-4.826466656893125e-11,-2.973485346835503e-11,-3.0010598173202396e-11,6.008576969307455e-11,-4.005959799990855e-11,-3.591558647708659e-11,-3.7693709264985387e-11,-2.957675424020145e-11,-4.72403297036017e-11,8.264430112481236e-11,-2.489232084346149e-11,-5.107244141488998e-11,6.143561354088334e-11,-5.484392801013982e-11,-4.752734664159597e-11,-1.6685442957853347e-11,-3.449593388715755e-11,-4.669935271817138e-11,-4.206975393050705e-11,5.196979652177802e-11,-3.0494710923090196e-11,7.5522796350036e-11,8.356949854348983e-11,8.09910125076918e-11,6.949680414480852e-11,-1.969805915602585e-11,6.133393098961548e-11,-3.085440930528094e-11,8.484221658555668e-11,-2.6826823748549167e-11,-3.323242722674813e-11,-4.6069918713254054e-11,7.69541722012157e-11,-1.88121497546323e-11,-2.2336330701699936e-11,-5.211128403792564e-11,-9.814228422999616e-12,-4.418415980311785e-11,-5.696786445352764e-11,5.82737191834326e-11,-4.585880633567463e-11,-3.4925909386807064e-11,7.306453359001708e-11,3.4649845926520983e-12,-4.917825521810748e-11,-2.2506198293914537e-11,5.223486573835423e-11,8.267370121828321e-11,-8.736820295007774e-12,-7.203727631771573e-12,-5.0329462819576065e-11,-3.887905275501424e-11,-2.497604380258256e-11,5.960388432812991e-11,-2.7535768803987892e-11,6.859399853675896e-11,7.068080842831392e-11,-4.8211972608624976e-11,6.553177445134395e-11,-3.8412877045868044e-11,-4.2645179054723314e-11,6.352803005871266e-11,-5.629471194756874e-11,-2.2844240388231185e-11,-4.15378773044317e-11,-1.533857936497629e-11,-1.8784617958345073e-11,-4.630043917708271e-11,7.467287205242812e-11,7.92188259435278e-11,-5.566987495986275e-11,-1.9763777420189754e-11,7.252339701002697e-11,-2.567940651787559e-11,-6.111957467913598e-11,1.1043132554233726e-11,-3.58900235919446e-11,-5.938615571521311e-11,-5.663079727380449e-11,-2.223075022678156e-11,7.216013203636962e-11,8.954499641777858e-11,-5.2994129917660615e-11,5.254894089312678e-11],\"type\":\"scatter3d\"}],                        {\"template\":{\"data\":{\"bar\":[{\"error_x\":{\"color\":\"#2a3f5f\"},\"error_y\":{\"color\":\"#2a3f5f\"},\"marker\":{\"line\":{\"color\":\"#E5ECF6\",\"width\":0.5},\"pattern\":{\"fillmode\":\"overlay\",\"size\":10,\"solidity\":0.2}},\"type\":\"bar\"}],\"barpolar\":[{\"marker\":{\"line\":{\"color\":\"#E5ECF6\",\"width\":0.5},\"pattern\":{\"fillmode\":\"overlay\",\"size\":10,\"solidity\":0.2}},\"type\":\"barpolar\"}],\"carpet\":[{\"aaxis\":{\"endlinecolor\":\"#2a3f5f\",\"gridcolor\":\"white\",\"linecolor\":\"white\",\"minorgridcolor\":\"white\",\"startlinecolor\":\"#2a3f5f\"},\"baxis\":{\"endlinecolor\":\"#2a3f5f\",\"gridcolor\":\"white\",\"linecolor\":\"white\",\"minorgridcolor\":\"white\",\"startlinecolor\":\"#2a3f5f\"},\"type\":\"carpet\"}],\"choropleth\":[{\"colorbar\":{\"outlinewidth\":0,\"ticks\":\"\"},\"type\":\"choropleth\"}],\"contour\":[{\"colorbar\":{\"outlinewidth\":0,\"ticks\":\"\"},\"colorscale\":[[0.0,\"#0d0887\"],[0.1111111111111111,\"#46039f\"],[0.2222222222222222,\"#7201a8\"],[0.3333333333333333,\"#9c179e\"],[0.4444444444444444,\"#bd3786\"],[0.5555555555555556,\"#d8576b\"],[0.6666666666666666,\"#ed7953\"],[0.7777777777777778,\"#fb9f3a\"],[0.8888888888888888,\"#fdca26\"],[1.0,\"#f0f921\"]],\"type\":\"contour\"}],\"contourcarpet\":[{\"colorbar\":{\"outlinewidth\":0,\"ticks\":\"\"},\"type\":\"contourcarpet\"}],\"heatmap\":[{\"colorbar\":{\"outlinewidth\":0,\"ticks\":\"\"},\"colorscale\":[[0.0,\"#0d0887\"],[0.1111111111111111,\"#46039f\"],[0.2222222222222222,\"#7201a8\"],[0.3333333333333333,\"#9c179e\"],[0.4444444444444444,\"#bd3786\"],[0.5555555555555556,\"#d8576b\"],[0.6666666666666666,\"#ed7953\"],[0.7777777777777778,\"#fb9f3a\"],[0.8888888888888888,\"#fdca26\"],[1.0,\"#f0f921\"]],\"type\":\"heatmap\"}],\"heatmapgl\":[{\"colorbar\":{\"outlinewidth\":0,\"ticks\":\"\"},\"colorscale\":[[0.0,\"#0d0887\"],[0.1111111111111111,\"#46039f\"],[0.2222222222222222,\"#7201a8\"],[0.3333333333333333,\"#9c179e\"],[0.4444444444444444,\"#bd3786\"],[0.5555555555555556,\"#d8576b\"],[0.6666666666666666,\"#ed7953\"],[0.7777777777777778,\"#fb9f3a\"],[0.8888888888888888,\"#fdca26\"],[1.0,\"#f0f921\"]],\"type\":\"heatmapgl\"}],\"histogram\":[{\"marker\":{\"pattern\":{\"fillmode\":\"overlay\",\"size\":10,\"solidity\":0.2}},\"type\":\"histogram\"}],\"histogram2d\":[{\"colorbar\":{\"outlinewidth\":0,\"ticks\":\"\"},\"colorscale\":[[0.0,\"#0d0887\"],[0.1111111111111111,\"#46039f\"],[0.2222222222222222,\"#7201a8\"],[0.3333333333333333,\"#9c179e\"],[0.4444444444444444,\"#bd3786\"],[0.5555555555555556,\"#d8576b\"],[0.6666666666666666,\"#ed7953\"],[0.7777777777777778,\"#fb9f3a\"],[0.8888888888888888,\"#fdca26\"],[1.0,\"#f0f921\"]],\"type\":\"histogram2d\"}],\"histogram2dcontour\":[{\"colorbar\":{\"outlinewidth\":0,\"ticks\":\"\"},\"colorscale\":[[0.0,\"#0d0887\"],[0.1111111111111111,\"#46039f\"],[0.2222222222222222,\"#7201a8\"],[0.3333333333333333,\"#9c179e\"],[0.4444444444444444,\"#bd3786\"],[0.5555555555555556,\"#d8576b\"],[0.6666666666666666,\"#ed7953\"],[0.7777777777777778,\"#fb9f3a\"],[0.8888888888888888,\"#fdca26\"],[1.0,\"#f0f921\"]],\"type\":\"histogram2dcontour\"}],\"mesh3d\":[{\"colorbar\":{\"outlinewidth\":0,\"ticks\":\"\"},\"type\":\"mesh3d\"}],\"parcoords\":[{\"line\":{\"colorbar\":{\"outlinewidth\":0,\"ticks\":\"\"}},\"type\":\"parcoords\"}],\"pie\":[{\"automargin\":true,\"type\":\"pie\"}],\"scatter\":[{\"marker\":{\"colorbar\":{\"outlinewidth\":0,\"ticks\":\"\"}},\"type\":\"scatter\"}],\"scatter3d\":[{\"line\":{\"colorbar\":{\"outlinewidth\":0,\"ticks\":\"\"}},\"marker\":{\"colorbar\":{\"outlinewidth\":0,\"ticks\":\"\"}},\"type\":\"scatter3d\"}],\"scattercarpet\":[{\"marker\":{\"colorbar\":{\"outlinewidth\":0,\"ticks\":\"\"}},\"type\":\"scattercarpet\"}],\"scattergeo\":[{\"marker\":{\"colorbar\":{\"outlinewidth\":0,\"ticks\":\"\"}},\"type\":\"scattergeo\"}],\"scattergl\":[{\"marker\":{\"colorbar\":{\"outlinewidth\":0,\"ticks\":\"\"}},\"type\":\"scattergl\"}],\"scattermapbox\":[{\"marker\":{\"colorbar\":{\"outlinewidth\":0,\"ticks\":\"\"}},\"type\":\"scattermapbox\"}],\"scatterpolar\":[{\"marker\":{\"colorbar\":{\"outlinewidth\":0,\"ticks\":\"\"}},\"type\":\"scatterpolar\"}],\"scatterpolargl\":[{\"marker\":{\"colorbar\":{\"outlinewidth\":0,\"ticks\":\"\"}},\"type\":\"scatterpolargl\"}],\"scatterternary\":[{\"marker\":{\"colorbar\":{\"outlinewidth\":0,\"ticks\":\"\"}},\"type\":\"scatterternary\"}],\"surface\":[{\"colorbar\":{\"outlinewidth\":0,\"ticks\":\"\"},\"colorscale\":[[0.0,\"#0d0887\"],[0.1111111111111111,\"#46039f\"],[0.2222222222222222,\"#7201a8\"],[0.3333333333333333,\"#9c179e\"],[0.4444444444444444,\"#bd3786\"],[0.5555555555555556,\"#d8576b\"],[0.6666666666666666,\"#ed7953\"],[0.7777777777777778,\"#fb9f3a\"],[0.8888888888888888,\"#fdca26\"],[1.0,\"#f0f921\"]],\"type\":\"surface\"}],\"table\":[{\"cells\":{\"fill\":{\"color\":\"#EBF0F8\"},\"line\":{\"color\":\"white\"}},\"header\":{\"fill\":{\"color\":\"#C8D4E3\"},\"line\":{\"color\":\"white\"}},\"type\":\"table\"}]},\"layout\":{\"annotationdefaults\":{\"arrowcolor\":\"#2a3f5f\",\"arrowhead\":0,\"arrowwidth\":1},\"autotypenumbers\":\"strict\",\"coloraxis\":{\"colorbar\":{\"outlinewidth\":0,\"ticks\":\"\"}},\"colorscale\":{\"diverging\":[[0,\"#8e0152\"],[0.1,\"#c51b7d\"],[0.2,\"#de77ae\"],[0.3,\"#f1b6da\"],[0.4,\"#fde0ef\"],[0.5,\"#f7f7f7\"],[0.6,\"#e6f5d0\"],[0.7,\"#b8e186\"],[0.8,\"#7fbc41\"],[0.9,\"#4d9221\"],[1,\"#276419\"]],\"sequential\":[[0.0,\"#0d0887\"],[0.1111111111111111,\"#46039f\"],[0.2222222222222222,\"#7201a8\"],[0.3333333333333333,\"#9c179e\"],[0.4444444444444444,\"#bd3786\"],[0.5555555555555556,\"#d8576b\"],[0.6666666666666666,\"#ed7953\"],[0.7777777777777778,\"#fb9f3a\"],[0.8888888888888888,\"#fdca26\"],[1.0,\"#f0f921\"]],\"sequentialminus\":[[0.0,\"#0d0887\"],[0.1111111111111111,\"#46039f\"],[0.2222222222222222,\"#7201a8\"],[0.3333333333333333,\"#9c179e\"],[0.4444444444444444,\"#bd3786\"],[0.5555555555555556,\"#d8576b\"],[0.6666666666666666,\"#ed7953\"],[0.7777777777777778,\"#fb9f3a\"],[0.8888888888888888,\"#fdca26\"],[1.0,\"#f0f921\"]]},\"colorway\":[\"#636efa\",\"#EF553B\",\"#00cc96\",\"#ab63fa\",\"#FFA15A\",\"#19d3f3\",\"#FF6692\",\"#B6E880\",\"#FF97FF\",\"#FECB52\"],\"font\":{\"color\":\"#2a3f5f\"},\"geo\":{\"bgcolor\":\"white\",\"lakecolor\":\"white\",\"landcolor\":\"#E5ECF6\",\"showlakes\":true,\"showland\":true,\"subunitcolor\":\"white\"},\"hoverlabel\":{\"align\":\"left\"},\"hovermode\":\"closest\",\"mapbox\":{\"style\":\"light\"},\"paper_bgcolor\":\"white\",\"plot_bgcolor\":\"#E5ECF6\",\"polar\":{\"angularaxis\":{\"gridcolor\":\"white\",\"linecolor\":\"white\",\"ticks\":\"\"},\"bgcolor\":\"#E5ECF6\",\"radialaxis\":{\"gridcolor\":\"white\",\"linecolor\":\"white\",\"ticks\":\"\"}},\"scene\":{\"xaxis\":{\"backgroundcolor\":\"#E5ECF6\",\"gridcolor\":\"white\",\"gridwidth\":2,\"linecolor\":\"white\",\"showbackground\":true,\"ticks\":\"\",\"zerolinecolor\":\"white\"},\"yaxis\":{\"backgroundcolor\":\"#E5ECF6\",\"gridcolor\":\"white\",\"gridwidth\":2,\"linecolor\":\"white\",\"showbackground\":true,\"ticks\":\"\",\"zerolinecolor\":\"white\"},\"zaxis\":{\"backgroundcolor\":\"#E5ECF6\",\"gridcolor\":\"white\",\"gridwidth\":2,\"linecolor\":\"white\",\"showbackground\":true,\"ticks\":\"\",\"zerolinecolor\":\"white\"}},\"shapedefaults\":{\"line\":{\"color\":\"#2a3f5f\"}},\"ternary\":{\"aaxis\":{\"gridcolor\":\"white\",\"linecolor\":\"white\",\"ticks\":\"\"},\"baxis\":{\"gridcolor\":\"white\",\"linecolor\":\"white\",\"ticks\":\"\"},\"bgcolor\":\"#E5ECF6\",\"caxis\":{\"gridcolor\":\"white\",\"linecolor\":\"white\",\"ticks\":\"\"}},\"title\":{\"x\":0.05},\"xaxis\":{\"automargin\":true,\"gridcolor\":\"white\",\"linecolor\":\"white\",\"ticks\":\"\",\"title\":{\"standoff\":15},\"zerolinecolor\":\"white\",\"zerolinewidth\":2},\"yaxis\":{\"automargin\":true,\"gridcolor\":\"white\",\"linecolor\":\"white\",\"ticks\":\"\",\"title\":{\"standoff\":15},\"zerolinecolor\":\"white\",\"zerolinewidth\":2}}}},                        {\"responsive\": true}                    ).then(function(){\n",
              "                            \n",
              "var gd = document.getElementById('99ba96a3-5309-407a-85dc-884e16117d23');\n",
              "var x = new MutationObserver(function (mutations, observer) {{\n",
              "        var display = window.getComputedStyle(gd).display;\n",
              "        if (!display || display === 'none') {{\n",
              "            console.log([gd, 'removed!']);\n",
              "            Plotly.purge(gd);\n",
              "            observer.disconnect();\n",
              "        }}\n",
              "}});\n",
              "\n",
              "// Listen for the removal of the full notebook cells\n",
              "var notebookContainer = gd.closest('#notebook-container');\n",
              "if (notebookContainer) {{\n",
              "    x.observe(notebookContainer, {childList: true});\n",
              "}}\n",
              "\n",
              "// Listen for the clearing of the current output cell\n",
              "var outputEl = gd.closest('.output');\n",
              "if (outputEl) {{\n",
              "    x.observe(outputEl, {childList: true});\n",
              "}}\n",
              "\n",
              "                        })                };                            </script>        </div>\n",
              "</body>\n",
              "</html>"
            ]
          },
          "metadata": {},
          "output_type": "display_data"
        }
      ],
      "source": [
        "encoder_label = kmeans(encoder_pred, 2)\n",
        "\n",
        "fig = go.Figure(data=[scatter_plot(encoder_pred, encoder_label, \"LSTM Encoder\")])\n",
        "fig.show()"
      ]
    },
    {
      "cell_type": "markdown",
      "metadata": {
        "id": "JyOH3KcmIyIs"
      },
      "source": [
        "A Transformer-Based Framework For Multivariate Time Series Representation Learning"
      ]
    }
  ],
  "metadata": {
    "accelerator": "GPU",
    "colab": {
      "collapsed_sections": [
        "KrE19enAHswg"
      ],
      "name": "clustering.ipynb",
      "provenance": [],
      "authorship_tag": "ABX9TyOFzJMi4jOxAR91jizGYxpA",
      "include_colab_link": true
    },
    "kernelspec": {
      "display_name": "Python 3",
      "name": "python3"
    },
    "language_info": {
      "name": "python"
    }
  },
  "nbformat": 4,
  "nbformat_minor": 0
}